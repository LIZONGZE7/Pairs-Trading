{
 "cells": [
  {
   "cell_type": "code",
   "execution_count": 1,
   "id": "afaf50477793a4d3",
   "metadata": {
    "ExecuteTime": {
     "end_time": "2025-10-16T10:59:54.011438Z",
     "start_time": "2025-10-16T10:59:51.099823Z"
    }
   },
   "outputs": [],
   "source": [
    "import os\n",
    "import time\n",
    "import pandas as pd\n",
    "import numpy as np\n",
    "import tushare as ts\n",
    "from itertools import combinations\n",
    "from statsmodels.tsa.stattools import adfuller, coint\n",
    "import statsmodels.api as sm\n",
    "from tqdm import tqdm\n",
    "from collections import defaultdict\n",
    "from math import ceil"
   ]
  },
  {
   "cell_type": "code",
   "execution_count": 2,
   "id": "8c1b3819e32851a8",
   "metadata": {
    "ExecuteTime": {
     "end_time": "2025-10-16T10:59:54.035783Z",
     "start_time": "2025-10-16T10:59:54.033232Z"
    }
   },
   "outputs": [
    {
     "name": "stdout",
     "output_type": "stream",
     "text": [
      "332e447a961d7b9722b284cb7262ee3e4d7a72efc06fd06ee849ad21\n"
     ]
    }
   ],
   "source": [
    "# 参数设置\n",
    "TS_TOKEN = os.getenv(\"TUSHARE_TOKEN\")\n",
    "print(TS_TOKEN)\n",
    "INDEX_CODE = \"000906.SH\"  # 中证800=000906.SH\n",
    "START_DATE = \"20200101\"   # 覆盖形成期\n",
    "END_DATE   = \"20250930\"\n",
    "SLEEP_SEC  = 0.4   # 2000积分账号的可用频率是200/min\n",
    "MAX_RETRY  = 5"
   ]
  },
  {
   "cell_type": "code",
   "execution_count": 3,
   "id": "95058e6bd6c3e368",
   "metadata": {
    "ExecuteTime": {
     "end_time": "2025-10-16T10:59:54.071511Z",
     "start_time": "2025-10-16T10:59:54.056481Z"
    }
   },
   "outputs": [],
   "source": [
    "# ============== 2) 初始化 Tushare =======================\n",
    "ts.set_token(TS_TOKEN)\n",
    "pro = ts.pro_api()"
   ]
  },
  {
   "cell_type": "code",
   "execution_count": 4,
   "id": "bef6f7c6fd31b81b",
   "metadata": {
    "ExecuteTime": {
     "end_time": "2025-10-16T10:59:54.417391Z",
     "start_time": "2025-10-16T10:59:54.083424Z"
    }
   },
   "outputs": [
    {
     "name": "stdout",
     "output_type": "stream",
     "text": [
      "  index_code   con_code trade_date  weight\n",
      "0  000906.SH  300750.SZ   20250930   3.132\n",
      "1  000906.SH  600519.SH   20250930   2.675\n",
      "2  000906.SH  601318.SH   20250930   1.749\n",
      "3  000906.SH  600036.SH   20250930   1.475\n",
      "4  000906.SH  601899.SH   20250930   1.430\n",
      "['300750.SZ', '600519.SH', '601318.SH', '600036.SH', '601899.SH'] 800\n"
     ]
    }
   ],
   "source": [
    "# 获取中证800的成分股代码\n",
    "df = pro.index_weight(index_code=INDEX_CODE, start_date=END_DATE)\n",
    "print(df.head())\n",
    "stock_codes = df['con_code'].unique().tolist()  # 自动去重\n",
    "print(stock_codes[:5],len(stock_codes))"
   ]
  },
  {
   "cell_type": "code",
   "execution_count": 5,
   "id": "c0f7339aea3f1e58",
   "metadata": {
    "ExecuteTime": {
     "end_time": "2025-10-16T10:59:54.933930Z",
     "start_time": "2025-10-16T10:59:54.428706Z"
    }
   },
   "outputs": [
    {
     "name": "stdout",
     "output_type": "stream",
     "text": [
      "     ts_code  symbol   name area industry list_date\n",
      "0  000001.SZ  000001   平安银行   深圳       银行  19910403\n",
      "1  000002.SZ  000002    万科A   深圳     全国地产  19910129\n",
      "2  000004.SZ  000004  *ST国华   深圳     软件服务  19910114\n",
      "3  000006.SZ  000006   深振业A   深圳     区域地产  19920427\n",
      "4  000007.SZ  000007    全新好   深圳     其他商业  19920413\n"
     ]
    }
   ],
   "source": [
    "# 获取股票基本信息\n",
    "stock_basic = pro.stock_basic(fields='ts_code,symbol,name,area,industry,list_date')\n",
    "print(stock_basic.head())"
   ]
  },
  {
   "cell_type": "code",
   "execution_count": 6,
   "id": "427f7f08f519234e",
   "metadata": {
    "ExecuteTime": {
     "end_time": "2025-10-16T10:59:54.952087Z",
     "start_time": "2025-10-16T10:59:54.942434Z"
    }
   },
   "outputs": [
    {
     "name": "stdout",
     "output_type": "stream",
     "text": [
      "      ts_code  symbol  name area industry list_date\n",
      "0   000001.SZ  000001  平安银行   深圳       银行  19910403\n",
      "1   000002.SZ  000002   万科A   深圳     全国地产  19910129\n",
      "6   000009.SZ  000009  中国宝安   深圳     电气设备  19910625\n",
      "15  000021.SZ  000021   深科技   深圳      元器件  19940202\n",
      "18  000027.SZ  000027  深圳能源   深圳     火力发电  19930903 \n",
      " 800\n",
      "      ts_code industry\n",
      "0   000001.SZ       银行\n",
      "1   000002.SZ     全国地产\n",
      "6   000009.SZ     电气设备\n",
      "15  000021.SZ      元器件\n",
      "18  000027.SZ     火力发电 \n",
      " 800\n"
     ]
    }
   ],
   "source": [
    "# 合并数据, 将code和industry对应起来\n",
    "merged_df = stock_basic[stock_basic['ts_code'].isin(stock_codes)]\n",
    "print(merged_df.head(),'\\n',len(merged_df))\n",
    "\n",
    "# 只保留需要的2列(code和industry)\n",
    "result_df = merged_df[['ts_code', 'industry']].copy()\n",
    "print(result_df.head(),'\\n',len(merged_df))"
   ]
  },
  {
   "cell_type": "code",
   "execution_count": 7,
   "id": "8dd035dce0b18680",
   "metadata": {
    "ExecuteTime": {
     "start_time": "2025-10-16T10:59:54.955121Z"
    },
    "jupyter": {
     "is_executing": true
    }
   },
   "outputs": [
    {
     "name": "stderr",
     "output_type": "stream",
     "text": [
      "/Users/lizongze/Quantitative Trading/.venv/lib/python3.12/site-packages/tushare/pro/data_pro.py:130: FutureWarning: Series.fillna with 'method' is deprecated and will raise in a future version. Use obj.ffill() or obj.bfill() instead.\n",
      "  data['adj_factor'] = data['adj_factor'].fillna(method='bfill')\n"
     ]
    },
    {
     "name": "stdout",
     "output_type": "stream",
     "text": [
      "1/800 300750.SZ → 1395 行\n"
     ]
    },
    {
     "name": "stderr",
     "output_type": "stream",
     "text": [
      "/Users/lizongze/Quantitative Trading/.venv/lib/python3.12/site-packages/tushare/pro/data_pro.py:130: FutureWarning: Series.fillna with 'method' is deprecated and will raise in a future version. Use obj.ffill() or obj.bfill() instead.\n",
      "  data['adj_factor'] = data['adj_factor'].fillna(method='bfill')\n"
     ]
    },
    {
     "name": "stdout",
     "output_type": "stream",
     "text": [
      "2/800 600519.SH → 1395 行\n"
     ]
    },
    {
     "name": "stderr",
     "output_type": "stream",
     "text": [
      "/Users/lizongze/Quantitative Trading/.venv/lib/python3.12/site-packages/tushare/pro/data_pro.py:130: FutureWarning: Series.fillna with 'method' is deprecated and will raise in a future version. Use obj.ffill() or obj.bfill() instead.\n",
      "  data['adj_factor'] = data['adj_factor'].fillna(method='bfill')\n"
     ]
    },
    {
     "name": "stdout",
     "output_type": "stream",
     "text": [
      "3/800 601318.SH → 1395 行\n"
     ]
    },
    {
     "name": "stderr",
     "output_type": "stream",
     "text": [
      "/Users/lizongze/Quantitative Trading/.venv/lib/python3.12/site-packages/tushare/pro/data_pro.py:130: FutureWarning: Series.fillna with 'method' is deprecated and will raise in a future version. Use obj.ffill() or obj.bfill() instead.\n",
      "  data['adj_factor'] = data['adj_factor'].fillna(method='bfill')\n"
     ]
    },
    {
     "name": "stdout",
     "output_type": "stream",
     "text": [
      "4/800 600036.SH → 1395 行\n"
     ]
    },
    {
     "name": "stderr",
     "output_type": "stream",
     "text": [
      "/Users/lizongze/Quantitative Trading/.venv/lib/python3.12/site-packages/tushare/pro/data_pro.py:130: FutureWarning: Series.fillna with 'method' is deprecated and will raise in a future version. Use obj.ffill() or obj.bfill() instead.\n",
      "  data['adj_factor'] = data['adj_factor'].fillna(method='bfill')\n"
     ]
    },
    {
     "name": "stdout",
     "output_type": "stream",
     "text": [
      "5/800 601899.SH → 1395 行\n"
     ]
    },
    {
     "name": "stderr",
     "output_type": "stream",
     "text": [
      "/Users/lizongze/Quantitative Trading/.venv/lib/python3.12/site-packages/tushare/pro/data_pro.py:130: FutureWarning: Series.fillna with 'method' is deprecated and will raise in a future version. Use obj.ffill() or obj.bfill() instead.\n",
      "  data['adj_factor'] = data['adj_factor'].fillna(method='bfill')\n"
     ]
    },
    {
     "name": "stdout",
     "output_type": "stream",
     "text": [
      "6/800 300502.SZ → 1395 行\n"
     ]
    },
    {
     "name": "stderr",
     "output_type": "stream",
     "text": [
      "/Users/lizongze/Quantitative Trading/.venv/lib/python3.12/site-packages/tushare/pro/data_pro.py:130: FutureWarning: Series.fillna with 'method' is deprecated and will raise in a future version. Use obj.ffill() or obj.bfill() instead.\n",
      "  data['adj_factor'] = data['adj_factor'].fillna(method='bfill')\n"
     ]
    },
    {
     "name": "stdout",
     "output_type": "stream",
     "text": [
      "7/800 300308.SZ → 1395 行\n"
     ]
    },
    {
     "name": "stderr",
     "output_type": "stream",
     "text": [
      "/Users/lizongze/Quantitative Trading/.venv/lib/python3.12/site-packages/tushare/pro/data_pro.py:130: FutureWarning: Series.fillna with 'method' is deprecated and will raise in a future version. Use obj.ffill() or obj.bfill() instead.\n",
      "  data['adj_factor'] = data['adj_factor'].fillna(method='bfill')\n"
     ]
    },
    {
     "name": "stdout",
     "output_type": "stream",
     "text": [
      "8/800 000333.SZ → 1395 行\n"
     ]
    },
    {
     "name": "stderr",
     "output_type": "stream",
     "text": [
      "/Users/lizongze/Quantitative Trading/.venv/lib/python3.12/site-packages/tushare/pro/data_pro.py:130: FutureWarning: Series.fillna with 'method' is deprecated and will raise in a future version. Use obj.ffill() or obj.bfill() instead.\n",
      "  data['adj_factor'] = data['adj_factor'].fillna(method='bfill')\n"
     ]
    },
    {
     "name": "stdout",
     "output_type": "stream",
     "text": [
      "9/800 300059.SZ → 1395 行\n"
     ]
    },
    {
     "name": "stderr",
     "output_type": "stream",
     "text": [
      "/Users/lizongze/Quantitative Trading/.venv/lib/python3.12/site-packages/tushare/pro/data_pro.py:130: FutureWarning: Series.fillna with 'method' is deprecated and will raise in a future version. Use obj.ffill() or obj.bfill() instead.\n",
      "  data['adj_factor'] = data['adj_factor'].fillna(method='bfill')\n"
     ]
    },
    {
     "name": "stdout",
     "output_type": "stream",
     "text": [
      "10/800 600900.SH → 1384 行\n"
     ]
    },
    {
     "name": "stderr",
     "output_type": "stream",
     "text": [
      "/Users/lizongze/Quantitative Trading/.venv/lib/python3.12/site-packages/tushare/pro/data_pro.py:130: FutureWarning: Series.fillna with 'method' is deprecated and will raise in a future version. Use obj.ffill() or obj.bfill() instead.\n",
      "  data['adj_factor'] = data['adj_factor'].fillna(method='bfill')\n"
     ]
    },
    {
     "name": "stdout",
     "output_type": "stream",
     "text": [
      "11/800 601166.SH → 1395 行\n"
     ]
    },
    {
     "name": "stderr",
     "output_type": "stream",
     "text": [
      "/Users/lizongze/Quantitative Trading/.venv/lib/python3.12/site-packages/tushare/pro/data_pro.py:130: FutureWarning: Series.fillna with 'method' is deprecated and will raise in a future version. Use obj.ffill() or obj.bfill() instead.\n",
      "  data['adj_factor'] = data['adj_factor'].fillna(method='bfill')\n"
     ]
    },
    {
     "name": "stdout",
     "output_type": "stream",
     "text": [
      "12/800 002475.SZ → 1395 行\n"
     ]
    },
    {
     "name": "stderr",
     "output_type": "stream",
     "text": [
      "/Users/lizongze/Quantitative Trading/.venv/lib/python3.12/site-packages/tushare/pro/data_pro.py:130: FutureWarning: Series.fillna with 'method' is deprecated and will raise in a future version. Use obj.ffill() or obj.bfill() instead.\n",
      "  data['adj_factor'] = data['adj_factor'].fillna(method='bfill')\n"
     ]
    },
    {
     "name": "stdout",
     "output_type": "stream",
     "text": [
      "13/800 600276.SH → 1395 行\n"
     ]
    },
    {
     "name": "stderr",
     "output_type": "stream",
     "text": [
      "/Users/lizongze/Quantitative Trading/.venv/lib/python3.12/site-packages/tushare/pro/data_pro.py:130: FutureWarning: Series.fillna with 'method' is deprecated and will raise in a future version. Use obj.ffill() or obj.bfill() instead.\n",
      "  data['adj_factor'] = data['adj_factor'].fillna(method='bfill')\n"
     ]
    },
    {
     "name": "stdout",
     "output_type": "stream",
     "text": [
      "14/800 002594.SZ → 1395 行\n"
     ]
    },
    {
     "name": "stderr",
     "output_type": "stream",
     "text": [
      "/Users/lizongze/Quantitative Trading/.venv/lib/python3.12/site-packages/tushare/pro/data_pro.py:130: FutureWarning: Series.fillna with 'method' is deprecated and will raise in a future version. Use obj.ffill() or obj.bfill() instead.\n",
      "  data['adj_factor'] = data['adj_factor'].fillna(method='bfill')\n"
     ]
    },
    {
     "name": "stdout",
     "output_type": "stream",
     "text": [
      "15/800 600030.SH → 1389 行\n"
     ]
    },
    {
     "name": "stderr",
     "output_type": "stream",
     "text": [
      "/Users/lizongze/Quantitative Trading/.venv/lib/python3.12/site-packages/tushare/pro/data_pro.py:130: FutureWarning: Series.fillna with 'method' is deprecated and will raise in a future version. Use obj.ffill() or obj.bfill() instead.\n",
      "  data['adj_factor'] = data['adj_factor'].fillna(method='bfill')\n"
     ]
    },
    {
     "name": "stdout",
     "output_type": "stream",
     "text": [
      "16/800 603259.SH → 1395 行\n"
     ]
    },
    {
     "name": "stderr",
     "output_type": "stream",
     "text": [
      "/Users/lizongze/Quantitative Trading/.venv/lib/python3.12/site-packages/tushare/pro/data_pro.py:130: FutureWarning: Series.fillna with 'method' is deprecated and will raise in a future version. Use obj.ffill() or obj.bfill() instead.\n",
      "  data['adj_factor'] = data['adj_factor'].fillna(method='bfill')\n"
     ]
    },
    {
     "name": "stdout",
     "output_type": "stream",
     "text": [
      "17/800 688981.SH → 1261 行\n"
     ]
    },
    {
     "name": "stderr",
     "output_type": "stream",
     "text": [
      "/Users/lizongze/Quantitative Trading/.venv/lib/python3.12/site-packages/tushare/pro/data_pro.py:130: FutureWarning: Series.fillna with 'method' is deprecated and will raise in a future version. Use obj.ffill() or obj.bfill() instead.\n",
      "  data['adj_factor'] = data['adj_factor'].fillna(method='bfill')\n"
     ]
    },
    {
     "name": "stdout",
     "output_type": "stream",
     "text": [
      "18/800 688256.SH → 1265 行\n"
     ]
    },
    {
     "name": "stderr",
     "output_type": "stream",
     "text": [
      "/Users/lizongze/Quantitative Trading/.venv/lib/python3.12/site-packages/tushare/pro/data_pro.py:130: FutureWarning: Series.fillna with 'method' is deprecated and will raise in a future version. Use obj.ffill() or obj.bfill() instead.\n",
      "  data['adj_factor'] = data['adj_factor'].fillna(method='bfill')\n"
     ]
    },
    {
     "name": "stdout",
     "output_type": "stream",
     "text": [
      "19/800 601138.SH → 1395 行\n"
     ]
    },
    {
     "name": "stderr",
     "output_type": "stream",
     "text": [
      "/Users/lizongze/Quantitative Trading/.venv/lib/python3.12/site-packages/tushare/pro/data_pro.py:130: FutureWarning: Series.fillna with 'method' is deprecated and will raise in a future version. Use obj.ffill() or obj.bfill() instead.\n",
      "  data['adj_factor'] = data['adj_factor'].fillna(method='bfill')\n"
     ]
    },
    {
     "name": "stdout",
     "output_type": "stream",
     "text": [
      "20/800 601398.SH → 1395 行\n"
     ]
    },
    {
     "name": "stderr",
     "output_type": "stream",
     "text": [
      "/Users/lizongze/Quantitative Trading/.venv/lib/python3.12/site-packages/tushare/pro/data_pro.py:130: FutureWarning: Series.fillna with 'method' is deprecated and will raise in a future version. Use obj.ffill() or obj.bfill() instead.\n",
      "  data['adj_factor'] = data['adj_factor'].fillna(method='bfill')\n"
     ]
    },
    {
     "name": "stdout",
     "output_type": "stream",
     "text": [
      "21/800 000858.SZ → 1395 行\n"
     ]
    },
    {
     "name": "stderr",
     "output_type": "stream",
     "text": [
      "/Users/lizongze/Quantitative Trading/.venv/lib/python3.12/site-packages/tushare/pro/data_pro.py:130: FutureWarning: Series.fillna with 'method' is deprecated and will raise in a future version. Use obj.ffill() or obj.bfill() instead.\n",
      "  data['adj_factor'] = data['adj_factor'].fillna(method='bfill')\n"
     ]
    },
    {
     "name": "stdout",
     "output_type": "stream",
     "text": [
      "22/800 688041.SH → 752 行\n"
     ]
    },
    {
     "name": "stderr",
     "output_type": "stream",
     "text": [
      "/Users/lizongze/Quantitative Trading/.venv/lib/python3.12/site-packages/tushare/pro/data_pro.py:130: FutureWarning: Series.fillna with 'method' is deprecated and will raise in a future version. Use obj.ffill() or obj.bfill() instead.\n",
      "  data['adj_factor'] = data['adj_factor'].fillna(method='bfill')\n"
     ]
    },
    {
     "name": "stdout",
     "output_type": "stream",
     "text": [
      "23/800 300274.SZ → 1395 行\n"
     ]
    },
    {
     "name": "stderr",
     "output_type": "stream",
     "text": [
      "/Users/lizongze/Quantitative Trading/.venv/lib/python3.12/site-packages/tushare/pro/data_pro.py:130: FutureWarning: Series.fillna with 'method' is deprecated and will raise in a future version. Use obj.ffill() or obj.bfill() instead.\n",
      "  data['adj_factor'] = data['adj_factor'].fillna(method='bfill')\n"
     ]
    },
    {
     "name": "stdout",
     "output_type": "stream",
     "text": [
      "24/800 601211.SH → 1376 行\n"
     ]
    },
    {
     "name": "stderr",
     "output_type": "stream",
     "text": [
      "/Users/lizongze/Quantitative Trading/.venv/lib/python3.12/site-packages/tushare/pro/data_pro.py:130: FutureWarning: Series.fillna with 'method' is deprecated and will raise in a future version. Use obj.ffill() or obj.bfill() instead.\n",
      "  data['adj_factor'] = data['adj_factor'].fillna(method='bfill')\n"
     ]
    },
    {
     "name": "stdout",
     "output_type": "stream",
     "text": [
      "25/800 601288.SH → 1395 行\n"
     ]
    },
    {
     "name": "stderr",
     "output_type": "stream",
     "text": [
      "/Users/lizongze/Quantitative Trading/.venv/lib/python3.12/site-packages/tushare/pro/data_pro.py:130: FutureWarning: Series.fillna with 'method' is deprecated and will raise in a future version. Use obj.ffill() or obj.bfill() instead.\n",
      "  data['adj_factor'] = data['adj_factor'].fillna(method='bfill')\n"
     ]
    },
    {
     "name": "stdout",
     "output_type": "stream",
     "text": [
      "26/800 002371.SZ → 1395 行\n"
     ]
    },
    {
     "name": "stderr",
     "output_type": "stream",
     "text": [
      "/Users/lizongze/Quantitative Trading/.venv/lib/python3.12/site-packages/tushare/pro/data_pro.py:130: FutureWarning: Series.fillna with 'method' is deprecated and will raise in a future version. Use obj.ffill() or obj.bfill() instead.\n",
      "  data['adj_factor'] = data['adj_factor'].fillna(method='bfill')\n"
     ]
    },
    {
     "name": "stdout",
     "output_type": "stream",
     "text": [
      "27/800 601328.SH → 1395 行\n"
     ]
    },
    {
     "name": "stderr",
     "output_type": "stream",
     "text": [
      "/Users/lizongze/Quantitative Trading/.venv/lib/python3.12/site-packages/tushare/pro/data_pro.py:130: FutureWarning: Series.fillna with 'method' is deprecated and will raise in a future version. Use obj.ffill() or obj.bfill() instead.\n",
      "  data['adj_factor'] = data['adj_factor'].fillna(method='bfill')\n"
     ]
    },
    {
     "name": "stdout",
     "output_type": "stream",
     "text": [
      "28/800 000651.SZ → 1395 行\n"
     ]
    },
    {
     "name": "stderr",
     "output_type": "stream",
     "text": [
      "/Users/lizongze/Quantitative Trading/.venv/lib/python3.12/site-packages/tushare/pro/data_pro.py:130: FutureWarning: Series.fillna with 'method' is deprecated and will raise in a future version. Use obj.ffill() or obj.bfill() instead.\n",
      "  data['adj_factor'] = data['adj_factor'].fillna(method='bfill')\n"
     ]
    },
    {
     "name": "stdout",
     "output_type": "stream",
     "text": [
      "29/800 688008.SH → 1395 行\n"
     ]
    },
    {
     "name": "stderr",
     "output_type": "stream",
     "text": [
      "/Users/lizongze/Quantitative Trading/.venv/lib/python3.12/site-packages/tushare/pro/data_pro.py:130: FutureWarning: Series.fillna with 'method' is deprecated and will raise in a future version. Use obj.ffill() or obj.bfill() instead.\n",
      "  data['adj_factor'] = data['adj_factor'].fillna(method='bfill')\n"
     ]
    },
    {
     "name": "stdout",
     "output_type": "stream",
     "text": [
      "30/800 603019.SH → 1385 行\n"
     ]
    },
    {
     "name": "stderr",
     "output_type": "stream",
     "text": [
      "/Users/lizongze/Quantitative Trading/.venv/lib/python3.12/site-packages/tushare/pro/data_pro.py:130: FutureWarning: Series.fillna with 'method' is deprecated and will raise in a future version. Use obj.ffill() or obj.bfill() instead.\n",
      "  data['adj_factor'] = data['adj_factor'].fillna(method='bfill')\n"
     ]
    },
    {
     "name": "stdout",
     "output_type": "stream",
     "text": [
      "31/800 600887.SH → 1395 行\n"
     ]
    },
    {
     "name": "stderr",
     "output_type": "stream",
     "text": [
      "/Users/lizongze/Quantitative Trading/.venv/lib/python3.12/site-packages/tushare/pro/data_pro.py:130: FutureWarning: Series.fillna with 'method' is deprecated and will raise in a future version. Use obj.ffill() or obj.bfill() instead.\n",
      "  data['adj_factor'] = data['adj_factor'].fillna(method='bfill')\n"
     ]
    },
    {
     "name": "stdout",
     "output_type": "stream",
     "text": [
      "32/800 300476.SZ → 1395 行\n"
     ]
    },
    {
     "name": "stderr",
     "output_type": "stream",
     "text": [
      "/Users/lizongze/Quantitative Trading/.venv/lib/python3.12/site-packages/tushare/pro/data_pro.py:130: FutureWarning: Series.fillna with 'method' is deprecated and will raise in a future version. Use obj.ffill() or obj.bfill() instead.\n",
      "  data['adj_factor'] = data['adj_factor'].fillna(method='bfill')\n"
     ]
    },
    {
     "name": "stdout",
     "output_type": "stream",
     "text": [
      "33/800 300124.SZ → 1395 行\n"
     ]
    },
    {
     "name": "stderr",
     "output_type": "stream",
     "text": [
      "/Users/lizongze/Quantitative Trading/.venv/lib/python3.12/site-packages/tushare/pro/data_pro.py:130: FutureWarning: Series.fillna with 'method' is deprecated and will raise in a future version. Use obj.ffill() or obj.bfill() instead.\n",
      "  data['adj_factor'] = data['adj_factor'].fillna(method='bfill')\n"
     ]
    },
    {
     "name": "stdout",
     "output_type": "stream",
     "text": [
      "34/800 600150.SH → 1380 行\n"
     ]
    },
    {
     "name": "stderr",
     "output_type": "stream",
     "text": [
      "/Users/lizongze/Quantitative Trading/.venv/lib/python3.12/site-packages/tushare/pro/data_pro.py:130: FutureWarning: Series.fillna with 'method' is deprecated and will raise in a future version. Use obj.ffill() or obj.bfill() instead.\n",
      "  data['adj_factor'] = data['adj_factor'].fillna(method='bfill')\n"
     ]
    },
    {
     "name": "stdout",
     "output_type": "stream",
     "text": [
      "35/800 000725.SZ → 1395 行\n"
     ]
    },
    {
     "name": "stderr",
     "output_type": "stream",
     "text": [
      "/Users/lizongze/Quantitative Trading/.venv/lib/python3.12/site-packages/tushare/pro/data_pro.py:130: FutureWarning: Series.fillna with 'method' is deprecated and will raise in a future version. Use obj.ffill() or obj.bfill() instead.\n",
      "  data['adj_factor'] = data['adj_factor'].fillna(method='bfill')\n"
     ]
    },
    {
     "name": "stdout",
     "output_type": "stream",
     "text": [
      "36/800 601816.SH → 1385 行\n"
     ]
    },
    {
     "name": "stderr",
     "output_type": "stream",
     "text": [
      "/Users/lizongze/Quantitative Trading/.venv/lib/python3.12/site-packages/tushare/pro/data_pro.py:130: FutureWarning: Series.fillna with 'method' is deprecated and will raise in a future version. Use obj.ffill() or obj.bfill() instead.\n",
      "  data['adj_factor'] = data['adj_factor'].fillna(method='bfill')\n"
     ]
    },
    {
     "name": "stdout",
     "output_type": "stream",
     "text": [
      "37/800 300760.SZ → 1395 行\n"
     ]
    },
    {
     "name": "stderr",
     "output_type": "stream",
     "text": [
      "/Users/lizongze/Quantitative Trading/.venv/lib/python3.12/site-packages/tushare/pro/data_pro.py:130: FutureWarning: Series.fillna with 'method' is deprecated and will raise in a future version. Use obj.ffill() or obj.bfill() instead.\n",
      "  data['adj_factor'] = data['adj_factor'].fillna(method='bfill')\n"
     ]
    },
    {
     "name": "stdout",
     "output_type": "stream",
     "text": [
      "38/800 600919.SH → 1389 行\n"
     ]
    },
    {
     "name": "stderr",
     "output_type": "stream",
     "text": [
      "/Users/lizongze/Quantitative Trading/.venv/lib/python3.12/site-packages/tushare/pro/data_pro.py:130: FutureWarning: Series.fillna with 'method' is deprecated and will raise in a future version. Use obj.ffill() or obj.bfill() instead.\n",
      "  data['adj_factor'] = data['adj_factor'].fillna(method='bfill')\n"
     ]
    },
    {
     "name": "stdout",
     "output_type": "stream",
     "text": [
      "39/800 000063.SZ → 1394 行\n"
     ]
    },
    {
     "name": "stderr",
     "output_type": "stream",
     "text": [
      "/Users/lizongze/Quantitative Trading/.venv/lib/python3.12/site-packages/tushare/pro/data_pro.py:130: FutureWarning: Series.fillna with 'method' is deprecated and will raise in a future version. Use obj.ffill() or obj.bfill() instead.\n",
      "  data['adj_factor'] = data['adj_factor'].fillna(method='bfill')\n"
     ]
    },
    {
     "name": "stdout",
     "output_type": "stream",
     "text": [
      "40/800 002714.SZ → 1395 行\n"
     ]
    },
    {
     "name": "stderr",
     "output_type": "stream",
     "text": [
      "/Users/lizongze/Quantitative Trading/.venv/lib/python3.12/site-packages/tushare/pro/data_pro.py:130: FutureWarning: Series.fillna with 'method' is deprecated and will raise in a future version. Use obj.ffill() or obj.bfill() instead.\n",
      "  data['adj_factor'] = data['adj_factor'].fillna(method='bfill')\n"
     ]
    },
    {
     "name": "stdout",
     "output_type": "stream",
     "text": [
      "41/800 603986.SH → 1395 行\n"
     ]
    },
    {
     "name": "stderr",
     "output_type": "stream",
     "text": [
      "/Users/lizongze/Quantitative Trading/.venv/lib/python3.12/site-packages/tushare/pro/data_pro.py:130: FutureWarning: Series.fillna with 'method' is deprecated and will raise in a future version. Use obj.ffill() or obj.bfill() instead.\n",
      "  data['adj_factor'] = data['adj_factor'].fillna(method='bfill')\n"
     ]
    },
    {
     "name": "stdout",
     "output_type": "stream",
     "text": [
      "42/800 601127.SH → 1394 行\n"
     ]
    },
    {
     "name": "stderr",
     "output_type": "stream",
     "text": [
      "/Users/lizongze/Quantitative Trading/.venv/lib/python3.12/site-packages/tushare/pro/data_pro.py:130: FutureWarning: Series.fillna with 'method' is deprecated and will raise in a future version. Use obj.ffill() or obj.bfill() instead.\n",
      "  data['adj_factor'] = data['adj_factor'].fillna(method='bfill')\n"
     ]
    },
    {
     "name": "stdout",
     "output_type": "stream",
     "text": [
      "43/800 600000.SH → 1395 行\n"
     ]
    },
    {
     "name": "stderr",
     "output_type": "stream",
     "text": [
      "/Users/lizongze/Quantitative Trading/.venv/lib/python3.12/site-packages/tushare/pro/data_pro.py:130: FutureWarning: Series.fillna with 'method' is deprecated and will raise in a future version. Use obj.ffill() or obj.bfill() instead.\n",
      "  data['adj_factor'] = data['adj_factor'].fillna(method='bfill')\n"
     ]
    },
    {
     "name": "stdout",
     "output_type": "stream",
     "text": [
      "44/800 600031.SH → 1395 行\n"
     ]
    },
    {
     "name": "stderr",
     "output_type": "stream",
     "text": [
      "/Users/lizongze/Quantitative Trading/.venv/lib/python3.12/site-packages/tushare/pro/data_pro.py:130: FutureWarning: Series.fillna with 'method' is deprecated and will raise in a future version. Use obj.ffill() or obj.bfill() instead.\n",
      "  data['adj_factor'] = data['adj_factor'].fillna(method='bfill')\n"
     ]
    },
    {
     "name": "stdout",
     "output_type": "stream",
     "text": [
      "45/800 688012.SH → 1395 行\n"
     ]
    },
    {
     "name": "stderr",
     "output_type": "stream",
     "text": [
      "/Users/lizongze/Quantitative Trading/.venv/lib/python3.12/site-packages/tushare/pro/data_pro.py:130: FutureWarning: Series.fillna with 'method' is deprecated and will raise in a future version. Use obj.ffill() or obj.bfill() instead.\n",
      "  data['adj_factor'] = data['adj_factor'].fillna(method='bfill')\n"
     ]
    },
    {
     "name": "stdout",
     "output_type": "stream",
     "text": [
      "46/800 002230.SZ → 1395 行\n"
     ]
    },
    {
     "name": "stderr",
     "output_type": "stream",
     "text": [
      "/Users/lizongze/Quantitative Trading/.venv/lib/python3.12/site-packages/tushare/pro/data_pro.py:130: FutureWarning: Series.fillna with 'method' is deprecated and will raise in a future version. Use obj.ffill() or obj.bfill() instead.\n",
      "  data['adj_factor'] = data['adj_factor'].fillna(method='bfill')\n"
     ]
    },
    {
     "name": "stdout",
     "output_type": "stream",
     "text": [
      "47/800 603501.SH → 1395 行\n"
     ]
    },
    {
     "name": "stderr",
     "output_type": "stream",
     "text": [
      "/Users/lizongze/Quantitative Trading/.venv/lib/python3.12/site-packages/tushare/pro/data_pro.py:130: FutureWarning: Series.fillna with 'method' is deprecated and will raise in a future version. Use obj.ffill() or obj.bfill() instead.\n",
      "  data['adj_factor'] = data['adj_factor'].fillna(method='bfill')\n"
     ]
    },
    {
     "name": "stdout",
     "output_type": "stream",
     "text": [
      "48/800 601088.SH → 1385 行\n"
     ]
    },
    {
     "name": "stderr",
     "output_type": "stream",
     "text": [
      "/Users/lizongze/Quantitative Trading/.venv/lib/python3.12/site-packages/tushare/pro/data_pro.py:130: FutureWarning: Series.fillna with 'method' is deprecated and will raise in a future version. Use obj.ffill() or obj.bfill() instead.\n",
      "  data['adj_factor'] = data['adj_factor'].fillna(method='bfill')\n"
     ]
    },
    {
     "name": "stdout",
     "output_type": "stream",
     "text": [
      "49/800 600309.SH → 1395 行\n"
     ]
    },
    {
     "name": "stderr",
     "output_type": "stream",
     "text": [
      "/Users/lizongze/Quantitative Trading/.venv/lib/python3.12/site-packages/tushare/pro/data_pro.py:130: FutureWarning: Series.fillna with 'method' is deprecated and will raise in a future version. Use obj.ffill() or obj.bfill() instead.\n",
      "  data['adj_factor'] = data['adj_factor'].fillna(method='bfill')\n"
     ]
    },
    {
     "name": "stdout",
     "output_type": "stream",
     "text": [
      "50/800 600111.SH → 1395 行\n"
     ]
    },
    {
     "name": "stderr",
     "output_type": "stream",
     "text": [
      "/Users/lizongze/Quantitative Trading/.venv/lib/python3.12/site-packages/tushare/pro/data_pro.py:130: FutureWarning: Series.fillna with 'method' is deprecated and will raise in a future version. Use obj.ffill() or obj.bfill() instead.\n",
      "  data['adj_factor'] = data['adj_factor'].fillna(method='bfill')\n"
     ]
    },
    {
     "name": "stdout",
     "output_type": "stream",
     "text": [
      "51/800 601601.SH → 1395 行\n"
     ]
    },
    {
     "name": "stderr",
     "output_type": "stream",
     "text": [
      "/Users/lizongze/Quantitative Trading/.venv/lib/python3.12/site-packages/tushare/pro/data_pro.py:130: FutureWarning: Series.fillna with 'method' is deprecated and will raise in a future version. Use obj.ffill() or obj.bfill() instead.\n",
      "  data['adj_factor'] = data['adj_factor'].fillna(method='bfill')\n"
     ]
    },
    {
     "name": "stdout",
     "output_type": "stream",
     "text": [
      "52/800 600660.SH → 1395 行\n"
     ]
    },
    {
     "name": "stderr",
     "output_type": "stream",
     "text": [
      "/Users/lizongze/Quantitative Trading/.venv/lib/python3.12/site-packages/tushare/pro/data_pro.py:130: FutureWarning: Series.fillna with 'method' is deprecated and will raise in a future version. Use obj.ffill() or obj.bfill() instead.\n",
      "  data['adj_factor'] = data['adj_factor'].fillna(method='bfill')\n"
     ]
    },
    {
     "name": "stdout",
     "output_type": "stream",
     "text": [
      "53/800 002415.SZ → 1395 行\n"
     ]
    },
    {
     "name": "stderr",
     "output_type": "stream",
     "text": [
      "/Users/lizongze/Quantitative Trading/.venv/lib/python3.12/site-packages/tushare/pro/data_pro.py:130: FutureWarning: Series.fillna with 'method' is deprecated and will raise in a future version. Use obj.ffill() or obj.bfill() instead.\n",
      "  data['adj_factor'] = data['adj_factor'].fillna(method='bfill')\n"
     ]
    },
    {
     "name": "stdout",
     "output_type": "stream",
     "text": [
      "54/800 601668.SH → 1395 行\n"
     ]
    },
    {
     "name": "stderr",
     "output_type": "stream",
     "text": [
      "/Users/lizongze/Quantitative Trading/.venv/lib/python3.12/site-packages/tushare/pro/data_pro.py:130: FutureWarning: Series.fillna with 'method' is deprecated and will raise in a future version. Use obj.ffill() or obj.bfill() instead.\n",
      "  data['adj_factor'] = data['adj_factor'].fillna(method='bfill')\n"
     ]
    },
    {
     "name": "stdout",
     "output_type": "stream",
     "text": [
      "55/800 300014.SZ → 1395 行\n"
     ]
    },
    {
     "name": "stderr",
     "output_type": "stream",
     "text": [
      "/Users/lizongze/Quantitative Trading/.venv/lib/python3.12/site-packages/tushare/pro/data_pro.py:130: FutureWarning: Series.fillna with 'method' is deprecated and will raise in a future version. Use obj.ffill() or obj.bfill() instead.\n",
      "  data['adj_factor'] = data['adj_factor'].fillna(method='bfill')\n"
     ]
    },
    {
     "name": "stdout",
     "output_type": "stream",
     "text": [
      "56/800 601688.SH → 1395 行\n"
     ]
    },
    {
     "name": "stderr",
     "output_type": "stream",
     "text": [
      "/Users/lizongze/Quantitative Trading/.venv/lib/python3.12/site-packages/tushare/pro/data_pro.py:130: FutureWarning: Series.fillna with 'method' is deprecated and will raise in a future version. Use obj.ffill() or obj.bfill() instead.\n",
      "  data['adj_factor'] = data['adj_factor'].fillna(method='bfill')\n"
     ]
    },
    {
     "name": "stdout",
     "output_type": "stream",
     "text": [
      "57/800 603993.SH → 1395 行\n"
     ]
    },
    {
     "name": "stderr",
     "output_type": "stream",
     "text": [
      "/Users/lizongze/Quantitative Trading/.venv/lib/python3.12/site-packages/tushare/pro/data_pro.py:130: FutureWarning: Series.fillna with 'method' is deprecated and will raise in a future version. Use obj.ffill() or obj.bfill() instead.\n",
      "  data['adj_factor'] = data['adj_factor'].fillna(method='bfill')\n"
     ]
    },
    {
     "name": "stdout",
     "output_type": "stream",
     "text": [
      "58/800 000001.SZ → 1395 行\n"
     ]
    },
    {
     "name": "stderr",
     "output_type": "stream",
     "text": [
      "/Users/lizongze/Quantitative Trading/.venv/lib/python3.12/site-packages/tushare/pro/data_pro.py:130: FutureWarning: Series.fillna with 'method' is deprecated and will raise in a future version. Use obj.ffill() or obj.bfill() instead.\n",
      "  data['adj_factor'] = data['adj_factor'].fillna(method='bfill')\n"
     ]
    },
    {
     "name": "stdout",
     "output_type": "stream",
     "text": [
      "59/800 601012.SH → 1395 行\n"
     ]
    },
    {
     "name": "stderr",
     "output_type": "stream",
     "text": [
      "/Users/lizongze/Quantitative Trading/.venv/lib/python3.12/site-packages/tushare/pro/data_pro.py:130: FutureWarning: Series.fillna with 'method' is deprecated and will raise in a future version. Use obj.ffill() or obj.bfill() instead.\n",
      "  data['adj_factor'] = data['adj_factor'].fillna(method='bfill')\n"
     ]
    },
    {
     "name": "stdout",
     "output_type": "stream",
     "text": [
      "60/800 002050.SZ → 1395 行\n"
     ]
    },
    {
     "name": "stderr",
     "output_type": "stream",
     "text": [
      "/Users/lizongze/Quantitative Trading/.venv/lib/python3.12/site-packages/tushare/pro/data_pro.py:130: FutureWarning: Series.fillna with 'method' is deprecated and will raise in a future version. Use obj.ffill() or obj.bfill() instead.\n",
      "  data['adj_factor'] = data['adj_factor'].fillna(method='bfill')\n"
     ]
    },
    {
     "name": "stdout",
     "output_type": "stream",
     "text": [
      "61/800 601728.SH → 998 行\n"
     ]
    },
    {
     "name": "stderr",
     "output_type": "stream",
     "text": [
      "/Users/lizongze/Quantitative Trading/.venv/lib/python3.12/site-packages/tushare/pro/data_pro.py:130: FutureWarning: Series.fillna with 'method' is deprecated and will raise in a future version. Use obj.ffill() or obj.bfill() instead.\n",
      "  data['adj_factor'] = data['adj_factor'].fillna(method='bfill')\n"
     ]
    },
    {
     "name": "stdout",
     "output_type": "stream",
     "text": [
      "62/800 002463.SZ → 1395 行\n"
     ]
    },
    {
     "name": "stderr",
     "output_type": "stream",
     "text": [
      "/Users/lizongze/Quantitative Trading/.venv/lib/python3.12/site-packages/tushare/pro/data_pro.py:130: FutureWarning: Series.fillna with 'method' is deprecated and will raise in a future version. Use obj.ffill() or obj.bfill() instead.\n",
      "  data['adj_factor'] = data['adj_factor'].fillna(method='bfill')\n"
     ]
    },
    {
     "name": "stdout",
     "output_type": "stream",
     "text": [
      "63/800 300498.SZ → 1395 行\n"
     ]
    },
    {
     "name": "stderr",
     "output_type": "stream",
     "text": [
      "/Users/lizongze/Quantitative Trading/.venv/lib/python3.12/site-packages/tushare/pro/data_pro.py:130: FutureWarning: Series.fillna with 'method' is deprecated and will raise in a future version. Use obj.ffill() or obj.bfill() instead.\n",
      "  data['adj_factor'] = data['adj_factor'].fillna(method='bfill')\n"
     ]
    },
    {
     "name": "stdout",
     "output_type": "stream",
     "text": [
      "64/800 600016.SH → 1395 行\n"
     ]
    },
    {
     "name": "stderr",
     "output_type": "stream",
     "text": [
      "/Users/lizongze/Quantitative Trading/.venv/lib/python3.12/site-packages/tushare/pro/data_pro.py:130: FutureWarning: Series.fillna with 'method' is deprecated and will raise in a future version. Use obj.ffill() or obj.bfill() instead.\n",
      "  data['adj_factor'] = data['adj_factor'].fillna(method='bfill')\n"
     ]
    },
    {
     "name": "stdout",
     "output_type": "stream",
     "text": [
      "65/800 002352.SZ → 1392 行\n"
     ]
    },
    {
     "name": "stderr",
     "output_type": "stream",
     "text": [
      "/Users/lizongze/Quantitative Trading/.venv/lib/python3.12/site-packages/tushare/pro/data_pro.py:130: FutureWarning: Series.fillna with 'method' is deprecated and will raise in a future version. Use obj.ffill() or obj.bfill() instead.\n",
      "  data['adj_factor'] = data['adj_factor'].fillna(method='bfill')\n"
     ]
    },
    {
     "name": "stdout",
     "output_type": "stream",
     "text": [
      "66/800 603799.SH → 1395 行\n"
     ]
    },
    {
     "name": "stderr",
     "output_type": "stream",
     "text": [
      "/Users/lizongze/Quantitative Trading/.venv/lib/python3.12/site-packages/tushare/pro/data_pro.py:130: FutureWarning: Series.fillna with 'method' is deprecated and will raise in a future version. Use obj.ffill() or obj.bfill() instead.\n",
      "  data['adj_factor'] = data['adj_factor'].fillna(method='bfill')\n"
     ]
    },
    {
     "name": "stdout",
     "output_type": "stream",
     "text": [
      "67/800 000568.SZ → 1395 行\n"
     ]
    },
    {
     "name": "stderr",
     "output_type": "stream",
     "text": [
      "/Users/lizongze/Quantitative Trading/.venv/lib/python3.12/site-packages/tushare/pro/data_pro.py:130: FutureWarning: Series.fillna with 'method' is deprecated and will raise in a future version. Use obj.ffill() or obj.bfill() instead.\n",
      "  data['adj_factor'] = data['adj_factor'].fillna(method='bfill')\n"
     ]
    },
    {
     "name": "stdout",
     "output_type": "stream",
     "text": [
      "68/800 600690.SH → 1393 行\n"
     ]
    },
    {
     "name": "stderr",
     "output_type": "stream",
     "text": [
      "/Users/lizongze/Quantitative Trading/.venv/lib/python3.12/site-packages/tushare/pro/data_pro.py:130: FutureWarning: Series.fillna with 'method' is deprecated and will raise in a future version. Use obj.ffill() or obj.bfill() instead.\n",
      "  data['adj_factor'] = data['adj_factor'].fillna(method='bfill')\n"
     ]
    },
    {
     "name": "stdout",
     "output_type": "stream",
     "text": [
      "69/800 600941.SH → 908 行\n"
     ]
    },
    {
     "name": "stderr",
     "output_type": "stream",
     "text": [
      "/Users/lizongze/Quantitative Trading/.venv/lib/python3.12/site-packages/tushare/pro/data_pro.py:130: FutureWarning: Series.fillna with 'method' is deprecated and will raise in a future version. Use obj.ffill() or obj.bfill() instead.\n",
      "  data['adj_factor'] = data['adj_factor'].fillna(method='bfill')\n"
     ]
    },
    {
     "name": "stdout",
     "output_type": "stream",
     "text": [
      "70/800 600809.SH → 1395 行\n"
     ]
    },
    {
     "name": "stderr",
     "output_type": "stream",
     "text": [
      "/Users/lizongze/Quantitative Trading/.venv/lib/python3.12/site-packages/tushare/pro/data_pro.py:130: FutureWarning: Series.fillna with 'method' is deprecated and will raise in a future version. Use obj.ffill() or obj.bfill() instead.\n",
      "  data['adj_factor'] = data['adj_factor'].fillna(method='bfill')\n"
     ]
    },
    {
     "name": "stdout",
     "output_type": "stream",
     "text": [
      "71/800 000425.SZ → 1372 行\n"
     ]
    },
    {
     "name": "stderr",
     "output_type": "stream",
     "text": [
      "/Users/lizongze/Quantitative Trading/.venv/lib/python3.12/site-packages/tushare/pro/data_pro.py:130: FutureWarning: Series.fillna with 'method' is deprecated and will raise in a future version. Use obj.ffill() or obj.bfill() instead.\n",
      "  data['adj_factor'] = data['adj_factor'].fillna(method='bfill')\n"
     ]
    },
    {
     "name": "stdout",
     "output_type": "stream",
     "text": [
      "72/800 000988.SZ → 1395 行\n"
     ]
    },
    {
     "name": "stderr",
     "output_type": "stream",
     "text": [
      "/Users/lizongze/Quantitative Trading/.venv/lib/python3.12/site-packages/tushare/pro/data_pro.py:130: FutureWarning: Series.fillna with 'method' is deprecated and will raise in a future version. Use obj.ffill() or obj.bfill() instead.\n",
      "  data['adj_factor'] = data['adj_factor'].fillna(method='bfill')\n"
     ]
    },
    {
     "name": "stdout",
     "output_type": "stream",
     "text": [
      "73/800 600406.SH → 1395 行\n"
     ]
    },
    {
     "name": "stderr",
     "output_type": "stream",
     "text": [
      "/Users/lizongze/Quantitative Trading/.venv/lib/python3.12/site-packages/tushare/pro/data_pro.py:130: FutureWarning: Series.fillna with 'method' is deprecated and will raise in a future version. Use obj.ffill() or obj.bfill() instead.\n",
      "  data['adj_factor'] = data['adj_factor'].fillna(method='bfill')\n"
     ]
    },
    {
     "name": "stdout",
     "output_type": "stream",
     "text": [
      "74/800 002241.SZ → 1395 行\n"
     ]
    },
    {
     "name": "stderr",
     "output_type": "stream",
     "text": [
      "/Users/lizongze/Quantitative Trading/.venv/lib/python3.12/site-packages/tushare/pro/data_pro.py:130: FutureWarning: Series.fillna with 'method' is deprecated and will raise in a future version. Use obj.ffill() or obj.bfill() instead.\n",
      "  data['adj_factor'] = data['adj_factor'].fillna(method='bfill')\n"
     ]
    },
    {
     "name": "stdout",
     "output_type": "stream",
     "text": [
      "75/800 601857.SH → 1395 行\n"
     ]
    },
    {
     "name": "stderr",
     "output_type": "stream",
     "text": [
      "/Users/lizongze/Quantitative Trading/.venv/lib/python3.12/site-packages/tushare/pro/data_pro.py:130: FutureWarning: Series.fillna with 'method' is deprecated and will raise in a future version. Use obj.ffill() or obj.bfill() instead.\n",
      "  data['adj_factor'] = data['adj_factor'].fillna(method='bfill')\n"
     ]
    },
    {
     "name": "stdout",
     "output_type": "stream",
     "text": [
      "76/800 601766.SH → 1395 行\n"
     ]
    },
    {
     "name": "stderr",
     "output_type": "stream",
     "text": [
      "/Users/lizongze/Quantitative Trading/.venv/lib/python3.12/site-packages/tushare/pro/data_pro.py:130: FutureWarning: Series.fillna with 'method' is deprecated and will raise in a future version. Use obj.ffill() or obj.bfill() instead.\n",
      "  data['adj_factor'] = data['adj_factor'].fillna(method='bfill')\n"
     ]
    },
    {
     "name": "stdout",
     "output_type": "stream",
     "text": [
      "77/800 601919.SH → 1395 行\n"
     ]
    },
    {
     "name": "stderr",
     "output_type": "stream",
     "text": [
      "/Users/lizongze/Quantitative Trading/.venv/lib/python3.12/site-packages/tushare/pro/data_pro.py:130: FutureWarning: Series.fillna with 'method' is deprecated and will raise in a future version. Use obj.ffill() or obj.bfill() instead.\n",
      "  data['adj_factor'] = data['adj_factor'].fillna(method='bfill')\n"
     ]
    },
    {
     "name": "stdout",
     "output_type": "stream",
     "text": [
      "78/800 600089.SH → 1395 行\n"
     ]
    },
    {
     "name": "stderr",
     "output_type": "stream",
     "text": [
      "/Users/lizongze/Quantitative Trading/.venv/lib/python3.12/site-packages/tushare/pro/data_pro.py:130: FutureWarning: Series.fillna with 'method' is deprecated and will raise in a future version. Use obj.ffill() or obj.bfill() instead.\n",
      "  data['adj_factor'] = data['adj_factor'].fillna(method='bfill')\n"
     ]
    },
    {
     "name": "stdout",
     "output_type": "stream",
     "text": [
      "79/800 000100.SZ → 1394 行\n"
     ]
    },
    {
     "name": "stderr",
     "output_type": "stream",
     "text": [
      "/Users/lizongze/Quantitative Trading/.venv/lib/python3.12/site-packages/tushare/pro/data_pro.py:130: FutureWarning: Series.fillna with 'method' is deprecated and will raise in a future version. Use obj.ffill() or obj.bfill() instead.\n",
      "  data['adj_factor'] = data['adj_factor'].fillna(method='bfill')\n"
     ]
    },
    {
     "name": "stdout",
     "output_type": "stream",
     "text": [
      "80/800 601229.SH → 1395 行\n"
     ]
    },
    {
     "name": "stderr",
     "output_type": "stream",
     "text": [
      "/Users/lizongze/Quantitative Trading/.venv/lib/python3.12/site-packages/tushare/pro/data_pro.py:130: FutureWarning: Series.fillna with 'method' is deprecated and will raise in a future version. Use obj.ffill() or obj.bfill() instead.\n",
      "  data['adj_factor'] = data['adj_factor'].fillna(method='bfill')\n"
     ]
    },
    {
     "name": "stdout",
     "output_type": "stream",
     "text": [
      "81/800 002142.SZ → 1389 行\n"
     ]
    },
    {
     "name": "stderr",
     "output_type": "stream",
     "text": [
      "/Users/lizongze/Quantitative Trading/.venv/lib/python3.12/site-packages/tushare/pro/data_pro.py:130: FutureWarning: Series.fillna with 'method' is deprecated and will raise in a future version. Use obj.ffill() or obj.bfill() instead.\n",
      "  data['adj_factor'] = data['adj_factor'].fillna(method='bfill')\n"
     ]
    },
    {
     "name": "stdout",
     "output_type": "stream",
     "text": [
      "82/800 600050.SH → 1395 行\n"
     ]
    },
    {
     "name": "stderr",
     "output_type": "stream",
     "text": [
      "/Users/lizongze/Quantitative Trading/.venv/lib/python3.12/site-packages/tushare/pro/data_pro.py:130: FutureWarning: Series.fillna with 'method' is deprecated and will raise in a future version. Use obj.ffill() or obj.bfill() instead.\n",
      "  data['adj_factor'] = data['adj_factor'].fillna(method='bfill')\n"
     ]
    },
    {
     "name": "stdout",
     "output_type": "stream",
     "text": [
      "83/800 601169.SH → 1395 行\n"
     ]
    },
    {
     "name": "stderr",
     "output_type": "stream",
     "text": [
      "/Users/lizongze/Quantitative Trading/.venv/lib/python3.12/site-packages/tushare/pro/data_pro.py:130: FutureWarning: Series.fillna with 'method' is deprecated and will raise in a future version. Use obj.ffill() or obj.bfill() instead.\n",
      "  data['adj_factor'] = data['adj_factor'].fillna(method='bfill')\n"
     ]
    },
    {
     "name": "stdout",
     "output_type": "stream",
     "text": [
      "84/800 002027.SZ → 1395 行\n"
     ]
    },
    {
     "name": "stderr",
     "output_type": "stream",
     "text": [
      "/Users/lizongze/Quantitative Trading/.venv/lib/python3.12/site-packages/tushare/pro/data_pro.py:130: FutureWarning: Series.fillna with 'method' is deprecated and will raise in a future version. Use obj.ffill() or obj.bfill() instead.\n",
      "  data['adj_factor'] = data['adj_factor'].fillna(method='bfill')\n"
     ]
    },
    {
     "name": "stdout",
     "output_type": "stream",
     "text": [
      "85/800 601009.SH → 1395 行\n"
     ]
    },
    {
     "name": "stderr",
     "output_type": "stream",
     "text": [
      "/Users/lizongze/Quantitative Trading/.venv/lib/python3.12/site-packages/tushare/pro/data_pro.py:130: FutureWarning: Series.fillna with 'method' is deprecated and will raise in a future version. Use obj.ffill() or obj.bfill() instead.\n",
      "  data['adj_factor'] = data['adj_factor'].fillna(method='bfill')\n"
     ]
    },
    {
     "name": "stdout",
     "output_type": "stream",
     "text": [
      "86/800 300033.SZ → 1395 行\n"
     ]
    },
    {
     "name": "stderr",
     "output_type": "stream",
     "text": [
      "/Users/lizongze/Quantitative Trading/.venv/lib/python3.12/site-packages/tushare/pro/data_pro.py:130: FutureWarning: Series.fillna with 'method' is deprecated and will raise in a future version. Use obj.ffill() or obj.bfill() instead.\n",
      "  data['adj_factor'] = data['adj_factor'].fillna(method='bfill')\n"
     ]
    },
    {
     "name": "stdout",
     "output_type": "stream",
     "text": [
      "87/800 600104.SH → 1395 行\n"
     ]
    },
    {
     "name": "stderr",
     "output_type": "stream",
     "text": [
      "/Users/lizongze/Quantitative Trading/.venv/lib/python3.12/site-packages/tushare/pro/data_pro.py:130: FutureWarning: Series.fillna with 'method' is deprecated and will raise in a future version. Use obj.ffill() or obj.bfill() instead.\n",
      "  data['adj_factor'] = data['adj_factor'].fillna(method='bfill')\n"
     ]
    },
    {
     "name": "stdout",
     "output_type": "stream",
     "text": [
      "88/800 600760.SH → 1395 行\n"
     ]
    },
    {
     "name": "stderr",
     "output_type": "stream",
     "text": [
      "/Users/lizongze/Quantitative Trading/.venv/lib/python3.12/site-packages/tushare/pro/data_pro.py:130: FutureWarning: Series.fillna with 'method' is deprecated and will raise in a future version. Use obj.ffill() or obj.bfill() instead.\n",
      "  data['adj_factor'] = data['adj_factor'].fillna(method='bfill')\n"
     ]
    },
    {
     "name": "stdout",
     "output_type": "stream",
     "text": [
      "89/800 300394.SZ → 1395 行\n"
     ]
    },
    {
     "name": "stderr",
     "output_type": "stream",
     "text": [
      "/Users/lizongze/Quantitative Trading/.venv/lib/python3.12/site-packages/tushare/pro/data_pro.py:130: FutureWarning: Series.fillna with 'method' is deprecated and will raise in a future version. Use obj.ffill() or obj.bfill() instead.\n",
      "  data['adj_factor'] = data['adj_factor'].fillna(method='bfill')\n"
     ]
    },
    {
     "name": "stdout",
     "output_type": "stream",
     "text": [
      "90/800 600926.SH → 1395 行\n"
     ]
    },
    {
     "name": "stderr",
     "output_type": "stream",
     "text": [
      "/Users/lizongze/Quantitative Trading/.venv/lib/python3.12/site-packages/tushare/pro/data_pro.py:130: FutureWarning: Series.fillna with 'method' is deprecated and will raise in a future version. Use obj.ffill() or obj.bfill() instead.\n",
      "  data['adj_factor'] = data['adj_factor'].fillna(method='bfill')\n"
     ]
    },
    {
     "name": "stdout",
     "output_type": "stream",
     "text": [
      "91/800 601225.SH → 1395 行\n"
     ]
    },
    {
     "name": "stderr",
     "output_type": "stream",
     "text": [
      "/Users/lizongze/Quantitative Trading/.venv/lib/python3.12/site-packages/tushare/pro/data_pro.py:130: FutureWarning: Series.fillna with 'method' is deprecated and will raise in a future version. Use obj.ffill() or obj.bfill() instead.\n",
      "  data['adj_factor'] = data['adj_factor'].fillna(method='bfill')\n"
     ]
    },
    {
     "name": "stdout",
     "output_type": "stream",
     "text": [
      "92/800 000792.SZ → 1083 行\n"
     ]
    },
    {
     "name": "stderr",
     "output_type": "stream",
     "text": [
      "/Users/lizongze/Quantitative Trading/.venv/lib/python3.12/site-packages/tushare/pro/data_pro.py:130: FutureWarning: Series.fillna with 'method' is deprecated and will raise in a future version. Use obj.ffill() or obj.bfill() instead.\n",
      "  data['adj_factor'] = data['adj_factor'].fillna(method='bfill')\n"
     ]
    },
    {
     "name": "stdout",
     "output_type": "stream",
     "text": [
      "93/800 600028.SH → 1395 行\n"
     ]
    },
    {
     "name": "stderr",
     "output_type": "stream",
     "text": [
      "/Users/lizongze/Quantitative Trading/.venv/lib/python3.12/site-packages/tushare/pro/data_pro.py:130: FutureWarning: Series.fillna with 'method' is deprecated and will raise in a future version. Use obj.ffill() or obj.bfill() instead.\n",
      "  data['adj_factor'] = data['adj_factor'].fillna(method='bfill')\n"
     ]
    },
    {
     "name": "stdout",
     "output_type": "stream",
     "text": [
      "94/800 000977.SZ → 1389 行\n"
     ]
    },
    {
     "name": "stderr",
     "output_type": "stream",
     "text": [
      "/Users/lizongze/Quantitative Trading/.venv/lib/python3.12/site-packages/tushare/pro/data_pro.py:130: FutureWarning: Series.fillna with 'method' is deprecated and will raise in a future version. Use obj.ffill() or obj.bfill() instead.\n",
      "  data['adj_factor'] = data['adj_factor'].fillna(method='bfill')\n"
     ]
    },
    {
     "name": "stdout",
     "output_type": "stream",
     "text": [
      "95/800 000338.SZ → 1395 行\n"
     ]
    },
    {
     "name": "stderr",
     "output_type": "stream",
     "text": [
      "/Users/lizongze/Quantitative Trading/.venv/lib/python3.12/site-packages/tushare/pro/data_pro.py:130: FutureWarning: Series.fillna with 'method' is deprecated and will raise in a future version. Use obj.ffill() or obj.bfill() instead.\n",
      "  data['adj_factor'] = data['adj_factor'].fillna(method='bfill')\n"
     ]
    },
    {
     "name": "stdout",
     "output_type": "stream",
     "text": [
      "96/800 688271.SH → 756 行\n"
     ]
    },
    {
     "name": "stderr",
     "output_type": "stream",
     "text": [
      "/Users/lizongze/Quantitative Trading/.venv/lib/python3.12/site-packages/tushare/pro/data_pro.py:130: FutureWarning: Series.fillna with 'method' is deprecated and will raise in a future version. Use obj.ffill() or obj.bfill() instead.\n",
      "  data['adj_factor'] = data['adj_factor'].fillna(method='bfill')\n"
     ]
    },
    {
     "name": "stdout",
     "output_type": "stream",
     "text": [
      "97/800 601988.SH → 1395 行\n"
     ]
    },
    {
     "name": "stderr",
     "output_type": "stream",
     "text": [
      "/Users/lizongze/Quantitative Trading/.venv/lib/python3.12/site-packages/tushare/pro/data_pro.py:130: FutureWarning: Series.fillna with 'method' is deprecated and will raise in a future version. Use obj.ffill() or obj.bfill() instead.\n",
      "  data['adj_factor'] = data['adj_factor'].fillna(method='bfill')\n"
     ]
    },
    {
     "name": "stdout",
     "output_type": "stream",
     "text": [
      "98/800 688111.SH → 1395 行\n"
     ]
    },
    {
     "name": "stderr",
     "output_type": "stream",
     "text": [
      "/Users/lizongze/Quantitative Trading/.venv/lib/python3.12/site-packages/tushare/pro/data_pro.py:130: FutureWarning: Series.fillna with 'method' is deprecated and will raise in a future version. Use obj.ffill() or obj.bfill() instead.\n",
      "  data['adj_factor'] = data['adj_factor'].fillna(method='bfill')\n"
     ]
    },
    {
     "name": "stdout",
     "output_type": "stream",
     "text": [
      "99/800 601939.SH → 1395 行\n"
     ]
    },
    {
     "name": "stderr",
     "output_type": "stream",
     "text": [
      "/Users/lizongze/Quantitative Trading/.venv/lib/python3.12/site-packages/tushare/pro/data_pro.py:130: FutureWarning: Series.fillna with 'method' is deprecated and will raise in a future version. Use obj.ffill() or obj.bfill() instead.\n",
      "  data['adj_factor'] = data['adj_factor'].fillna(method='bfill')\n"
     ]
    },
    {
     "name": "stdout",
     "output_type": "stream",
     "text": [
      "100/800 601985.SH → 1395 行\n"
     ]
    },
    {
     "name": "stderr",
     "output_type": "stream",
     "text": [
      "/Users/lizongze/Quantitative Trading/.venv/lib/python3.12/site-packages/tushare/pro/data_pro.py:130: FutureWarning: Series.fillna with 'method' is deprecated and will raise in a future version. Use obj.ffill() or obj.bfill() instead.\n",
      "  data['adj_factor'] = data['adj_factor'].fillna(method='bfill')\n"
     ]
    },
    {
     "name": "stdout",
     "output_type": "stream",
     "text": [
      "101/800 600547.SH → 1394 行\n"
     ]
    },
    {
     "name": "stderr",
     "output_type": "stream",
     "text": [
      "/Users/lizongze/Quantitative Trading/.venv/lib/python3.12/site-packages/tushare/pro/data_pro.py:130: FutureWarning: Series.fillna with 'method' is deprecated and will raise in a future version. Use obj.ffill() or obj.bfill() instead.\n",
      "  data['adj_factor'] = data['adj_factor'].fillna(method='bfill')\n"
     ]
    },
    {
     "name": "stdout",
     "output_type": "stream",
     "text": [
      "102/800 601006.SH → 1395 行\n"
     ]
    },
    {
     "name": "stderr",
     "output_type": "stream",
     "text": [
      "/Users/lizongze/Quantitative Trading/.venv/lib/python3.12/site-packages/tushare/pro/data_pro.py:130: FutureWarning: Series.fillna with 'method' is deprecated and will raise in a future version. Use obj.ffill() or obj.bfill() instead.\n",
      "  data['adj_factor'] = data['adj_factor'].fillna(method='bfill')\n"
     ]
    },
    {
     "name": "stdout",
     "output_type": "stream",
     "text": [
      "103/800 601689.SH → 1395 行\n"
     ]
    },
    {
     "name": "stderr",
     "output_type": "stream",
     "text": [
      "/Users/lizongze/Quantitative Trading/.venv/lib/python3.12/site-packages/tushare/pro/data_pro.py:130: FutureWarning: Series.fillna with 'method' is deprecated and will raise in a future version. Use obj.ffill() or obj.bfill() instead.\n",
      "  data['adj_factor'] = data['adj_factor'].fillna(method='bfill')\n"
     ]
    },
    {
     "name": "stdout",
     "output_type": "stream",
     "text": [
      "104/800 601888.SH → 1395 行\n"
     ]
    },
    {
     "name": "stderr",
     "output_type": "stream",
     "text": [
      "/Users/lizongze/Quantitative Trading/.venv/lib/python3.12/site-packages/tushare/pro/data_pro.py:130: FutureWarning: Series.fillna with 'method' is deprecated and will raise in a future version. Use obj.ffill() or obj.bfill() instead.\n",
      "  data['adj_factor'] = data['adj_factor'].fillna(method='bfill')\n"
     ]
    },
    {
     "name": "stdout",
     "output_type": "stream",
     "text": [
      "105/800 002460.SZ → 1395 行\n"
     ]
    },
    {
     "name": "stderr",
     "output_type": "stream",
     "text": [
      "/Users/lizongze/Quantitative Trading/.venv/lib/python3.12/site-packages/tushare/pro/data_pro.py:130: FutureWarning: Series.fillna with 'method' is deprecated and will raise in a future version. Use obj.ffill() or obj.bfill() instead.\n",
      "  data['adj_factor'] = data['adj_factor'].fillna(method='bfill')\n"
     ]
    },
    {
     "name": "stdout",
     "output_type": "stream",
     "text": [
      "106/800 300450.SZ → 1395 行\n"
     ]
    },
    {
     "name": "stderr",
     "output_type": "stream",
     "text": [
      "/Users/lizongze/Quantitative Trading/.venv/lib/python3.12/site-packages/tushare/pro/data_pro.py:130: FutureWarning: Series.fillna with 'method' is deprecated and will raise in a future version. Use obj.ffill() or obj.bfill() instead.\n",
      "  data['adj_factor'] = data['adj_factor'].fillna(method='bfill')\n"
     ]
    },
    {
     "name": "stdout",
     "output_type": "stream",
     "text": [
      "107/800 002028.SZ → 1395 行\n"
     ]
    },
    {
     "name": "stderr",
     "output_type": "stream",
     "text": [
      "/Users/lizongze/Quantitative Trading/.venv/lib/python3.12/site-packages/tushare/pro/data_pro.py:130: FutureWarning: Series.fillna with 'method' is deprecated and will raise in a future version. Use obj.ffill() or obj.bfill() instead.\n",
      "  data['adj_factor'] = data['adj_factor'].fillna(method='bfill')\n"
     ]
    },
    {
     "name": "stdout",
     "output_type": "stream",
     "text": [
      "108/800 300433.SZ → 1395 行\n"
     ]
    },
    {
     "name": "stderr",
     "output_type": "stream",
     "text": [
      "/Users/lizongze/Quantitative Trading/.venv/lib/python3.12/site-packages/tushare/pro/data_pro.py:130: FutureWarning: Series.fillna with 'method' is deprecated and will raise in a future version. Use obj.ffill() or obj.bfill() instead.\n",
      "  data['adj_factor'] = data['adj_factor'].fillna(method='bfill')\n"
     ]
    },
    {
     "name": "stdout",
     "output_type": "stream",
     "text": [
      "109/800 601628.SH → 1395 行\n"
     ]
    },
    {
     "name": "stderr",
     "output_type": "stream",
     "text": [
      "/Users/lizongze/Quantitative Trading/.venv/lib/python3.12/site-packages/tushare/pro/data_pro.py:130: FutureWarning: Series.fillna with 'method' is deprecated and will raise in a future version. Use obj.ffill() or obj.bfill() instead.\n",
      "  data['adj_factor'] = data['adj_factor'].fillna(method='bfill')\n"
     ]
    },
    {
     "name": "stdout",
     "output_type": "stream",
     "text": [
      "110/800 600183.SH → 1395 行\n"
     ]
    },
    {
     "name": "stderr",
     "output_type": "stream",
     "text": [
      "/Users/lizongze/Quantitative Trading/.venv/lib/python3.12/site-packages/tushare/pro/data_pro.py:130: FutureWarning: Series.fillna with 'method' is deprecated and will raise in a future version. Use obj.ffill() or obj.bfill() instead.\n",
      "  data['adj_factor'] = data['adj_factor'].fillna(method='bfill')\n"
     ]
    },
    {
     "name": "stdout",
     "output_type": "stream",
     "text": [
      "111/800 000776.SZ → 1395 行\n"
     ]
    },
    {
     "name": "stderr",
     "output_type": "stream",
     "text": [
      "/Users/lizongze/Quantitative Trading/.venv/lib/python3.12/site-packages/tushare/pro/data_pro.py:130: FutureWarning: Series.fillna with 'method' is deprecated and will raise in a future version. Use obj.ffill() or obj.bfill() instead.\n",
      "  data['adj_factor'] = data['adj_factor'].fillna(method='bfill')\n"
     ]
    },
    {
     "name": "stdout",
     "output_type": "stream",
     "text": [
      "112/800 601600.SH → 1395 行\n"
     ]
    },
    {
     "name": "stderr",
     "output_type": "stream",
     "text": [
      "/Users/lizongze/Quantitative Trading/.venv/lib/python3.12/site-packages/tushare/pro/data_pro.py:130: FutureWarning: Series.fillna with 'method' is deprecated and will raise in a future version. Use obj.ffill() or obj.bfill() instead.\n",
      "  data['adj_factor'] = data['adj_factor'].fillna(method='bfill')\n"
     ]
    },
    {
     "name": "stdout",
     "output_type": "stream",
     "text": [
      "113/800 603288.SH → 1395 行\n"
     ]
    },
    {
     "name": "stderr",
     "output_type": "stream",
     "text": [
      "/Users/lizongze/Quantitative Trading/.venv/lib/python3.12/site-packages/tushare/pro/data_pro.py:130: FutureWarning: Series.fillna with 'method' is deprecated and will raise in a future version. Use obj.ffill() or obj.bfill() instead.\n",
      "  data['adj_factor'] = data['adj_factor'].fillna(method='bfill')\n"
     ]
    },
    {
     "name": "stdout",
     "output_type": "stream",
     "text": [
      "114/800 688521.SH → 1234 行\n"
     ]
    },
    {
     "name": "stderr",
     "output_type": "stream",
     "text": [
      "/Users/lizongze/Quantitative Trading/.venv/lib/python3.12/site-packages/tushare/pro/data_pro.py:130: FutureWarning: Series.fillna with 'method' is deprecated and will raise in a future version. Use obj.ffill() or obj.bfill() instead.\n",
      "  data['adj_factor'] = data['adj_factor'].fillna(method='bfill')\n"
     ]
    },
    {
     "name": "stdout",
     "output_type": "stream",
     "text": [
      "115/800 600489.SH → 1395 行\n"
     ]
    },
    {
     "name": "stderr",
     "output_type": "stream",
     "text": [
      "/Users/lizongze/Quantitative Trading/.venv/lib/python3.12/site-packages/tushare/pro/data_pro.py:130: FutureWarning: Series.fillna with 'method' is deprecated and will raise in a future version. Use obj.ffill() or obj.bfill() instead.\n",
      "  data['adj_factor'] = data['adj_factor'].fillna(method='bfill')\n"
     ]
    },
    {
     "name": "stdout",
     "output_type": "stream",
     "text": [
      "116/800 601658.SH → 1395 行\n"
     ]
    },
    {
     "name": "stderr",
     "output_type": "stream",
     "text": [
      "/Users/lizongze/Quantitative Trading/.venv/lib/python3.12/site-packages/tushare/pro/data_pro.py:130: FutureWarning: Series.fillna with 'method' is deprecated and will raise in a future version. Use obj.ffill() or obj.bfill() instead.\n",
      "  data['adj_factor'] = data['adj_factor'].fillna(method='bfill')\n"
     ]
    },
    {
     "name": "stdout",
     "output_type": "stream",
     "text": [
      "117/800 600999.SH → 1389 行\n"
     ]
    },
    {
     "name": "stderr",
     "output_type": "stream",
     "text": [
      "/Users/lizongze/Quantitative Trading/.venv/lib/python3.12/site-packages/tushare/pro/data_pro.py:130: FutureWarning: Series.fillna with 'method' is deprecated and will raise in a future version. Use obj.ffill() or obj.bfill() instead.\n",
      "  data['adj_factor'] = data['adj_factor'].fillna(method='bfill')\n"
     ]
    },
    {
     "name": "stdout",
     "output_type": "stream",
     "text": [
      "118/800 600584.SH → 1390 行\n"
     ]
    },
    {
     "name": "stderr",
     "output_type": "stream",
     "text": [
      "/Users/lizongze/Quantitative Trading/.venv/lib/python3.12/site-packages/tushare/pro/data_pro.py:130: FutureWarning: Series.fillna with 'method' is deprecated and will raise in a future version. Use obj.ffill() or obj.bfill() instead.\n",
      "  data['adj_factor'] = data['adj_factor'].fillna(method='bfill')\n"
     ]
    },
    {
     "name": "stdout",
     "output_type": "stream",
     "text": [
      "119/800 605499.SH → 1058 行\n"
     ]
    },
    {
     "name": "stderr",
     "output_type": "stream",
     "text": [
      "/Users/lizongze/Quantitative Trading/.venv/lib/python3.12/site-packages/tushare/pro/data_pro.py:130: FutureWarning: Series.fillna with 'method' is deprecated and will raise in a future version. Use obj.ffill() or obj.bfill() instead.\n",
      "  data['adj_factor'] = data['adj_factor'].fillna(method='bfill')\n"
     ]
    },
    {
     "name": "stdout",
     "output_type": "stream",
     "text": [
      "120/800 601818.SH → 1395 行\n"
     ]
    },
    {
     "name": "stderr",
     "output_type": "stream",
     "text": [
      "/Users/lizongze/Quantitative Trading/.venv/lib/python3.12/site-packages/tushare/pro/data_pro.py:130: FutureWarning: Series.fillna with 'method' is deprecated and will raise in a future version. Use obj.ffill() or obj.bfill() instead.\n",
      "  data['adj_factor'] = data['adj_factor'].fillna(method='bfill')\n"
     ]
    },
    {
     "name": "stdout",
     "output_type": "stream",
     "text": [
      "121/800 600938.SH → 839 行\n"
     ]
    },
    {
     "name": "stderr",
     "output_type": "stream",
     "text": [
      "/Users/lizongze/Quantitative Trading/.venv/lib/python3.12/site-packages/tushare/pro/data_pro.py:130: FutureWarning: Series.fillna with 'method' is deprecated and will raise in a future version. Use obj.ffill() or obj.bfill() instead.\n",
      "  data['adj_factor'] = data['adj_factor'].fillna(method='bfill')\n"
     ]
    },
    {
     "name": "stdout",
     "output_type": "stream",
     "text": [
      "122/800 600019.SH → 1395 行\n"
     ]
    },
    {
     "name": "stderr",
     "output_type": "stream",
     "text": [
      "/Users/lizongze/Quantitative Trading/.venv/lib/python3.12/site-packages/tushare/pro/data_pro.py:130: FutureWarning: Series.fillna with 'method' is deprecated and will raise in a future version. Use obj.ffill() or obj.bfill() instead.\n",
      "  data['adj_factor'] = data['adj_factor'].fillna(method='bfill')\n"
     ]
    },
    {
     "name": "stdout",
     "output_type": "stream",
     "text": [
      "123/800 300408.SZ → 1395 行\n"
     ]
    },
    {
     "name": "stderr",
     "output_type": "stream",
     "text": [
      "/Users/lizongze/Quantitative Trading/.venv/lib/python3.12/site-packages/tushare/pro/data_pro.py:130: FutureWarning: Series.fillna with 'method' is deprecated and will raise in a future version. Use obj.ffill() or obj.bfill() instead.\n",
      "  data['adj_factor'] = data['adj_factor'].fillna(method='bfill')\n"
     ]
    },
    {
     "name": "stdout",
     "output_type": "stream",
     "text": [
      "124/800 002049.SZ → 1394 行\n"
     ]
    },
    {
     "name": "stderr",
     "output_type": "stream",
     "text": [
      "/Users/lizongze/Quantitative Trading/.venv/lib/python3.12/site-packages/tushare/pro/data_pro.py:130: FutureWarning: Series.fillna with 'method' is deprecated and will raise in a future version. Use obj.ffill() or obj.bfill() instead.\n",
      "  data['adj_factor'] = data['adj_factor'].fillna(method='bfill')\n"
     ]
    },
    {
     "name": "stdout",
     "output_type": "stream",
     "text": [
      "125/800 002558.SZ → 1395 行\n"
     ]
    },
    {
     "name": "stderr",
     "output_type": "stream",
     "text": [
      "/Users/lizongze/Quantitative Trading/.venv/lib/python3.12/site-packages/tushare/pro/data_pro.py:130: FutureWarning: Series.fillna with 'method' is deprecated and will raise in a future version. Use obj.ffill() or obj.bfill() instead.\n",
      "  data['adj_factor'] = data['adj_factor'].fillna(method='bfill')\n"
     ]
    },
    {
     "name": "stdout",
     "output_type": "stream",
     "text": [
      "126/800 000625.SZ → 1395 行\n"
     ]
    },
    {
     "name": "stderr",
     "output_type": "stream",
     "text": [
      "/Users/lizongze/Quantitative Trading/.venv/lib/python3.12/site-packages/tushare/pro/data_pro.py:130: FutureWarning: Series.fillna with 'method' is deprecated and will raise in a future version. Use obj.ffill() or obj.bfill() instead.\n",
      "  data['adj_factor'] = data['adj_factor'].fillna(method='bfill')\n"
     ]
    },
    {
     "name": "stdout",
     "output_type": "stream",
     "text": [
      "127/800 600905.SH → 1048 行\n"
     ]
    },
    {
     "name": "stderr",
     "output_type": "stream",
     "text": [
      "/Users/lizongze/Quantitative Trading/.venv/lib/python3.12/site-packages/tushare/pro/data_pro.py:130: FutureWarning: Series.fillna with 'method' is deprecated and will raise in a future version. Use obj.ffill() or obj.bfill() instead.\n",
      "  data['adj_factor'] = data['adj_factor'].fillna(method='bfill')\n"
     ]
    },
    {
     "name": "stdout",
     "output_type": "stream",
     "text": [
      "128/800 000938.SZ → 1395 行\n"
     ]
    },
    {
     "name": "stderr",
     "output_type": "stream",
     "text": [
      "/Users/lizongze/Quantitative Trading/.venv/lib/python3.12/site-packages/tushare/pro/data_pro.py:130: FutureWarning: Series.fillna with 'method' is deprecated and will raise in a future version. Use obj.ffill() or obj.bfill() instead.\n",
      "  data['adj_factor'] = data['adj_factor'].fillna(method='bfill')\n"
     ]
    },
    {
     "name": "stdout",
     "output_type": "stream",
     "text": [
      "129/800 600438.SH → 1395 行\n"
     ]
    },
    {
     "name": "stderr",
     "output_type": "stream",
     "text": [
      "/Users/lizongze/Quantitative Trading/.venv/lib/python3.12/site-packages/tushare/pro/data_pro.py:130: FutureWarning: Series.fillna with 'method' is deprecated and will raise in a future version. Use obj.ffill() or obj.bfill() instead.\n",
      "  data['adj_factor'] = data['adj_factor'].fillna(method='bfill')\n"
     ]
    },
    {
     "name": "stdout",
     "output_type": "stream",
     "text": [
      "130/800 300803.SZ → 1395 行\n"
     ]
    },
    {
     "name": "stderr",
     "output_type": "stream",
     "text": [
      "/Users/lizongze/Quantitative Trading/.venv/lib/python3.12/site-packages/tushare/pro/data_pro.py:130: FutureWarning: Series.fillna with 'method' is deprecated and will raise in a future version. Use obj.ffill() or obj.bfill() instead.\n",
      "  data['adj_factor'] = data['adj_factor'].fillna(method='bfill')\n"
     ]
    },
    {
     "name": "stdout",
     "output_type": "stream",
     "text": [
      "131/800 600958.SH → 1389 行\n"
     ]
    },
    {
     "name": "stderr",
     "output_type": "stream",
     "text": [
      "/Users/lizongze/Quantitative Trading/.venv/lib/python3.12/site-packages/tushare/pro/data_pro.py:130: FutureWarning: Series.fillna with 'method' is deprecated and will raise in a future version. Use obj.ffill() or obj.bfill() instead.\n",
      "  data['adj_factor'] = data['adj_factor'].fillna(method='bfill')\n"
     ]
    },
    {
     "name": "stdout",
     "output_type": "stream",
     "text": [
      "132/800 600436.SH → 1395 行\n"
     ]
    },
    {
     "name": "stderr",
     "output_type": "stream",
     "text": [
      "/Users/lizongze/Quantitative Trading/.venv/lib/python3.12/site-packages/tushare/pro/data_pro.py:130: FutureWarning: Series.fillna with 'method' is deprecated and will raise in a future version. Use obj.ffill() or obj.bfill() instead.\n",
      "  data['adj_factor'] = data['adj_factor'].fillna(method='bfill')\n"
     ]
    },
    {
     "name": "stdout",
     "output_type": "stream",
     "text": [
      "133/800 300015.SZ → 1394 行\n"
     ]
    },
    {
     "name": "stderr",
     "output_type": "stream",
     "text": [
      "/Users/lizongze/Quantitative Trading/.venv/lib/python3.12/site-packages/tushare/pro/data_pro.py:130: FutureWarning: Series.fillna with 'method' is deprecated and will raise in a future version. Use obj.ffill() or obj.bfill() instead.\n",
      "  data['adj_factor'] = data['adj_factor'].fillna(method='bfill')\n"
     ]
    },
    {
     "name": "stdout",
     "output_type": "stream",
     "text": [
      "134/800 002916.SZ → 1395 行\n"
     ]
    },
    {
     "name": "stderr",
     "output_type": "stream",
     "text": [
      "/Users/lizongze/Quantitative Trading/.venv/lib/python3.12/site-packages/tushare/pro/data_pro.py:130: FutureWarning: Series.fillna with 'method' is deprecated and will raise in a future version. Use obj.ffill() or obj.bfill() instead.\n",
      "  data['adj_factor'] = data['adj_factor'].fillna(method='bfill')\n"
     ]
    },
    {
     "name": "stdout",
     "output_type": "stream",
     "text": [
      "135/800 601390.SH → 1395 行\n"
     ]
    },
    {
     "name": "stderr",
     "output_type": "stream",
     "text": [
      "/Users/lizongze/Quantitative Trading/.venv/lib/python3.12/site-packages/tushare/pro/data_pro.py:130: FutureWarning: Series.fillna with 'method' is deprecated and will raise in a future version. Use obj.ffill() or obj.bfill() instead.\n",
      "  data['adj_factor'] = data['adj_factor'].fillna(method='bfill')\n"
     ]
    },
    {
     "name": "stdout",
     "output_type": "stream",
     "text": [
      "136/800 600048.SH → 1395 行\n"
     ]
    },
    {
     "name": "stderr",
     "output_type": "stream",
     "text": [
      "/Users/lizongze/Quantitative Trading/.venv/lib/python3.12/site-packages/tushare/pro/data_pro.py:130: FutureWarning: Series.fillna with 'method' is deprecated and will raise in a future version. Use obj.ffill() or obj.bfill() instead.\n",
      "  data['adj_factor'] = data['adj_factor'].fillna(method='bfill')\n"
     ]
    },
    {
     "name": "stdout",
     "output_type": "stream",
     "text": [
      "137/800 600893.SH → 1394 行\n"
     ]
    },
    {
     "name": "stderr",
     "output_type": "stream",
     "text": [
      "/Users/lizongze/Quantitative Trading/.venv/lib/python3.12/site-packages/tushare/pro/data_pro.py:130: FutureWarning: Series.fillna with 'method' is deprecated and will raise in a future version. Use obj.ffill() or obj.bfill() instead.\n",
      "  data['adj_factor'] = data['adj_factor'].fillna(method='bfill')\n"
     ]
    },
    {
     "name": "stdout",
     "output_type": "stream",
     "text": [
      "138/800 600585.SH → 1395 行\n"
     ]
    },
    {
     "name": "stderr",
     "output_type": "stream",
     "text": [
      "/Users/lizongze/Quantitative Trading/.venv/lib/python3.12/site-packages/tushare/pro/data_pro.py:130: FutureWarning: Series.fillna with 'method' is deprecated and will raise in a future version. Use obj.ffill() or obj.bfill() instead.\n",
      "  data['adj_factor'] = data['adj_factor'].fillna(method='bfill')\n"
     ]
    },
    {
     "name": "stdout",
     "output_type": "stream",
     "text": [
      "139/800 600160.SH → 1385 行\n"
     ]
    },
    {
     "name": "stderr",
     "output_type": "stream",
     "text": [
      "/Users/lizongze/Quantitative Trading/.venv/lib/python3.12/site-packages/tushare/pro/data_pro.py:130: FutureWarning: Series.fillna with 'method' is deprecated and will raise in a future version. Use obj.ffill() or obj.bfill() instead.\n",
      "  data['adj_factor'] = data['adj_factor'].fillna(method='bfill')\n"
     ]
    },
    {
     "name": "stdout",
     "output_type": "stream",
     "text": [
      "140/800 600010.SH → 1395 行\n"
     ]
    },
    {
     "name": "stderr",
     "output_type": "stream",
     "text": [
      "/Users/lizongze/Quantitative Trading/.venv/lib/python3.12/site-packages/tushare/pro/data_pro.py:130: FutureWarning: Series.fillna with 'method' is deprecated and will raise in a future version. Use obj.ffill() or obj.bfill() instead.\n",
      "  data['adj_factor'] = data['adj_factor'].fillna(method='bfill')\n"
     ]
    },
    {
     "name": "stdout",
     "output_type": "stream",
     "text": [
      "141/800 002311.SZ → 1395 行\n"
     ]
    },
    {
     "name": "stderr",
     "output_type": "stream",
     "text": [
      "/Users/lizongze/Quantitative Trading/.venv/lib/python3.12/site-packages/tushare/pro/data_pro.py:130: FutureWarning: Series.fillna with 'method' is deprecated and will raise in a future version. Use obj.ffill() or obj.bfill() instead.\n",
      "  data['adj_factor'] = data['adj_factor'].fillna(method='bfill')\n"
     ]
    },
    {
     "name": "stdout",
     "output_type": "stream",
     "text": [
      "142/800 600580.SH → 1395 行\n"
     ]
    },
    {
     "name": "stderr",
     "output_type": "stream",
     "text": [
      "/Users/lizongze/Quantitative Trading/.venv/lib/python3.12/site-packages/tushare/pro/data_pro.py:130: FutureWarning: Series.fillna with 'method' is deprecated and will raise in a future version. Use obj.ffill() or obj.bfill() instead.\n",
      "  data['adj_factor'] = data['adj_factor'].fillna(method='bfill')\n"
     ]
    },
    {
     "name": "stdout",
     "output_type": "stream",
     "text": [
      "143/800 002179.SZ → 1395 行\n"
     ]
    },
    {
     "name": "stderr",
     "output_type": "stream",
     "text": [
      "/Users/lizongze/Quantitative Trading/.venv/lib/python3.12/site-packages/tushare/pro/data_pro.py:130: FutureWarning: Series.fillna with 'method' is deprecated and will raise in a future version. Use obj.ffill() or obj.bfill() instead.\n",
      "  data['adj_factor'] = data['adj_factor'].fillna(method='bfill')\n"
     ]
    },
    {
     "name": "stdout",
     "output_type": "stream",
     "text": [
      "144/800 600570.SH → 1395 行\n"
     ]
    },
    {
     "name": "stderr",
     "output_type": "stream",
     "text": [
      "/Users/lizongze/Quantitative Trading/.venv/lib/python3.12/site-packages/tushare/pro/data_pro.py:130: FutureWarning: Series.fillna with 'method' is deprecated and will raise in a future version. Use obj.ffill() or obj.bfill() instead.\n",
      "  data['adj_factor'] = data['adj_factor'].fillna(method='bfill')\n"
     ]
    },
    {
     "name": "stdout",
     "output_type": "stream",
     "text": [
      "145/800 002709.SZ → 1395 行\n"
     ]
    },
    {
     "name": "stderr",
     "output_type": "stream",
     "text": [
      "/Users/lizongze/Quantitative Trading/.venv/lib/python3.12/site-packages/tushare/pro/data_pro.py:130: FutureWarning: Series.fillna with 'method' is deprecated and will raise in a future version. Use obj.ffill() or obj.bfill() instead.\n",
      "  data['adj_factor'] = data['adj_factor'].fillna(method='bfill')\n"
     ]
    },
    {
     "name": "stdout",
     "output_type": "stream",
     "text": [
      "146/800 601100.SH → 1395 行\n"
     ]
    },
    {
     "name": "stderr",
     "output_type": "stream",
     "text": [
      "/Users/lizongze/Quantitative Trading/.venv/lib/python3.12/site-packages/tushare/pro/data_pro.py:130: FutureWarning: Series.fillna with 'method' is deprecated and will raise in a future version. Use obj.ffill() or obj.bfill() instead.\n",
      "  data['adj_factor'] = data['adj_factor'].fillna(method='bfill')\n"
     ]
    },
    {
     "name": "stdout",
     "output_type": "stream",
     "text": [
      "147/800 600415.SH → 1395 行\n"
     ]
    },
    {
     "name": "stderr",
     "output_type": "stream",
     "text": [
      "/Users/lizongze/Quantitative Trading/.venv/lib/python3.12/site-packages/tushare/pro/data_pro.py:130: FutureWarning: Series.fillna with 'method' is deprecated and will raise in a future version. Use obj.ffill() or obj.bfill() instead.\n",
      "  data['adj_factor'] = data['adj_factor'].fillna(method='bfill')\n"
     ]
    },
    {
     "name": "stdout",
     "output_type": "stream",
     "text": [
      "148/800 601336.SH → 1395 行\n"
     ]
    },
    {
     "name": "stderr",
     "output_type": "stream",
     "text": [
      "/Users/lizongze/Quantitative Trading/.venv/lib/python3.12/site-packages/tushare/pro/data_pro.py:130: FutureWarning: Series.fillna with 'method' is deprecated and will raise in a future version. Use obj.ffill() or obj.bfill() instead.\n",
      "  data['adj_factor'] = data['adj_factor'].fillna(method='bfill')\n"
     ]
    },
    {
     "name": "stdout",
     "output_type": "stream",
     "text": [
      "149/800 000538.SZ → 1395 行\n"
     ]
    },
    {
     "name": "stderr",
     "output_type": "stream",
     "text": [
      "/Users/lizongze/Quantitative Trading/.venv/lib/python3.12/site-packages/tushare/pro/data_pro.py:130: FutureWarning: Series.fillna with 'method' is deprecated and will raise in a future version. Use obj.ffill() or obj.bfill() instead.\n",
      "  data['adj_factor'] = data['adj_factor'].fillna(method='bfill')\n"
     ]
    },
    {
     "name": "stdout",
     "output_type": "stream",
     "text": [
      "150/800 002074.SZ → 1388 行\n"
     ]
    },
    {
     "name": "stderr",
     "output_type": "stream",
     "text": [
      "/Users/lizongze/Quantitative Trading/.venv/lib/python3.12/site-packages/tushare/pro/data_pro.py:130: FutureWarning: Series.fillna with 'method' is deprecated and will raise in a future version. Use obj.ffill() or obj.bfill() instead.\n",
      "  data['adj_factor'] = data['adj_factor'].fillna(method='bfill')\n"
     ]
    },
    {
     "name": "stdout",
     "output_type": "stream",
     "text": [
      "151/800 300207.SZ → 1395 行\n"
     ]
    },
    {
     "name": "stderr",
     "output_type": "stream",
     "text": [
      "/Users/lizongze/Quantitative Trading/.venv/lib/python3.12/site-packages/tushare/pro/data_pro.py:130: FutureWarning: Series.fillna with 'method' is deprecated and will raise in a future version. Use obj.ffill() or obj.bfill() instead.\n",
      "  data['adj_factor'] = data['adj_factor'].fillna(method='bfill')\n"
     ]
    },
    {
     "name": "stdout",
     "output_type": "stream",
     "text": [
      "152/800 600988.SH → 1395 行\n"
     ]
    },
    {
     "name": "stderr",
     "output_type": "stream",
     "text": [
      "/Users/lizongze/Quantitative Trading/.venv/lib/python3.12/site-packages/tushare/pro/data_pro.py:130: FutureWarning: Series.fillna with 'method' is deprecated and will raise in a future version. Use obj.ffill() or obj.bfill() instead.\n",
      "  data['adj_factor'] = data['adj_factor'].fillna(method='bfill')\n"
     ]
    },
    {
     "name": "stdout",
     "output_type": "stream",
     "text": [
      "153/800 002466.SZ → 1395 行\n"
     ]
    },
    {
     "name": "stderr",
     "output_type": "stream",
     "text": [
      "/Users/lizongze/Quantitative Trading/.venv/lib/python3.12/site-packages/tushare/pro/data_pro.py:130: FutureWarning: Series.fillna with 'method' is deprecated and will raise in a future version. Use obj.ffill() or obj.bfill() instead.\n",
      "  data['adj_factor'] = data['adj_factor'].fillna(method='bfill')\n"
     ]
    },
    {
     "name": "stdout",
     "output_type": "stream",
     "text": [
      "154/800 002156.SZ → 1395 行\n"
     ]
    },
    {
     "name": "stderr",
     "output_type": "stream",
     "text": [
      "/Users/lizongze/Quantitative Trading/.venv/lib/python3.12/site-packages/tushare/pro/data_pro.py:130: FutureWarning: Series.fillna with 'method' is deprecated and will raise in a future version. Use obj.ffill() or obj.bfill() instead.\n",
      "  data['adj_factor'] = data['adj_factor'].fillna(method='bfill')\n"
     ]
    },
    {
     "name": "stdout",
     "output_type": "stream",
     "text": [
      "155/800 002517.SZ → 1395 行\n"
     ]
    },
    {
     "name": "stderr",
     "output_type": "stream",
     "text": [
      "/Users/lizongze/Quantitative Trading/.venv/lib/python3.12/site-packages/tushare/pro/data_pro.py:130: FutureWarning: Series.fillna with 'method' is deprecated and will raise in a future version. Use obj.ffill() or obj.bfill() instead.\n",
      "  data['adj_factor'] = data['adj_factor'].fillna(method='bfill')\n"
     ]
    },
    {
     "name": "stdout",
     "output_type": "stream",
     "text": [
      "156/800 601669.SH → 1395 行\n"
     ]
    },
    {
     "name": "stderr",
     "output_type": "stream",
     "text": [
      "/Users/lizongze/Quantitative Trading/.venv/lib/python3.12/site-packages/tushare/pro/data_pro.py:130: FutureWarning: Series.fillna with 'method' is deprecated and will raise in a future version. Use obj.ffill() or obj.bfill() instead.\n",
      "  data['adj_factor'] = data['adj_factor'].fillna(method='bfill')\n"
     ]
    },
    {
     "name": "stdout",
     "output_type": "stream",
     "text": [
      "157/800 300339.SZ → 1390 行\n"
     ]
    },
    {
     "name": "stderr",
     "output_type": "stream",
     "text": [
      "/Users/lizongze/Quantitative Trading/.venv/lib/python3.12/site-packages/tushare/pro/data_pro.py:130: FutureWarning: Series.fillna with 'method' is deprecated and will raise in a future version. Use obj.ffill() or obj.bfill() instead.\n",
      "  data['adj_factor'] = data['adj_factor'].fillna(method='bfill')\n"
     ]
    },
    {
     "name": "stdout",
     "output_type": "stream",
     "text": [
      "158/800 000166.SZ → 1395 行\n"
     ]
    },
    {
     "name": "stderr",
     "output_type": "stream",
     "text": [
      "/Users/lizongze/Quantitative Trading/.venv/lib/python3.12/site-packages/tushare/pro/data_pro.py:130: FutureWarning: Series.fillna with 'method' is deprecated and will raise in a future version. Use obj.ffill() or obj.bfill() instead.\n",
      "  data['adj_factor'] = data['adj_factor'].fillna(method='bfill')\n"
     ]
    },
    {
     "name": "stdout",
     "output_type": "stream",
     "text": [
      "159/800 601825.SH → 999 行\n"
     ]
    },
    {
     "name": "stderr",
     "output_type": "stream",
     "text": [
      "/Users/lizongze/Quantitative Trading/.venv/lib/python3.12/site-packages/tushare/pro/data_pro.py:130: FutureWarning: Series.fillna with 'method' is deprecated and will raise in a future version. Use obj.ffill() or obj.bfill() instead.\n",
      "  data['adj_factor'] = data['adj_factor'].fillna(method='bfill')\n"
     ]
    },
    {
     "name": "stdout",
     "output_type": "stream",
     "text": [
      "160/800 603893.SH → 1375 行\n"
     ]
    },
    {
     "name": "stderr",
     "output_type": "stream",
     "text": [
      "/Users/lizongze/Quantitative Trading/.venv/lib/python3.12/site-packages/tushare/pro/data_pro.py:130: FutureWarning: Series.fillna with 'method' is deprecated and will raise in a future version. Use obj.ffill() or obj.bfill() instead.\n",
      "  data['adj_factor'] = data['adj_factor'].fillna(method='bfill')\n"
     ]
    },
    {
     "name": "stdout",
     "output_type": "stream",
     "text": [
      "161/800 000002.SZ → 1395 行\n"
     ]
    },
    {
     "name": "stderr",
     "output_type": "stream",
     "text": [
      "/Users/lizongze/Quantitative Trading/.venv/lib/python3.12/site-packages/tushare/pro/data_pro.py:130: FutureWarning: Series.fillna with 'method' is deprecated and will raise in a future version. Use obj.ffill() or obj.bfill() instead.\n",
      "  data['adj_factor'] = data['adj_factor'].fillna(method='bfill')\n"
     ]
    },
    {
     "name": "stdout",
     "output_type": "stream",
     "text": [
      "162/800 002837.SZ → 1395 行\n"
     ]
    },
    {
     "name": "stderr",
     "output_type": "stream",
     "text": [
      "/Users/lizongze/Quantitative Trading/.venv/lib/python3.12/site-packages/tushare/pro/data_pro.py:130: FutureWarning: Series.fillna with 'method' is deprecated and will raise in a future version. Use obj.ffill() or obj.bfill() instead.\n",
      "  data['adj_factor'] = data['adj_factor'].fillna(method='bfill')\n"
     ]
    },
    {
     "name": "stdout",
     "output_type": "stream",
     "text": [
      "163/800 002600.SZ → 1395 行\n"
     ]
    },
    {
     "name": "stderr",
     "output_type": "stream",
     "text": [
      "/Users/lizongze/Quantitative Trading/.venv/lib/python3.12/site-packages/tushare/pro/data_pro.py:130: FutureWarning: Series.fillna with 'method' is deprecated and will raise in a future version. Use obj.ffill() or obj.bfill() instead.\n",
      "  data['adj_factor'] = data['adj_factor'].fillna(method='bfill')\n"
     ]
    },
    {
     "name": "stdout",
     "output_type": "stream",
     "text": [
      "164/800 000408.SZ → 1388 行\n"
     ]
    },
    {
     "name": "stderr",
     "output_type": "stream",
     "text": [
      "/Users/lizongze/Quantitative Trading/.venv/lib/python3.12/site-packages/tushare/pro/data_pro.py:130: FutureWarning: Series.fillna with 'method' is deprecated and will raise in a future version. Use obj.ffill() or obj.bfill() instead.\n",
      "  data['adj_factor'] = data['adj_factor'].fillna(method='bfill')\n"
     ]
    },
    {
     "name": "stdout",
     "output_type": "stream",
     "text": [
      "165/800 600487.SH → 1395 行\n"
     ]
    },
    {
     "name": "stderr",
     "output_type": "stream",
     "text": [
      "/Users/lizongze/Quantitative Trading/.venv/lib/python3.12/site-packages/tushare/pro/data_pro.py:130: FutureWarning: Series.fillna with 'method' is deprecated and will raise in a future version. Use obj.ffill() or obj.bfill() instead.\n",
      "  data['adj_factor'] = data['adj_factor'].fillna(method='bfill')\n"
     ]
    },
    {
     "name": "stdout",
     "output_type": "stream",
     "text": [
      "166/800 601377.SH → 1389 行\n"
     ]
    },
    {
     "name": "stderr",
     "output_type": "stream",
     "text": [
      "/Users/lizongze/Quantitative Trading/.venv/lib/python3.12/site-packages/tushare/pro/data_pro.py:130: FutureWarning: Series.fillna with 'method' is deprecated and will raise in a future version. Use obj.ffill() or obj.bfill() instead.\n",
      "  data['adj_factor'] = data['adj_factor'].fillna(method='bfill')\n"
     ]
    },
    {
     "name": "stdout",
     "output_type": "stream",
     "text": [
      "167/800 601916.SH → 1389 行\n"
     ]
    },
    {
     "name": "stderr",
     "output_type": "stream",
     "text": [
      "/Users/lizongze/Quantitative Trading/.venv/lib/python3.12/site-packages/tushare/pro/data_pro.py:130: FutureWarning: Series.fillna with 'method' is deprecated and will raise in a future version. Use obj.ffill() or obj.bfill() instead.\n",
      "  data['adj_factor'] = data['adj_factor'].fillna(method='bfill')\n"
     ]
    },
    {
     "name": "stdout",
     "output_type": "stream",
     "text": [
      "168/800 002195.SZ → 1395 行\n"
     ]
    },
    {
     "name": "stderr",
     "output_type": "stream",
     "text": [
      "/Users/lizongze/Quantitative Trading/.venv/lib/python3.12/site-packages/tushare/pro/data_pro.py:130: FutureWarning: Series.fillna with 'method' is deprecated and will raise in a future version. Use obj.ffill() or obj.bfill() instead.\n",
      "  data['adj_factor'] = data['adj_factor'].fillna(method='bfill')\n"
     ]
    },
    {
     "name": "stdout",
     "output_type": "stream",
     "text": [
      "169/800 600143.SH → 1395 行\n"
     ]
    },
    {
     "name": "stderr",
     "output_type": "stream",
     "text": [
      "/Users/lizongze/Quantitative Trading/.venv/lib/python3.12/site-packages/tushare/pro/data_pro.py:130: FutureWarning: Series.fillna with 'method' is deprecated and will raise in a future version. Use obj.ffill() or obj.bfill() instead.\n",
      "  data['adj_factor'] = data['adj_factor'].fillna(method='bfill')\n"
     ]
    },
    {
     "name": "stdout",
     "output_type": "stream",
     "text": [
      "170/800 600795.SH → 1395 行\n"
     ]
    },
    {
     "name": "stderr",
     "output_type": "stream",
     "text": [
      "/Users/lizongze/Quantitative Trading/.venv/lib/python3.12/site-packages/tushare/pro/data_pro.py:130: FutureWarning: Series.fillna with 'method' is deprecated and will raise in a future version. Use obj.ffill() or obj.bfill() instead.\n",
      "  data['adj_factor'] = data['adj_factor'].fillna(method='bfill')\n"
     ]
    },
    {
     "name": "stdout",
     "output_type": "stream",
     "text": [
      "171/800 300604.SZ → 1385 行\n"
     ]
    },
    {
     "name": "stderr",
     "output_type": "stream",
     "text": [
      "/Users/lizongze/Quantitative Trading/.venv/lib/python3.12/site-packages/tushare/pro/data_pro.py:130: FutureWarning: Series.fillna with 'method' is deprecated and will raise in a future version. Use obj.ffill() or obj.bfill() instead.\n",
      "  data['adj_factor'] = data['adj_factor'].fillna(method='bfill')\n"
     ]
    },
    {
     "name": "stdout",
     "output_type": "stream",
     "text": [
      "172/800 300857.SZ → 1260 行\n"
     ]
    },
    {
     "name": "stderr",
     "output_type": "stream",
     "text": [
      "/Users/lizongze/Quantitative Trading/.venv/lib/python3.12/site-packages/tushare/pro/data_pro.py:130: FutureWarning: Series.fillna with 'method' is deprecated and will raise in a future version. Use obj.ffill() or obj.bfill() instead.\n",
      "  data['adj_factor'] = data['adj_factor'].fillna(method='bfill')\n"
     ]
    },
    {
     "name": "stdout",
     "output_type": "stream",
     "text": [
      "173/800 601838.SH → 1395 行\n"
     ]
    },
    {
     "name": "stderr",
     "output_type": "stream",
     "text": [
      "/Users/lizongze/Quantitative Trading/.venv/lib/python3.12/site-packages/tushare/pro/data_pro.py:130: FutureWarning: Series.fillna with 'method' is deprecated and will raise in a future version. Use obj.ffill() or obj.bfill() instead.\n",
      "  data['adj_factor'] = data['adj_factor'].fillna(method='bfill')\n"
     ]
    },
    {
     "name": "stdout",
     "output_type": "stream",
     "text": [
      "174/800 688169.SH → 1365 行\n"
     ]
    },
    {
     "name": "stderr",
     "output_type": "stream",
     "text": [
      "/Users/lizongze/Quantitative Trading/.venv/lib/python3.12/site-packages/tushare/pro/data_pro.py:130: FutureWarning: Series.fillna with 'method' is deprecated and will raise in a future version. Use obj.ffill() or obj.bfill() instead.\n",
      "  data['adj_factor'] = data['adj_factor'].fillna(method='bfill')\n"
     ]
    },
    {
     "name": "stdout",
     "output_type": "stream",
     "text": [
      "175/800 688036.SH → 1395 行\n"
     ]
    },
    {
     "name": "stderr",
     "output_type": "stream",
     "text": [
      "/Users/lizongze/Quantitative Trading/.venv/lib/python3.12/site-packages/tushare/pro/data_pro.py:130: FutureWarning: Series.fillna with 'method' is deprecated and will raise in a future version. Use obj.ffill() or obj.bfill() instead.\n",
      "  data['adj_factor'] = data['adj_factor'].fillna(method='bfill')\n"
     ]
    },
    {
     "name": "stdout",
     "output_type": "stream",
     "text": [
      "176/800 002340.SZ → 1395 行\n"
     ]
    },
    {
     "name": "stderr",
     "output_type": "stream",
     "text": [
      "/Users/lizongze/Quantitative Trading/.venv/lib/python3.12/site-packages/tushare/pro/data_pro.py:130: FutureWarning: Series.fillna with 'method' is deprecated and will raise in a future version. Use obj.ffill() or obj.bfill() instead.\n",
      "  data['adj_factor'] = data['adj_factor'].fillna(method='bfill')\n"
     ]
    },
    {
     "name": "stdout",
     "output_type": "stream",
     "text": [
      "177/800 601995.SH → 1196 行\n"
     ]
    },
    {
     "name": "stderr",
     "output_type": "stream",
     "text": [
      "/Users/lizongze/Quantitative Trading/.venv/lib/python3.12/site-packages/tushare/pro/data_pro.py:130: FutureWarning: Series.fillna with 'method' is deprecated and will raise in a future version. Use obj.ffill() or obj.bfill() instead.\n",
      "  data['adj_factor'] = data['adj_factor'].fillna(method='bfill')\n"
     ]
    },
    {
     "name": "stdout",
     "output_type": "stream",
     "text": [
      "178/800 000807.SZ → 1395 行\n"
     ]
    },
    {
     "name": "stderr",
     "output_type": "stream",
     "text": [
      "/Users/lizongze/Quantitative Trading/.venv/lib/python3.12/site-packages/tushare/pro/data_pro.py:130: FutureWarning: Series.fillna with 'method' is deprecated and will raise in a future version. Use obj.ffill() or obj.bfill() instead.\n",
      "  data['adj_factor'] = data['adj_factor'].fillna(method='bfill')\n"
     ]
    },
    {
     "name": "stdout",
     "output_type": "stream",
     "text": [
      "179/800 300418.SZ → 1395 行\n"
     ]
    },
    {
     "name": "stderr",
     "output_type": "stream",
     "text": [
      "/Users/lizongze/Quantitative Trading/.venv/lib/python3.12/site-packages/tushare/pro/data_pro.py:130: FutureWarning: Series.fillna with 'method' is deprecated and will raise in a future version. Use obj.ffill() or obj.bfill() instead.\n",
      "  data['adj_factor'] = data['adj_factor'].fillna(method='bfill')\n"
     ]
    },
    {
     "name": "stdout",
     "output_type": "stream",
     "text": [
      "180/800 600895.SH → 1395 行\n"
     ]
    },
    {
     "name": "stderr",
     "output_type": "stream",
     "text": [
      "/Users/lizongze/Quantitative Trading/.venv/lib/python3.12/site-packages/tushare/pro/data_pro.py:130: FutureWarning: Series.fillna with 'method' is deprecated and will raise in a future version. Use obj.ffill() or obj.bfill() instead.\n",
      "  data['adj_factor'] = data['adj_factor'].fillna(method='bfill')\n"
     ]
    },
    {
     "name": "stdout",
     "output_type": "stream",
     "text": [
      "181/800 000661.SZ → 1395 行\n"
     ]
    },
    {
     "name": "stderr",
     "output_type": "stream",
     "text": [
      "/Users/lizongze/Quantitative Trading/.venv/lib/python3.12/site-packages/tushare/pro/data_pro.py:130: FutureWarning: Series.fillna with 'method' is deprecated and will raise in a future version. Use obj.ffill() or obj.bfill() instead.\n",
      "  data['adj_factor'] = data['adj_factor'].fillna(method='bfill')\n"
     ]
    },
    {
     "name": "stdout",
     "output_type": "stream",
     "text": [
      "182/800 688126.SH → 1315 行\n"
     ]
    },
    {
     "name": "stderr",
     "output_type": "stream",
     "text": [
      "/Users/lizongze/Quantitative Trading/.venv/lib/python3.12/site-packages/tushare/pro/data_pro.py:130: FutureWarning: Series.fillna with 'method' is deprecated and will raise in a future version. Use obj.ffill() or obj.bfill() instead.\n",
      "  data['adj_factor'] = data['adj_factor'].fillna(method='bfill')\n"
     ]
    },
    {
     "name": "stdout",
     "output_type": "stream",
     "text": [
      "183/800 600015.SH → 1395 行\n"
     ]
    },
    {
     "name": "stderr",
     "output_type": "stream",
     "text": [
      "/Users/lizongze/Quantitative Trading/.venv/lib/python3.12/site-packages/tushare/pro/data_pro.py:130: FutureWarning: Series.fillna with 'method' is deprecated and will raise in a future version. Use obj.ffill() or obj.bfill() instead.\n",
      "  data['adj_factor'] = data['adj_factor'].fillna(method='bfill')\n"
     ]
    },
    {
     "name": "stdout",
     "output_type": "stream",
     "text": [
      "184/800 002920.SZ → 1395 行\n"
     ]
    },
    {
     "name": "stderr",
     "output_type": "stream",
     "text": [
      "/Users/lizongze/Quantitative Trading/.venv/lib/python3.12/site-packages/tushare/pro/data_pro.py:130: FutureWarning: Series.fillna with 'method' is deprecated and will raise in a future version. Use obj.ffill() or obj.bfill() instead.\n",
      "  data['adj_factor'] = data['adj_factor'].fillna(method='bfill')\n"
     ]
    },
    {
     "name": "stdout",
     "output_type": "stream",
     "text": [
      "185/800 600176.SH → 1385 行\n"
     ]
    },
    {
     "name": "stderr",
     "output_type": "stream",
     "text": [
      "/Users/lizongze/Quantitative Trading/.venv/lib/python3.12/site-packages/tushare/pro/data_pro.py:130: FutureWarning: Series.fillna with 'method' is deprecated and will raise in a future version. Use obj.ffill() or obj.bfill() instead.\n",
      "  data['adj_factor'] = data['adj_factor'].fillna(method='bfill')\n"
     ]
    },
    {
     "name": "stdout",
     "output_type": "stream",
     "text": [
      "186/800 002736.SZ → 1385 行\n"
     ]
    },
    {
     "name": "stderr",
     "output_type": "stream",
     "text": [
      "/Users/lizongze/Quantitative Trading/.venv/lib/python3.12/site-packages/tushare/pro/data_pro.py:130: FutureWarning: Series.fillna with 'method' is deprecated and will raise in a future version. Use obj.ffill() or obj.bfill() instead.\n",
      "  data['adj_factor'] = data['adj_factor'].fillna(method='bfill')\n"
     ]
    },
    {
     "name": "stdout",
     "output_type": "stream",
     "text": [
      "187/800 002304.SZ → 1395 行\n"
     ]
    },
    {
     "name": "stderr",
     "output_type": "stream",
     "text": [
      "/Users/lizongze/Quantitative Trading/.venv/lib/python3.12/site-packages/tushare/pro/data_pro.py:130: FutureWarning: Series.fillna with 'method' is deprecated and will raise in a future version. Use obj.ffill() or obj.bfill() instead.\n",
      "  data['adj_factor'] = data['adj_factor'].fillna(method='bfill')\n"
     ]
    },
    {
     "name": "stdout",
     "output_type": "stream",
     "text": [
      "188/800 000630.SZ → 1385 行\n"
     ]
    },
    {
     "name": "stderr",
     "output_type": "stream",
     "text": [
      "/Users/lizongze/Quantitative Trading/.venv/lib/python3.12/site-packages/tushare/pro/data_pro.py:130: FutureWarning: Series.fillna with 'method' is deprecated and will raise in a future version. Use obj.ffill() or obj.bfill() instead.\n",
      "  data['adj_factor'] = data['adj_factor'].fillna(method='bfill')\n"
     ]
    },
    {
     "name": "stdout",
     "output_type": "stream",
     "text": [
      "189/800 000426.SZ → 1395 行\n"
     ]
    },
    {
     "name": "stderr",
     "output_type": "stream",
     "text": [
      "/Users/lizongze/Quantitative Trading/.venv/lib/python3.12/site-packages/tushare/pro/data_pro.py:130: FutureWarning: Series.fillna with 'method' is deprecated and will raise in a future version. Use obj.ffill() or obj.bfill() instead.\n",
      "  data['adj_factor'] = data['adj_factor'].fillna(method='bfill')\n"
     ]
    },
    {
     "name": "stdout",
     "output_type": "stream",
     "text": [
      "190/800 002422.SZ → 1395 行\n"
     ]
    },
    {
     "name": "stderr",
     "output_type": "stream",
     "text": [
      "/Users/lizongze/Quantitative Trading/.venv/lib/python3.12/site-packages/tushare/pro/data_pro.py:130: FutureWarning: Series.fillna with 'method' is deprecated and will raise in a future version. Use obj.ffill() or obj.bfill() instead.\n",
      "  data['adj_factor'] = data['adj_factor'].fillna(method='bfill')\n"
     ]
    },
    {
     "name": "stdout",
     "output_type": "stream",
     "text": [
      "191/800 601077.SH → 1395 行\n"
     ]
    },
    {
     "name": "stderr",
     "output_type": "stream",
     "text": [
      "/Users/lizongze/Quantitative Trading/.venv/lib/python3.12/site-packages/tushare/pro/data_pro.py:130: FutureWarning: Series.fillna with 'method' is deprecated and will raise in a future version. Use obj.ffill() or obj.bfill() instead.\n",
      "  data['adj_factor'] = data['adj_factor'].fillna(method='bfill')\n"
     ]
    },
    {
     "name": "stdout",
     "output_type": "stream",
     "text": [
      "192/800 688120.SH → 809 行\n"
     ]
    },
    {
     "name": "stderr",
     "output_type": "stream",
     "text": [
      "/Users/lizongze/Quantitative Trading/.venv/lib/python3.12/site-packages/tushare/pro/data_pro.py:130: FutureWarning: Series.fillna with 'method' is deprecated and will raise in a future version. Use obj.ffill() or obj.bfill() instead.\n",
      "  data['adj_factor'] = data['adj_factor'].fillna(method='bfill')\n"
     ]
    },
    {
     "name": "stdout",
     "output_type": "stream",
     "text": [
      "193/800 002236.SZ → 1395 行\n"
     ]
    },
    {
     "name": "stderr",
     "output_type": "stream",
     "text": [
      "/Users/lizongze/Quantitative Trading/.venv/lib/python3.12/site-packages/tushare/pro/data_pro.py:130: FutureWarning: Series.fillna with 'method' is deprecated and will raise in a future version. Use obj.ffill() or obj.bfill() instead.\n",
      "  data['adj_factor'] = data['adj_factor'].fillna(method='bfill')\n"
     ]
    },
    {
     "name": "stdout",
     "output_type": "stream",
     "text": [
      "194/800 601360.SH → 1395 行\n"
     ]
    },
    {
     "name": "stderr",
     "output_type": "stream",
     "text": [
      "/Users/lizongze/Quantitative Trading/.venv/lib/python3.12/site-packages/tushare/pro/data_pro.py:130: FutureWarning: Series.fillna with 'method' is deprecated and will raise in a future version. Use obj.ffill() or obj.bfill() instead.\n",
      "  data['adj_factor'] = data['adj_factor'].fillna(method='bfill')\n"
     ]
    },
    {
     "name": "stdout",
     "output_type": "stream",
     "text": [
      "195/800 300115.SZ → 1395 行\n"
     ]
    },
    {
     "name": "stderr",
     "output_type": "stream",
     "text": [
      "/Users/lizongze/Quantitative Trading/.venv/lib/python3.12/site-packages/tushare/pro/data_pro.py:130: FutureWarning: Series.fillna with 'method' is deprecated and will raise in a future version. Use obj.ffill() or obj.bfill() instead.\n",
      "  data['adj_factor'] = data['adj_factor'].fillna(method='bfill')\n"
     ]
    },
    {
     "name": "stdout",
     "output_type": "stream",
     "text": [
      "196/800 000157.SZ → 1395 行\n"
     ]
    },
    {
     "name": "stderr",
     "output_type": "stream",
     "text": [
      "/Users/lizongze/Quantitative Trading/.venv/lib/python3.12/site-packages/tushare/pro/data_pro.py:130: FutureWarning: Series.fillna with 'method' is deprecated and will raise in a future version. Use obj.ffill() or obj.bfill() instead.\n",
      "  data['adj_factor'] = data['adj_factor'].fillna(method='bfill')\n"
     ]
    },
    {
     "name": "stdout",
     "output_type": "stream",
     "text": [
      "197/800 600009.SH → 1384 行\n"
     ]
    },
    {
     "name": "stderr",
     "output_type": "stream",
     "text": [
      "/Users/lizongze/Quantitative Trading/.venv/lib/python3.12/site-packages/tushare/pro/data_pro.py:130: FutureWarning: Series.fillna with 'method' is deprecated and will raise in a future version. Use obj.ffill() or obj.bfill() instead.\n",
      "  data['adj_factor'] = data['adj_factor'].fillna(method='bfill')\n"
     ]
    },
    {
     "name": "stdout",
     "output_type": "stream",
     "text": [
      "198/800 600426.SH → 1395 行\n"
     ]
    },
    {
     "name": "stderr",
     "output_type": "stream",
     "text": [
      "/Users/lizongze/Quantitative Trading/.venv/lib/python3.12/site-packages/tushare/pro/data_pro.py:130: FutureWarning: Series.fillna with 'method' is deprecated and will raise in a future version. Use obj.ffill() or obj.bfill() instead.\n",
      "  data['adj_factor'] = data['adj_factor'].fillna(method='bfill')\n"
     ]
    },
    {
     "name": "stdout",
     "output_type": "stream",
     "text": [
      "199/800 601555.SH → 1383 行\n"
     ]
    },
    {
     "name": "stderr",
     "output_type": "stream",
     "text": [
      "/Users/lizongze/Quantitative Trading/.venv/lib/python3.12/site-packages/tushare/pro/data_pro.py:130: FutureWarning: Series.fillna with 'method' is deprecated and will raise in a future version. Use obj.ffill() or obj.bfill() instead.\n",
      "  data['adj_factor'] = data['adj_factor'].fillna(method='bfill')\n"
     ]
    },
    {
     "name": "stdout",
     "output_type": "stream",
     "text": [
      "200/800 002938.SZ → 1395 行\n"
     ]
    },
    {
     "name": "stderr",
     "output_type": "stream",
     "text": [
      "/Users/lizongze/Quantitative Trading/.venv/lib/python3.12/site-packages/tushare/pro/data_pro.py:130: FutureWarning: Series.fillna with 'method' is deprecated and will raise in a future version. Use obj.ffill() or obj.bfill() instead.\n",
      "  data['adj_factor'] = data['adj_factor'].fillna(method='bfill')\n"
     ]
    },
    {
     "name": "stdout",
     "output_type": "stream",
     "text": [
      "201/800 600989.SH → 1395 行\n"
     ]
    },
    {
     "name": "stderr",
     "output_type": "stream",
     "text": [
      "/Users/lizongze/Quantitative Trading/.venv/lib/python3.12/site-packages/tushare/pro/data_pro.py:130: FutureWarning: Series.fillna with 'method' is deprecated and will raise in a future version. Use obj.ffill() or obj.bfill() instead.\n",
      "  data['adj_factor'] = data['adj_factor'].fillna(method='bfill')\n"
     ]
    },
    {
     "name": "stdout",
     "output_type": "stream",
     "text": [
      "202/800 600839.SH → 1395 行\n"
     ]
    },
    {
     "name": "stderr",
     "output_type": "stream",
     "text": [
      "/Users/lizongze/Quantitative Trading/.venv/lib/python3.12/site-packages/tushare/pro/data_pro.py:130: FutureWarning: Series.fillna with 'method' is deprecated and will raise in a future version. Use obj.ffill() or obj.bfill() instead.\n",
      "  data['adj_factor'] = data['adj_factor'].fillna(method='bfill')\n"
     ]
    },
    {
     "name": "stdout",
     "output_type": "stream",
     "text": [
      "203/800 601881.SH → 1395 行\n"
     ]
    },
    {
     "name": "stderr",
     "output_type": "stream",
     "text": [
      "/Users/lizongze/Quantitative Trading/.venv/lib/python3.12/site-packages/tushare/pro/data_pro.py:130: FutureWarning: Series.fillna with 'method' is deprecated and will raise in a future version. Use obj.ffill() or obj.bfill() instead.\n",
      "  data['adj_factor'] = data['adj_factor'].fillna(method='bfill')\n"
     ]
    },
    {
     "name": "stdout",
     "output_type": "stream",
     "text": [
      "204/800 601998.SH → 1395 行\n"
     ]
    },
    {
     "name": "stderr",
     "output_type": "stream",
     "text": [
      "/Users/lizongze/Quantitative Trading/.venv/lib/python3.12/site-packages/tushare/pro/data_pro.py:130: FutureWarning: Series.fillna with 'method' is deprecated and will raise in a future version. Use obj.ffill() or obj.bfill() instead.\n",
      "  data['adj_factor'] = data['adj_factor'].fillna(method='bfill')\n"
     ]
    },
    {
     "name": "stdout",
     "output_type": "stream",
     "text": [
      "205/800 689009.SH → 1198 行\n"
     ]
    },
    {
     "name": "stderr",
     "output_type": "stream",
     "text": [
      "/Users/lizongze/Quantitative Trading/.venv/lib/python3.12/site-packages/tushare/pro/data_pro.py:130: FutureWarning: Series.fillna with 'method' is deprecated and will raise in a future version. Use obj.ffill() or obj.bfill() instead.\n",
      "  data['adj_factor'] = data['adj_factor'].fillna(method='bfill')\n"
     ]
    },
    {
     "name": "stdout",
     "output_type": "stream",
     "text": [
      "206/800 000831.SZ → 1395 行\n"
     ]
    },
    {
     "name": "stderr",
     "output_type": "stream",
     "text": [
      "/Users/lizongze/Quantitative Trading/.venv/lib/python3.12/site-packages/tushare/pro/data_pro.py:130: FutureWarning: Series.fillna with 'method' is deprecated and will raise in a future version. Use obj.ffill() or obj.bfill() instead.\n",
      "  data['adj_factor'] = data['adj_factor'].fillna(method='bfill')\n"
     ]
    },
    {
     "name": "stdout",
     "output_type": "stream",
     "text": [
      "207/800 601058.SH → 1395 行\n"
     ]
    },
    {
     "name": "stderr",
     "output_type": "stream",
     "text": [
      "/Users/lizongze/Quantitative Trading/.venv/lib/python3.12/site-packages/tushare/pro/data_pro.py:130: FutureWarning: Series.fillna with 'method' is deprecated and will raise in a future version. Use obj.ffill() or obj.bfill() instead.\n",
      "  data['adj_factor'] = data['adj_factor'].fillna(method='bfill')\n"
     ]
    },
    {
     "name": "stdout",
     "output_type": "stream",
     "text": [
      "208/800 000975.SZ → 1390 行\n"
     ]
    },
    {
     "name": "stderr",
     "output_type": "stream",
     "text": [
      "/Users/lizongze/Quantitative Trading/.venv/lib/python3.12/site-packages/tushare/pro/data_pro.py:130: FutureWarning: Series.fillna with 'method' is deprecated and will raise in a future version. Use obj.ffill() or obj.bfill() instead.\n",
      "  data['adj_factor'] = data['adj_factor'].fillna(method='bfill')\n"
     ]
    },
    {
     "name": "stdout",
     "output_type": "stream",
     "text": [
      "209/800 600196.SH → 1395 行\n"
     ]
    },
    {
     "name": "stderr",
     "output_type": "stream",
     "text": [
      "/Users/lizongze/Quantitative Trading/.venv/lib/python3.12/site-packages/tushare/pro/data_pro.py:130: FutureWarning: Series.fillna with 'method' is deprecated and will raise in a future version. Use obj.ffill() or obj.bfill() instead.\n",
      "  data['adj_factor'] = data['adj_factor'].fillna(method='bfill')\n"
     ]
    },
    {
     "name": "stdout",
     "output_type": "stream",
     "text": [
      "210/800 601162.SH → 1389 行\n"
     ]
    },
    {
     "name": "stderr",
     "output_type": "stream",
     "text": [
      "/Users/lizongze/Quantitative Trading/.venv/lib/python3.12/site-packages/tushare/pro/data_pro.py:130: FutureWarning: Series.fillna with 'method' is deprecated and will raise in a future version. Use obj.ffill() or obj.bfill() instead.\n",
      "  data['adj_factor'] = data['adj_factor'].fillna(method='bfill')\n"
     ]
    },
    {
     "name": "stdout",
     "output_type": "stream",
     "text": [
      "211/800 000768.SZ → 1395 行\n"
     ]
    },
    {
     "name": "stderr",
     "output_type": "stream",
     "text": [
      "/Users/lizongze/Quantitative Trading/.venv/lib/python3.12/site-packages/tushare/pro/data_pro.py:130: FutureWarning: Series.fillna with 'method' is deprecated and will raise in a future version. Use obj.ffill() or obj.bfill() instead.\n",
      "  data['adj_factor'] = data['adj_factor'].fillna(method='bfill')\n"
     ]
    },
    {
     "name": "stdout",
     "output_type": "stream",
     "text": [
      "212/800 688099.SH → 1395 行\n"
     ]
    },
    {
     "name": "stderr",
     "output_type": "stream",
     "text": [
      "/Users/lizongze/Quantitative Trading/.venv/lib/python3.12/site-packages/tushare/pro/data_pro.py:130: FutureWarning: Series.fillna with 'method' is deprecated and will raise in a future version. Use obj.ffill() or obj.bfill() instead.\n",
      "  data['adj_factor'] = data['adj_factor'].fillna(method='bfill')\n"
     ]
    },
    {
     "name": "stdout",
     "output_type": "stream",
     "text": [
      "213/800 002436.SZ → 1395 行\n"
     ]
    },
    {
     "name": "stderr",
     "output_type": "stream",
     "text": [
      "/Users/lizongze/Quantitative Trading/.venv/lib/python3.12/site-packages/tushare/pro/data_pro.py:130: FutureWarning: Series.fillna with 'method' is deprecated and will raise in a future version. Use obj.ffill() or obj.bfill() instead.\n",
      "  data['adj_factor'] = data['adj_factor'].fillna(method='bfill')\n"
     ]
    },
    {
     "name": "stdout",
     "output_type": "stream",
     "text": [
      "214/800 002850.SZ → 1395 行\n"
     ]
    },
    {
     "name": "stderr",
     "output_type": "stream",
     "text": [
      "/Users/lizongze/Quantitative Trading/.venv/lib/python3.12/site-packages/tushare/pro/data_pro.py:130: FutureWarning: Series.fillna with 'method' is deprecated and will raise in a future version. Use obj.ffill() or obj.bfill() instead.\n",
      "  data['adj_factor'] = data['adj_factor'].fillna(method='bfill')\n"
     ]
    },
    {
     "name": "stdout",
     "output_type": "stream",
     "text": [
      "215/800 600362.SH → 1395 行\n"
     ]
    },
    {
     "name": "stderr",
     "output_type": "stream",
     "text": [
      "/Users/lizongze/Quantitative Trading/.venv/lib/python3.12/site-packages/tushare/pro/data_pro.py:130: FutureWarning: Series.fillna with 'method' is deprecated and will raise in a future version. Use obj.ffill() or obj.bfill() instead.\n",
      "  data['adj_factor'] = data['adj_factor'].fillna(method='bfill')\n"
     ]
    },
    {
     "name": "stdout",
     "output_type": "stream",
     "text": [
      "216/800 001979.SZ → 1379 行\n"
     ]
    },
    {
     "name": "stderr",
     "output_type": "stream",
     "text": [
      "/Users/lizongze/Quantitative Trading/.venv/lib/python3.12/site-packages/tushare/pro/data_pro.py:130: FutureWarning: Series.fillna with 'method' is deprecated and will raise in a future version. Use obj.ffill() or obj.bfill() instead.\n",
      "  data['adj_factor'] = data['adj_factor'].fillna(method='bfill')\n"
     ]
    },
    {
     "name": "stdout",
     "output_type": "stream",
     "text": [
      "217/800 600460.SH → 1384 行\n"
     ]
    },
    {
     "name": "stderr",
     "output_type": "stream",
     "text": [
      "/Users/lizongze/Quantitative Trading/.venv/lib/python3.12/site-packages/tushare/pro/data_pro.py:130: FutureWarning: Series.fillna with 'method' is deprecated and will raise in a future version. Use obj.ffill() or obj.bfill() instead.\n",
      "  data['adj_factor'] = data['adj_factor'].fillna(method='bfill')\n"
     ]
    },
    {
     "name": "stdout",
     "output_type": "stream",
     "text": [
      "218/800 002001.SZ → 1395 行\n"
     ]
    },
    {
     "name": "stderr",
     "output_type": "stream",
     "text": [
      "/Users/lizongze/Quantitative Trading/.venv/lib/python3.12/site-packages/tushare/pro/data_pro.py:130: FutureWarning: Series.fillna with 'method' is deprecated and will raise in a future version. Use obj.ffill() or obj.bfill() instead.\n",
      "  data['adj_factor'] = data['adj_factor'].fillna(method='bfill')\n"
     ]
    },
    {
     "name": "stdout",
     "output_type": "stream",
     "text": [
      "219/800 002273.SZ → 1395 行\n"
     ]
    },
    {
     "name": "stderr",
     "output_type": "stream",
     "text": [
      "/Users/lizongze/Quantitative Trading/.venv/lib/python3.12/site-packages/tushare/pro/data_pro.py:130: FutureWarning: Series.fillna with 'method' is deprecated and will raise in a future version. Use obj.ffill() or obj.bfill() instead.\n",
      "  data['adj_factor'] = data['adj_factor'].fillna(method='bfill')\n"
     ]
    },
    {
     "name": "stdout",
     "output_type": "stream",
     "text": [
      "220/800 601788.SH → 1395 行\n"
     ]
    },
    {
     "name": "stderr",
     "output_type": "stream",
     "text": [
      "/Users/lizongze/Quantitative Trading/.venv/lib/python3.12/site-packages/tushare/pro/data_pro.py:130: FutureWarning: Series.fillna with 'method' is deprecated and will raise in a future version. Use obj.ffill() or obj.bfill() instead.\n",
      "  data['adj_factor'] = data['adj_factor'].fillna(method='bfill')\n"
     ]
    },
    {
     "name": "stdout",
     "output_type": "stream",
     "text": [
      "221/800 002966.SZ → 1395 行\n"
     ]
    },
    {
     "name": "stderr",
     "output_type": "stream",
     "text": [
      "/Users/lizongze/Quantitative Trading/.venv/lib/python3.12/site-packages/tushare/pro/data_pro.py:130: FutureWarning: Series.fillna with 'method' is deprecated and will raise in a future version. Use obj.ffill() or obj.bfill() instead.\n",
      "  data['adj_factor'] = data['adj_factor'].fillna(method='bfill')\n"
     ]
    },
    {
     "name": "stdout",
     "output_type": "stream",
     "text": [
      "222/800 601168.SH → 1395 行\n"
     ]
    },
    {
     "name": "stderr",
     "output_type": "stream",
     "text": [
      "/Users/lizongze/Quantitative Trading/.venv/lib/python3.12/site-packages/tushare/pro/data_pro.py:130: FutureWarning: Series.fillna with 'method' is deprecated and will raise in a future version. Use obj.ffill() or obj.bfill() instead.\n",
      "  data['adj_factor'] = data['adj_factor'].fillna(method='bfill')\n"
     ]
    },
    {
     "name": "stdout",
     "output_type": "stream",
     "text": [
      "223/800 002261.SZ → 1395 行\n"
     ]
    },
    {
     "name": "stderr",
     "output_type": "stream",
     "text": [
      "/Users/lizongze/Quantitative Trading/.venv/lib/python3.12/site-packages/tushare/pro/data_pro.py:130: FutureWarning: Series.fillna with 'method' is deprecated and will raise in a future version. Use obj.ffill() or obj.bfill() instead.\n",
      "  data['adj_factor'] = data['adj_factor'].fillna(method='bfill')\n"
     ]
    },
    {
     "name": "stdout",
     "output_type": "stream",
     "text": [
      "224/800 688072.SH → 840 行\n"
     ]
    },
    {
     "name": "stderr",
     "output_type": "stream",
     "text": [
      "/Users/lizongze/Quantitative Trading/.venv/lib/python3.12/site-packages/tushare/pro/data_pro.py:130: FutureWarning: Series.fillna with 'method' is deprecated and will raise in a future version. Use obj.ffill() or obj.bfill() instead.\n",
      "  data['adj_factor'] = data['adj_factor'].fillna(method='bfill')\n"
     ]
    },
    {
     "name": "stdout",
     "output_type": "stream",
     "text": [
      "225/800 601186.SH → 1395 行\n"
     ]
    },
    {
     "name": "stderr",
     "output_type": "stream",
     "text": [
      "/Users/lizongze/Quantitative Trading/.venv/lib/python3.12/site-packages/tushare/pro/data_pro.py:130: FutureWarning: Series.fillna with 'method' is deprecated and will raise in a future version. Use obj.ffill() or obj.bfill() instead.\n",
      "  data['adj_factor'] = data['adj_factor'].fillna(method='bfill')\n"
     ]
    },
    {
     "name": "stdout",
     "output_type": "stream",
     "text": [
      "226/800 000963.SZ → 1395 行\n"
     ]
    },
    {
     "name": "stderr",
     "output_type": "stream",
     "text": [
      "/Users/lizongze/Quantitative Trading/.venv/lib/python3.12/site-packages/tushare/pro/data_pro.py:130: FutureWarning: Series.fillna with 'method' is deprecated and will raise in a future version. Use obj.ffill() or obj.bfill() instead.\n",
      "  data['adj_factor'] = data['adj_factor'].fillna(method='bfill')\n"
     ]
    },
    {
     "name": "stdout",
     "output_type": "stream",
     "text": [
      "227/800 600157.SH → 1381 行\n"
     ]
    },
    {
     "name": "stderr",
     "output_type": "stream",
     "text": [
      "/Users/lizongze/Quantitative Trading/.venv/lib/python3.12/site-packages/tushare/pro/data_pro.py:130: FutureWarning: Series.fillna with 'method' is deprecated and will raise in a future version. Use obj.ffill() or obj.bfill() instead.\n",
      "  data['adj_factor'] = data['adj_factor'].fillna(method='bfill')\n"
     ]
    },
    {
     "name": "stdout",
     "output_type": "stream",
     "text": [
      "228/800 600066.SH → 1394 行\n"
     ]
    },
    {
     "name": "stderr",
     "output_type": "stream",
     "text": [
      "/Users/lizongze/Quantitative Trading/.venv/lib/python3.12/site-packages/tushare/pro/data_pro.py:130: FutureWarning: Series.fillna with 'method' is deprecated and will raise in a future version. Use obj.ffill() or obj.bfill() instead.\n",
      "  data['adj_factor'] = data['adj_factor'].fillna(method='bfill')\n"
     ]
    },
    {
     "name": "stdout",
     "output_type": "stream",
     "text": [
      "229/800 600346.SH → 1395 行\n"
     ]
    },
    {
     "name": "stderr",
     "output_type": "stream",
     "text": [
      "/Users/lizongze/Quantitative Trading/.venv/lib/python3.12/site-packages/tushare/pro/data_pro.py:130: FutureWarning: Series.fillna with 'method' is deprecated and will raise in a future version. Use obj.ffill() or obj.bfill() instead.\n",
      "  data['adj_factor'] = data['adj_factor'].fillna(method='bfill')\n"
     ]
    },
    {
     "name": "stdout",
     "output_type": "stream",
     "text": [
      "230/800 300661.SZ → 1395 行\n"
     ]
    },
    {
     "name": "stderr",
     "output_type": "stream",
     "text": [
      "/Users/lizongze/Quantitative Trading/.venv/lib/python3.12/site-packages/tushare/pro/data_pro.py:130: FutureWarning: Series.fillna with 'method' is deprecated and will raise in a future version. Use obj.ffill() or obj.bfill() instead.\n",
      "  data['adj_factor'] = data['adj_factor'].fillna(method='bfill')\n"
     ]
    },
    {
     "name": "stdout",
     "output_type": "stream",
     "text": [
      "231/800 600115.SH → 1395 行\n"
     ]
    },
    {
     "name": "stderr",
     "output_type": "stream",
     "text": [
      "/Users/lizongze/Quantitative Trading/.venv/lib/python3.12/site-packages/tushare/pro/data_pro.py:130: FutureWarning: Series.fillna with 'method' is deprecated and will raise in a future version. Use obj.ffill() or obj.bfill() instead.\n",
      "  data['adj_factor'] = data['adj_factor'].fillna(method='bfill')\n"
     ]
    },
    {
     "name": "stdout",
     "output_type": "stream",
     "text": [
      "232/800 002252.SZ → 1385 行\n"
     ]
    },
    {
     "name": "stderr",
     "output_type": "stream",
     "text": [
      "/Users/lizongze/Quantitative Trading/.venv/lib/python3.12/site-packages/tushare/pro/data_pro.py:130: FutureWarning: Series.fillna with 'method' is deprecated and will raise in a future version. Use obj.ffill() or obj.bfill() instead.\n",
      "  data['adj_factor'] = data['adj_factor'].fillna(method='bfill')\n"
     ]
    },
    {
     "name": "stdout",
     "output_type": "stream",
     "text": [
      "233/800 002738.SZ → 1395 行\n"
     ]
    },
    {
     "name": "stderr",
     "output_type": "stream",
     "text": [
      "/Users/lizongze/Quantitative Trading/.venv/lib/python3.12/site-packages/tushare/pro/data_pro.py:130: FutureWarning: Series.fillna with 'method' is deprecated and will raise in a future version. Use obj.ffill() or obj.bfill() instead.\n",
      "  data['adj_factor'] = data['adj_factor'].fillna(method='bfill')\n"
     ]
    },
    {
     "name": "stdout",
     "output_type": "stream",
     "text": [
      "234/800 688235.SH → 922 行\n"
     ]
    },
    {
     "name": "stderr",
     "output_type": "stream",
     "text": [
      "/Users/lizongze/Quantitative Trading/.venv/lib/python3.12/site-packages/tushare/pro/data_pro.py:130: FutureWarning: Series.fillna with 'method' is deprecated and will raise in a future version. Use obj.ffill() or obj.bfill() instead.\n",
      "  data['adj_factor'] = data['adj_factor'].fillna(method='bfill')\n"
     ]
    },
    {
     "name": "stdout",
     "output_type": "stream",
     "text": [
      "235/800 300442.SZ → 1385 行\n"
     ]
    },
    {
     "name": "stderr",
     "output_type": "stream",
     "text": [
      "/Users/lizongze/Quantitative Trading/.venv/lib/python3.12/site-packages/tushare/pro/data_pro.py:130: FutureWarning: Series.fillna with 'method' is deprecated and will raise in a future version. Use obj.ffill() or obj.bfill() instead.\n",
      "  data['adj_factor'] = data['adj_factor'].fillna(method='bfill')\n"
     ]
    },
    {
     "name": "stdout",
     "output_type": "stream",
     "text": [
      "236/800 688777.SH → 1180 行\n"
     ]
    },
    {
     "name": "stderr",
     "output_type": "stream",
     "text": [
      "/Users/lizongze/Quantitative Trading/.venv/lib/python3.12/site-packages/tushare/pro/data_pro.py:130: FutureWarning: Series.fillna with 'method' is deprecated and will raise in a future version. Use obj.ffill() or obj.bfill() instead.\n",
      "  data['adj_factor'] = data['adj_factor'].fillna(method='bfill')\n"
     ]
    },
    {
     "name": "stdout",
     "output_type": "stream",
     "text": [
      "237/800 600673.SH → 1385 行\n"
     ]
    },
    {
     "name": "stderr",
     "output_type": "stream",
     "text": [
      "/Users/lizongze/Quantitative Trading/.venv/lib/python3.12/site-packages/tushare/pro/data_pro.py:130: FutureWarning: Series.fillna with 'method' is deprecated and will raise in a future version. Use obj.ffill() or obj.bfill() instead.\n",
      "  data['adj_factor'] = data['adj_factor'].fillna(method='bfill')\n"
     ]
    },
    {
     "name": "stdout",
     "output_type": "stream",
     "text": [
      "238/800 601066.SH → 1395 行\n"
     ]
    },
    {
     "name": "stderr",
     "output_type": "stream",
     "text": [
      "/Users/lizongze/Quantitative Trading/.venv/lib/python3.12/site-packages/tushare/pro/data_pro.py:130: FutureWarning: Series.fillna with 'method' is deprecated and will raise in a future version. Use obj.ffill() or obj.bfill() instead.\n",
      "  data['adj_factor'] = data['adj_factor'].fillna(method='bfill')\n"
     ]
    },
    {
     "name": "stdout",
     "output_type": "stream",
     "text": [
      "239/800 688608.SH → 1164 行\n"
     ]
    },
    {
     "name": "stderr",
     "output_type": "stream",
     "text": [
      "/Users/lizongze/Quantitative Trading/.venv/lib/python3.12/site-packages/tushare/pro/data_pro.py:130: FutureWarning: Series.fillna with 'method' is deprecated and will raise in a future version. Use obj.ffill() or obj.bfill() instead.\n",
      "  data['adj_factor'] = data['adj_factor'].fillna(method='bfill')\n"
     ]
    },
    {
     "name": "stdout",
     "output_type": "stream",
     "text": [
      "240/800 600096.SH → 1395 行\n"
     ]
    },
    {
     "name": "stderr",
     "output_type": "stream",
     "text": [
      "/Users/lizongze/Quantitative Trading/.venv/lib/python3.12/site-packages/tushare/pro/data_pro.py:130: FutureWarning: Series.fillna with 'method' is deprecated and will raise in a future version. Use obj.ffill() or obj.bfill() instead.\n",
      "  data['adj_factor'] = data['adj_factor'].fillna(method='bfill')\n"
     ]
    },
    {
     "name": "stdout",
     "output_type": "stream",
     "text": [
      "241/800 600699.SH → 1395 行\n"
     ]
    },
    {
     "name": "stderr",
     "output_type": "stream",
     "text": [
      "/Users/lizongze/Quantitative Trading/.venv/lib/python3.12/site-packages/tushare/pro/data_pro.py:130: FutureWarning: Series.fillna with 'method' is deprecated and will raise in a future version. Use obj.ffill() or obj.bfill() instead.\n",
      "  data['adj_factor'] = data['adj_factor'].fillna(method='bfill')\n"
     ]
    },
    {
     "name": "stdout",
     "output_type": "stream",
     "text": [
      "242/800 002008.SZ → 1395 行\n"
     ]
    },
    {
     "name": "stderr",
     "output_type": "stream",
     "text": [
      "/Users/lizongze/Quantitative Trading/.venv/lib/python3.12/site-packages/tushare/pro/data_pro.py:130: FutureWarning: Series.fillna with 'method' is deprecated and will raise in a future version. Use obj.ffill() or obj.bfill() instead.\n",
      "  data['adj_factor'] = data['adj_factor'].fillna(method='bfill')\n"
     ]
    },
    {
     "name": "stdout",
     "output_type": "stream",
     "text": [
      "243/800 002353.SZ → 1395 行\n"
     ]
    },
    {
     "name": "stderr",
     "output_type": "stream",
     "text": [
      "/Users/lizongze/Quantitative Trading/.venv/lib/python3.12/site-packages/tushare/pro/data_pro.py:130: FutureWarning: Series.fillna with 'method' is deprecated and will raise in a future version. Use obj.ffill() or obj.bfill() instead.\n",
      "  data['adj_factor'] = data['adj_factor'].fillna(method='bfill')\n"
     ]
    },
    {
     "name": "stdout",
     "output_type": "stream",
     "text": [
      "244/800 002472.SZ → 1395 行\n"
     ]
    },
    {
     "name": "stderr",
     "output_type": "stream",
     "text": [
      "/Users/lizongze/Quantitative Trading/.venv/lib/python3.12/site-packages/tushare/pro/data_pro.py:130: FutureWarning: Series.fillna with 'method' is deprecated and will raise in a future version. Use obj.ffill() or obj.bfill() instead.\n",
      "  data['adj_factor'] = data['adj_factor'].fillna(method='bfill')\n"
     ]
    },
    {
     "name": "stdout",
     "output_type": "stream",
     "text": [
      "245/800 002851.SZ → 1395 行\n"
     ]
    },
    {
     "name": "stderr",
     "output_type": "stream",
     "text": [
      "/Users/lizongze/Quantitative Trading/.venv/lib/python3.12/site-packages/tushare/pro/data_pro.py:130: FutureWarning: Series.fillna with 'method' is deprecated and will raise in a future version. Use obj.ffill() or obj.bfill() instead.\n",
      "  data['adj_factor'] = data['adj_factor'].fillna(method='bfill')\n"
     ]
    },
    {
     "name": "stdout",
     "output_type": "stream",
     "text": [
      "246/800 688525.SH → 668 行\n"
     ]
    },
    {
     "name": "stderr",
     "output_type": "stream",
     "text": [
      "/Users/lizongze/Quantitative Trading/.venv/lib/python3.12/site-packages/tushare/pro/data_pro.py:130: FutureWarning: Series.fillna with 'method' is deprecated and will raise in a future version. Use obj.ffill() or obj.bfill() instead.\n",
      "  data['adj_factor'] = data['adj_factor'].fillna(method='bfill')\n"
     ]
    },
    {
     "name": "stdout",
     "output_type": "stream",
     "text": [
      "247/800 002294.SZ → 1395 行\n"
     ]
    },
    {
     "name": "stderr",
     "output_type": "stream",
     "text": [
      "/Users/lizongze/Quantitative Trading/.venv/lib/python3.12/site-packages/tushare/pro/data_pro.py:130: FutureWarning: Series.fillna with 'method' is deprecated and will raise in a future version. Use obj.ffill() or obj.bfill() instead.\n",
      "  data['adj_factor'] = data['adj_factor'].fillna(method='bfill')\n"
     ]
    },
    {
     "name": "stdout",
     "output_type": "stream",
     "text": [
      "248/800 601901.SH → 1395 行\n"
     ]
    },
    {
     "name": "stderr",
     "output_type": "stream",
     "text": [
      "/Users/lizongze/Quantitative Trading/.venv/lib/python3.12/site-packages/tushare/pro/data_pro.py:130: FutureWarning: Series.fillna with 'method' is deprecated and will raise in a future version. Use obj.ffill() or obj.bfill() instead.\n",
      "  data['adj_factor'] = data['adj_factor'].fillna(method='bfill')\n"
     ]
    },
    {
     "name": "stdout",
     "output_type": "stream",
     "text": [
      "249/800 688213.SH → 821 行\n"
     ]
    },
    {
     "name": "stderr",
     "output_type": "stream",
     "text": [
      "/Users/lizongze/Quantitative Trading/.venv/lib/python3.12/site-packages/tushare/pro/data_pro.py:130: FutureWarning: Series.fillna with 'method' is deprecated and will raise in a future version. Use obj.ffill() or obj.bfill() instead.\n",
      "  data['adj_factor'] = data['adj_factor'].fillna(method='bfill')\n"
     ]
    },
    {
     "name": "stdout",
     "output_type": "stream",
     "text": [
      "250/800 688469.SH → 585 行\n"
     ]
    },
    {
     "name": "stderr",
     "output_type": "stream",
     "text": [
      "/Users/lizongze/Quantitative Trading/.venv/lib/python3.12/site-packages/tushare/pro/data_pro.py:130: FutureWarning: Series.fillna with 'method' is deprecated and will raise in a future version. Use obj.ffill() or obj.bfill() instead.\n",
      "  data['adj_factor'] = data['adj_factor'].fillna(method='bfill')\n"
     ]
    },
    {
     "name": "stdout",
     "output_type": "stream",
     "text": [
      "251/800 002797.SZ → 1395 行\n"
     ]
    },
    {
     "name": "stderr",
     "output_type": "stream",
     "text": [
      "/Users/lizongze/Quantitative Trading/.venv/lib/python3.12/site-packages/tushare/pro/data_pro.py:130: FutureWarning: Series.fillna with 'method' is deprecated and will raise in a future version. Use obj.ffill() or obj.bfill() instead.\n",
      "  data['adj_factor'] = data['adj_factor'].fillna(method='bfill')\n"
     ]
    },
    {
     "name": "stdout",
     "output_type": "stream",
     "text": [
      "252/800 601877.SH → 1395 行\n"
     ]
    },
    {
     "name": "stderr",
     "output_type": "stream",
     "text": [
      "/Users/lizongze/Quantitative Trading/.venv/lib/python3.12/site-packages/tushare/pro/data_pro.py:130: FutureWarning: Series.fillna with 'method' is deprecated and will raise in a future version. Use obj.ffill() or obj.bfill() instead.\n",
      "  data['adj_factor'] = data['adj_factor'].fillna(method='bfill')\n"
     ]
    },
    {
     "name": "stdout",
     "output_type": "stream",
     "text": [
      "253/800 603659.SH → 1395 行\n"
     ]
    },
    {
     "name": "stderr",
     "output_type": "stream",
     "text": [
      "/Users/lizongze/Quantitative Trading/.venv/lib/python3.12/site-packages/tushare/pro/data_pro.py:130: FutureWarning: Series.fillna with 'method' is deprecated and will raise in a future version. Use obj.ffill() or obj.bfill() instead.\n",
      "  data['adj_factor'] = data['adj_factor'].fillna(method='bfill')\n"
     ]
    },
    {
     "name": "stdout",
     "output_type": "stream",
     "text": [
      "254/800 000066.SZ → 1395 行\n"
     ]
    },
    {
     "name": "stderr",
     "output_type": "stream",
     "text": [
      "/Users/lizongze/Quantitative Trading/.venv/lib/python3.12/site-packages/tushare/pro/data_pro.py:130: FutureWarning: Series.fillna with 'method' is deprecated and will raise in a future version. Use obj.ffill() or obj.bfill() instead.\n",
      "  data['adj_factor'] = data['adj_factor'].fillna(method='bfill')\n"
     ]
    },
    {
     "name": "stdout",
     "output_type": "stream",
     "text": [
      "255/800 002601.SZ → 1395 行\n"
     ]
    },
    {
     "name": "stderr",
     "output_type": "stream",
     "text": [
      "/Users/lizongze/Quantitative Trading/.venv/lib/python3.12/site-packages/tushare/pro/data_pro.py:130: FutureWarning: Series.fillna with 'method' is deprecated and will raise in a future version. Use obj.ffill() or obj.bfill() instead.\n",
      "  data['adj_factor'] = data['adj_factor'].fillna(method='bfill')\n"
     ]
    },
    {
     "name": "stdout",
     "output_type": "stream",
     "text": [
      "256/800 002648.SZ → 1395 行\n"
     ]
    },
    {
     "name": "stderr",
     "output_type": "stream",
     "text": [
      "/Users/lizongze/Quantitative Trading/.venv/lib/python3.12/site-packages/tushare/pro/data_pro.py:130: FutureWarning: Series.fillna with 'method' is deprecated and will raise in a future version. Use obj.ffill() or obj.bfill() instead.\n",
      "  data['adj_factor'] = data['adj_factor'].fillna(method='bfill')\n"
     ]
    },
    {
     "name": "stdout",
     "output_type": "stream",
     "text": [
      "257/800 600029.SH → 1395 行\n"
     ]
    },
    {
     "name": "stderr",
     "output_type": "stream",
     "text": [
      "/Users/lizongze/Quantitative Trading/.venv/lib/python3.12/site-packages/tushare/pro/data_pro.py:130: FutureWarning: Series.fillna with 'method' is deprecated and will raise in a future version. Use obj.ffill() or obj.bfill() instead.\n",
      "  data['adj_factor'] = data['adj_factor'].fillna(method='bfill')\n"
     ]
    },
    {
     "name": "stdout",
     "output_type": "stream",
     "text": [
      "258/800 603296.SH → 523 行\n"
     ]
    },
    {
     "name": "stderr",
     "output_type": "stream",
     "text": [
      "/Users/lizongze/Quantitative Trading/.venv/lib/python3.12/site-packages/tushare/pro/data_pro.py:130: FutureWarning: Series.fillna with 'method' is deprecated and will raise in a future version. Use obj.ffill() or obj.bfill() instead.\n",
      "  data['adj_factor'] = data['adj_factor'].fillna(method='bfill')\n"
     ]
    },
    {
     "name": "stdout",
     "output_type": "stream",
     "text": [
      "259/800 600392.SH → 1395 行\n"
     ]
    },
    {
     "name": "stderr",
     "output_type": "stream",
     "text": [
      "/Users/lizongze/Quantitative Trading/.venv/lib/python3.12/site-packages/tushare/pro/data_pro.py:130: FutureWarning: Series.fillna with 'method' is deprecated and will raise in a future version. Use obj.ffill() or obj.bfill() instead.\n",
      "  data['adj_factor'] = data['adj_factor'].fillna(method='bfill')\n"
     ]
    },
    {
     "name": "stdout",
     "output_type": "stream",
     "text": [
      "260/800 600741.SH → 1395 行\n"
     ]
    },
    {
     "name": "stderr",
     "output_type": "stream",
     "text": [
      "/Users/lizongze/Quantitative Trading/.venv/lib/python3.12/site-packages/tushare/pro/data_pro.py:130: FutureWarning: Series.fillna with 'method' is deprecated and will raise in a future version. Use obj.ffill() or obj.bfill() instead.\n",
      "  data['adj_factor'] = data['adj_factor'].fillna(method='bfill')\n"
     ]
    },
    {
     "name": "stdout",
     "output_type": "stream",
     "text": [
      "261/800 002281.SZ → 1395 行\n"
     ]
    },
    {
     "name": "stderr",
     "output_type": "stream",
     "text": [
      "/Users/lizongze/Quantitative Trading/.venv/lib/python3.12/site-packages/tushare/pro/data_pro.py:130: FutureWarning: Series.fillna with 'method' is deprecated and will raise in a future version. Use obj.ffill() or obj.bfill() instead.\n",
      "  data['adj_factor'] = data['adj_factor'].fillna(method='bfill')\n"
     ]
    },
    {
     "name": "stdout",
     "output_type": "stream",
     "text": [
      "262/800 002532.SZ → 1394 行\n"
     ]
    },
    {
     "name": "stderr",
     "output_type": "stream",
     "text": [
      "/Users/lizongze/Quantitative Trading/.venv/lib/python3.12/site-packages/tushare/pro/data_pro.py:130: FutureWarning: Series.fillna with 'method' is deprecated and will raise in a future version. Use obj.ffill() or obj.bfill() instead.\n",
      "  data['adj_factor'] = data['adj_factor'].fillna(method='bfill')\n"
     ]
    },
    {
     "name": "stdout",
     "output_type": "stream",
     "text": [
      "263/800 688002.SH → 1395 行\n"
     ]
    },
    {
     "name": "stderr",
     "output_type": "stream",
     "text": [
      "/Users/lizongze/Quantitative Trading/.venv/lib/python3.12/site-packages/tushare/pro/data_pro.py:130: FutureWarning: Series.fillna with 'method' is deprecated and will raise in a future version. Use obj.ffill() or obj.bfill() instead.\n",
      "  data['adj_factor'] = data['adj_factor'].fillna(method='bfill')\n"
     ]
    },
    {
     "name": "stdout",
     "output_type": "stream",
     "text": [
      "264/800 300454.SZ → 1395 行\n"
     ]
    },
    {
     "name": "stderr",
     "output_type": "stream",
     "text": [
      "/Users/lizongze/Quantitative Trading/.venv/lib/python3.12/site-packages/tushare/pro/data_pro.py:130: FutureWarning: Series.fillna with 'method' is deprecated and will raise in a future version. Use obj.ffill() or obj.bfill() instead.\n",
      "  data['adj_factor'] = data['adj_factor'].fillna(method='bfill')\n"
     ]
    },
    {
     "name": "stdout",
     "output_type": "stream",
     "text": [
      "265/800 600588.SH → 1395 行\n"
     ]
    },
    {
     "name": "stderr",
     "output_type": "stream",
     "text": [
      "/Users/lizongze/Quantitative Trading/.venv/lib/python3.12/site-packages/tushare/pro/data_pro.py:130: FutureWarning: Series.fillna with 'method' is deprecated and will raise in a future version. Use obj.ffill() or obj.bfill() instead.\n",
      "  data['adj_factor'] = data['adj_factor'].fillna(method='bfill')\n"
     ]
    },
    {
     "name": "stdout",
     "output_type": "stream",
     "text": [
      "266/800 301236.SZ → 864 行\n"
     ]
    },
    {
     "name": "stderr",
     "output_type": "stream",
     "text": [
      "/Users/lizongze/Quantitative Trading/.venv/lib/python3.12/site-packages/tushare/pro/data_pro.py:130: FutureWarning: Series.fillna with 'method' is deprecated and will raise in a future version. Use obj.ffill() or obj.bfill() instead.\n",
      "  data['adj_factor'] = data['adj_factor'].fillna(method='bfill')\n"
     ]
    },
    {
     "name": "stdout",
     "output_type": "stream",
     "text": [
      "267/800 600233.SH → 1395 行\n"
     ]
    },
    {
     "name": "stderr",
     "output_type": "stream",
     "text": [
      "/Users/lizongze/Quantitative Trading/.venv/lib/python3.12/site-packages/tushare/pro/data_pro.py:130: FutureWarning: Series.fillna with 'method' is deprecated and will raise in a future version. Use obj.ffill() or obj.bfill() instead.\n",
      "  data['adj_factor'] = data['adj_factor'].fillna(method='bfill')\n"
     ]
    },
    {
     "name": "stdout",
     "output_type": "stream",
     "text": [
      "268/800 601878.SH → 1395 行\n"
     ]
    },
    {
     "name": "stderr",
     "output_type": "stream",
     "text": [
      "/Users/lizongze/Quantitative Trading/.venv/lib/python3.12/site-packages/tushare/pro/data_pro.py:130: FutureWarning: Series.fillna with 'method' is deprecated and will raise in a future version. Use obj.ffill() or obj.bfill() instead.\n",
      "  data['adj_factor'] = data['adj_factor'].fillna(method='bfill')\n"
     ]
    },
    {
     "name": "stdout",
     "output_type": "stream",
     "text": [
      "269/800 300395.SZ → 1395 行\n"
     ]
    },
    {
     "name": "stderr",
     "output_type": "stream",
     "text": [
      "/Users/lizongze/Quantitative Trading/.venv/lib/python3.12/site-packages/tushare/pro/data_pro.py:130: FutureWarning: Series.fillna with 'method' is deprecated and will raise in a future version. Use obj.ffill() or obj.bfill() instead.\n",
      "  data['adj_factor'] = data['adj_factor'].fillna(method='bfill')\n"
     ]
    },
    {
     "name": "stdout",
     "output_type": "stream",
     "text": [
      "270/800 300759.SZ → 1395 行\n"
     ]
    },
    {
     "name": "stderr",
     "output_type": "stream",
     "text": [
      "/Users/lizongze/Quantitative Trading/.venv/lib/python3.12/site-packages/tushare/pro/data_pro.py:130: FutureWarning: Series.fillna with 'method' is deprecated and will raise in a future version. Use obj.ffill() or obj.bfill() instead.\n",
      "  data['adj_factor'] = data['adj_factor'].fillna(method='bfill')\n"
     ]
    },
    {
     "name": "stdout",
     "output_type": "stream",
     "text": [
      "271/800 000933.SZ → 1385 行\n"
     ]
    },
    {
     "name": "stderr",
     "output_type": "stream",
     "text": [
      "/Users/lizongze/Quantitative Trading/.venv/lib/python3.12/site-packages/tushare/pro/data_pro.py:130: FutureWarning: Series.fillna with 'method' is deprecated and will raise in a future version. Use obj.ffill() or obj.bfill() instead.\n",
      "  data['adj_factor'] = data['adj_factor'].fillna(method='bfill')\n"
     ]
    },
    {
     "name": "stdout",
     "output_type": "stream",
     "text": [
      "272/800 300782.SZ → 1395 行\n"
     ]
    },
    {
     "name": "stderr",
     "output_type": "stream",
     "text": [
      "/Users/lizongze/Quantitative Trading/.venv/lib/python3.12/site-packages/tushare/pro/data_pro.py:130: FutureWarning: Series.fillna with 'method' is deprecated and will raise in a future version. Use obj.ffill() or obj.bfill() instead.\n",
      "  data['adj_factor'] = data['adj_factor'].fillna(method='bfill')\n"
     ]
    },
    {
     "name": "stdout",
     "output_type": "stream",
     "text": [
      "273/800 600011.SH → 1395 行\n"
     ]
    },
    {
     "name": "stderr",
     "output_type": "stream",
     "text": [
      "/Users/lizongze/Quantitative Trading/.venv/lib/python3.12/site-packages/tushare/pro/data_pro.py:130: FutureWarning: Series.fillna with 'method' is deprecated and will raise in a future version. Use obj.ffill() or obj.bfill() instead.\n",
      "  data['adj_factor'] = data['adj_factor'].fillna(method='bfill')\n"
     ]
    },
    {
     "name": "stdout",
     "output_type": "stream",
     "text": [
      "274/800 601099.SH → 1395 行\n"
     ]
    },
    {
     "name": "stderr",
     "output_type": "stream",
     "text": [
      "/Users/lizongze/Quantitative Trading/.venv/lib/python3.12/site-packages/tushare/pro/data_pro.py:130: FutureWarning: Series.fillna with 'method' is deprecated and will raise in a future version. Use obj.ffill() or obj.bfill() instead.\n",
      "  data['adj_factor'] = data['adj_factor'].fillna(method='bfill')\n"
     ]
    },
    {
     "name": "stdout",
     "output_type": "stream",
     "text": [
      "275/800 600886.SH → 1395 行\n"
     ]
    },
    {
     "name": "stderr",
     "output_type": "stream",
     "text": [
      "/Users/lizongze/Quantitative Trading/.venv/lib/python3.12/site-packages/tushare/pro/data_pro.py:130: FutureWarning: Series.fillna with 'method' is deprecated and will raise in a future version. Use obj.ffill() or obj.bfill() instead.\n",
      "  data['adj_factor'] = data['adj_factor'].fillna(method='bfill')\n"
     ]
    },
    {
     "name": "stdout",
     "output_type": "stream",
     "text": [
      "276/800 601800.SH → 1395 行\n"
     ]
    },
    {
     "name": "stderr",
     "output_type": "stream",
     "text": [
      "/Users/lizongze/Quantitative Trading/.venv/lib/python3.12/site-packages/tushare/pro/data_pro.py:130: FutureWarning: Series.fillna with 'method' is deprecated and will raise in a future version. Use obj.ffill() or obj.bfill() instead.\n",
      "  data['adj_factor'] = data['adj_factor'].fillna(method='bfill')\n"
     ]
    },
    {
     "name": "stdout",
     "output_type": "stream",
     "text": [
      "277/800 601868.SH → 973 行\n"
     ]
    },
    {
     "name": "stderr",
     "output_type": "stream",
     "text": [
      "/Users/lizongze/Quantitative Trading/.venv/lib/python3.12/site-packages/tushare/pro/data_pro.py:130: FutureWarning: Series.fillna with 'method' is deprecated and will raise in a future version. Use obj.ffill() or obj.bfill() instead.\n",
      "  data['adj_factor'] = data['adj_factor'].fillna(method='bfill')\n"
     ]
    },
    {
     "name": "stdout",
     "output_type": "stream",
     "text": [
      "278/800 002130.SZ → 1395 行\n"
     ]
    },
    {
     "name": "stderr",
     "output_type": "stream",
     "text": [
      "/Users/lizongze/Quantitative Trading/.venv/lib/python3.12/site-packages/tushare/pro/data_pro.py:130: FutureWarning: Series.fillna with 'method' is deprecated and will raise in a future version. Use obj.ffill() or obj.bfill() instead.\n",
      "  data['adj_factor'] = data['adj_factor'].fillna(method='bfill')\n"
     ]
    },
    {
     "name": "stdout",
     "output_type": "stream",
     "text": [
      "279/800 600879.SH → 1395 行\n"
     ]
    },
    {
     "name": "stderr",
     "output_type": "stream",
     "text": [
      "/Users/lizongze/Quantitative Trading/.venv/lib/python3.12/site-packages/tushare/pro/data_pro.py:130: FutureWarning: Series.fillna with 'method' is deprecated and will raise in a future version. Use obj.ffill() or obj.bfill() instead.\n",
      "  data['adj_factor'] = data['adj_factor'].fillna(method='bfill')\n"
     ]
    },
    {
     "name": "stdout",
     "output_type": "stream",
     "text": [
      "280/800 002202.SZ → 1395 行\n"
     ]
    },
    {
     "name": "stderr",
     "output_type": "stream",
     "text": [
      "/Users/lizongze/Quantitative Trading/.venv/lib/python3.12/site-packages/tushare/pro/data_pro.py:130: FutureWarning: Series.fillna with 'method' is deprecated and will raise in a future version. Use obj.ffill() or obj.bfill() instead.\n",
      "  data['adj_factor'] = data['adj_factor'].fillna(method='bfill')\n"
     ]
    },
    {
     "name": "stdout",
     "output_type": "stream",
     "text": [
      "281/800 600885.SH → 1395 行\n"
     ]
    },
    {
     "name": "stderr",
     "output_type": "stream",
     "text": [
      "/Users/lizongze/Quantitative Trading/.venv/lib/python3.12/site-packages/tushare/pro/data_pro.py:130: FutureWarning: Series.fillna with 'method' is deprecated and will raise in a future version. Use obj.ffill() or obj.bfill() instead.\n",
      "  data['adj_factor'] = data['adj_factor'].fillna(method='bfill')\n"
     ]
    },
    {
     "name": "stdout",
     "output_type": "stream",
     "text": [
      "282/800 601633.SH → 1395 行\n"
     ]
    },
    {
     "name": "stderr",
     "output_type": "stream",
     "text": [
      "/Users/lizongze/Quantitative Trading/.venv/lib/python3.12/site-packages/tushare/pro/data_pro.py:130: FutureWarning: Series.fillna with 'method' is deprecated and will raise in a future version. Use obj.ffill() or obj.bfill() instead.\n",
      "  data['adj_factor'] = data['adj_factor'].fillna(method='bfill')\n"
     ]
    },
    {
     "name": "stdout",
     "output_type": "stream",
     "text": [
      "283/800 600372.SH → 1377 行\n"
     ]
    },
    {
     "name": "stderr",
     "output_type": "stream",
     "text": [
      "/Users/lizongze/Quantitative Trading/.venv/lib/python3.12/site-packages/tushare/pro/data_pro.py:130: FutureWarning: Series.fillna with 'method' is deprecated and will raise in a future version. Use obj.ffill() or obj.bfill() instead.\n",
      "  data['adj_factor'] = data['adj_factor'].fillna(method='bfill')\n"
     ]
    },
    {
     "name": "stdout",
     "output_type": "stream",
     "text": [
      "284/800 000021.SZ → 1395 行\n"
     ]
    },
    {
     "name": "stderr",
     "output_type": "stream",
     "text": [
      "/Users/lizongze/Quantitative Trading/.venv/lib/python3.12/site-packages/tushare/pro/data_pro.py:130: FutureWarning: Series.fillna with 'method' is deprecated and will raise in a future version. Use obj.ffill() or obj.bfill() instead.\n",
      "  data['adj_factor'] = data['adj_factor'].fillna(method='bfill')\n"
     ]
    },
    {
     "name": "stdout",
     "output_type": "stream",
     "text": [
      "285/800 300346.SZ → 1387 行\n"
     ]
    },
    {
     "name": "stderr",
     "output_type": "stream",
     "text": [
      "/Users/lizongze/Quantitative Trading/.venv/lib/python3.12/site-packages/tushare/pro/data_pro.py:130: FutureWarning: Series.fillna with 'method' is deprecated and will raise in a future version. Use obj.ffill() or obj.bfill() instead.\n",
      "  data['adj_factor'] = data['adj_factor'].fillna(method='bfill')\n"
     ]
    },
    {
     "name": "stdout",
     "output_type": "stream",
     "text": [
      "286/800 300223.SZ → 1395 行\n"
     ]
    },
    {
     "name": "stderr",
     "output_type": "stream",
     "text": [
      "/Users/lizongze/Quantitative Trading/.venv/lib/python3.12/site-packages/tushare/pro/data_pro.py:130: FutureWarning: Series.fillna with 'method' is deprecated and will raise in a future version. Use obj.ffill() or obj.bfill() instead.\n",
      "  data['adj_factor'] = data['adj_factor'].fillna(method='bfill')\n"
     ]
    },
    {
     "name": "stdout",
     "output_type": "stream",
     "text": [
      "287/800 688506.SH → 664 行\n"
     ]
    },
    {
     "name": "stderr",
     "output_type": "stream",
     "text": [
      "/Users/lizongze/Quantitative Trading/.venv/lib/python3.12/site-packages/tushare/pro/data_pro.py:130: FutureWarning: Series.fillna with 'method' is deprecated and will raise in a future version. Use obj.ffill() or obj.bfill() instead.\n",
      "  data['adj_factor'] = data['adj_factor'].fillna(method='bfill')\n"
     ]
    },
    {
     "name": "stdout",
     "output_type": "stream",
     "text": [
      "288/800 002185.SZ → 1391 行\n"
     ]
    },
    {
     "name": "stderr",
     "output_type": "stream",
     "text": [
      "/Users/lizongze/Quantitative Trading/.venv/lib/python3.12/site-packages/tushare/pro/data_pro.py:130: FutureWarning: Series.fillna with 'method' is deprecated and will raise in a future version. Use obj.ffill() or obj.bfill() instead.\n",
      "  data['adj_factor'] = data['adj_factor'].fillna(method='bfill')\n"
     ]
    },
    {
     "name": "stdout",
     "output_type": "stream",
     "text": [
      "289/800 300347.SZ → 1395 行\n"
     ]
    },
    {
     "name": "stderr",
     "output_type": "stream",
     "text": [
      "/Users/lizongze/Quantitative Trading/.venv/lib/python3.12/site-packages/tushare/pro/data_pro.py:130: FutureWarning: Series.fillna with 'method' is deprecated and will raise in a future version. Use obj.ffill() or obj.bfill() instead.\n",
      "  data['adj_factor'] = data['adj_factor'].fillna(method='bfill')\n"
     ]
    },
    {
     "name": "stdout",
     "output_type": "stream",
     "text": [
      "290/800 600021.SH → 1395 行\n"
     ]
    },
    {
     "name": "stderr",
     "output_type": "stream",
     "text": [
      "/Users/lizongze/Quantitative Trading/.venv/lib/python3.12/site-packages/tushare/pro/data_pro.py:130: FutureWarning: Series.fillna with 'method' is deprecated and will raise in a future version. Use obj.ffill() or obj.bfill() instead.\n",
      "  data['adj_factor'] = data['adj_factor'].fillna(method='bfill')\n"
     ]
    },
    {
     "name": "stdout",
     "output_type": "stream",
     "text": [
      "291/800 300316.SZ → 1395 行\n"
     ]
    },
    {
     "name": "stderr",
     "output_type": "stream",
     "text": [
      "/Users/lizongze/Quantitative Trading/.venv/lib/python3.12/site-packages/tushare/pro/data_pro.py:130: FutureWarning: Series.fillna with 'method' is deprecated and will raise in a future version. Use obj.ffill() or obj.bfill() instead.\n",
      "  data['adj_factor'] = data['adj_factor'].fillna(method='bfill')\n"
     ]
    },
    {
     "name": "stdout",
     "output_type": "stream",
     "text": [
      "292/800 300458.SZ → 1395 行\n"
     ]
    },
    {
     "name": "stderr",
     "output_type": "stream",
     "text": [
      "/Users/lizongze/Quantitative Trading/.venv/lib/python3.12/site-packages/tushare/pro/data_pro.py:130: FutureWarning: Series.fillna with 'method' is deprecated and will raise in a future version. Use obj.ffill() or obj.bfill() instead.\n",
      "  data['adj_factor'] = data['adj_factor'].fillna(method='bfill')\n"
     ]
    },
    {
     "name": "stdout",
     "output_type": "stream",
     "text": [
      "293/800 601111.SH → 1394 行\n"
     ]
    },
    {
     "name": "stderr",
     "output_type": "stream",
     "text": [
      "/Users/lizongze/Quantitative Trading/.venv/lib/python3.12/site-packages/tushare/pro/data_pro.py:130: FutureWarning: Series.fillna with 'method' is deprecated and will raise in a future version. Use obj.ffill() or obj.bfill() instead.\n",
      "  data['adj_factor'] = data['adj_factor'].fillna(method='bfill')\n"
     ]
    },
    {
     "name": "stdout",
     "output_type": "stream",
     "text": [
      "294/800 601615.SH → 1395 行\n"
     ]
    },
    {
     "name": "stderr",
     "output_type": "stream",
     "text": [
      "/Users/lizongze/Quantitative Trading/.venv/lib/python3.12/site-packages/tushare/pro/data_pro.py:130: FutureWarning: Series.fillna with 'method' is deprecated and will raise in a future version. Use obj.ffill() or obj.bfill() instead.\n",
      "  data['adj_factor'] = data['adj_factor'].fillna(method='bfill')\n"
     ]
    },
    {
     "name": "stdout",
     "output_type": "stream",
     "text": [
      "295/800 688122.SH → 1395 行\n"
     ]
    },
    {
     "name": "stderr",
     "output_type": "stream",
     "text": [
      "/Users/lizongze/Quantitative Trading/.venv/lib/python3.12/site-packages/tushare/pro/data_pro.py:130: FutureWarning: Series.fillna with 'method' is deprecated and will raise in a future version. Use obj.ffill() or obj.bfill() instead.\n",
      "  data['adj_factor'] = data['adj_factor'].fillna(method='bfill')\n"
     ]
    },
    {
     "name": "stdout",
     "output_type": "stream",
     "text": [
      "296/800 688396.SH → 1361 行\n"
     ]
    },
    {
     "name": "stderr",
     "output_type": "stream",
     "text": [
      "/Users/lizongze/Quantitative Trading/.venv/lib/python3.12/site-packages/tushare/pro/data_pro.py:130: FutureWarning: Series.fillna with 'method' is deprecated and will raise in a future version. Use obj.ffill() or obj.bfill() instead.\n",
      "  data['adj_factor'] = data['adj_factor'].fillna(method='bfill')\n"
     ]
    },
    {
     "name": "stdout",
     "output_type": "stream",
     "text": [
      "297/800 603369.SH → 1395 行\n"
     ]
    },
    {
     "name": "stderr",
     "output_type": "stream",
     "text": [
      "/Users/lizongze/Quantitative Trading/.venv/lib/python3.12/site-packages/tushare/pro/data_pro.py:130: FutureWarning: Series.fillna with 'method' is deprecated and will raise in a future version. Use obj.ffill() or obj.bfill() instead.\n",
      "  data['adj_factor'] = data['adj_factor'].fillna(method='bfill')\n"
     ]
    },
    {
     "name": "stdout",
     "output_type": "stream",
     "text": [
      "298/800 603606.SH → 1395 行\n"
     ]
    },
    {
     "name": "stderr",
     "output_type": "stream",
     "text": [
      "/Users/lizongze/Quantitative Trading/.venv/lib/python3.12/site-packages/tushare/pro/data_pro.py:130: FutureWarning: Series.fillna with 'method' is deprecated and will raise in a future version. Use obj.ffill() or obj.bfill() instead.\n",
      "  data['adj_factor'] = data['adj_factor'].fillna(method='bfill')\n"
     ]
    },
    {
     "name": "stdout",
     "output_type": "stream",
     "text": [
      "299/800 002493.SZ → 1395 行\n"
     ]
    },
    {
     "name": "stderr",
     "output_type": "stream",
     "text": [
      "/Users/lizongze/Quantitative Trading/.venv/lib/python3.12/site-packages/tushare/pro/data_pro.py:130: FutureWarning: Series.fillna with 'method' is deprecated and will raise in a future version. Use obj.ffill() or obj.bfill() instead.\n",
      "  data['adj_factor'] = data['adj_factor'].fillna(method='bfill')\n"
     ]
    },
    {
     "name": "stdout",
     "output_type": "stream",
     "text": [
      "300/800 605117.SH → 1082 行\n"
     ]
    },
    {
     "name": "stderr",
     "output_type": "stream",
     "text": [
      "/Users/lizongze/Quantitative Trading/.venv/lib/python3.12/site-packages/tushare/pro/data_pro.py:130: FutureWarning: Series.fillna with 'method' is deprecated and will raise in a future version. Use obj.ffill() or obj.bfill() instead.\n",
      "  data['adj_factor'] = data['adj_factor'].fillna(method='bfill')\n"
     ]
    },
    {
     "name": "stdout",
     "output_type": "stream",
     "text": [
      "301/800 002129.SZ → 1395 行\n"
     ]
    },
    {
     "name": "stderr",
     "output_type": "stream",
     "text": [
      "/Users/lizongze/Quantitative Trading/.venv/lib/python3.12/site-packages/tushare/pro/data_pro.py:130: FutureWarning: Series.fillna with 'method' is deprecated and will raise in a future version. Use obj.ffill() or obj.bfill() instead.\n",
      "  data['adj_factor'] = data['adj_factor'].fillna(method='bfill')\n"
     ]
    },
    {
     "name": "stdout",
     "output_type": "stream",
     "text": [
      "302/800 300073.SZ → 1385 行\n"
     ]
    },
    {
     "name": "stderr",
     "output_type": "stream",
     "text": [
      "/Users/lizongze/Quantitative Trading/.venv/lib/python3.12/site-packages/tushare/pro/data_pro.py:130: FutureWarning: Series.fillna with 'method' is deprecated and will raise in a future version. Use obj.ffill() or obj.bfill() instead.\n",
      "  data['adj_factor'] = data['adj_factor'].fillna(method='bfill')\n"
     ]
    },
    {
     "name": "stdout",
     "output_type": "stream",
     "text": [
      "303/800 601872.SH → 1395 行\n"
     ]
    },
    {
     "name": "stderr",
     "output_type": "stream",
     "text": [
      "/Users/lizongze/Quantitative Trading/.venv/lib/python3.12/site-packages/tushare/pro/data_pro.py:130: FutureWarning: Series.fillna with 'method' is deprecated and will raise in a future version. Use obj.ffill() or obj.bfill() instead.\n",
      "  data['adj_factor'] = data['adj_factor'].fillna(method='bfill')\n"
     ]
    },
    {
     "name": "stdout",
     "output_type": "stream",
     "text": [
      "304/800 300496.SZ → 1395 行\n"
     ]
    },
    {
     "name": "stderr",
     "output_type": "stream",
     "text": [
      "/Users/lizongze/Quantitative Trading/.venv/lib/python3.12/site-packages/tushare/pro/data_pro.py:130: FutureWarning: Series.fillna with 'method' is deprecated and will raise in a future version. Use obj.ffill() or obj.bfill() instead.\n",
      "  data['adj_factor'] = data['adj_factor'].fillna(method='bfill')\n"
     ]
    },
    {
     "name": "stdout",
     "output_type": "stream",
     "text": [
      "305/800 300251.SZ → 1395 行\n"
     ]
    },
    {
     "name": "stderr",
     "output_type": "stream",
     "text": [
      "/Users/lizongze/Quantitative Trading/.venv/lib/python3.12/site-packages/tushare/pro/data_pro.py:130: FutureWarning: Series.fillna with 'method' is deprecated and will raise in a future version. Use obj.ffill() or obj.bfill() instead.\n",
      "  data['adj_factor'] = data['adj_factor'].fillna(method='bfill')\n"
     ]
    },
    {
     "name": "stdout",
     "output_type": "stream",
     "text": [
      "306/800 603129.SH → 1395 行\n"
     ]
    },
    {
     "name": "stderr",
     "output_type": "stream",
     "text": [
      "/Users/lizongze/Quantitative Trading/.venv/lib/python3.12/site-packages/tushare/pro/data_pro.py:130: FutureWarning: Series.fillna with 'method' is deprecated and will raise in a future version. Use obj.ffill() or obj.bfill() instead.\n",
      "  data['adj_factor'] = data['adj_factor'].fillna(method='bfill')\n"
     ]
    },
    {
     "name": "stdout",
     "output_type": "stream",
     "text": [
      "307/800 603179.SH → 1395 行\n"
     ]
    },
    {
     "name": "stderr",
     "output_type": "stream",
     "text": [
      "/Users/lizongze/Quantitative Trading/.venv/lib/python3.12/site-packages/tushare/pro/data_pro.py:130: FutureWarning: Series.fillna with 'method' is deprecated and will raise in a future version. Use obj.ffill() or obj.bfill() instead.\n",
      "  data['adj_factor'] = data['adj_factor'].fillna(method='bfill')\n"
     ]
    },
    {
     "name": "stdout",
     "output_type": "stream",
     "text": [
      "308/800 003816.SZ → 1395 行\n"
     ]
    },
    {
     "name": "stderr",
     "output_type": "stream",
     "text": [
      "/Users/lizongze/Quantitative Trading/.venv/lib/python3.12/site-packages/tushare/pro/data_pro.py:130: FutureWarning: Series.fillna with 'method' is deprecated and will raise in a future version. Use obj.ffill() or obj.bfill() instead.\n",
      "  data['adj_factor'] = data['adj_factor'].fillna(method='bfill')\n"
     ]
    },
    {
     "name": "stdout",
     "output_type": "stream",
     "text": [
      "309/800 002138.SZ → 1395 行\n"
     ]
    },
    {
     "name": "stderr",
     "output_type": "stream",
     "text": [
      "/Users/lizongze/Quantitative Trading/.venv/lib/python3.12/site-packages/tushare/pro/data_pro.py:130: FutureWarning: Series.fillna with 'method' is deprecated and will raise in a future version. Use obj.ffill() or obj.bfill() instead.\n",
      "  data['adj_factor'] = data['adj_factor'].fillna(method='bfill')\n"
     ]
    },
    {
     "name": "stdout",
     "output_type": "stream",
     "text": [
      "310/800 300724.SZ → 1395 行\n"
     ]
    },
    {
     "name": "stderr",
     "output_type": "stream",
     "text": [
      "/Users/lizongze/Quantitative Trading/.venv/lib/python3.12/site-packages/tushare/pro/data_pro.py:130: FutureWarning: Series.fillna with 'method' is deprecated and will raise in a future version. Use obj.ffill() or obj.bfill() instead.\n",
      "  data['adj_factor'] = data['adj_factor'].fillna(method='bfill')\n"
     ]
    },
    {
     "name": "stdout",
     "output_type": "stream",
     "text": [
      "311/800 600536.SH → 1395 行\n"
     ]
    },
    {
     "name": "stderr",
     "output_type": "stream",
     "text": [
      "/Users/lizongze/Quantitative Trading/.venv/lib/python3.12/site-packages/tushare/pro/data_pro.py:130: FutureWarning: Series.fillna with 'method' is deprecated and will raise in a future version. Use obj.ffill() or obj.bfill() instead.\n",
      "  data['adj_factor'] = data['adj_factor'].fillna(method='bfill')\n"
     ]
    },
    {
     "name": "stdout",
     "output_type": "stream",
     "text": [
      "312/800 300002.SZ → 1395 行\n"
     ]
    },
    {
     "name": "stderr",
     "output_type": "stream",
     "text": [
      "/Users/lizongze/Quantitative Trading/.venv/lib/python3.12/site-packages/tushare/pro/data_pro.py:130: FutureWarning: Series.fillna with 'method' is deprecated and will raise in a future version. Use obj.ffill() or obj.bfill() instead.\n",
      "  data['adj_factor'] = data['adj_factor'].fillna(method='bfill')\n"
     ]
    },
    {
     "name": "stdout",
     "output_type": "stream",
     "text": [
      "313/800 300017.SZ → 1395 行\n"
     ]
    },
    {
     "name": "stderr",
     "output_type": "stream",
     "text": [
      "/Users/lizongze/Quantitative Trading/.venv/lib/python3.12/site-packages/tushare/pro/data_pro.py:130: FutureWarning: Series.fillna with 'method' is deprecated and will raise in a future version. Use obj.ffill() or obj.bfill() instead.\n",
      "  data['adj_factor'] = data['adj_factor'].fillna(method='bfill')\n"
     ]
    },
    {
     "name": "stdout",
     "output_type": "stream",
     "text": [
      "314/800 600549.SH → 1395 行\n"
     ]
    },
    {
     "name": "stderr",
     "output_type": "stream",
     "text": [
      "/Users/lizongze/Quantitative Trading/.venv/lib/python3.12/site-packages/tushare/pro/data_pro.py:130: FutureWarning: Series.fillna with 'method' is deprecated and will raise in a future version. Use obj.ffill() or obj.bfill() instead.\n",
      "  data['adj_factor'] = data['adj_factor'].fillna(method='bfill')\n"
     ]
    },
    {
     "name": "stdout",
     "output_type": "stream",
     "text": [
      "315/800 300037.SZ → 1395 行\n"
     ]
    },
    {
     "name": "stderr",
     "output_type": "stream",
     "text": [
      "/Users/lizongze/Quantitative Trading/.venv/lib/python3.12/site-packages/tushare/pro/data_pro.py:130: FutureWarning: Series.fillna with 'method' is deprecated and will raise in a future version. Use obj.ffill() or obj.bfill() instead.\n",
      "  data['adj_factor'] = data['adj_factor'].fillna(method='bfill')\n"
     ]
    },
    {
     "name": "stdout",
     "output_type": "stream",
     "text": [
      "316/800 688220.SH → 901 行\n"
     ]
    },
    {
     "name": "stderr",
     "output_type": "stream",
     "text": [
      "/Users/lizongze/Quantitative Trading/.venv/lib/python3.12/site-packages/tushare/pro/data_pro.py:130: FutureWarning: Series.fillna with 'method' is deprecated and will raise in a future version. Use obj.ffill() or obj.bfill() instead.\n",
      "  data['adj_factor'] = data['adj_factor'].fillna(method='bfill')\n"
     ]
    },
    {
     "name": "stdout",
     "output_type": "stream",
     "text": [
      "317/800 688249.SH → 588 行\n"
     ]
    },
    {
     "name": "stderr",
     "output_type": "stream",
     "text": [
      "/Users/lizongze/Quantitative Trading/.venv/lib/python3.12/site-packages/tushare/pro/data_pro.py:130: FutureWarning: Series.fillna with 'method' is deprecated and will raise in a future version. Use obj.ffill() or obj.bfill() instead.\n",
      "  data['adj_factor'] = data['adj_factor'].fillna(method='bfill')\n"
     ]
    },
    {
     "name": "stdout",
     "output_type": "stream",
     "text": [
      "318/800 600674.SH → 1395 行\n"
     ]
    },
    {
     "name": "stderr",
     "output_type": "stream",
     "text": [
      "/Users/lizongze/Quantitative Trading/.venv/lib/python3.12/site-packages/tushare/pro/data_pro.py:130: FutureWarning: Series.fillna with 'method' is deprecated and will raise in a future version. Use obj.ffill() or obj.bfill() instead.\n",
      "  data['adj_factor'] = data['adj_factor'].fillna(method='bfill')\n"
     ]
    },
    {
     "name": "stdout",
     "output_type": "stream",
     "text": [
      "319/800 603087.SH → 1280 行\n"
     ]
    },
    {
     "name": "stderr",
     "output_type": "stream",
     "text": [
      "/Users/lizongze/Quantitative Trading/.venv/lib/python3.12/site-packages/tushare/pro/data_pro.py:130: FutureWarning: Series.fillna with 'method' is deprecated and will raise in a future version. Use obj.ffill() or obj.bfill() instead.\n",
      "  data['adj_factor'] = data['adj_factor'].fillna(method='bfill')\n"
     ]
    },
    {
     "name": "stdout",
     "output_type": "stream",
     "text": [
      "320/800 601618.SH → 1395 行\n"
     ]
    },
    {
     "name": "stderr",
     "output_type": "stream",
     "text": [
      "/Users/lizongze/Quantitative Trading/.venv/lib/python3.12/site-packages/tushare/pro/data_pro.py:130: FutureWarning: Series.fillna with 'method' is deprecated and will raise in a future version. Use obj.ffill() or obj.bfill() instead.\n",
      "  data['adj_factor'] = data['adj_factor'].fillna(method='bfill')\n"
     ]
    },
    {
     "name": "stdout",
     "output_type": "stream",
     "text": [
      "321/800 000783.SZ → 1395 行\n"
     ]
    },
    {
     "name": "stderr",
     "output_type": "stream",
     "text": [
      "/Users/lizongze/Quantitative Trading/.venv/lib/python3.12/site-packages/tushare/pro/data_pro.py:130: FutureWarning: Series.fillna with 'method' is deprecated and will raise in a future version. Use obj.ffill() or obj.bfill() instead.\n",
      "  data['adj_factor'] = data['adj_factor'].fillna(method='bfill')\n"
     ]
    },
    {
     "name": "stdout",
     "output_type": "stream",
     "text": [
      "322/800 600219.SH → 1395 行\n"
     ]
    },
    {
     "name": "stderr",
     "output_type": "stream",
     "text": [
      "/Users/lizongze/Quantitative Trading/.venv/lib/python3.12/site-packages/tushare/pro/data_pro.py:130: FutureWarning: Series.fillna with 'method' is deprecated and will raise in a future version. Use obj.ffill() or obj.bfill() instead.\n",
      "  data['adj_factor'] = data['adj_factor'].fillna(method='bfill')\n"
     ]
    },
    {
     "name": "stdout",
     "output_type": "stream",
     "text": [
      "323/800 301358.SZ → 645 行\n"
     ]
    },
    {
     "name": "stderr",
     "output_type": "stream",
     "text": [
      "/Users/lizongze/Quantitative Trading/.venv/lib/python3.12/site-packages/tushare/pro/data_pro.py:130: FutureWarning: Series.fillna with 'method' is deprecated and will raise in a future version. Use obj.ffill() or obj.bfill() instead.\n",
      "  data['adj_factor'] = data['adj_factor'].fillna(method='bfill')\n"
     ]
    },
    {
     "name": "stdout",
     "output_type": "stream",
     "text": [
      "324/800 300896.SZ → 1215 行\n"
     ]
    },
    {
     "name": "stderr",
     "output_type": "stream",
     "text": [
      "/Users/lizongze/Quantitative Trading/.venv/lib/python3.12/site-packages/tushare/pro/data_pro.py:130: FutureWarning: Series.fillna with 'method' is deprecated and will raise in a future version. Use obj.ffill() or obj.bfill() instead.\n",
      "  data['adj_factor'] = data['adj_factor'].fillna(method='bfill')\n"
     ]
    },
    {
     "name": "stdout",
     "output_type": "stream",
     "text": [
      "325/800 601108.SH → 1389 行\n"
     ]
    },
    {
     "name": "stderr",
     "output_type": "stream",
     "text": [
      "/Users/lizongze/Quantitative Trading/.venv/lib/python3.12/site-packages/tushare/pro/data_pro.py:130: FutureWarning: Series.fillna with 'method' is deprecated and will raise in a future version. Use obj.ffill() or obj.bfill() instead.\n",
      "  data['adj_factor'] = data['adj_factor'].fillna(method='bfill')\n"
     ]
    },
    {
     "name": "stdout",
     "output_type": "stream",
     "text": [
      "326/800 301269.SZ → 762 行\n"
     ]
    },
    {
     "name": "stderr",
     "output_type": "stream",
     "text": [
      "/Users/lizongze/Quantitative Trading/.venv/lib/python3.12/site-packages/tushare/pro/data_pro.py:130: FutureWarning: Series.fillna with 'method' is deprecated and will raise in a future version. Use obj.ffill() or obj.bfill() instead.\n",
      "  data['adj_factor'] = data['adj_factor'].fillna(method='bfill')\n"
     ]
    },
    {
     "name": "stdout",
     "output_type": "stream",
     "text": [
      "327/800 601117.SH → 1395 行\n"
     ]
    },
    {
     "name": "stderr",
     "output_type": "stream",
     "text": [
      "/Users/lizongze/Quantitative Trading/.venv/lib/python3.12/site-packages/tushare/pro/data_pro.py:130: FutureWarning: Series.fillna with 'method' is deprecated and will raise in a future version. Use obj.ffill() or obj.bfill() instead.\n",
      "  data['adj_factor'] = data['adj_factor'].fillna(method='bfill')\n"
     ]
    },
    {
     "name": "stdout",
     "output_type": "stream",
     "text": [
      "328/800 300054.SZ → 1395 行\n"
     ]
    },
    {
     "name": "stderr",
     "output_type": "stream",
     "text": [
      "/Users/lizongze/Quantitative Trading/.venv/lib/python3.12/site-packages/tushare/pro/data_pro.py:130: FutureWarning: Series.fillna with 'method' is deprecated and will raise in a future version. Use obj.ffill() or obj.bfill() instead.\n",
      "  data['adj_factor'] = data['adj_factor'].fillna(method='bfill')\n"
     ]
    },
    {
     "name": "stdout",
     "output_type": "stream",
     "text": [
      "329/800 002085.SZ → 1395 行\n"
     ]
    },
    {
     "name": "stderr",
     "output_type": "stream",
     "text": [
      "/Users/lizongze/Quantitative Trading/.venv/lib/python3.12/site-packages/tushare/pro/data_pro.py:130: FutureWarning: Series.fillna with 'method' is deprecated and will raise in a future version. Use obj.ffill() or obj.bfill() instead.\n",
      "  data['adj_factor'] = data['adj_factor'].fillna(method='bfill')\n"
     ]
    },
    {
     "name": "stdout",
     "output_type": "stream",
     "text": [
      "330/800 601717.SH → 1393 行\n"
     ]
    },
    {
     "name": "stderr",
     "output_type": "stream",
     "text": [
      "/Users/lizongze/Quantitative Trading/.venv/lib/python3.12/site-packages/tushare/pro/data_pro.py:130: FutureWarning: Series.fillna with 'method' is deprecated and will raise in a future version. Use obj.ffill() or obj.bfill() instead.\n",
      "  data['adj_factor'] = data['adj_factor'].fillna(method='bfill')\n"
     ]
    },
    {
     "name": "stdout",
     "output_type": "stream",
     "text": [
      "331/800 300413.SZ → 1395 行\n"
     ]
    },
    {
     "name": "stderr",
     "output_type": "stream",
     "text": [
      "/Users/lizongze/Quantitative Trading/.venv/lib/python3.12/site-packages/tushare/pro/data_pro.py:130: FutureWarning: Series.fillna with 'method' is deprecated and will raise in a future version. Use obj.ffill() or obj.bfill() instead.\n",
      "  data['adj_factor'] = data['adj_factor'].fillna(method='bfill')\n"
     ]
    },
    {
     "name": "stdout",
     "output_type": "stream",
     "text": [
      "332/800 300832.SZ → 1312 行\n"
     ]
    },
    {
     "name": "stderr",
     "output_type": "stream",
     "text": [
      "/Users/lizongze/Quantitative Trading/.venv/lib/python3.12/site-packages/tushare/pro/data_pro.py:130: FutureWarning: Series.fillna with 'method' is deprecated and will raise in a future version. Use obj.ffill() or obj.bfill() instead.\n",
      "  data['adj_factor'] = data['adj_factor'].fillna(method='bfill')\n"
     ]
    },
    {
     "name": "stdout",
     "output_type": "stream",
     "text": [
      "333/800 000932.SZ → 1395 行\n"
     ]
    },
    {
     "name": "stderr",
     "output_type": "stream",
     "text": [
      "/Users/lizongze/Quantitative Trading/.venv/lib/python3.12/site-packages/tushare/pro/data_pro.py:130: FutureWarning: Series.fillna with 'method' is deprecated and will raise in a future version. Use obj.ffill() or obj.bfill() instead.\n",
      "  data['adj_factor'] = data['adj_factor'].fillna(method='bfill')\n"
     ]
    },
    {
     "name": "stdout",
     "output_type": "stream",
     "text": [
      "334/800 688617.SH → 1149 行\n"
     ]
    },
    {
     "name": "stderr",
     "output_type": "stream",
     "text": [
      "/Users/lizongze/Quantitative Trading/.venv/lib/python3.12/site-packages/tushare/pro/data_pro.py:130: FutureWarning: Series.fillna with 'method' is deprecated and will raise in a future version. Use obj.ffill() or obj.bfill() instead.\n",
      "  data['adj_factor'] = data['adj_factor'].fillna(method='bfill')\n"
     ]
    },
    {
     "name": "stdout",
     "output_type": "stream",
     "text": [
      "335/800 300757.SZ → 1375 行\n"
     ]
    },
    {
     "name": "stderr",
     "output_type": "stream",
     "text": [
      "/Users/lizongze/Quantitative Trading/.venv/lib/python3.12/site-packages/tushare/pro/data_pro.py:130: FutureWarning: Series.fillna with 'method' is deprecated and will raise in a future version. Use obj.ffill() or obj.bfill() instead.\n",
      "  data['adj_factor'] = data['adj_factor'].fillna(method='bfill')\n"
     ]
    },
    {
     "name": "stdout",
     "output_type": "stream",
     "text": [
      "336/800 302132.SZ → 1385 行\n"
     ]
    },
    {
     "name": "stderr",
     "output_type": "stream",
     "text": [
      "/Users/lizongze/Quantitative Trading/.venv/lib/python3.12/site-packages/tushare/pro/data_pro.py:130: FutureWarning: Series.fillna with 'method' is deprecated and will raise in a future version. Use obj.ffill() or obj.bfill() instead.\n",
      "  data['adj_factor'] = data['adj_factor'].fillna(method='bfill')\n"
     ]
    },
    {
     "name": "stdout",
     "output_type": "stream",
     "text": [
      "337/800 600109.SH → 1385 行\n"
     ]
    },
    {
     "name": "stderr",
     "output_type": "stream",
     "text": [
      "/Users/lizongze/Quantitative Trading/.venv/lib/python3.12/site-packages/tushare/pro/data_pro.py:130: FutureWarning: Series.fillna with 'method' is deprecated and will raise in a future version. Use obj.ffill() or obj.bfill() instead.\n",
      "  data['adj_factor'] = data['adj_factor'].fillna(method='bfill')\n"
     ]
    },
    {
     "name": "stdout",
     "output_type": "stream",
     "text": [
      "338/800 000617.SZ → 1395 行\n"
     ]
    },
    {
     "name": "stderr",
     "output_type": "stream",
     "text": [
      "/Users/lizongze/Quantitative Trading/.venv/lib/python3.12/site-packages/tushare/pro/data_pro.py:130: FutureWarning: Series.fillna with 'method' is deprecated and will raise in a future version. Use obj.ffill() or obj.bfill() instead.\n",
      "  data['adj_factor'] = data['adj_factor'].fillna(method='bfill')\n"
     ]
    },
    {
     "name": "stdout",
     "output_type": "stream",
     "text": [
      "339/800 002459.SZ → 1395 行\n"
     ]
    },
    {
     "name": "stderr",
     "output_type": "stream",
     "text": [
      "/Users/lizongze/Quantitative Trading/.venv/lib/python3.12/site-packages/tushare/pro/data_pro.py:130: FutureWarning: Series.fillna with 'method' is deprecated and will raise in a future version. Use obj.ffill() or obj.bfill() instead.\n",
      "  data['adj_factor'] = data['adj_factor'].fillna(method='bfill')\n"
     ]
    },
    {
     "name": "stdout",
     "output_type": "stream",
     "text": [
      "340/800 002465.SZ → 1395 行\n"
     ]
    },
    {
     "name": "stderr",
     "output_type": "stream",
     "text": [
      "/Users/lizongze/Quantitative Trading/.venv/lib/python3.12/site-packages/tushare/pro/data_pro.py:130: FutureWarning: Series.fillna with 'method' is deprecated and will raise in a future version. Use obj.ffill() or obj.bfill() instead.\n",
      "  data['adj_factor'] = data['adj_factor'].fillna(method='bfill')\n"
     ]
    },
    {
     "name": "stdout",
     "output_type": "stream",
     "text": [
      "341/800 601021.SH → 1395 行\n"
     ]
    },
    {
     "name": "stderr",
     "output_type": "stream",
     "text": [
      "/Users/lizongze/Quantitative Trading/.venv/lib/python3.12/site-packages/tushare/pro/data_pro.py:130: FutureWarning: Series.fillna with 'method' is deprecated and will raise in a future version. Use obj.ffill() or obj.bfill() instead.\n",
      "  data['adj_factor'] = data['adj_factor'].fillna(method='bfill')\n"
     ]
    },
    {
     "name": "stdout",
     "output_type": "stream",
     "text": [
      "342/800 600352.SH → 1395 行\n"
     ]
    },
    {
     "name": "stderr",
     "output_type": "stream",
     "text": [
      "/Users/lizongze/Quantitative Trading/.venv/lib/python3.12/site-packages/tushare/pro/data_pro.py:130: FutureWarning: Series.fillna with 'method' is deprecated and will raise in a future version. Use obj.ffill() or obj.bfill() instead.\n",
      "  data['adj_factor'] = data['adj_factor'].fillna(method='bfill')\n"
     ]
    },
    {
     "name": "stdout",
     "output_type": "stream",
     "text": [
      "343/800 300474.SZ → 1395 行\n"
     ]
    },
    {
     "name": "stderr",
     "output_type": "stream",
     "text": [
      "/Users/lizongze/Quantitative Trading/.venv/lib/python3.12/site-packages/tushare/pro/data_pro.py:130: FutureWarning: Series.fillna with 'method' is deprecated and will raise in a future version. Use obj.ffill() or obj.bfill() instead.\n",
      "  data['adj_factor'] = data['adj_factor'].fillna(method='bfill')\n"
     ]
    },
    {
     "name": "stdout",
     "output_type": "stream",
     "text": [
      "344/800 603979.SH → 1395 行\n"
     ]
    },
    {
     "name": "stderr",
     "output_type": "stream",
     "text": [
      "/Users/lizongze/Quantitative Trading/.venv/lib/python3.12/site-packages/tushare/pro/data_pro.py:130: FutureWarning: Series.fillna with 'method' is deprecated and will raise in a future version. Use obj.ffill() or obj.bfill() instead.\n",
      "  data['adj_factor'] = data['adj_factor'].fillna(method='bfill')\n"
     ]
    },
    {
     "name": "stdout",
     "output_type": "stream",
     "text": [
      "345/800 002624.SZ → 1395 行\n"
     ]
    },
    {
     "name": "stderr",
     "output_type": "stream",
     "text": [
      "/Users/lizongze/Quantitative Trading/.venv/lib/python3.12/site-packages/tushare/pro/data_pro.py:130: FutureWarning: Series.fillna with 'method' is deprecated and will raise in a future version. Use obj.ffill() or obj.bfill() instead.\n",
      "  data['adj_factor'] = data['adj_factor'].fillna(method='bfill')\n"
     ]
    },
    {
     "name": "stdout",
     "output_type": "stream",
     "text": [
      "346/800 688361.SH → 578 行\n"
     ]
    },
    {
     "name": "stderr",
     "output_type": "stream",
     "text": [
      "/Users/lizongze/Quantitative Trading/.venv/lib/python3.12/site-packages/tushare/pro/data_pro.py:130: FutureWarning: Series.fillna with 'method' is deprecated and will raise in a future version. Use obj.ffill() or obj.bfill() instead.\n",
      "  data['adj_factor'] = data['adj_factor'].fillna(method='bfill')\n"
     ]
    },
    {
     "name": "stdout",
     "output_type": "stream",
     "text": [
      "347/800 000596.SZ → 1395 行\n"
     ]
    },
    {
     "name": "stderr",
     "output_type": "stream",
     "text": [
      "/Users/lizongze/Quantitative Trading/.venv/lib/python3.12/site-packages/tushare/pro/data_pro.py:130: FutureWarning: Series.fillna with 'method' is deprecated and will raise in a future version. Use obj.ffill() or obj.bfill() instead.\n",
      "  data['adj_factor'] = data['adj_factor'].fillna(method='bfill')\n"
     ]
    },
    {
     "name": "stdout",
     "output_type": "stream",
     "text": [
      "348/800 000895.SZ → 1395 行\n"
     ]
    },
    {
     "name": "stderr",
     "output_type": "stream",
     "text": [
      "/Users/lizongze/Quantitative Trading/.venv/lib/python3.12/site-packages/tushare/pro/data_pro.py:130: FutureWarning: Series.fillna with 'method' is deprecated and will raise in a future version. Use obj.ffill() or obj.bfill() instead.\n",
      "  data['adj_factor'] = data['adj_factor'].fillna(method='bfill')\n"
     ]
    },
    {
     "name": "stdout",
     "output_type": "stream",
     "text": [
      "349/800 000034.SZ → 1395 行\n"
     ]
    },
    {
     "name": "stderr",
     "output_type": "stream",
     "text": [
      "/Users/lizongze/Quantitative Trading/.venv/lib/python3.12/site-packages/tushare/pro/data_pro.py:130: FutureWarning: Series.fillna with 'method' is deprecated and will raise in a future version. Use obj.ffill() or obj.bfill() instead.\n",
      "  data['adj_factor'] = data['adj_factor'].fillna(method='bfill')\n"
     ]
    },
    {
     "name": "stdout",
     "output_type": "stream",
     "text": [
      "350/800 601233.SH → 1395 行\n"
     ]
    },
    {
     "name": "stderr",
     "output_type": "stream",
     "text": [
      "/Users/lizongze/Quantitative Trading/.venv/lib/python3.12/site-packages/tushare/pro/data_pro.py:130: FutureWarning: Series.fillna with 'method' is deprecated and will raise in a future version. Use obj.ffill() or obj.bfill() instead.\n",
      "  data['adj_factor'] = data['adj_factor'].fillna(method='bfill')\n"
     ]
    },
    {
     "name": "stdout",
     "output_type": "stream",
     "text": [
      "351/800 688047.SH → 797 行\n"
     ]
    },
    {
     "name": "stderr",
     "output_type": "stream",
     "text": [
      "/Users/lizongze/Quantitative Trading/.venv/lib/python3.12/site-packages/tushare/pro/data_pro.py:130: FutureWarning: Series.fillna with 'method' is deprecated and will raise in a future version. Use obj.ffill() or obj.bfill() instead.\n",
      "  data['adj_factor'] = data['adj_factor'].fillna(method='bfill')\n"
     ]
    },
    {
     "name": "stdout",
     "output_type": "stream",
     "text": [
      "352/800 600482.SH → 1385 行\n"
     ]
    },
    {
     "name": "stderr",
     "output_type": "stream",
     "text": [
      "/Users/lizongze/Quantitative Trading/.venv/lib/python3.12/site-packages/tushare/pro/data_pro.py:130: FutureWarning: Series.fillna with 'method' is deprecated and will raise in a future version. Use obj.ffill() or obj.bfill() instead.\n",
      "  data['adj_factor'] = data['adj_factor'].fillna(method='bfill')\n"
     ]
    },
    {
     "name": "stdout",
     "output_type": "stream",
     "text": [
      "353/800 600884.SH → 1395 行\n"
     ]
    },
    {
     "name": "stderr",
     "output_type": "stream",
     "text": [
      "/Users/lizongze/Quantitative Trading/.venv/lib/python3.12/site-packages/tushare/pro/data_pro.py:130: FutureWarning: Series.fillna with 'method' is deprecated and will raise in a future version. Use obj.ffill() or obj.bfill() instead.\n",
      "  data['adj_factor'] = data['adj_factor'].fillna(method='bfill')\n"
     ]
    },
    {
     "name": "stdout",
     "output_type": "stream",
     "text": [
      "354/800 000301.SZ → 1384 行\n"
     ]
    },
    {
     "name": "stderr",
     "output_type": "stream",
     "text": [
      "/Users/lizongze/Quantitative Trading/.venv/lib/python3.12/site-packages/tushare/pro/data_pro.py:130: FutureWarning: Series.fillna with 'method' is deprecated and will raise in a future version. Use obj.ffill() or obj.bfill() instead.\n",
      "  data['adj_factor'] = data['adj_factor'].fillna(method='bfill')\n"
     ]
    },
    {
     "name": "stdout",
     "output_type": "stream",
     "text": [
      "355/800 300136.SZ → 1395 行\n"
     ]
    },
    {
     "name": "stderr",
     "output_type": "stream",
     "text": [
      "/Users/lizongze/Quantitative Trading/.venv/lib/python3.12/site-packages/tushare/pro/data_pro.py:130: FutureWarning: Series.fillna with 'method' is deprecated and will raise in a future version. Use obj.ffill() or obj.bfill() instead.\n",
      "  data['adj_factor'] = data['adj_factor'].fillna(method='bfill')\n"
     ]
    },
    {
     "name": "stdout",
     "output_type": "stream",
     "text": [
      "356/800 603486.SH → 1395 行\n"
     ]
    },
    {
     "name": "stderr",
     "output_type": "stream",
     "text": [
      "/Users/lizongze/Quantitative Trading/.venv/lib/python3.12/site-packages/tushare/pro/data_pro.py:130: FutureWarning: Series.fillna with 'method' is deprecated and will raise in a future version. Use obj.ffill() or obj.bfill() instead.\n",
      "  data['adj_factor'] = data['adj_factor'].fillna(method='bfill')\n"
     ]
    },
    {
     "name": "stdout",
     "output_type": "stream",
     "text": [
      "357/800 300122.SZ → 1395 行\n"
     ]
    },
    {
     "name": "stderr",
     "output_type": "stream",
     "text": [
      "/Users/lizongze/Quantitative Trading/.venv/lib/python3.12/site-packages/tushare/pro/data_pro.py:130: FutureWarning: Series.fillna with 'method' is deprecated and will raise in a future version. Use obj.ffill() or obj.bfill() instead.\n",
      "  data['adj_factor'] = data['adj_factor'].fillna(method='bfill')\n"
     ]
    },
    {
     "name": "stdout",
     "output_type": "stream",
     "text": [
      "358/800 601319.SH → 1395 行\n"
     ]
    },
    {
     "name": "stderr",
     "output_type": "stream",
     "text": [
      "/Users/lizongze/Quantitative Trading/.venv/lib/python3.12/site-packages/tushare/pro/data_pro.py:130: FutureWarning: Series.fillna with 'method' is deprecated and will raise in a future version. Use obj.ffill() or obj.bfill() instead.\n",
      "  data['adj_factor'] = data['adj_factor'].fillna(method='bfill')\n"
     ]
    },
    {
     "name": "stdout",
     "output_type": "stream",
     "text": [
      "359/800 688578.SH → 1174 行\n"
     ]
    },
    {
     "name": "stderr",
     "output_type": "stream",
     "text": [
      "/Users/lizongze/Quantitative Trading/.venv/lib/python3.12/site-packages/tushare/pro/data_pro.py:130: FutureWarning: Series.fillna with 'method' is deprecated and will raise in a future version. Use obj.ffill() or obj.bfill() instead.\n",
      "  data['adj_factor'] = data['adj_factor'].fillna(method='bfill')\n"
     ]
    },
    {
     "name": "stdout",
     "output_type": "stream",
     "text": [
      "360/800 601665.SH → 1043 行\n"
     ]
    },
    {
     "name": "stderr",
     "output_type": "stream",
     "text": [
      "/Users/lizongze/Quantitative Trading/.venv/lib/python3.12/site-packages/tushare/pro/data_pro.py:130: FutureWarning: Series.fillna with 'method' is deprecated and will raise in a future version. Use obj.ffill() or obj.bfill() instead.\n",
      "  data['adj_factor'] = data['adj_factor'].fillna(method='bfill')\n"
     ]
    },
    {
     "name": "stdout",
     "output_type": "stream",
     "text": [
      "361/800 300024.SZ → 1395 行\n"
     ]
    },
    {
     "name": "stderr",
     "output_type": "stream",
     "text": [
      "/Users/lizongze/Quantitative Trading/.venv/lib/python3.12/site-packages/tushare/pro/data_pro.py:130: FutureWarning: Series.fillna with 'method' is deprecated and will raise in a future version. Use obj.ffill() or obj.bfill() instead.\n",
      "  data['adj_factor'] = data['adj_factor'].fillna(method='bfill')\n"
     ]
    },
    {
     "name": "stdout",
     "output_type": "stream",
     "text": [
      "362/800 002155.SZ → 1395 行\n"
     ]
    },
    {
     "name": "stderr",
     "output_type": "stream",
     "text": [
      "/Users/lizongze/Quantitative Trading/.venv/lib/python3.12/site-packages/tushare/pro/data_pro.py:130: FutureWarning: Series.fillna with 'method' is deprecated and will raise in a future version. Use obj.ffill() or obj.bfill() instead.\n",
      "  data['adj_factor'] = data['adj_factor'].fillna(method='bfill')\n"
     ]
    },
    {
     "name": "stdout",
     "output_type": "stream",
     "text": [
      "363/800 000878.SZ → 1386 行\n"
     ]
    },
    {
     "name": "stderr",
     "output_type": "stream",
     "text": [
      "/Users/lizongze/Quantitative Trading/.venv/lib/python3.12/site-packages/tushare/pro/data_pro.py:130: FutureWarning: Series.fillna with 'method' is deprecated and will raise in a future version. Use obj.ffill() or obj.bfill() instead.\n",
      "  data['adj_factor'] = data['adj_factor'].fillna(method='bfill')\n"
     ]
    },
    {
     "name": "stdout",
     "output_type": "stream",
     "text": [
      "364/800 002078.SZ → 1395 行\n"
     ]
    },
    {
     "name": "stderr",
     "output_type": "stream",
     "text": [
      "/Users/lizongze/Quantitative Trading/.venv/lib/python3.12/site-packages/tushare/pro/data_pro.py:130: FutureWarning: Series.fillna with 'method' is deprecated and will raise in a future version. Use obj.ffill() or obj.bfill() instead.\n",
      "  data['adj_factor'] = data['adj_factor'].fillna(method='bfill')\n"
     ]
    },
    {
     "name": "stdout",
     "output_type": "stream",
     "text": [
      "365/800 000728.SZ → 1389 行\n"
     ]
    },
    {
     "name": "stderr",
     "output_type": "stream",
     "text": [
      "/Users/lizongze/Quantitative Trading/.venv/lib/python3.12/site-packages/tushare/pro/data_pro.py:130: FutureWarning: Series.fillna with 'method' is deprecated and will raise in a future version. Use obj.ffill() or obj.bfill() instead.\n",
      "  data['adj_factor'] = data['adj_factor'].fillna(method='bfill')\n"
     ]
    },
    {
     "name": "stdout",
     "output_type": "stream",
     "text": [
      "366/800 300058.SZ → 1395 行\n"
     ]
    },
    {
     "name": "stderr",
     "output_type": "stream",
     "text": [
      "/Users/lizongze/Quantitative Trading/.venv/lib/python3.12/site-packages/tushare/pro/data_pro.py:130: FutureWarning: Series.fillna with 'method' is deprecated and will raise in a future version. Use obj.ffill() or obj.bfill() instead.\n",
      "  data['adj_factor'] = data['adj_factor'].fillna(method='bfill')\n"
     ]
    },
    {
     "name": "stdout",
     "output_type": "stream",
     "text": [
      "367/800 600298.SH → 1395 行\n"
     ]
    },
    {
     "name": "stderr",
     "output_type": "stream",
     "text": [
      "/Users/lizongze/Quantitative Trading/.venv/lib/python3.12/site-packages/tushare/pro/data_pro.py:130: FutureWarning: Series.fillna with 'method' is deprecated and will raise in a future version. Use obj.ffill() or obj.bfill() instead.\n",
      "  data['adj_factor'] = data['adj_factor'].fillna(method='bfill')\n"
     ]
    },
    {
     "name": "stdout",
     "output_type": "stream",
     "text": [
      "368/800 601696.SH → 1362 行\n"
     ]
    },
    {
     "name": "stderr",
     "output_type": "stream",
     "text": [
      "/Users/lizongze/Quantitative Trading/.venv/lib/python3.12/site-packages/tushare/pro/data_pro.py:130: FutureWarning: Series.fillna with 'method' is deprecated and will raise in a future version. Use obj.ffill() or obj.bfill() instead.\n",
      "  data['adj_factor'] = data['adj_factor'].fillna(method='bfill')\n"
     ]
    },
    {
     "name": "stdout",
     "output_type": "stream",
     "text": [
      "369/800 002065.SZ → 1395 行\n"
     ]
    },
    {
     "name": "stderr",
     "output_type": "stream",
     "text": [
      "/Users/lizongze/Quantitative Trading/.venv/lib/python3.12/site-packages/tushare/pro/data_pro.py:130: FutureWarning: Series.fillna with 'method' is deprecated and will raise in a future version. Use obj.ffill() or obj.bfill() instead.\n",
      "  data['adj_factor'] = data['adj_factor'].fillna(method='bfill')\n"
     ]
    },
    {
     "name": "stdout",
     "output_type": "stream",
     "text": [
      "370/800 000786.SZ → 1395 行\n"
     ]
    },
    {
     "name": "stderr",
     "output_type": "stream",
     "text": [
      "/Users/lizongze/Quantitative Trading/.venv/lib/python3.12/site-packages/tushare/pro/data_pro.py:130: FutureWarning: Series.fillna with 'method' is deprecated and will raise in a future version. Use obj.ffill() or obj.bfill() instead.\n",
      "  data['adj_factor'] = data['adj_factor'].fillna(method='bfill')\n"
     ]
    },
    {
     "name": "stdout",
     "output_type": "stream",
     "text": [
      "371/800 600079.SH → 1385 行\n"
     ]
    },
    {
     "name": "stderr",
     "output_type": "stream",
     "text": [
      "/Users/lizongze/Quantitative Trading/.venv/lib/python3.12/site-packages/tushare/pro/data_pro.py:130: FutureWarning: Series.fillna with 'method' is deprecated and will raise in a future version. Use obj.ffill() or obj.bfill() instead.\n",
      "  data['adj_factor'] = data['adj_factor'].fillna(method='bfill')\n"
     ]
    },
    {
     "name": "stdout",
     "output_type": "stream",
     "text": [
      "372/800 600188.SH → 1395 行\n"
     ]
    },
    {
     "name": "stderr",
     "output_type": "stream",
     "text": [
      "/Users/lizongze/Quantitative Trading/.venv/lib/python3.12/site-packages/tushare/pro/data_pro.py:130: FutureWarning: Series.fillna with 'method' is deprecated and will raise in a future version. Use obj.ffill() or obj.bfill() instead.\n",
      "  data['adj_factor'] = data['adj_factor'].fillna(method='bfill')\n"
     ]
    },
    {
     "name": "stdout",
     "output_type": "stream",
     "text": [
      "373/800 002595.SZ → 1395 行\n"
     ]
    },
    {
     "name": "stderr",
     "output_type": "stream",
     "text": [
      "/Users/lizongze/Quantitative Trading/.venv/lib/python3.12/site-packages/tushare/pro/data_pro.py:130: FutureWarning: Series.fillna with 'method' is deprecated and will raise in a future version. Use obj.ffill() or obj.bfill() instead.\n",
      "  data['adj_factor'] = data['adj_factor'].fillna(method='bfill')\n"
     ]
    },
    {
     "name": "stdout",
     "output_type": "stream",
     "text": [
      "374/800 600515.SH → 1390 行\n"
     ]
    },
    {
     "name": "stderr",
     "output_type": "stream",
     "text": [
      "/Users/lizongze/Quantitative Trading/.venv/lib/python3.12/site-packages/tushare/pro/data_pro.py:130: FutureWarning: Series.fillna with 'method' is deprecated and will raise in a future version. Use obj.ffill() or obj.bfill() instead.\n",
      "  data['adj_factor'] = data['adj_factor'].fillna(method='bfill')\n"
     ]
    },
    {
     "name": "stdout",
     "output_type": "stream",
     "text": [
      "375/800 300748.SZ → 1395 行\n"
     ]
    },
    {
     "name": "stderr",
     "output_type": "stream",
     "text": [
      "/Users/lizongze/Quantitative Trading/.venv/lib/python3.12/site-packages/tushare/pro/data_pro.py:130: FutureWarning: Series.fillna with 'method' is deprecated and will raise in a future version. Use obj.ffill() or obj.bfill() instead.\n",
      "  data['adj_factor'] = data['adj_factor'].fillna(method='bfill')\n"
     ]
    },
    {
     "name": "stdout",
     "output_type": "stream",
     "text": [
      "376/800 002180.SZ → 1386 行\n"
     ]
    },
    {
     "name": "stderr",
     "output_type": "stream",
     "text": [
      "/Users/lizongze/Quantitative Trading/.venv/lib/python3.12/site-packages/tushare/pro/data_pro.py:130: FutureWarning: Series.fillna with 'method' is deprecated and will raise in a future version. Use obj.ffill() or obj.bfill() instead.\n",
      "  data['adj_factor'] = data['adj_factor'].fillna(method='bfill')\n"
     ]
    },
    {
     "name": "stdout",
     "output_type": "stream",
     "text": [
      "377/800 002223.SZ → 1395 行\n"
     ]
    },
    {
     "name": "stderr",
     "output_type": "stream",
     "text": [
      "/Users/lizongze/Quantitative Trading/.venv/lib/python3.12/site-packages/tushare/pro/data_pro.py:130: FutureWarning: Series.fillna with 'method' is deprecated and will raise in a future version. Use obj.ffill() or obj.bfill() instead.\n",
      "  data['adj_factor'] = data['adj_factor'].fillna(method='bfill')\n"
     ]
    },
    {
     "name": "stdout",
     "output_type": "stream",
     "text": [
      "378/800 603228.SH → 1395 行\n"
     ]
    },
    {
     "name": "stderr",
     "output_type": "stream",
     "text": [
      "/Users/lizongze/Quantitative Trading/.venv/lib/python3.12/site-packages/tushare/pro/data_pro.py:130: FutureWarning: Series.fillna with 'method' is deprecated and will raise in a future version. Use obj.ffill() or obj.bfill() instead.\n",
      "  data['adj_factor'] = data['adj_factor'].fillna(method='bfill')\n"
     ]
    },
    {
     "name": "stdout",
     "output_type": "stream",
     "text": [
      "379/800 600875.SH → 1395 行\n"
     ]
    },
    {
     "name": "stderr",
     "output_type": "stream",
     "text": [
      "/Users/lizongze/Quantitative Trading/.venv/lib/python3.12/site-packages/tushare/pro/data_pro.py:130: FutureWarning: Series.fillna with 'method' is deprecated and will raise in a future version. Use obj.ffill() or obj.bfill() instead.\n",
      "  data['adj_factor'] = data['adj_factor'].fillna(method='bfill')\n"
     ]
    },
    {
     "name": "stdout",
     "output_type": "stream",
     "text": [
      "380/800 600085.SH → 1395 行\n"
     ]
    },
    {
     "name": "stderr",
     "output_type": "stream",
     "text": [
      "/Users/lizongze/Quantitative Trading/.venv/lib/python3.12/site-packages/tushare/pro/data_pro.py:130: FutureWarning: Series.fillna with 'method' is deprecated and will raise in a future version. Use obj.ffill() or obj.bfill() instead.\n",
      "  data['adj_factor'] = data['adj_factor'].fillna(method='bfill')\n"
     ]
    },
    {
     "name": "stdout",
     "output_type": "stream",
     "text": [
      "381/800 300919.SZ → 1159 行\n"
     ]
    },
    {
     "name": "stderr",
     "output_type": "stream",
     "text": [
      "/Users/lizongze/Quantitative Trading/.venv/lib/python3.12/site-packages/tushare/pro/data_pro.py:130: FutureWarning: Series.fillna with 'method' is deprecated and will raise in a future version. Use obj.ffill() or obj.bfill() instead.\n",
      "  data['adj_factor'] = data['adj_factor'].fillna(method='bfill')\n"
     ]
    },
    {
     "name": "stdout",
     "output_type": "stream",
     "text": [
      "382/800 600600.SH → 1395 行\n"
     ]
    },
    {
     "name": "stderr",
     "output_type": "stream",
     "text": [
      "/Users/lizongze/Quantitative Trading/.venv/lib/python3.12/site-packages/tushare/pro/data_pro.py:130: FutureWarning: Series.fillna with 'method' is deprecated and will raise in a future version. Use obj.ffill() or obj.bfill() instead.\n",
      "  data['adj_factor'] = data['adj_factor'].fillna(method='bfill')\n"
     ]
    },
    {
     "name": "stdout",
     "output_type": "stream",
     "text": [
      "383/800 605589.SH → 1006 行\n"
     ]
    },
    {
     "name": "stderr",
     "output_type": "stream",
     "text": [
      "/Users/lizongze/Quantitative Trading/.venv/lib/python3.12/site-packages/tushare/pro/data_pro.py:130: FutureWarning: Series.fillna with 'method' is deprecated and will raise in a future version. Use obj.ffill() or obj.bfill() instead.\n",
      "  data['adj_factor'] = data['adj_factor'].fillna(method='bfill')\n"
     ]
    },
    {
     "name": "stdout",
     "output_type": "stream",
     "text": [
      "384/800 002410.SZ → 1395 行\n"
     ]
    },
    {
     "name": "stderr",
     "output_type": "stream",
     "text": [
      "/Users/lizongze/Quantitative Trading/.venv/lib/python3.12/site-packages/tushare/pro/data_pro.py:130: FutureWarning: Series.fillna with 'method' is deprecated and will raise in a future version. Use obj.ffill() or obj.bfill() instead.\n",
      "  data['adj_factor'] = data['adj_factor'].fillna(method='bfill')\n"
     ]
    },
    {
     "name": "stdout",
     "output_type": "stream",
     "text": [
      "385/800 300003.SZ → 1395 行\n"
     ]
    },
    {
     "name": "stderr",
     "output_type": "stream",
     "text": [
      "/Users/lizongze/Quantitative Trading/.venv/lib/python3.12/site-packages/tushare/pro/data_pro.py:130: FutureWarning: Series.fillna with 'method' is deprecated and will raise in a future version. Use obj.ffill() or obj.bfill() instead.\n",
      "  data['adj_factor'] = data['adj_factor'].fillna(method='bfill')\n"
     ]
    },
    {
     "name": "stdout",
     "output_type": "stream",
     "text": [
      "386/800 603160.SH → 1385 行\n"
     ]
    },
    {
     "name": "stderr",
     "output_type": "stream",
     "text": [
      "/Users/lizongze/Quantitative Trading/.venv/lib/python3.12/site-packages/tushare/pro/data_pro.py:130: FutureWarning: Series.fillna with 'method' is deprecated and will raise in a future version. Use obj.ffill() or obj.bfill() instead.\n",
      "  data['adj_factor'] = data['adj_factor'].fillna(method='bfill')\n"
     ]
    },
    {
     "name": "stdout",
     "output_type": "stream",
     "text": [
      "387/800 002673.SZ → 1395 行\n"
     ]
    },
    {
     "name": "stderr",
     "output_type": "stream",
     "text": [
      "/Users/lizongze/Quantitative Trading/.venv/lib/python3.12/site-packages/tushare/pro/data_pro.py:130: FutureWarning: Series.fillna with 'method' is deprecated and will raise in a future version. Use obj.ffill() or obj.bfill() instead.\n",
      "  data['adj_factor'] = data['adj_factor'].fillna(method='bfill')\n"
     ]
    },
    {
     "name": "stdout",
     "output_type": "stream",
     "text": [
      "388/800 688599.SH → 1291 行\n"
     ]
    },
    {
     "name": "stderr",
     "output_type": "stream",
     "text": [
      "/Users/lizongze/Quantitative Trading/.venv/lib/python3.12/site-packages/tushare/pro/data_pro.py:130: FutureWarning: Series.fillna with 'method' is deprecated and will raise in a future version. Use obj.ffill() or obj.bfill() instead.\n",
      "  data['adj_factor'] = data['adj_factor'].fillna(method='bfill')\n"
     ]
    },
    {
     "name": "stdout",
     "output_type": "stream",
     "text": [
      "389/800 601128.SH → 1395 行\n"
     ]
    },
    {
     "name": "stderr",
     "output_type": "stream",
     "text": [
      "/Users/lizongze/Quantitative Trading/.venv/lib/python3.12/site-packages/tushare/pro/data_pro.py:130: FutureWarning: Series.fillna with 'method' is deprecated and will raise in a future version. Use obj.ffill() or obj.bfill() instead.\n",
      "  data['adj_factor'] = data['adj_factor'].fillna(method='bfill')\n"
     ]
    },
    {
     "name": "stdout",
     "output_type": "stream",
     "text": [
      "390/800 603596.SH → 1395 行\n"
     ]
    },
    {
     "name": "stderr",
     "output_type": "stream",
     "text": [
      "/Users/lizongze/Quantitative Trading/.venv/lib/python3.12/site-packages/tushare/pro/data_pro.py:130: FutureWarning: Series.fillna with 'method' is deprecated and will raise in a future version. Use obj.ffill() or obj.bfill() instead.\n",
      "  data['adj_factor'] = data['adj_factor'].fillna(method='bfill')\n"
     ]
    },
    {
     "name": "stdout",
     "output_type": "stream",
     "text": [
      "391/800 300373.SZ → 1385 行\n"
     ]
    },
    {
     "name": "stderr",
     "output_type": "stream",
     "text": [
      "/Users/lizongze/Quantitative Trading/.venv/lib/python3.12/site-packages/tushare/pro/data_pro.py:130: FutureWarning: Series.fillna with 'method' is deprecated and will raise in a future version. Use obj.ffill() or obj.bfill() instead.\n",
      "  data['adj_factor'] = data['adj_factor'].fillna(method='bfill')\n"
     ]
    },
    {
     "name": "stdout",
     "output_type": "stream",
     "text": [
      "392/800 000960.SZ → 1395 行\n"
     ]
    },
    {
     "name": "stderr",
     "output_type": "stream",
     "text": [
      "/Users/lizongze/Quantitative Trading/.venv/lib/python3.12/site-packages/tushare/pro/data_pro.py:130: FutureWarning: Series.fillna with 'method' is deprecated and will raise in a future version. Use obj.ffill() or obj.bfill() instead.\n",
      "  data['adj_factor'] = data['adj_factor'].fillna(method='bfill')\n"
     ]
    },
    {
     "name": "stdout",
     "output_type": "stream",
     "text": [
      "393/800 002821.SZ → 1395 行\n"
     ]
    },
    {
     "name": "stderr",
     "output_type": "stream",
     "text": [
      "/Users/lizongze/Quantitative Trading/.venv/lib/python3.12/site-packages/tushare/pro/data_pro.py:130: FutureWarning: Series.fillna with 'method' is deprecated and will raise in a future version. Use obj.ffill() or obj.bfill() instead.\n",
      "  data['adj_factor'] = data['adj_factor'].fillna(method='bfill')\n"
     ]
    },
    {
     "name": "stdout",
     "output_type": "stream",
     "text": [
      "394/800 002080.SZ → 1385 行\n"
     ]
    },
    {
     "name": "stderr",
     "output_type": "stream",
     "text": [
      "/Users/lizongze/Quantitative Trading/.venv/lib/python3.12/site-packages/tushare/pro/data_pro.py:130: FutureWarning: Series.fillna with 'method' is deprecated and will raise in a future version. Use obj.ffill() or obj.bfill() instead.\n",
      "  data['adj_factor'] = data['adj_factor'].fillna(method='bfill')\n"
     ]
    },
    {
     "name": "stdout",
     "output_type": "stream",
     "text": [
      "395/800 600161.SH → 1395 行\n"
     ]
    },
    {
     "name": "stderr",
     "output_type": "stream",
     "text": [
      "/Users/lizongze/Quantitative Trading/.venv/lib/python3.12/site-packages/tushare/pro/data_pro.py:130: FutureWarning: Series.fillna with 'method' is deprecated and will raise in a future version. Use obj.ffill() or obj.bfill() instead.\n",
      "  data['adj_factor'] = data['adj_factor'].fillna(method='bfill')\n"
     ]
    },
    {
     "name": "stdout",
     "output_type": "stream",
     "text": [
      "396/800 688180.SH → 1268 行\n"
     ]
    },
    {
     "name": "stderr",
     "output_type": "stream",
     "text": [
      "/Users/lizongze/Quantitative Trading/.venv/lib/python3.12/site-packages/tushare/pro/data_pro.py:130: FutureWarning: Series.fillna with 'method' is deprecated and will raise in a future version. Use obj.ffill() or obj.bfill() instead.\n",
      "  data['adj_factor'] = data['adj_factor'].fillna(method='bfill')\n"
     ]
    },
    {
     "name": "stdout",
     "output_type": "stream",
     "text": [
      "397/800 000009.SZ → 1395 行\n"
     ]
    },
    {
     "name": "stderr",
     "output_type": "stream",
     "text": [
      "/Users/lizongze/Quantitative Trading/.venv/lib/python3.12/site-packages/tushare/pro/data_pro.py:130: FutureWarning: Series.fillna with 'method' is deprecated and will raise in a future version. Use obj.ffill() or obj.bfill() instead.\n",
      "  data['adj_factor'] = data['adj_factor'].fillna(method='bfill')\n"
     ]
    },
    {
     "name": "stdout",
     "output_type": "stream",
     "text": [
      "398/800 688223.SH → 893 行\n"
     ]
    },
    {
     "name": "stderr",
     "output_type": "stream",
     "text": [
      "/Users/lizongze/Quantitative Trading/.venv/lib/python3.12/site-packages/tushare/pro/data_pro.py:130: FutureWarning: Series.fillna with 'method' is deprecated and will raise in a future version. Use obj.ffill() or obj.bfill() instead.\n",
      "  data['adj_factor'] = data['adj_factor'].fillna(method='bfill')\n"
     ]
    },
    {
     "name": "stdout",
     "output_type": "stream",
     "text": [
      "399/800 301308.SZ → 767 行\n"
     ]
    },
    {
     "name": "stderr",
     "output_type": "stream",
     "text": [
      "/Users/lizongze/Quantitative Trading/.venv/lib/python3.12/site-packages/tushare/pro/data_pro.py:130: FutureWarning: Series.fillna with 'method' is deprecated and will raise in a future version. Use obj.ffill() or obj.bfill() instead.\n",
      "  data['adj_factor'] = data['adj_factor'].fillna(method='bfill')\n"
     ]
    },
    {
     "name": "stdout",
     "output_type": "stream",
     "text": [
      "400/800 600363.SH → 1395 行\n"
     ]
    },
    {
     "name": "stderr",
     "output_type": "stream",
     "text": [
      "/Users/lizongze/Quantitative Trading/.venv/lib/python3.12/site-packages/tushare/pro/data_pro.py:130: FutureWarning: Series.fillna with 'method' is deprecated and will raise in a future version. Use obj.ffill() or obj.bfill() instead.\n",
      "  data['adj_factor'] = data['adj_factor'].fillna(method='bfill')\n"
     ]
    },
    {
     "name": "stdout",
     "output_type": "stream",
     "text": [
      "401/800 601198.SH → 1395 行\n"
     ]
    },
    {
     "name": "stderr",
     "output_type": "stream",
     "text": [
      "/Users/lizongze/Quantitative Trading/.venv/lib/python3.12/site-packages/tushare/pro/data_pro.py:130: FutureWarning: Series.fillna with 'method' is deprecated and will raise in a future version. Use obj.ffill() or obj.bfill() instead.\n",
      "  data['adj_factor'] = data['adj_factor'].fillna(method='bfill')\n"
     ]
    },
    {
     "name": "stdout",
     "output_type": "stream",
     "text": [
      "402/800 300763.SZ → 1395 行\n"
     ]
    },
    {
     "name": "stderr",
     "output_type": "stream",
     "text": [
      "/Users/lizongze/Quantitative Trading/.venv/lib/python3.12/site-packages/tushare/pro/data_pro.py:130: FutureWarning: Series.fillna with 'method' is deprecated and will raise in a future version. Use obj.ffill() or obj.bfill() instead.\n",
      "  data['adj_factor'] = data['adj_factor'].fillna(method='bfill')\n"
     ]
    },
    {
     "name": "stdout",
     "output_type": "stream",
     "text": [
      "403/800 000876.SZ → 1395 行\n"
     ]
    },
    {
     "name": "stderr",
     "output_type": "stream",
     "text": [
      "/Users/lizongze/Quantitative Trading/.venv/lib/python3.12/site-packages/tushare/pro/data_pro.py:130: FutureWarning: Series.fillna with 'method' is deprecated and will raise in a future version. Use obj.ffill() or obj.bfill() instead.\n",
      "  data['adj_factor'] = data['adj_factor'].fillna(method='bfill')\n"
     ]
    },
    {
     "name": "stdout",
     "output_type": "stream",
     "text": [
      "404/800 002444.SZ → 1395 行\n"
     ]
    },
    {
     "name": "stderr",
     "output_type": "stream",
     "text": [
      "/Users/lizongze/Quantitative Trading/.venv/lib/python3.12/site-packages/tushare/pro/data_pro.py:130: FutureWarning: Series.fillna with 'method' is deprecated and will raise in a future version. Use obj.ffill() or obj.bfill() instead.\n",
      "  data['adj_factor'] = data['adj_factor'].fillna(method='bfill')\n"
     ]
    },
    {
     "name": "stdout",
     "output_type": "stream",
     "text": [
      "405/800 300383.SZ → 1395 行\n"
     ]
    },
    {
     "name": "stderr",
     "output_type": "stream",
     "text": [
      "/Users/lizongze/Quantitative Trading/.venv/lib/python3.12/site-packages/tushare/pro/data_pro.py:130: FutureWarning: Series.fillna with 'method' is deprecated and will raise in a future version. Use obj.ffill() or obj.bfill() instead.\n",
      "  data['adj_factor'] = data['adj_factor'].fillna(method='bfill')\n"
     ]
    },
    {
     "name": "stdout",
     "output_type": "stream",
     "text": [
      "406/800 000893.SZ → 1384 行\n"
     ]
    },
    {
     "name": "stderr",
     "output_type": "stream",
     "text": [
      "/Users/lizongze/Quantitative Trading/.venv/lib/python3.12/site-packages/tushare/pro/data_pro.py:130: FutureWarning: Series.fillna with 'method' is deprecated and will raise in a future version. Use obj.ffill() or obj.bfill() instead.\n",
      "  data['adj_factor'] = data['adj_factor'].fillna(method='bfill')\n"
     ]
    },
    {
     "name": "stdout",
     "output_type": "stream",
     "text": [
      "407/800 600141.SH → 1395 行\n"
     ]
    },
    {
     "name": "stderr",
     "output_type": "stream",
     "text": [
      "/Users/lizongze/Quantitative Trading/.venv/lib/python3.12/site-packages/tushare/pro/data_pro.py:130: FutureWarning: Series.fillna with 'method' is deprecated and will raise in a future version. Use obj.ffill() or obj.bfill() instead.\n",
      "  data['adj_factor'] = data['adj_factor'].fillna(method='bfill')\n"
     ]
    },
    {
     "name": "stdout",
     "output_type": "stream",
     "text": [
      "408/800 300012.SZ → 1395 行\n"
     ]
    },
    {
     "name": "stderr",
     "output_type": "stream",
     "text": [
      "/Users/lizongze/Quantitative Trading/.venv/lib/python3.12/site-packages/tushare/pro/data_pro.py:130: FutureWarning: Series.fillna with 'method' is deprecated and will raise in a future version. Use obj.ffill() or obj.bfill() instead.\n",
      "  data['adj_factor'] = data['adj_factor'].fillna(method='bfill')\n"
     ]
    },
    {
     "name": "stdout",
     "output_type": "stream",
     "text": [
      "409/800 600118.SH → 1395 行\n"
     ]
    },
    {
     "name": "stderr",
     "output_type": "stream",
     "text": [
      "/Users/lizongze/Quantitative Trading/.venv/lib/python3.12/site-packages/tushare/pro/data_pro.py:130: FutureWarning: Series.fillna with 'method' is deprecated and will raise in a future version. Use obj.ffill() or obj.bfill() instead.\n",
      "  data['adj_factor'] = data['adj_factor'].fillna(method='bfill')\n"
     ]
    },
    {
     "name": "stdout",
     "output_type": "stream",
     "text": [
      "410/800 688027.SH → 1268 行\n"
     ]
    },
    {
     "name": "stderr",
     "output_type": "stream",
     "text": [
      "/Users/lizongze/Quantitative Trading/.venv/lib/python3.12/site-packages/tushare/pro/data_pro.py:130: FutureWarning: Series.fillna with 'method' is deprecated and will raise in a future version. Use obj.ffill() or obj.bfill() instead.\n",
      "  data['adj_factor'] = data['adj_factor'].fillna(method='bfill')\n"
     ]
    },
    {
     "name": "stdout",
     "output_type": "stream",
     "text": [
      "411/800 000997.SZ → 1395 行\n"
     ]
    },
    {
     "name": "stderr",
     "output_type": "stream",
     "text": [
      "/Users/lizongze/Quantitative Trading/.venv/lib/python3.12/site-packages/tushare/pro/data_pro.py:130: FutureWarning: Series.fillna with 'method' is deprecated and will raise in a future version. Use obj.ffill() or obj.bfill() instead.\n",
      "  data['adj_factor'] = data['adj_factor'].fillna(method='bfill')\n"
     ]
    },
    {
     "name": "stdout",
     "output_type": "stream",
     "text": [
      "412/800 601577.SH → 1395 行\n"
     ]
    },
    {
     "name": "stderr",
     "output_type": "stream",
     "text": [
      "/Users/lizongze/Quantitative Trading/.venv/lib/python3.12/site-packages/tushare/pro/data_pro.py:130: FutureWarning: Series.fillna with 'method' is deprecated and will raise in a future version. Use obj.ffill() or obj.bfill() instead.\n",
      "  data['adj_factor'] = data['adj_factor'].fillna(method='bfill')\n"
     ]
    },
    {
     "name": "stdout",
     "output_type": "stream",
     "text": [
      "413/800 688385.SH → 1010 行\n"
     ]
    },
    {
     "name": "stderr",
     "output_type": "stream",
     "text": [
      "/Users/lizongze/Quantitative Trading/.venv/lib/python3.12/site-packages/tushare/pro/data_pro.py:130: FutureWarning: Series.fillna with 'method' is deprecated and will raise in a future version. Use obj.ffill() or obj.bfill() instead.\n",
      "  data['adj_factor'] = data['adj_factor'].fillna(method='bfill')\n"
     ]
    },
    {
     "name": "stdout",
     "output_type": "stream",
     "text": [
      "414/800 000423.SZ → 1395 行\n"
     ]
    },
    {
     "name": "stderr",
     "output_type": "stream",
     "text": [
      "/Users/lizongze/Quantitative Trading/.venv/lib/python3.12/site-packages/tushare/pro/data_pro.py:130: FutureWarning: Series.fillna with 'method' is deprecated and will raise in a future version. Use obj.ffill() or obj.bfill() instead.\n",
      "  data['adj_factor'] = data['adj_factor'].fillna(method='bfill')\n"
     ]
    },
    {
     "name": "stdout",
     "output_type": "stream",
     "text": [
      "415/800 601933.SH → 1395 行\n"
     ]
    },
    {
     "name": "stderr",
     "output_type": "stream",
     "text": [
      "/Users/lizongze/Quantitative Trading/.venv/lib/python3.12/site-packages/tushare/pro/data_pro.py:130: FutureWarning: Series.fillna with 'method' is deprecated and will raise in a future version. Use obj.ffill() or obj.bfill() instead.\n",
      "  data['adj_factor'] = data['adj_factor'].fillna(method='bfill')\n"
     ]
    },
    {
     "name": "stdout",
     "output_type": "stream",
     "text": [
      "416/800 603392.SH → 1318 行\n"
     ]
    },
    {
     "name": "stderr",
     "output_type": "stream",
     "text": [
      "/Users/lizongze/Quantitative Trading/.venv/lib/python3.12/site-packages/tushare/pro/data_pro.py:130: FutureWarning: Series.fillna with 'method' is deprecated and will raise in a future version. Use obj.ffill() or obj.bfill() instead.\n",
      "  data['adj_factor'] = data['adj_factor'].fillna(method='bfill')\n"
     ]
    },
    {
     "name": "stdout",
     "output_type": "stream",
     "text": [
      "417/800 600498.SH → 1395 行\n"
     ]
    },
    {
     "name": "stderr",
     "output_type": "stream",
     "text": [
      "/Users/lizongze/Quantitative Trading/.venv/lib/python3.12/site-packages/tushare/pro/data_pro.py:130: FutureWarning: Series.fillna with 'method' is deprecated and will raise in a future version. Use obj.ffill() or obj.bfill() instead.\n",
      "  data['adj_factor'] = data['adj_factor'].fillna(method='bfill')\n"
     ]
    },
    {
     "name": "stdout",
     "output_type": "stream",
     "text": [
      "418/800 002414.SZ → 1395 行\n"
     ]
    },
    {
     "name": "stderr",
     "output_type": "stream",
     "text": [
      "/Users/lizongze/Quantitative Trading/.venv/lib/python3.12/site-packages/tushare/pro/data_pro.py:130: FutureWarning: Series.fillna with 'method' is deprecated and will raise in a future version. Use obj.ffill() or obj.bfill() instead.\n",
      "  data['adj_factor'] = data['adj_factor'].fillna(method='bfill')\n"
     ]
    },
    {
     "name": "stdout",
     "output_type": "stream",
     "text": [
      "419/800 600039.SH → 1383 行\n"
     ]
    },
    {
     "name": "stderr",
     "output_type": "stream",
     "text": [
      "/Users/lizongze/Quantitative Trading/.venv/lib/python3.12/site-packages/tushare/pro/data_pro.py:130: FutureWarning: Series.fillna with 'method' is deprecated and will raise in a future version. Use obj.ffill() or obj.bfill() instead.\n",
      "  data['adj_factor'] = data['adj_factor'].fillna(method='bfill')\n"
     ]
    },
    {
     "name": "stdout",
     "output_type": "stream",
     "text": [
      "420/800 600873.SH → 1395 行\n"
     ]
    },
    {
     "name": "stderr",
     "output_type": "stream",
     "text": [
      "/Users/lizongze/Quantitative Trading/.venv/lib/python3.12/site-packages/tushare/pro/data_pro.py:130: FutureWarning: Series.fillna with 'method' is deprecated and will raise in a future version. Use obj.ffill() or obj.bfill() instead.\n",
      "  data['adj_factor'] = data['adj_factor'].fillna(method='bfill')\n"
     ]
    },
    {
     "name": "stdout",
     "output_type": "stream",
     "text": [
      "421/800 002409.SZ → 1395 行\n"
     ]
    },
    {
     "name": "stderr",
     "output_type": "stream",
     "text": [
      "/Users/lizongze/Quantitative Trading/.venv/lib/python3.12/site-packages/tushare/pro/data_pro.py:130: FutureWarning: Series.fillna with 'method' is deprecated and will raise in a future version. Use obj.ffill() or obj.bfill() instead.\n",
      "  data['adj_factor'] = data['adj_factor'].fillna(method='bfill')\n"
     ]
    },
    {
     "name": "stdout",
     "output_type": "stream",
     "text": [
      "422/800 600171.SH → 1395 行\n"
     ]
    },
    {
     "name": "stderr",
     "output_type": "stream",
     "text": [
      "/Users/lizongze/Quantitative Trading/.venv/lib/python3.12/site-packages/tushare/pro/data_pro.py:130: FutureWarning: Series.fillna with 'method' is deprecated and will raise in a future version. Use obj.ffill() or obj.bfill() instead.\n",
      "  data['adj_factor'] = data['adj_factor'].fillna(method='bfill')\n"
     ]
    },
    {
     "name": "stdout",
     "output_type": "stream",
     "text": [
      "423/800 600637.SH → 1395 行\n"
     ]
    },
    {
     "name": "stderr",
     "output_type": "stream",
     "text": [
      "/Users/lizongze/Quantitative Trading/.venv/lib/python3.12/site-packages/tushare/pro/data_pro.py:130: FutureWarning: Series.fillna with 'method' is deprecated and will raise in a future version. Use obj.ffill() or obj.bfill() instead.\n",
      "  data['adj_factor'] = data['adj_factor'].fillna(method='bfill')\n"
     ]
    },
    {
     "name": "stdout",
     "output_type": "stream",
     "text": [
      "424/800 601898.SH → 1395 行\n"
     ]
    },
    {
     "name": "stderr",
     "output_type": "stream",
     "text": [
      "/Users/lizongze/Quantitative Trading/.venv/lib/python3.12/site-packages/tushare/pro/data_pro.py:130: FutureWarning: Series.fillna with 'method' is deprecated and will raise in a future version. Use obj.ffill() or obj.bfill() instead.\n",
      "  data['adj_factor'] = data['adj_factor'].fillna(method='bfill')\n"
     ]
    },
    {
     "name": "stdout",
     "output_type": "stream",
     "text": [
      "425/800 600061.SH → 1395 行\n"
     ]
    },
    {
     "name": "stderr",
     "output_type": "stream",
     "text": [
      "/Users/lizongze/Quantitative Trading/.venv/lib/python3.12/site-packages/tushare/pro/data_pro.py:130: FutureWarning: Series.fillna with 'method' is deprecated and will raise in a future version. Use obj.ffill() or obj.bfill() instead.\n",
      "  data['adj_factor'] = data['adj_factor'].fillna(method='bfill')\n"
     ]
    },
    {
     "name": "stdout",
     "output_type": "stream",
     "text": [
      "426/800 000750.SZ → 1389 行\n"
     ]
    },
    {
     "name": "stderr",
     "output_type": "stream",
     "text": [
      "/Users/lizongze/Quantitative Trading/.venv/lib/python3.12/site-packages/tushare/pro/data_pro.py:130: FutureWarning: Series.fillna with 'method' is deprecated and will raise in a future version. Use obj.ffill() or obj.bfill() instead.\n",
      "  data['adj_factor'] = data['adj_factor'].fillna(method='bfill')\n"
     ]
    },
    {
     "name": "stdout",
     "output_type": "stream",
     "text": [
      "427/800 300001.SZ → 1395 行\n"
     ]
    },
    {
     "name": "stderr",
     "output_type": "stream",
     "text": [
      "/Users/lizongze/Quantitative Trading/.venv/lib/python3.12/site-packages/tushare/pro/data_pro.py:130: FutureWarning: Series.fillna with 'method' is deprecated and will raise in a future version. Use obj.ffill() or obj.bfill() instead.\n",
      "  data['adj_factor'] = data['adj_factor'].fillna(method='bfill')\n"
     ]
    },
    {
     "name": "stdout",
     "output_type": "stream",
     "text": [
      "428/800 600027.SH → 1384 行\n"
     ]
    },
    {
     "name": "stderr",
     "output_type": "stream",
     "text": [
      "/Users/lizongze/Quantitative Trading/.venv/lib/python3.12/site-packages/tushare/pro/data_pro.py:130: FutureWarning: Series.fillna with 'method' is deprecated and will raise in a future version. Use obj.ffill() or obj.bfill() instead.\n",
      "  data['adj_factor'] = data['adj_factor'].fillna(method='bfill')\n"
     ]
    },
    {
     "name": "stdout",
     "output_type": "stream",
     "text": [
      "429/800 688052.SH → 838 行\n"
     ]
    },
    {
     "name": "stderr",
     "output_type": "stream",
     "text": [
      "/Users/lizongze/Quantitative Trading/.venv/lib/python3.12/site-packages/tushare/pro/data_pro.py:130: FutureWarning: Series.fillna with 'method' is deprecated and will raise in a future version. Use obj.ffill() or obj.bfill() instead.\n",
      "  data['adj_factor'] = data['adj_factor'].fillna(method='bfill')\n"
     ]
    },
    {
     "name": "stdout",
     "output_type": "stream",
     "text": [
      "430/800 688017.SH → 1236 行\n"
     ]
    },
    {
     "name": "stderr",
     "output_type": "stream",
     "text": [
      "/Users/lizongze/Quantitative Trading/.venv/lib/python3.12/site-packages/tushare/pro/data_pro.py:130: FutureWarning: Series.fillna with 'method' is deprecated and will raise in a future version. Use obj.ffill() or obj.bfill() instead.\n",
      "  data['adj_factor'] = data['adj_factor'].fillna(method='bfill')\n"
     ]
    },
    {
     "name": "stdout",
     "output_type": "stream",
     "text": [
      "431/800 001965.SZ → 1395 行\n"
     ]
    },
    {
     "name": "stderr",
     "output_type": "stream",
     "text": [
      "/Users/lizongze/Quantitative Trading/.venv/lib/python3.12/site-packages/tushare/pro/data_pro.py:130: FutureWarning: Series.fillna with 'method' is deprecated and will raise in a future version. Use obj.ffill() or obj.bfill() instead.\n",
      "  data['adj_factor'] = data['adj_factor'].fillna(method='bfill')\n"
     ]
    },
    {
     "name": "stdout",
     "output_type": "stream",
     "text": [
      "432/800 600023.SH → 1395 行\n"
     ]
    },
    {
     "name": "stderr",
     "output_type": "stream",
     "text": [
      "/Users/lizongze/Quantitative Trading/.venv/lib/python3.12/site-packages/tushare/pro/data_pro.py:130: FutureWarning: Series.fillna with 'method' is deprecated and will raise in a future version. Use obj.ffill() or obj.bfill() instead.\n",
      "  data['adj_factor'] = data['adj_factor'].fillna(method='bfill')\n"
     ]
    },
    {
     "name": "stdout",
     "output_type": "stream",
     "text": [
      "433/800 002683.SZ → 1385 行\n"
     ]
    },
    {
     "name": "stderr",
     "output_type": "stream",
     "text": [
      "/Users/lizongze/Quantitative Trading/.venv/lib/python3.12/site-packages/tushare/pro/data_pro.py:130: FutureWarning: Series.fillna with 'method' is deprecated and will raise in a future version. Use obj.ffill() or obj.bfill() instead.\n",
      "  data['adj_factor'] = data['adj_factor'].fillna(method='bfill')\n"
     ]
    },
    {
     "name": "stdout",
     "output_type": "stream",
     "text": [
      "434/800 600845.SH → 1394 行\n"
     ]
    },
    {
     "name": "stderr",
     "output_type": "stream",
     "text": [
      "/Users/lizongze/Quantitative Trading/.venv/lib/python3.12/site-packages/tushare/pro/data_pro.py:130: FutureWarning: Series.fillna with 'method' is deprecated and will raise in a future version. Use obj.ffill() or obj.bfill() instead.\n",
      "  data['adj_factor'] = data['adj_factor'].fillna(method='bfill')\n"
     ]
    },
    {
     "name": "stdout",
     "output_type": "stream",
     "text": [
      "435/800 000887.SZ → 1395 行\n"
     ]
    },
    {
     "name": "stderr",
     "output_type": "stream",
     "text": [
      "/Users/lizongze/Quantitative Trading/.venv/lib/python3.12/site-packages/tushare/pro/data_pro.py:130: FutureWarning: Series.fillna with 'method' is deprecated and will raise in a future version. Use obj.ffill() or obj.bfill() instead.\n",
      "  data['adj_factor'] = data['adj_factor'].fillna(method='bfill')\n"
     ]
    },
    {
     "name": "stdout",
     "output_type": "stream",
     "text": [
      "436/800 600862.SH → 1395 行\n"
     ]
    },
    {
     "name": "stderr",
     "output_type": "stream",
     "text": [
      "/Users/lizongze/Quantitative Trading/.venv/lib/python3.12/site-packages/tushare/pro/data_pro.py:130: FutureWarning: Series.fillna with 'method' is deprecated and will raise in a future version. Use obj.ffill() or obj.bfill() instead.\n",
      "  data['adj_factor'] = data['adj_factor'].fillna(method='bfill')\n"
     ]
    },
    {
     "name": "stdout",
     "output_type": "stream",
     "text": [
      "437/800 000983.SZ → 1385 行\n"
     ]
    },
    {
     "name": "stderr",
     "output_type": "stream",
     "text": [
      "/Users/lizongze/Quantitative Trading/.venv/lib/python3.12/site-packages/tushare/pro/data_pro.py:130: FutureWarning: Series.fillna with 'method' is deprecated and will raise in a future version. Use obj.ffill() or obj.bfill() instead.\n",
      "  data['adj_factor'] = data['adj_factor'].fillna(method='bfill')\n"
     ]
    },
    {
     "name": "stdout",
     "output_type": "stream",
     "text": [
      "438/800 688472.SH → 563 行\n"
     ]
    },
    {
     "name": "stderr",
     "output_type": "stream",
     "text": [
      "/Users/lizongze/Quantitative Trading/.venv/lib/python3.12/site-packages/tushare/pro/data_pro.py:130: FutureWarning: Series.fillna with 'method' is deprecated and will raise in a future version. Use obj.ffill() or obj.bfill() instead.\n",
      "  data['adj_factor'] = data['adj_factor'].fillna(method='bfill')\n"
     ]
    },
    {
     "name": "stdout",
     "output_type": "stream",
     "text": [
      "439/800 600497.SH → 1395 行\n"
     ]
    },
    {
     "name": "stderr",
     "output_type": "stream",
     "text": [
      "/Users/lizongze/Quantitative Trading/.venv/lib/python3.12/site-packages/tushare/pro/data_pro.py:130: FutureWarning: Series.fillna with 'method' is deprecated and will raise in a future version. Use obj.ffill() or obj.bfill() instead.\n",
      "  data['adj_factor'] = data['adj_factor'].fillna(method='bfill')\n"
     ]
    },
    {
     "name": "stdout",
     "output_type": "stream",
     "text": [
      "440/800 688183.SH → 1119 行\n"
     ]
    },
    {
     "name": "stderr",
     "output_type": "stream",
     "text": [
      "/Users/lizongze/Quantitative Trading/.venv/lib/python3.12/site-packages/tushare/pro/data_pro.py:130: FutureWarning: Series.fillna with 'method' is deprecated and will raise in a future version. Use obj.ffill() or obj.bfill() instead.\n",
      "  data['adj_factor'] = data['adj_factor'].fillna(method='bfill')\n"
     ]
    },
    {
     "name": "stdout",
     "output_type": "stream",
     "text": [
      "441/800 300765.SZ → 1375 行\n"
     ]
    },
    {
     "name": "stderr",
     "output_type": "stream",
     "text": [
      "/Users/lizongze/Quantitative Trading/.venv/lib/python3.12/site-packages/tushare/pro/data_pro.py:130: FutureWarning: Series.fillna with 'method' is deprecated and will raise in a future version. Use obj.ffill() or obj.bfill() instead.\n",
      "  data['adj_factor'] = data['adj_factor'].fillna(method='bfill')\n"
     ]
    },
    {
     "name": "stdout",
     "output_type": "stream",
     "text": [
      "442/800 600521.SH → 1395 行\n"
     ]
    },
    {
     "name": "stderr",
     "output_type": "stream",
     "text": [
      "/Users/lizongze/Quantitative Trading/.venv/lib/python3.12/site-packages/tushare/pro/data_pro.py:130: FutureWarning: Series.fillna with 'method' is deprecated and will raise in a future version. Use obj.ffill() or obj.bfill() instead.\n",
      "  data['adj_factor'] = data['adj_factor'].fillna(method='bfill')\n"
     ]
    },
    {
     "name": "stdout",
     "output_type": "stream",
     "text": [
      "443/800 300627.SZ → 1395 行\n"
     ]
    },
    {
     "name": "stderr",
     "output_type": "stream",
     "text": [
      "/Users/lizongze/Quantitative Trading/.venv/lib/python3.12/site-packages/tushare/pro/data_pro.py:130: FutureWarning: Series.fillna with 'method' is deprecated and will raise in a future version. Use obj.ffill() or obj.bfill() instead.\n",
      "  data['adj_factor'] = data['adj_factor'].fillna(method='bfill')\n"
     ]
    },
    {
     "name": "stdout",
     "output_type": "stream",
     "text": [
      "444/800 603605.SH → 1395 行\n"
     ]
    },
    {
     "name": "stderr",
     "output_type": "stream",
     "text": [
      "/Users/lizongze/Quantitative Trading/.venv/lib/python3.12/site-packages/tushare/pro/data_pro.py:130: FutureWarning: Series.fillna with 'method' is deprecated and will raise in a future version. Use obj.ffill() or obj.bfill() instead.\n",
      "  data['adj_factor'] = data['adj_factor'].fillna(method='bfill')\n"
     ]
    },
    {
     "name": "stdout",
     "output_type": "stream",
     "text": [
      "445/800 600208.SH → 1385 行\n"
     ]
    },
    {
     "name": "stderr",
     "output_type": "stream",
     "text": [
      "/Users/lizongze/Quantitative Trading/.venv/lib/python3.12/site-packages/tushare/pro/data_pro.py:130: FutureWarning: Series.fillna with 'method' is deprecated and will raise in a future version. Use obj.ffill() or obj.bfill() instead.\n",
      "  data['adj_factor'] = data['adj_factor'].fillna(method='bfill')\n"
     ]
    },
    {
     "name": "stdout",
     "output_type": "stream",
     "text": [
      "446/800 600918.SH → 1296 行\n"
     ]
    },
    {
     "name": "stderr",
     "output_type": "stream",
     "text": [
      "/Users/lizongze/Quantitative Trading/.venv/lib/python3.12/site-packages/tushare/pro/data_pro.py:130: FutureWarning: Series.fillna with 'method' is deprecated and will raise in a future version. Use obj.ffill() or obj.bfill() instead.\n",
      "  data['adj_factor'] = data['adj_factor'].fillna(method='bfill')\n"
     ]
    },
    {
     "name": "stdout",
     "output_type": "stream",
     "text": [
      "447/800 601799.SH → 1395 行\n"
     ]
    },
    {
     "name": "stderr",
     "output_type": "stream",
     "text": [
      "/Users/lizongze/Quantitative Trading/.venv/lib/python3.12/site-packages/tushare/pro/data_pro.py:130: FutureWarning: Series.fillna with 'method' is deprecated and will raise in a future version. Use obj.ffill() or obj.bfill() instead.\n",
      "  data['adj_factor'] = data['adj_factor'].fillna(method='bfill')\n"
     ]
    },
    {
     "name": "stdout",
     "output_type": "stream",
     "text": [
      "448/800 000733.SZ → 1395 行\n"
     ]
    },
    {
     "name": "stderr",
     "output_type": "stream",
     "text": [
      "/Users/lizongze/Quantitative Trading/.venv/lib/python3.12/site-packages/tushare/pro/data_pro.py:130: FutureWarning: Series.fillna with 'method' is deprecated and will raise in a future version. Use obj.ffill() or obj.bfill() instead.\n",
      "  data['adj_factor'] = data['adj_factor'].fillna(method='bfill')\n"
     ]
    },
    {
     "name": "stdout",
     "output_type": "stream",
     "text": [
      "449/800 000623.SZ → 1395 行\n"
     ]
    },
    {
     "name": "stderr",
     "output_type": "stream",
     "text": [
      "/Users/lizongze/Quantitative Trading/.venv/lib/python3.12/site-packages/tushare/pro/data_pro.py:130: FutureWarning: Series.fillna with 'method' is deprecated and will raise in a future version. Use obj.ffill() or obj.bfill() instead.\n",
      "  data['adj_factor'] = data['adj_factor'].fillna(method='bfill')\n"
     ]
    },
    {
     "name": "stdout",
     "output_type": "stream",
     "text": [
      "450/800 600060.SH → 1395 行\n"
     ]
    },
    {
     "name": "stderr",
     "output_type": "stream",
     "text": [
      "/Users/lizongze/Quantitative Trading/.venv/lib/python3.12/site-packages/tushare/pro/data_pro.py:130: FutureWarning: Series.fillna with 'method' is deprecated and will raise in a future version. Use obj.ffill() or obj.bfill() instead.\n",
      "  data['adj_factor'] = data['adj_factor'].fillna(method='bfill')\n"
     ]
    },
    {
     "name": "stdout",
     "output_type": "stream",
     "text": [
      "451/800 000400.SZ → 1395 行\n"
     ]
    },
    {
     "name": "stderr",
     "output_type": "stream",
     "text": [
      "/Users/lizongze/Quantitative Trading/.venv/lib/python3.12/site-packages/tushare/pro/data_pro.py:130: FutureWarning: Series.fillna with 'method' is deprecated and will raise in a future version. Use obj.ffill() or obj.bfill() instead.\n",
      "  data['adj_factor'] = data['adj_factor'].fillna(method='bfill')\n"
     ]
    },
    {
     "name": "stdout",
     "output_type": "stream",
     "text": [
      "452/800 601990.SH → 1395 行\n"
     ]
    },
    {
     "name": "stderr",
     "output_type": "stream",
     "text": [
      "/Users/lizongze/Quantitative Trading/.venv/lib/python3.12/site-packages/tushare/pro/data_pro.py:130: FutureWarning: Series.fillna with 'method' is deprecated and will raise in a future version. Use obj.ffill() or obj.bfill() instead.\n",
      "  data['adj_factor'] = data['adj_factor'].fillna(method='bfill')\n"
     ]
    },
    {
     "name": "stdout",
     "output_type": "stream",
     "text": [
      "453/800 600369.SH → 1395 行\n"
     ]
    },
    {
     "name": "stderr",
     "output_type": "stream",
     "text": [
      "/Users/lizongze/Quantitative Trading/.venv/lib/python3.12/site-packages/tushare/pro/data_pro.py:130: FutureWarning: Series.fillna with 'method' is deprecated and will raise in a future version. Use obj.ffill() or obj.bfill() instead.\n",
      "  data['adj_factor'] = data['adj_factor'].fillna(method='bfill')\n"
     ]
    },
    {
     "name": "stdout",
     "output_type": "stream",
     "text": [
      "454/800 000999.SZ → 1395 行\n"
     ]
    },
    {
     "name": "stderr",
     "output_type": "stream",
     "text": [
      "/Users/lizongze/Quantitative Trading/.venv/lib/python3.12/site-packages/tushare/pro/data_pro.py:130: FutureWarning: Series.fillna with 'method' is deprecated and will raise in a future version. Use obj.ffill() or obj.bfill() instead.\n",
      "  data['adj_factor'] = data['adj_factor'].fillna(method='bfill')\n"
     ]
    },
    {
     "name": "stdout",
     "output_type": "stream",
     "text": [
      "455/800 688065.SH → 1244 行\n"
     ]
    },
    {
     "name": "stderr",
     "output_type": "stream",
     "text": [
      "/Users/lizongze/Quantitative Trading/.venv/lib/python3.12/site-packages/tushare/pro/data_pro.py:130: FutureWarning: Series.fillna with 'method' is deprecated and will raise in a future version. Use obj.ffill() or obj.bfill() instead.\n",
      "  data['adj_factor'] = data['adj_factor'].fillna(method='bfill')\n"
     ]
    },
    {
     "name": "stdout",
     "output_type": "stream",
     "text": [
      "456/800 002939.SZ → 1395 行\n"
     ]
    },
    {
     "name": "stderr",
     "output_type": "stream",
     "text": [
      "/Users/lizongze/Quantitative Trading/.venv/lib/python3.12/site-packages/tushare/pro/data_pro.py:130: FutureWarning: Series.fillna with 'method' is deprecated and will raise in a future version. Use obj.ffill() or obj.bfill() instead.\n",
      "  data['adj_factor'] = data['adj_factor'].fillna(method='bfill')\n"
     ]
    },
    {
     "name": "stdout",
     "output_type": "stream",
     "text": [
      "457/800 688303.SH → 1019 行\n"
     ]
    },
    {
     "name": "stderr",
     "output_type": "stream",
     "text": [
      "/Users/lizongze/Quantitative Trading/.venv/lib/python3.12/site-packages/tushare/pro/data_pro.py:130: FutureWarning: Series.fillna with 'method' is deprecated and will raise in a future version. Use obj.ffill() or obj.bfill() instead.\n",
      "  data['adj_factor'] = data['adj_factor'].fillna(method='bfill')\n"
     ]
    },
    {
     "name": "stdout",
     "output_type": "stream",
     "text": [
      "458/800 300999.SZ → 1208 行\n"
     ]
    },
    {
     "name": "stderr",
     "output_type": "stream",
     "text": [
      "/Users/lizongze/Quantitative Trading/.venv/lib/python3.12/site-packages/tushare/pro/data_pro.py:130: FutureWarning: Series.fillna with 'method' is deprecated and will raise in a future version. Use obj.ffill() or obj.bfill() instead.\n",
      "  data['adj_factor'] = data['adj_factor'].fillna(method='bfill')\n"
     ]
    },
    {
     "name": "stdout",
     "output_type": "stream",
     "text": [
      "459/800 601059.SH → 651 行\n"
     ]
    },
    {
     "name": "stderr",
     "output_type": "stream",
     "text": [
      "/Users/lizongze/Quantitative Trading/.venv/lib/python3.12/site-packages/tushare/pro/data_pro.py:130: FutureWarning: Series.fillna with 'method' is deprecated and will raise in a future version. Use obj.ffill() or obj.bfill() instead.\n",
      "  data['adj_factor'] = data['adj_factor'].fillna(method='bfill')\n"
     ]
    },
    {
     "name": "stdout",
     "output_type": "stream",
     "text": [
      "460/800 600704.SH → 1395 行\n"
     ]
    },
    {
     "name": "stderr",
     "output_type": "stream",
     "text": [
      "/Users/lizongze/Quantitative Trading/.venv/lib/python3.12/site-packages/tushare/pro/data_pro.py:130: FutureWarning: Series.fillna with 'method' is deprecated and will raise in a future version. Use obj.ffill() or obj.bfill() instead.\n",
      "  data['adj_factor'] = data['adj_factor'].fillna(method='bfill')\n"
     ]
    },
    {
     "name": "stdout",
     "output_type": "stream",
     "text": [
      "461/800 300142.SZ → 1395 行\n"
     ]
    },
    {
     "name": "stderr",
     "output_type": "stream",
     "text": [
      "/Users/lizongze/Quantitative Trading/.venv/lib/python3.12/site-packages/tushare/pro/data_pro.py:130: FutureWarning: Series.fillna with 'method' is deprecated and will raise in a future version. Use obj.ffill() or obj.bfill() instead.\n",
      "  data['adj_factor'] = data['adj_factor'].fillna(method='bfill')\n"
     ]
    },
    {
     "name": "stdout",
     "output_type": "stream",
     "text": [
      "462/800 300628.SZ → 1395 行\n"
     ]
    },
    {
     "name": "stderr",
     "output_type": "stream",
     "text": [
      "/Users/lizongze/Quantitative Trading/.venv/lib/python3.12/site-packages/tushare/pro/data_pro.py:130: FutureWarning: Series.fillna with 'method' is deprecated and will raise in a future version. Use obj.ffill() or obj.bfill() instead.\n",
      "  data['adj_factor'] = data['adj_factor'].fillna(method='bfill')\n"
     ]
    },
    {
     "name": "stdout",
     "output_type": "stream",
     "text": [
      "463/800 002064.SZ → 1391 行\n"
     ]
    },
    {
     "name": "stderr",
     "output_type": "stream",
     "text": [
      "/Users/lizongze/Quantitative Trading/.venv/lib/python3.12/site-packages/tushare/pro/data_pro.py:130: FutureWarning: Series.fillna with 'method' is deprecated and will raise in a future version. Use obj.ffill() or obj.bfill() instead.\n",
      "  data['adj_factor'] = data['adj_factor'].fillna(method='bfill')\n"
     ]
    },
    {
     "name": "stdout",
     "output_type": "stream",
     "text": [
      "464/800 600153.SH → 1395 行\n"
     ]
    },
    {
     "name": "stderr",
     "output_type": "stream",
     "text": [
      "/Users/lizongze/Quantitative Trading/.venv/lib/python3.12/site-packages/tushare/pro/data_pro.py:130: FutureWarning: Series.fillna with 'method' is deprecated and will raise in a future version. Use obj.ffill() or obj.bfill() instead.\n",
      "  data['adj_factor'] = data['adj_factor'].fillna(method='bfill')\n"
     ]
    },
    {
     "name": "stdout",
     "output_type": "stream",
     "text": [
      "465/800 688082.SH → 941 行\n"
     ]
    },
    {
     "name": "stderr",
     "output_type": "stream",
     "text": [
      "/Users/lizongze/Quantitative Trading/.venv/lib/python3.12/site-packages/tushare/pro/data_pro.py:130: FutureWarning: Series.fillna with 'method' is deprecated and will raise in a future version. Use obj.ffill() or obj.bfill() instead.\n",
      "  data['adj_factor'] = data['adj_factor'].fillna(method='bfill')\n"
     ]
    },
    {
     "name": "stdout",
     "output_type": "stream",
     "text": [
      "466/800 600332.SH → 1395 行\n"
     ]
    },
    {
     "name": "stderr",
     "output_type": "stream",
     "text": [
      "/Users/lizongze/Quantitative Trading/.venv/lib/python3.12/site-packages/tushare/pro/data_pro.py:130: FutureWarning: Series.fillna with 'method' is deprecated and will raise in a future version. Use obj.ffill() or obj.bfill() instead.\n",
      "  data['adj_factor'] = data['adj_factor'].fillna(method='bfill')\n"
     ]
    },
    {
     "name": "stdout",
     "output_type": "stream",
     "text": [
      "467/800 002653.SZ → 1395 行\n"
     ]
    },
    {
     "name": "stderr",
     "output_type": "stream",
     "text": [
      "/Users/lizongze/Quantitative Trading/.venv/lib/python3.12/site-packages/tushare/pro/data_pro.py:130: FutureWarning: Series.fillna with 'method' is deprecated and will raise in a future version. Use obj.ffill() or obj.bfill() instead.\n",
      "  data['adj_factor'] = data['adj_factor'].fillna(method='bfill')\n"
     ]
    },
    {
     "name": "stdout",
     "output_type": "stream",
     "text": [
      "468/800 300285.SZ → 1395 行\n"
     ]
    },
    {
     "name": "stderr",
     "output_type": "stream",
     "text": [
      "/Users/lizongze/Quantitative Trading/.venv/lib/python3.12/site-packages/tushare/pro/data_pro.py:130: FutureWarning: Series.fillna with 'method' is deprecated and will raise in a future version. Use obj.ffill() or obj.bfill() instead.\n",
      "  data['adj_factor'] = data['adj_factor'].fillna(method='bfill')\n"
     ]
    },
    {
     "name": "stdout",
     "output_type": "stream",
     "text": [
      "469/800 601698.SH → 1395 行\n"
     ]
    },
    {
     "name": "stderr",
     "output_type": "stream",
     "text": [
      "/Users/lizongze/Quantitative Trading/.venv/lib/python3.12/site-packages/tushare/pro/data_pro.py:130: FutureWarning: Series.fillna with 'method' is deprecated and will raise in a future version. Use obj.ffill() or obj.bfill() instead.\n",
      "  data['adj_factor'] = data['adj_factor'].fillna(method='bfill')\n"
     ]
    },
    {
     "name": "stdout",
     "output_type": "stream",
     "text": [
      "470/800 000528.SZ → 1374 行\n"
     ]
    },
    {
     "name": "stderr",
     "output_type": "stream",
     "text": [
      "/Users/lizongze/Quantitative Trading/.venv/lib/python3.12/site-packages/tushare/pro/data_pro.py:130: FutureWarning: Series.fillna with 'method' is deprecated and will raise in a future version. Use obj.ffill() or obj.bfill() instead.\n",
      "  data['adj_factor'] = data['adj_factor'].fillna(method='bfill')\n"
     ]
    },
    {
     "name": "stdout",
     "output_type": "stream",
     "text": [
      "471/800 600486.SH → 1390 行\n"
     ]
    },
    {
     "name": "stderr",
     "output_type": "stream",
     "text": [
      "/Users/lizongze/Quantitative Trading/.venv/lib/python3.12/site-packages/tushare/pro/data_pro.py:130: FutureWarning: Series.fillna with 'method' is deprecated and will raise in a future version. Use obj.ffill() or obj.bfill() instead.\n",
      "  data['adj_factor'] = data['adj_factor'].fillna(method='bfill')\n"
     ]
    },
    {
     "name": "stdout",
     "output_type": "stream",
     "text": [
      "472/800 688188.SH → 1395 行\n"
     ]
    },
    {
     "name": "stderr",
     "output_type": "stream",
     "text": [
      "/Users/lizongze/Quantitative Trading/.venv/lib/python3.12/site-packages/tushare/pro/data_pro.py:130: FutureWarning: Series.fillna with 'method' is deprecated and will raise in a future version. Use obj.ffill() or obj.bfill() instead.\n",
      "  data['adj_factor'] = data['adj_factor'].fillna(method='bfill')\n"
     ]
    },
    {
     "name": "stdout",
     "output_type": "stream",
     "text": [
      "473/800 605358.SH → 1226 行\n"
     ]
    },
    {
     "name": "stderr",
     "output_type": "stream",
     "text": [
      "/Users/lizongze/Quantitative Trading/.venv/lib/python3.12/site-packages/tushare/pro/data_pro.py:130: FutureWarning: Series.fillna with 'method' is deprecated and will raise in a future version. Use obj.ffill() or obj.bfill() instead.\n",
      "  data['adj_factor'] = data['adj_factor'].fillna(method='bfill')\n"
     ]
    },
    {
     "name": "stdout",
     "output_type": "stream",
     "text": [
      "474/800 603260.SH → 1395 行\n"
     ]
    },
    {
     "name": "stderr",
     "output_type": "stream",
     "text": [
      "/Users/lizongze/Quantitative Trading/.venv/lib/python3.12/site-packages/tushare/pro/data_pro.py:130: FutureWarning: Series.fillna with 'method' is deprecated and will raise in a future version. Use obj.ffill() or obj.bfill() instead.\n",
      "  data['adj_factor'] = data['adj_factor'].fillna(method='bfill')\n"
     ]
    },
    {
     "name": "stdout",
     "output_type": "stream",
     "text": [
      "475/800 601216.SH → 1395 行\n"
     ]
    },
    {
     "name": "stderr",
     "output_type": "stream",
     "text": [
      "/Users/lizongze/Quantitative Trading/.venv/lib/python3.12/site-packages/tushare/pro/data_pro.py:130: FutureWarning: Series.fillna with 'method' is deprecated and will raise in a future version. Use obj.ffill() or obj.bfill() instead.\n",
      "  data['adj_factor'] = data['adj_factor'].fillna(method='bfill')\n"
     ]
    },
    {
     "name": "stdout",
     "output_type": "stream",
     "text": [
      "476/800 300699.SZ → 1395 行\n"
     ]
    },
    {
     "name": "stderr",
     "output_type": "stream",
     "text": [
      "/Users/lizongze/Quantitative Trading/.venv/lib/python3.12/site-packages/tushare/pro/data_pro.py:130: FutureWarning: Series.fillna with 'method' is deprecated and will raise in a future version. Use obj.ffill() or obj.bfill() instead.\n",
      "  data['adj_factor'] = data['adj_factor'].fillna(method='bfill')\n"
     ]
    },
    {
     "name": "stdout",
     "output_type": "stream",
     "text": [
      "477/800 600909.SH → 1389 行\n"
     ]
    },
    {
     "name": "stderr",
     "output_type": "stream",
     "text": [
      "/Users/lizongze/Quantitative Trading/.venv/lib/python3.12/site-packages/tushare/pro/data_pro.py:130: FutureWarning: Series.fillna with 'method' is deprecated and will raise in a future version. Use obj.ffill() or obj.bfill() instead.\n",
      "  data['adj_factor'] = data['adj_factor'].fillna(method='bfill')\n"
     ]
    },
    {
     "name": "stdout",
     "output_type": "stream",
     "text": [
      "478/800 688568.SH → 1273 行\n"
     ]
    },
    {
     "name": "stderr",
     "output_type": "stream",
     "text": [
      "/Users/lizongze/Quantitative Trading/.venv/lib/python3.12/site-packages/tushare/pro/data_pro.py:130: FutureWarning: Series.fillna with 'method' is deprecated and will raise in a future version. Use obj.ffill() or obj.bfill() instead.\n",
      "  data['adj_factor'] = data['adj_factor'].fillna(method='bfill')\n"
     ]
    },
    {
     "name": "stdout",
     "output_type": "stream",
     "text": [
      "479/800 600177.SH → 1395 行\n"
     ]
    },
    {
     "name": "stderr",
     "output_type": "stream",
     "text": [
      "/Users/lizongze/Quantitative Trading/.venv/lib/python3.12/site-packages/tushare/pro/data_pro.py:130: FutureWarning: Series.fillna with 'method' is deprecated and will raise in a future version. Use obj.ffill() or obj.bfill() instead.\n",
      "  data['adj_factor'] = data['adj_factor'].fillna(method='bfill')\n"
     ]
    },
    {
     "name": "stdout",
     "output_type": "stream",
     "text": [
      "480/800 002152.SZ → 1395 行\n"
     ]
    },
    {
     "name": "stderr",
     "output_type": "stream",
     "text": [
      "/Users/lizongze/Quantitative Trading/.venv/lib/python3.12/site-packages/tushare/pro/data_pro.py:130: FutureWarning: Series.fillna with 'method' is deprecated and will raise in a future version. Use obj.ffill() or obj.bfill() instead.\n",
      "  data['adj_factor'] = data['adj_factor'].fillna(method='bfill')\n"
     ]
    },
    {
     "name": "stdout",
     "output_type": "stream",
     "text": [
      "481/800 002007.SZ → 1395 行\n"
     ]
    },
    {
     "name": "stderr",
     "output_type": "stream",
     "text": [
      "/Users/lizongze/Quantitative Trading/.venv/lib/python3.12/site-packages/tushare/pro/data_pro.py:130: FutureWarning: Series.fillna with 'method' is deprecated and will raise in a future version. Use obj.ffill() or obj.bfill() instead.\n",
      "  data['adj_factor'] = data['adj_factor'].fillna(method='bfill')\n"
     ]
    },
    {
     "name": "stdout",
     "output_type": "stream",
     "text": [
      "482/800 300679.SZ → 1385 行\n"
     ]
    },
    {
     "name": "stderr",
     "output_type": "stream",
     "text": [
      "/Users/lizongze/Quantitative Trading/.venv/lib/python3.12/site-packages/tushare/pro/data_pro.py:130: FutureWarning: Series.fillna with 'method' is deprecated and will raise in a future version. Use obj.ffill() or obj.bfill() instead.\n",
      "  data['adj_factor'] = data['adj_factor'].fillna(method='bfill')\n"
     ]
    },
    {
     "name": "stdout",
     "output_type": "stream",
     "text": [
      "483/800 601997.SH → 1395 行\n"
     ]
    },
    {
     "name": "stderr",
     "output_type": "stream",
     "text": [
      "/Users/lizongze/Quantitative Trading/.venv/lib/python3.12/site-packages/tushare/pro/data_pro.py:130: FutureWarning: Series.fillna with 'method' is deprecated and will raise in a future version. Use obj.ffill() or obj.bfill() instead.\n",
      "  data['adj_factor'] = data['adj_factor'].fillna(method='bfill')\n"
     ]
    },
    {
     "name": "stdout",
     "output_type": "stream",
     "text": [
      "484/800 600155.SH → 1395 行\n"
     ]
    },
    {
     "name": "stderr",
     "output_type": "stream",
     "text": [
      "/Users/lizongze/Quantitative Trading/.venv/lib/python3.12/site-packages/tushare/pro/data_pro.py:130: FutureWarning: Series.fillna with 'method' is deprecated and will raise in a future version. Use obj.ffill() or obj.bfill() instead.\n",
      "  data['adj_factor'] = data['adj_factor'].fillna(method='bfill')\n"
     ]
    },
    {
     "name": "stdout",
     "output_type": "stream",
     "text": [
      "485/800 001696.SZ → 1395 行\n"
     ]
    },
    {
     "name": "stderr",
     "output_type": "stream",
     "text": [
      "/Users/lizongze/Quantitative Trading/.venv/lib/python3.12/site-packages/tushare/pro/data_pro.py:130: FutureWarning: Series.fillna with 'method' is deprecated and will raise in a future version. Use obj.ffill() or obj.bfill() instead.\n",
      "  data['adj_factor'] = data['adj_factor'].fillna(method='bfill')\n"
     ]
    },
    {
     "name": "stdout",
     "output_type": "stream",
     "text": [
      "486/800 600026.SH → 1395 行\n"
     ]
    },
    {
     "name": "stderr",
     "output_type": "stream",
     "text": [
      "/Users/lizongze/Quantitative Trading/.venv/lib/python3.12/site-packages/tushare/pro/data_pro.py:130: FutureWarning: Series.fillna with 'method' is deprecated and will raise in a future version. Use obj.ffill() or obj.bfill() instead.\n",
      "  data['adj_factor'] = data['adj_factor'].fillna(method='bfill')\n"
     ]
    },
    {
     "name": "stdout",
     "output_type": "stream",
     "text": [
      "487/800 600737.SH → 1395 行\n"
     ]
    },
    {
     "name": "stderr",
     "output_type": "stream",
     "text": [
      "/Users/lizongze/Quantitative Trading/.venv/lib/python3.12/site-packages/tushare/pro/data_pro.py:130: FutureWarning: Series.fillna with 'method' is deprecated and will raise in a future version. Use obj.ffill() or obj.bfill() instead.\n",
      "  data['adj_factor'] = data['adj_factor'].fillna(method='bfill')\n"
     ]
    },
    {
     "name": "stdout",
     "output_type": "stream",
     "text": [
      "488/800 600025.SH → 1395 行\n"
     ]
    },
    {
     "name": "stderr",
     "output_type": "stream",
     "text": [
      "/Users/lizongze/Quantitative Trading/.venv/lib/python3.12/site-packages/tushare/pro/data_pro.py:130: FutureWarning: Series.fillna with 'method' is deprecated and will raise in a future version. Use obj.ffill() or obj.bfill() instead.\n",
      "  data['adj_factor'] = data['adj_factor'].fillna(method='bfill')\n"
     ]
    },
    {
     "name": "stdout",
     "output_type": "stream",
     "text": [
      "489/800 601238.SH → 1395 行\n"
     ]
    },
    {
     "name": "stderr",
     "output_type": "stream",
     "text": [
      "/Users/lizongze/Quantitative Trading/.venv/lib/python3.12/site-packages/tushare/pro/data_pro.py:130: FutureWarning: Series.fillna with 'method' is deprecated and will raise in a future version. Use obj.ffill() or obj.bfill() instead.\n",
      "  data['adj_factor'] = data['adj_factor'].fillna(method='bfill')\n"
     ]
    },
    {
     "name": "stdout",
     "output_type": "stream",
     "text": [
      "490/800 688778.SH → 1009 行\n"
     ]
    },
    {
     "name": "stderr",
     "output_type": "stream",
     "text": [
      "/Users/lizongze/Quantitative Trading/.venv/lib/python3.12/site-packages/tushare/pro/data_pro.py:130: FutureWarning: Series.fillna with 'method' is deprecated and will raise in a future version. Use obj.ffill() or obj.bfill() instead.\n",
      "  data['adj_factor'] = data['adj_factor'].fillna(method='bfill')\n"
     ]
    },
    {
     "name": "stdout",
     "output_type": "stream",
     "text": [
      "491/800 600563.SH → 1395 行\n"
     ]
    },
    {
     "name": "stderr",
     "output_type": "stream",
     "text": [
      "/Users/lizongze/Quantitative Trading/.venv/lib/python3.12/site-packages/tushare/pro/data_pro.py:130: FutureWarning: Series.fillna with 'method' is deprecated and will raise in a future version. Use obj.ffill() or obj.bfill() instead.\n",
      "  data['adj_factor'] = data['adj_factor'].fillna(method='bfill')\n"
     ]
    },
    {
     "name": "stdout",
     "output_type": "stream",
     "text": [
      "492/800 000729.SZ → 1395 行\n"
     ]
    },
    {
     "name": "stderr",
     "output_type": "stream",
     "text": [
      "/Users/lizongze/Quantitative Trading/.venv/lib/python3.12/site-packages/tushare/pro/data_pro.py:130: FutureWarning: Series.fillna with 'method' is deprecated and will raise in a future version. Use obj.ffill() or obj.bfill() instead.\n",
      "  data['adj_factor'] = data['adj_factor'].fillna(method='bfill')\n"
     ]
    },
    {
     "name": "stdout",
     "output_type": "stream",
     "text": [
      "493/800 300558.SZ → 1395 行\n"
     ]
    },
    {
     "name": "stderr",
     "output_type": "stream",
     "text": [
      "/Users/lizongze/Quantitative Trading/.venv/lib/python3.12/site-packages/tushare/pro/data_pro.py:130: FutureWarning: Series.fillna with 'method' is deprecated and will raise in a future version. Use obj.ffill() or obj.bfill() instead.\n",
      "  data['adj_factor'] = data['adj_factor'].fillna(method='bfill')\n"
     ]
    },
    {
     "name": "stdout",
     "output_type": "stream",
     "text": [
      "494/800 600562.SH → 1395 行\n"
     ]
    },
    {
     "name": "stderr",
     "output_type": "stream",
     "text": [
      "/Users/lizongze/Quantitative Trading/.venv/lib/python3.12/site-packages/tushare/pro/data_pro.py:130: FutureWarning: Series.fillna with 'method' is deprecated and will raise in a future version. Use obj.ffill() or obj.bfill() instead.\n",
      "  data['adj_factor'] = data['adj_factor'].fillna(method='bfill')\n"
     ]
    },
    {
     "name": "stdout",
     "output_type": "stream",
     "text": [
      "495/800 601699.SH → 1395 行\n"
     ]
    },
    {
     "name": "stderr",
     "output_type": "stream",
     "text": [
      "/Users/lizongze/Quantitative Trading/.venv/lib/python3.12/site-packages/tushare/pro/data_pro.py:130: FutureWarning: Series.fillna with 'method' is deprecated and will raise in a future version. Use obj.ffill() or obj.bfill() instead.\n",
      "  data['adj_factor'] = data['adj_factor'].fillna(method='bfill')\n"
     ]
    },
    {
     "name": "stdout",
     "output_type": "stream",
     "text": [
      "496/800 600803.SH → 1383 行\n"
     ]
    },
    {
     "name": "stderr",
     "output_type": "stream",
     "text": [
      "/Users/lizongze/Quantitative Trading/.venv/lib/python3.12/site-packages/tushare/pro/data_pro.py:130: FutureWarning: Series.fillna with 'method' is deprecated and will raise in a future version. Use obj.ffill() or obj.bfill() instead.\n",
      "  data['adj_factor'] = data['adj_factor'].fillna(method='bfill')\n"
     ]
    },
    {
     "name": "stdout",
     "output_type": "stream",
     "text": [
      "497/800 002262.SZ → 1395 行\n"
     ]
    },
    {
     "name": "stderr",
     "output_type": "stream",
     "text": [
      "/Users/lizongze/Quantitative Trading/.venv/lib/python3.12/site-packages/tushare/pro/data_pro.py:130: FutureWarning: Series.fillna with 'method' is deprecated and will raise in a future version. Use obj.ffill() or obj.bfill() instead.\n",
      "  data['adj_factor'] = data['adj_factor'].fillna(method='bfill')\n"
     ]
    },
    {
     "name": "stdout",
     "output_type": "stream",
     "text": [
      "498/800 000559.SZ → 1385 行\n"
     ]
    },
    {
     "name": "stderr",
     "output_type": "stream",
     "text": [
      "/Users/lizongze/Quantitative Trading/.venv/lib/python3.12/site-packages/tushare/pro/data_pro.py:130: FutureWarning: Series.fillna with 'method' is deprecated and will raise in a future version. Use obj.ffill() or obj.bfill() instead.\n",
      "  data['adj_factor'] = data['adj_factor'].fillna(method='bfill')\n"
     ]
    },
    {
     "name": "stdout",
     "output_type": "stream",
     "text": [
      "499/800 002841.SZ → 1395 行\n"
     ]
    },
    {
     "name": "stderr",
     "output_type": "stream",
     "text": [
      "/Users/lizongze/Quantitative Trading/.venv/lib/python3.12/site-packages/tushare/pro/data_pro.py:130: FutureWarning: Series.fillna with 'method' is deprecated and will raise in a future version. Use obj.ffill() or obj.bfill() instead.\n",
      "  data['adj_factor'] = data['adj_factor'].fillna(method='bfill')\n"
     ]
    },
    {
     "name": "stdout",
     "output_type": "stream",
     "text": [
      "500/800 002056.SZ → 1395 行\n"
     ]
    },
    {
     "name": "stderr",
     "output_type": "stream",
     "text": [
      "/Users/lizongze/Quantitative Trading/.venv/lib/python3.12/site-packages/tushare/pro/data_pro.py:130: FutureWarning: Series.fillna with 'method' is deprecated and will raise in a future version. Use obj.ffill() or obj.bfill() instead.\n",
      "  data['adj_factor'] = data['adj_factor'].fillna(method='bfill')\n"
     ]
    },
    {
     "name": "stdout",
     "output_type": "stream",
     "text": [
      "501/800 002318.SZ → 1395 行\n"
     ]
    },
    {
     "name": "stderr",
     "output_type": "stream",
     "text": [
      "/Users/lizongze/Quantitative Trading/.venv/lib/python3.12/site-packages/tushare/pro/data_pro.py:130: FutureWarning: Series.fillna with 'method' is deprecated and will raise in a future version. Use obj.ffill() or obj.bfill() instead.\n",
      "  data['adj_factor'] = data['adj_factor'].fillna(method='bfill')\n"
     ]
    },
    {
     "name": "stdout",
     "output_type": "stream",
     "text": [
      "502/800 000830.SZ → 1385 行\n"
     ]
    },
    {
     "name": "stderr",
     "output_type": "stream",
     "text": [
      "/Users/lizongze/Quantitative Trading/.venv/lib/python3.12/site-packages/tushare/pro/data_pro.py:130: FutureWarning: Series.fillna with 'method' is deprecated and will raise in a future version. Use obj.ffill() or obj.bfill() instead.\n",
      "  data['adj_factor'] = data['adj_factor'].fillna(method='bfill')\n"
     ]
    },
    {
     "name": "stdout",
     "output_type": "stream",
     "text": [
      "503/800 000683.SZ → 1395 行\n"
     ]
    },
    {
     "name": "stderr",
     "output_type": "stream",
     "text": [
      "/Users/lizongze/Quantitative Trading/.venv/lib/python3.12/site-packages/tushare/pro/data_pro.py:130: FutureWarning: Series.fillna with 'method' is deprecated and will raise in a future version. Use obj.ffill() or obj.bfill() instead.\n",
      "  data['adj_factor'] = data['adj_factor'].fillna(method='bfill')\n"
     ]
    },
    {
     "name": "stdout",
     "output_type": "stream",
     "text": [
      "504/800 300677.SZ → 1395 行\n"
     ]
    },
    {
     "name": "stderr",
     "output_type": "stream",
     "text": [
      "/Users/lizongze/Quantitative Trading/.venv/lib/python3.12/site-packages/tushare/pro/data_pro.py:130: FutureWarning: Series.fillna with 'method' is deprecated and will raise in a future version. Use obj.ffill() or obj.bfill() instead.\n",
      "  data['adj_factor'] = data['adj_factor'].fillna(method='bfill')\n"
     ]
    },
    {
     "name": "stdout",
     "output_type": "stream",
     "text": [
      "505/800 603806.SH → 1395 行\n"
     ]
    },
    {
     "name": "stderr",
     "output_type": "stream",
     "text": [
      "/Users/lizongze/Quantitative Trading/.venv/lib/python3.12/site-packages/tushare/pro/data_pro.py:130: FutureWarning: Series.fillna with 'method' is deprecated and will raise in a future version. Use obj.ffill() or obj.bfill() instead.\n",
      "  data['adj_factor'] = data['adj_factor'].fillna(method='bfill')\n"
     ]
    },
    {
     "name": "stdout",
     "output_type": "stream",
     "text": [
      "506/800 002926.SZ → 1395 行\n"
     ]
    },
    {
     "name": "stderr",
     "output_type": "stream",
     "text": [
      "/Users/lizongze/Quantitative Trading/.venv/lib/python3.12/site-packages/tushare/pro/data_pro.py:130: FutureWarning: Series.fillna with 'method' is deprecated and will raise in a future version. Use obj.ffill() or obj.bfill() instead.\n",
      "  data['adj_factor'] = data['adj_factor'].fillna(method='bfill')\n"
     ]
    },
    {
     "name": "stdout",
     "output_type": "stream",
     "text": [
      "507/800 688772.SH → 965 行\n"
     ]
    },
    {
     "name": "stderr",
     "output_type": "stream",
     "text": [
      "/Users/lizongze/Quantitative Trading/.venv/lib/python3.12/site-packages/tushare/pro/data_pro.py:130: FutureWarning: Series.fillna with 'method' is deprecated and will raise in a future version. Use obj.ffill() or obj.bfill() instead.\n",
      "  data['adj_factor'] = data['adj_factor'].fillna(method='bfill')\n"
     ]
    },
    {
     "name": "stdout",
     "output_type": "stream",
     "text": [
      "508/800 600316.SH → 1395 行\n"
     ]
    },
    {
     "name": "stderr",
     "output_type": "stream",
     "text": [
      "/Users/lizongze/Quantitative Trading/.venv/lib/python3.12/site-packages/tushare/pro/data_pro.py:130: FutureWarning: Series.fillna with 'method' is deprecated and will raise in a future version. Use obj.ffill() or obj.bfill() instead.\n",
      "  data['adj_factor'] = data['adj_factor'].fillna(method='bfill')\n"
     ]
    },
    {
     "name": "stdout",
     "output_type": "stream",
     "text": [
      "509/800 688538.SH → 1057 行\n"
     ]
    },
    {
     "name": "stderr",
     "output_type": "stream",
     "text": [
      "/Users/lizongze/Quantitative Trading/.venv/lib/python3.12/site-packages/tushare/pro/data_pro.py:130: FutureWarning: Series.fillna with 'method' is deprecated and will raise in a future version. Use obj.ffill() or obj.bfill() instead.\n",
      "  data['adj_factor'] = data['adj_factor'].fillna(method='bfill')\n"
     ]
    },
    {
     "name": "stdout",
     "output_type": "stream",
     "text": [
      "510/800 300623.SZ → 1395 行\n"
     ]
    },
    {
     "name": "stderr",
     "output_type": "stream",
     "text": [
      "/Users/lizongze/Quantitative Trading/.venv/lib/python3.12/site-packages/tushare/pro/data_pro.py:130: FutureWarning: Series.fillna with 'method' is deprecated and will raise in a future version. Use obj.ffill() or obj.bfill() instead.\n",
      "  data['adj_factor'] = data['adj_factor'].fillna(method='bfill')\n"
     ]
    },
    {
     "name": "stdout",
     "output_type": "stream",
     "text": [
      "511/800 000738.SZ → 1395 行\n"
     ]
    },
    {
     "name": "stderr",
     "output_type": "stream",
     "text": [
      "/Users/lizongze/Quantitative Trading/.venv/lib/python3.12/site-packages/tushare/pro/data_pro.py:130: FutureWarning: Series.fillna with 'method' is deprecated and will raise in a future version. Use obj.ffill() or obj.bfill() instead.\n",
      "  data['adj_factor'] = data['adj_factor'].fillna(method='bfill')\n"
     ]
    },
    {
     "name": "stdout",
     "output_type": "stream",
     "text": [
      "512/800 002739.SZ → 1390 行\n"
     ]
    },
    {
     "name": "stderr",
     "output_type": "stream",
     "text": [
      "/Users/lizongze/Quantitative Trading/.venv/lib/python3.12/site-packages/tushare/pro/data_pro.py:130: FutureWarning: Series.fillna with 'method' is deprecated and will raise in a future version. Use obj.ffill() or obj.bfill() instead.\n",
      "  data['adj_factor'] = data['adj_factor'].fillna(method='bfill')\n"
     ]
    },
    {
     "name": "stdout",
     "output_type": "stream",
     "text": [
      "513/800 600435.SH → 1395 行\n"
     ]
    },
    {
     "name": "stderr",
     "output_type": "stream",
     "text": [
      "/Users/lizongze/Quantitative Trading/.venv/lib/python3.12/site-packages/tushare/pro/data_pro.py:130: FutureWarning: Series.fillna with 'method' is deprecated and will raise in a future version. Use obj.ffill() or obj.bfill() instead.\n",
      "  data['adj_factor'] = data['adj_factor'].fillna(method='bfill')\n"
     ]
    },
    {
     "name": "stdout",
     "output_type": "stream",
     "text": [
      "514/800 688702.SH → 496 行\n"
     ]
    },
    {
     "name": "stderr",
     "output_type": "stream",
     "text": [
      "/Users/lizongze/Quantitative Trading/.venv/lib/python3.12/site-packages/tushare/pro/data_pro.py:130: FutureWarning: Series.fillna with 'method' is deprecated and will raise in a future version. Use obj.ffill() or obj.bfill() instead.\n",
      "  data['adj_factor'] = data['adj_factor'].fillna(method='bfill')\n"
     ]
    },
    {
     "name": "stdout",
     "output_type": "stream",
     "text": [
      "515/800 002203.SZ → 1395 行\n"
     ]
    },
    {
     "name": "stderr",
     "output_type": "stream",
     "text": [
      "/Users/lizongze/Quantitative Trading/.venv/lib/python3.12/site-packages/tushare/pro/data_pro.py:130: FutureWarning: Series.fillna with 'method' is deprecated and will raise in a future version. Use obj.ffill() or obj.bfill() instead.\n",
      "  data['adj_factor'] = data['adj_factor'].fillna(method='bfill')\n"
     ]
    },
    {
     "name": "stdout",
     "output_type": "stream",
     "text": [
      "516/800 600170.SH → 1395 行\n"
     ]
    },
    {
     "name": "stderr",
     "output_type": "stream",
     "text": [
      "/Users/lizongze/Quantitative Trading/.venv/lib/python3.12/site-packages/tushare/pro/data_pro.py:130: FutureWarning: Series.fillna with 'method' is deprecated and will raise in a future version. Use obj.ffill() or obj.bfill() instead.\n",
      "  data['adj_factor'] = data['adj_factor'].fillna(method='bfill')\n"
     ]
    },
    {
     "name": "stdout",
     "output_type": "stream",
     "text": [
      "517/800 002244.SZ → 1395 行\n"
     ]
    },
    {
     "name": "stderr",
     "output_type": "stream",
     "text": [
      "/Users/lizongze/Quantitative Trading/.venv/lib/python3.12/site-packages/tushare/pro/data_pro.py:130: FutureWarning: Series.fillna with 'method' is deprecated and will raise in a future version. Use obj.ffill() or obj.bfill() instead.\n",
      "  data['adj_factor'] = data['adj_factor'].fillna(method='bfill')\n"
     ]
    },
    {
     "name": "stdout",
     "output_type": "stream",
     "text": [
      "518/800 600398.SH → 1395 行\n"
     ]
    },
    {
     "name": "stderr",
     "output_type": "stream",
     "text": [
      "/Users/lizongze/Quantitative Trading/.venv/lib/python3.12/site-packages/tushare/pro/data_pro.py:130: FutureWarning: Series.fillna with 'method' is deprecated and will raise in a future version. Use obj.ffill() or obj.bfill() instead.\n",
      "  data['adj_factor'] = data['adj_factor'].fillna(method='bfill')\n"
     ]
    },
    {
     "name": "stdout",
     "output_type": "stream",
     "text": [
      "519/800 002044.SZ → 1395 行\n"
     ]
    },
    {
     "name": "stderr",
     "output_type": "stream",
     "text": [
      "/Users/lizongze/Quantitative Trading/.venv/lib/python3.12/site-packages/tushare/pro/data_pro.py:130: FutureWarning: Series.fillna with 'method' is deprecated and will raise in a future version. Use obj.ffill() or obj.bfill() instead.\n",
      "  data['adj_factor'] = data['adj_factor'].fillna(method='bfill')\n"
     ]
    },
    {
     "name": "stdout",
     "output_type": "stream",
     "text": [
      "520/800 600018.SH → 1395 行\n"
     ]
    },
    {
     "name": "stderr",
     "output_type": "stream",
     "text": [
      "/Users/lizongze/Quantitative Trading/.venv/lib/python3.12/site-packages/tushare/pro/data_pro.py:130: FutureWarning: Series.fillna with 'method' is deprecated and will raise in a future version. Use obj.ffill() or obj.bfill() instead.\n",
      "  data['adj_factor'] = data['adj_factor'].fillna(method='bfill')\n"
     ]
    },
    {
     "name": "stdout",
     "output_type": "stream",
     "text": [
      "521/800 600765.SH → 1395 行\n"
     ]
    },
    {
     "name": "stderr",
     "output_type": "stream",
     "text": [
      "/Users/lizongze/Quantitative Trading/.venv/lib/python3.12/site-packages/tushare/pro/data_pro.py:130: FutureWarning: Series.fillna with 'method' is deprecated and will raise in a future version. Use obj.ffill() or obj.bfill() instead.\n",
      "  data['adj_factor'] = data['adj_factor'].fillna(method='bfill')\n"
     ]
    },
    {
     "name": "stdout",
     "output_type": "stream",
     "text": [
      "522/800 000415.SZ → 1395 行\n"
     ]
    },
    {
     "name": "stderr",
     "output_type": "stream",
     "text": [
      "/Users/lizongze/Quantitative Trading/.venv/lib/python3.12/site-packages/tushare/pro/data_pro.py:130: FutureWarning: Series.fillna with 'method' is deprecated and will raise in a future version. Use obj.ffill() or obj.bfill() instead.\n",
      "  data['adj_factor'] = data['adj_factor'].fillna(method='bfill')\n"
     ]
    },
    {
     "name": "stdout",
     "output_type": "stream",
     "text": [
      "523/800 300567.SZ → 1395 行\n"
     ]
    },
    {
     "name": "stderr",
     "output_type": "stream",
     "text": [
      "/Users/lizongze/Quantitative Trading/.venv/lib/python3.12/site-packages/tushare/pro/data_pro.py:130: FutureWarning: Series.fillna with 'method' is deprecated and will raise in a future version. Use obj.ffill() or obj.bfill() instead.\n",
      "  data['adj_factor'] = data['adj_factor'].fillna(method='bfill')\n"
     ]
    },
    {
     "name": "stdout",
     "output_type": "stream",
     "text": [
      "524/800 000519.SZ → 1395 行\n"
     ]
    },
    {
     "name": "stderr",
     "output_type": "stream",
     "text": [
      "/Users/lizongze/Quantitative Trading/.venv/lib/python3.12/site-packages/tushare/pro/data_pro.py:130: FutureWarning: Series.fillna with 'method' is deprecated and will raise in a future version. Use obj.ffill() or obj.bfill() instead.\n",
      "  data['adj_factor'] = data['adj_factor'].fillna(method='bfill')\n"
     ]
    },
    {
     "name": "stdout",
     "output_type": "stream",
     "text": [
      "525/800 688582.SH → 550 行\n"
     ]
    },
    {
     "name": "stderr",
     "output_type": "stream",
     "text": [
      "/Users/lizongze/Quantitative Trading/.venv/lib/python3.12/site-packages/tushare/pro/data_pro.py:130: FutureWarning: Series.fillna with 'method' is deprecated and will raise in a future version. Use obj.ffill() or obj.bfill() instead.\n",
      "  data['adj_factor'] = data['adj_factor'].fillna(method='bfill')\n"
     ]
    },
    {
     "name": "stdout",
     "output_type": "stream",
     "text": [
      "526/800 000039.SZ → 1390 行\n"
     ]
    },
    {
     "name": "stderr",
     "output_type": "stream",
     "text": [
      "/Users/lizongze/Quantitative Trading/.venv/lib/python3.12/site-packages/tushare/pro/data_pro.py:130: FutureWarning: Series.fillna with 'method' is deprecated and will raise in a future version. Use obj.ffill() or obj.bfill() instead.\n",
      "  data['adj_factor'] = data['adj_factor'].fillna(method='bfill')\n"
     ]
    },
    {
     "name": "stdout",
     "output_type": "stream",
     "text": [
      "527/800 600038.SH → 1385 行\n"
     ]
    },
    {
     "name": "stderr",
     "output_type": "stream",
     "text": [
      "/Users/lizongze/Quantitative Trading/.venv/lib/python3.12/site-packages/tushare/pro/data_pro.py:130: FutureWarning: Series.fillna with 'method' is deprecated and will raise in a future version. Use obj.ffill() or obj.bfill() instead.\n",
      "  data['adj_factor'] = data['adj_factor'].fillna(method='bfill')\n"
     ]
    },
    {
     "name": "stdout",
     "output_type": "stream",
     "text": [
      "528/800 601607.SH → 1395 行\n"
     ]
    },
    {
     "name": "stderr",
     "output_type": "stream",
     "text": [
      "/Users/lizongze/Quantitative Trading/.venv/lib/python3.12/site-packages/tushare/pro/data_pro.py:130: FutureWarning: Series.fillna with 'method' is deprecated and will raise in a future version. Use obj.ffill() or obj.bfill() instead.\n",
      "  data['adj_factor'] = data['adj_factor'].fillna(method='bfill')\n"
     ]
    },
    {
     "name": "stdout",
     "output_type": "stream",
     "text": [
      "529/800 603298.SH → 1395 行\n"
     ]
    },
    {
     "name": "stderr",
     "output_type": "stream",
     "text": [
      "/Users/lizongze/Quantitative Trading/.venv/lib/python3.12/site-packages/tushare/pro/data_pro.py:130: FutureWarning: Series.fillna with 'method' is deprecated and will raise in a future version. Use obj.ffill() or obj.bfill() instead.\n",
      "  data['adj_factor'] = data['adj_factor'].fillna(method='bfill')\n"
     ]
    },
    {
     "name": "stdout",
     "output_type": "stream",
     "text": [
      "530/800 600095.SH → 1384 行\n"
     ]
    },
    {
     "name": "stderr",
     "output_type": "stream",
     "text": [
      "/Users/lizongze/Quantitative Trading/.venv/lib/python3.12/site-packages/tushare/pro/data_pro.py:130: FutureWarning: Series.fillna with 'method' is deprecated and will raise in a future version. Use obj.ffill() or obj.bfill() instead.\n",
      "  data['adj_factor'] = data['adj_factor'].fillna(method='bfill')\n"
     ]
    },
    {
     "name": "stdout",
     "output_type": "stream",
     "text": [
      "531/800 603939.SH → 1395 行\n"
     ]
    },
    {
     "name": "stderr",
     "output_type": "stream",
     "text": [
      "/Users/lizongze/Quantitative Trading/.venv/lib/python3.12/site-packages/tushare/pro/data_pro.py:130: FutureWarning: Series.fillna with 'method' is deprecated and will raise in a future version. Use obj.ffill() or obj.bfill() instead.\n",
      "  data['adj_factor'] = data['adj_factor'].fillna(method='bfill')\n"
     ]
    },
    {
     "name": "stdout",
     "output_type": "stream",
     "text": [
      "532/800 002429.SZ → 1390 行\n"
     ]
    },
    {
     "name": "stderr",
     "output_type": "stream",
     "text": [
      "/Users/lizongze/Quantitative Trading/.venv/lib/python3.12/site-packages/tushare/pro/data_pro.py:130: FutureWarning: Series.fillna with 'method' is deprecated and will raise in a future version. Use obj.ffill() or obj.bfill() instead.\n",
      "  data['adj_factor'] = data['adj_factor'].fillna(method='bfill')\n"
     ]
    },
    {
     "name": "stdout",
     "output_type": "stream",
     "text": [
      "533/800 000060.SZ → 1395 行\n"
     ]
    },
    {
     "name": "stderr",
     "output_type": "stream",
     "text": [
      "/Users/lizongze/Quantitative Trading/.venv/lib/python3.12/site-packages/tushare/pro/data_pro.py:130: FutureWarning: Series.fillna with 'method' is deprecated and will raise in a future version. Use obj.ffill() or obj.bfill() instead.\n",
      "  data['adj_factor'] = data['adj_factor'].fillna(method='bfill')\n"
     ]
    },
    {
     "name": "stdout",
     "output_type": "stream",
     "text": [
      "534/800 603816.SH → 1391 行\n"
     ]
    },
    {
     "name": "stderr",
     "output_type": "stream",
     "text": [
      "/Users/lizongze/Quantitative Trading/.venv/lib/python3.12/site-packages/tushare/pro/data_pro.py:130: FutureWarning: Series.fillna with 'method' is deprecated and will raise in a future version. Use obj.ffill() or obj.bfill() instead.\n",
      "  data['adj_factor'] = data['adj_factor'].fillna(method='bfill')\n"
     ]
    },
    {
     "name": "stdout",
     "output_type": "stream",
     "text": [
      "535/800 601958.SH → 1395 行\n"
     ]
    },
    {
     "name": "stderr",
     "output_type": "stream",
     "text": [
      "/Users/lizongze/Quantitative Trading/.venv/lib/python3.12/site-packages/tushare/pro/data_pro.py:130: FutureWarning: Series.fillna with 'method' is deprecated and will raise in a future version. Use obj.ffill() or obj.bfill() instead.\n",
      "  data['adj_factor'] = data['adj_factor'].fillna(method='bfill')\n"
     ]
    },
    {
     "name": "stdout",
     "output_type": "stream",
     "text": [
      "536/800 603156.SH → 1395 行\n"
     ]
    },
    {
     "name": "stderr",
     "output_type": "stream",
     "text": [
      "/Users/lizongze/Quantitative Trading/.venv/lib/python3.12/site-packages/tushare/pro/data_pro.py:130: FutureWarning: Series.fillna with 'method' is deprecated and will raise in a future version. Use obj.ffill() or obj.bfill() instead.\n",
      "  data['adj_factor'] = data['adj_factor'].fillna(method='bfill')\n"
     ]
    },
    {
     "name": "stdout",
     "output_type": "stream",
     "text": [
      "537/800 601155.SH → 1395 行\n"
     ]
    },
    {
     "name": "stderr",
     "output_type": "stream",
     "text": [
      "/Users/lizongze/Quantitative Trading/.venv/lib/python3.12/site-packages/tushare/pro/data_pro.py:130: FutureWarning: Series.fillna with 'method' is deprecated and will raise in a future version. Use obj.ffill() or obj.bfill() instead.\n",
      "  data['adj_factor'] = data['adj_factor'].fillna(method='bfill')\n"
     ]
    },
    {
     "name": "stdout",
     "output_type": "stream",
     "text": [
      "538/800 000723.SZ → 1395 行\n"
     ]
    },
    {
     "name": "stderr",
     "output_type": "stream",
     "text": [
      "/Users/lizongze/Quantitative Trading/.venv/lib/python3.12/site-packages/tushare/pro/data_pro.py:130: FutureWarning: Series.fillna with 'method' is deprecated and will raise in a future version. Use obj.ffill() or obj.bfill() instead.\n",
      "  data['adj_factor'] = data['adj_factor'].fillna(method='bfill')\n"
     ]
    },
    {
     "name": "stdout",
     "output_type": "stream",
     "text": [
      "539/800 600516.SH → 1395 行\n"
     ]
    },
    {
     "name": "stderr",
     "output_type": "stream",
     "text": [
      "/Users/lizongze/Quantitative Trading/.venv/lib/python3.12/site-packages/tushare/pro/data_pro.py:130: FutureWarning: Series.fillna with 'method' is deprecated and will raise in a future version. Use obj.ffill() or obj.bfill() instead.\n",
      "  data['adj_factor'] = data['adj_factor'].fillna(method='bfill')\n"
     ]
    },
    {
     "name": "stdout",
     "output_type": "stream",
     "text": [
      "540/800 300390.SZ → 1395 行\n"
     ]
    },
    {
     "name": "stderr",
     "output_type": "stream",
     "text": [
      "/Users/lizongze/Quantitative Trading/.venv/lib/python3.12/site-packages/tushare/pro/data_pro.py:130: FutureWarning: Series.fillna with 'method' is deprecated and will raise in a future version. Use obj.ffill() or obj.bfill() instead.\n",
      "  data['adj_factor'] = data['adj_factor'].fillna(method='bfill')\n"
     ]
    },
    {
     "name": "stdout",
     "output_type": "stream",
     "text": [
      "541/800 300487.SZ → 1395 行\n"
     ]
    },
    {
     "name": "stderr",
     "output_type": "stream",
     "text": [
      "/Users/lizongze/Quantitative Trading/.venv/lib/python3.12/site-packages/tushare/pro/data_pro.py:130: FutureWarning: Series.fillna with 'method' is deprecated and will raise in a future version. Use obj.ffill() or obj.bfill() instead.\n",
      "  data['adj_factor'] = data['adj_factor'].fillna(method='bfill')\n"
     ]
    },
    {
     "name": "stdout",
     "output_type": "stream",
     "text": [
      "542/800 000703.SZ → 1395 行\n"
     ]
    },
    {
     "name": "stderr",
     "output_type": "stream",
     "text": [
      "/Users/lizongze/Quantitative Trading/.venv/lib/python3.12/site-packages/tushare/pro/data_pro.py:130: FutureWarning: Series.fillna with 'method' is deprecated and will raise in a future version. Use obj.ffill() or obj.bfill() instead.\n",
      "  data['adj_factor'] = data['adj_factor'].fillna(method='bfill')\n"
     ]
    },
    {
     "name": "stdout",
     "output_type": "stream",
     "text": [
      "543/800 603345.SH → 1395 行\n"
     ]
    },
    {
     "name": "stderr",
     "output_type": "stream",
     "text": [
      "/Users/lizongze/Quantitative Trading/.venv/lib/python3.12/site-packages/tushare/pro/data_pro.py:130: FutureWarning: Series.fillna with 'method' is deprecated and will raise in a future version. Use obj.ffill() or obj.bfill() instead.\n",
      "  data['adj_factor'] = data['adj_factor'].fillna(method='bfill')\n"
     ]
    },
    {
     "name": "stdout",
     "output_type": "stream",
     "text": [
      "544/800 688676.SH → 1111 行\n"
     ]
    },
    {
     "name": "stderr",
     "output_type": "stream",
     "text": [
      "/Users/lizongze/Quantitative Trading/.venv/lib/python3.12/site-packages/tushare/pro/data_pro.py:130: FutureWarning: Series.fillna with 'method' is deprecated and will raise in a future version. Use obj.ffill() or obj.bfill() instead.\n",
      "  data['adj_factor'] = data['adj_factor'].fillna(method='bfill')\n"
     ]
    },
    {
     "name": "stdout",
     "output_type": "stream",
     "text": [
      "545/800 603737.SH → 1395 行\n"
     ]
    },
    {
     "name": "stderr",
     "output_type": "stream",
     "text": [
      "/Users/lizongze/Quantitative Trading/.venv/lib/python3.12/site-packages/tushare/pro/data_pro.py:130: FutureWarning: Series.fillna with 'method' is deprecated and will raise in a future version. Use obj.ffill() or obj.bfill() instead.\n",
      "  data['adj_factor'] = data['adj_factor'].fillna(method='bfill')\n"
     ]
    },
    {
     "name": "stdout",
     "output_type": "stream",
     "text": [
      "546/800 600529.SH → 1395 行\n"
     ]
    },
    {
     "name": "stderr",
     "output_type": "stream",
     "text": [
      "/Users/lizongze/Quantitative Trading/.venv/lib/python3.12/site-packages/tushare/pro/data_pro.py:130: FutureWarning: Series.fillna with 'method' is deprecated and will raise in a future version. Use obj.ffill() or obj.bfill() instead.\n",
      "  data['adj_factor'] = data['adj_factor'].fillna(method='bfill')\n"
     ]
    },
    {
     "name": "stdout",
     "output_type": "stream",
     "text": [
      "547/800 000629.SZ → 1395 行\n"
     ]
    },
    {
     "name": "stderr",
     "output_type": "stream",
     "text": [
      "/Users/lizongze/Quantitative Trading/.venv/lib/python3.12/site-packages/tushare/pro/data_pro.py:130: FutureWarning: Series.fillna with 'method' is deprecated and will raise in a future version. Use obj.ffill() or obj.bfill() instead.\n",
      "  data['adj_factor'] = data['adj_factor'].fillna(method='bfill')\n"
     ]
    },
    {
     "name": "stdout",
     "output_type": "stream",
     "text": [
      "548/800 688234.SH → 903 行\n"
     ]
    },
    {
     "name": "stderr",
     "output_type": "stream",
     "text": [
      "/Users/lizongze/Quantitative Trading/.venv/lib/python3.12/site-packages/tushare/pro/data_pro.py:130: FutureWarning: Series.fillna with 'method' is deprecated and will raise in a future version. Use obj.ffill() or obj.bfill() instead.\n",
      "  data['adj_factor'] = data['adj_factor'].fillna(method='bfill')\n"
     ]
    },
    {
     "name": "stdout",
     "output_type": "stream",
     "text": [
      "549/800 688114.SH → 742 行\n"
     ]
    },
    {
     "name": "stderr",
     "output_type": "stream",
     "text": [
      "/Users/lizongze/Quantitative Trading/.venv/lib/python3.12/site-packages/tushare/pro/data_pro.py:130: FutureWarning: Series.fillna with 'method' is deprecated and will raise in a future version. Use obj.ffill() or obj.bfill() instead.\n",
      "  data['adj_factor'] = data['adj_factor'].fillna(method='bfill')\n"
     ]
    },
    {
     "name": "stdout",
     "output_type": "stream",
     "text": [
      "550/800 603379.SH → 1395 行\n"
     ]
    },
    {
     "name": "stderr",
     "output_type": "stream",
     "text": [
      "/Users/lizongze/Quantitative Trading/.venv/lib/python3.12/site-packages/tushare/pro/data_pro.py:130: FutureWarning: Series.fillna with 'method' is deprecated and will raise in a future version. Use obj.ffill() or obj.bfill() instead.\n",
      "  data['adj_factor'] = data['adj_factor'].fillna(method='bfill')\n"
     ]
    },
    {
     "name": "stdout",
     "output_type": "stream",
     "text": [
      "551/800 002670.SZ → 1365 行\n"
     ]
    },
    {
     "name": "stderr",
     "output_type": "stream",
     "text": [
      "/Users/lizongze/Quantitative Trading/.venv/lib/python3.12/site-packages/tushare/pro/data_pro.py:130: FutureWarning: Series.fillna with 'method' is deprecated and will raise in a future version. Use obj.ffill() or obj.bfill() instead.\n",
      "  data['adj_factor'] = data['adj_factor'].fillna(method='bfill')\n"
     ]
    },
    {
     "name": "stdout",
     "output_type": "stream",
     "text": [
      "552/800 603728.SH → 1395 行\n"
     ]
    },
    {
     "name": "stderr",
     "output_type": "stream",
     "text": [
      "/Users/lizongze/Quantitative Trading/.venv/lib/python3.12/site-packages/tushare/pro/data_pro.py:130: FutureWarning: Series.fillna with 'method' is deprecated and will raise in a future version. Use obj.ffill() or obj.bfill() instead.\n",
      "  data['adj_factor'] = data['adj_factor'].fillna(method='bfill')\n"
     ]
    },
    {
     "name": "stdout",
     "output_type": "stream",
     "text": [
      "553/800 601231.SH → 1394 行\n"
     ]
    },
    {
     "name": "stderr",
     "output_type": "stream",
     "text": [
      "/Users/lizongze/Quantitative Trading/.venv/lib/python3.12/site-packages/tushare/pro/data_pro.py:130: FutureWarning: Series.fillna with 'method' is deprecated and will raise in a future version. Use obj.ffill() or obj.bfill() instead.\n",
      "  data['adj_factor'] = data['adj_factor'].fillna(method='bfill')\n"
     ]
    },
    {
     "name": "stdout",
     "output_type": "stream",
     "text": [
      "554/800 600499.SH → 1395 行\n"
     ]
    },
    {
     "name": "stderr",
     "output_type": "stream",
     "text": [
      "/Users/lizongze/Quantitative Trading/.venv/lib/python3.12/site-packages/tushare/pro/data_pro.py:130: FutureWarning: Series.fillna with 'method' is deprecated and will raise in a future version. Use obj.ffill() or obj.bfill() instead.\n",
      "  data['adj_factor'] = data['adj_factor'].fillna(method='bfill')\n"
     ]
    },
    {
     "name": "stdout",
     "output_type": "stream",
     "text": [
      "555/800 600820.SH → 1395 行\n"
     ]
    },
    {
     "name": "stderr",
     "output_type": "stream",
     "text": [
      "/Users/lizongze/Quantitative Trading/.venv/lib/python3.12/site-packages/tushare/pro/data_pro.py:130: FutureWarning: Series.fillna with 'method' is deprecated and will raise in a future version. Use obj.ffill() or obj.bfill() instead.\n",
      "  data['adj_factor'] = data['adj_factor'].fillna(method='bfill')\n"
     ]
    },
    {
     "name": "stdout",
     "output_type": "stream",
     "text": [
      "556/800 300751.SZ → 1395 行\n"
     ]
    },
    {
     "name": "stderr",
     "output_type": "stream",
     "text": [
      "/Users/lizongze/Quantitative Trading/.venv/lib/python3.12/site-packages/tushare/pro/data_pro.py:130: FutureWarning: Series.fillna with 'method' is deprecated and will raise in a future version. Use obj.ffill() or obj.bfill() instead.\n",
      "  data['adj_factor'] = data['adj_factor'].fillna(method='bfill')\n"
     ]
    },
    {
     "name": "stdout",
     "output_type": "stream",
     "text": [
      "557/800 688728.SH → 1000 行\n"
     ]
    },
    {
     "name": "stderr",
     "output_type": "stream",
     "text": [
      "/Users/lizongze/Quantitative Trading/.venv/lib/python3.12/site-packages/tushare/pro/data_pro.py:130: FutureWarning: Series.fillna with 'method' is deprecated and will raise in a future version. Use obj.ffill() or obj.bfill() instead.\n",
      "  data['adj_factor'] = data['adj_factor'].fillna(method='bfill')\n"
     ]
    },
    {
     "name": "stdout",
     "output_type": "stream",
     "text": [
      "558/800 002958.SZ → 1395 行\n"
     ]
    },
    {
     "name": "stderr",
     "output_type": "stream",
     "text": [
      "/Users/lizongze/Quantitative Trading/.venv/lib/python3.12/site-packages/tushare/pro/data_pro.py:130: FutureWarning: Series.fillna with 'method' is deprecated and will raise in a future version. Use obj.ffill() or obj.bfill() instead.\n",
      "  data['adj_factor'] = data['adj_factor'].fillna(method='bfill')\n"
     ]
    },
    {
     "name": "stdout",
     "output_type": "stream",
     "text": [
      "559/800 688301.SH → 1221 行\n"
     ]
    },
    {
     "name": "stderr",
     "output_type": "stream",
     "text": [
      "/Users/lizongze/Quantitative Trading/.venv/lib/python3.12/site-packages/tushare/pro/data_pro.py:130: FutureWarning: Series.fillna with 'method' is deprecated and will raise in a future version. Use obj.ffill() or obj.bfill() instead.\n",
      "  data['adj_factor'] = data['adj_factor'].fillna(method='bfill')\n"
     ]
    },
    {
     "name": "stdout",
     "output_type": "stream",
     "text": [
      "560/800 000513.SZ → 1395 行\n"
     ]
    },
    {
     "name": "stderr",
     "output_type": "stream",
     "text": [
      "/Users/lizongze/Quantitative Trading/.venv/lib/python3.12/site-packages/tushare/pro/data_pro.py:130: FutureWarning: Series.fillna with 'method' is deprecated and will raise in a future version. Use obj.ffill() or obj.bfill() instead.\n",
      "  data['adj_factor'] = data['adj_factor'].fillna(method='bfill')\n"
     ]
    },
    {
     "name": "stdout",
     "output_type": "stream",
     "text": [
      "561/800 600763.SH → 1395 行\n"
     ]
    },
    {
     "name": "stderr",
     "output_type": "stream",
     "text": [
      "/Users/lizongze/Quantitative Trading/.venv/lib/python3.12/site-packages/tushare/pro/data_pro.py:130: FutureWarning: Series.fillna with 'method' is deprecated and will raise in a future version. Use obj.ffill() or obj.bfill() instead.\n",
      "  data['adj_factor'] = data['adj_factor'].fillna(method='bfill')\n"
     ]
    },
    {
     "name": "stdout",
     "output_type": "stream",
     "text": [
      "562/800 000708.SZ → 1395 行\n"
     ]
    },
    {
     "name": "stderr",
     "output_type": "stream",
     "text": [
      "/Users/lizongze/Quantitative Trading/.venv/lib/python3.12/site-packages/tushare/pro/data_pro.py:130: FutureWarning: Series.fillna with 'method' is deprecated and will raise in a future version. Use obj.ffill() or obj.bfill() instead.\n",
      "  data['adj_factor'] = data['adj_factor'].fillna(method='bfill')\n"
     ]
    },
    {
     "name": "stdout",
     "output_type": "stream",
     "text": [
      "563/800 002500.SZ → 1389 行\n"
     ]
    },
    {
     "name": "stderr",
     "output_type": "stream",
     "text": [
      "/Users/lizongze/Quantitative Trading/.venv/lib/python3.12/site-packages/tushare/pro/data_pro.py:130: FutureWarning: Series.fillna with 'method' is deprecated and will raise in a future version. Use obj.ffill() or obj.bfill() instead.\n",
      "  data['adj_factor'] = data['adj_factor'].fillna(method='bfill')\n"
     ]
    },
    {
     "name": "stdout",
     "output_type": "stream",
     "text": [
      "564/800 600008.SH → 1389 行\n"
     ]
    },
    {
     "name": "stderr",
     "output_type": "stream",
     "text": [
      "/Users/lizongze/Quantitative Trading/.venv/lib/python3.12/site-packages/tushare/pro/data_pro.py:130: FutureWarning: Series.fillna with 'method' is deprecated and will raise in a future version. Use obj.ffill() or obj.bfill() instead.\n",
      "  data['adj_factor'] = data['adj_factor'].fillna(method='bfill')\n"
     ]
    },
    {
     "name": "stdout",
     "output_type": "stream",
     "text": [
      "565/800 688009.SH → 1395 行\n"
     ]
    },
    {
     "name": "stderr",
     "output_type": "stream",
     "text": [
      "/Users/lizongze/Quantitative Trading/.venv/lib/python3.12/site-packages/tushare/pro/data_pro.py:130: FutureWarning: Series.fillna with 'method' is deprecated and will raise in a future version. Use obj.ffill() or obj.bfill() instead.\n",
      "  data['adj_factor'] = data['adj_factor'].fillna(method='bfill')\n"
     ]
    },
    {
     "name": "stdout",
     "output_type": "stream",
     "text": [
      "566/800 002385.SZ → 1395 行\n"
     ]
    },
    {
     "name": "stderr",
     "output_type": "stream",
     "text": [
      "/Users/lizongze/Quantitative Trading/.venv/lib/python3.12/site-packages/tushare/pro/data_pro.py:130: FutureWarning: Series.fillna with 'method' is deprecated and will raise in a future version. Use obj.ffill() or obj.bfill() instead.\n",
      "  data['adj_factor'] = data['adj_factor'].fillna(method='bfill')\n"
     ]
    },
    {
     "name": "stdout",
     "output_type": "stream",
     "text": [
      "567/800 601179.SH → 1395 行\n"
     ]
    },
    {
     "name": "stderr",
     "output_type": "stream",
     "text": [
      "/Users/lizongze/Quantitative Trading/.venv/lib/python3.12/site-packages/tushare/pro/data_pro.py:130: FutureWarning: Series.fillna with 'method' is deprecated and will raise in a future version. Use obj.ffill() or obj.bfill() instead.\n",
      "  data['adj_factor'] = data['adj_factor'].fillna(method='bfill')\n"
     ]
    },
    {
     "name": "stdout",
     "output_type": "stream",
     "text": [
      "568/800 002025.SZ → 1395 行\n"
     ]
    },
    {
     "name": "stderr",
     "output_type": "stream",
     "text": [
      "/Users/lizongze/Quantitative Trading/.venv/lib/python3.12/site-packages/tushare/pro/data_pro.py:130: FutureWarning: Series.fillna with 'method' is deprecated and will raise in a future version. Use obj.ffill() or obj.bfill() instead.\n",
      "  data['adj_factor'] = data['adj_factor'].fillna(method='bfill')\n"
     ]
    },
    {
     "name": "stdout",
     "output_type": "stream",
     "text": [
      "569/800 300144.SZ → 1395 行\n"
     ]
    },
    {
     "name": "stderr",
     "output_type": "stream",
     "text": [
      "/Users/lizongze/Quantitative Trading/.venv/lib/python3.12/site-packages/tushare/pro/data_pro.py:130: FutureWarning: Series.fillna with 'method' is deprecated and will raise in a future version. Use obj.ffill() or obj.bfill() instead.\n",
      "  data['adj_factor'] = data['adj_factor'].fillna(method='bfill')\n"
     ]
    },
    {
     "name": "stdout",
     "output_type": "stream",
     "text": [
      "570/800 002773.SZ → 1395 行\n"
     ]
    },
    {
     "name": "stderr",
     "output_type": "stream",
     "text": [
      "/Users/lizongze/Quantitative Trading/.venv/lib/python3.12/site-packages/tushare/pro/data_pro.py:130: FutureWarning: Series.fillna with 'method' is deprecated and will raise in a future version. Use obj.ffill() or obj.bfill() instead.\n",
      "  data['adj_factor'] = data['adj_factor'].fillna(method='bfill')\n"
     ]
    },
    {
     "name": "stdout",
     "output_type": "stream",
     "text": [
      "571/800 600126.SH → 1395 行\n"
     ]
    },
    {
     "name": "stderr",
     "output_type": "stream",
     "text": [
      "/Users/lizongze/Quantitative Trading/.venv/lib/python3.12/site-packages/tushare/pro/data_pro.py:130: FutureWarning: Series.fillna with 'method' is deprecated and will raise in a future version. Use obj.ffill() or obj.bfill() instead.\n",
      "  data['adj_factor'] = data['adj_factor'].fillna(method='bfill')\n"
     ]
    },
    {
     "name": "stdout",
     "output_type": "stream",
     "text": [
      "572/800 600312.SH → 1395 行\n"
     ]
    },
    {
     "name": "stderr",
     "output_type": "stream",
     "text": [
      "/Users/lizongze/Quantitative Trading/.venv/lib/python3.12/site-packages/tushare/pro/data_pro.py:130: FutureWarning: Series.fillna with 'method' is deprecated and will raise in a future version. Use obj.ffill() or obj.bfill() instead.\n",
      "  data['adj_factor'] = data['adj_factor'].fillna(method='bfill')\n"
     ]
    },
    {
     "name": "stdout",
     "output_type": "stream",
     "text": [
      "573/800 002607.SZ → 1395 行\n"
     ]
    },
    {
     "name": "stderr",
     "output_type": "stream",
     "text": [
      "/Users/lizongze/Quantitative Trading/.venv/lib/python3.12/site-packages/tushare/pro/data_pro.py:130: FutureWarning: Series.fillna with 'method' is deprecated and will raise in a future version. Use obj.ffill() or obj.bfill() instead.\n",
      "  data['adj_factor'] = data['adj_factor'].fillna(method='bfill')\n"
     ]
    },
    {
     "name": "stdout",
     "output_type": "stream",
     "text": [
      "574/800 603338.SH → 1395 行\n"
     ]
    },
    {
     "name": "stderr",
     "output_type": "stream",
     "text": [
      "/Users/lizongze/Quantitative Trading/.venv/lib/python3.12/site-packages/tushare/pro/data_pro.py:130: FutureWarning: Series.fillna with 'method' is deprecated and will raise in a future version. Use obj.ffill() or obj.bfill() instead.\n",
      "  data['adj_factor'] = data['adj_factor'].fillna(method='bfill')\n"
     ]
    },
    {
     "name": "stdout",
     "output_type": "stream",
     "text": [
      "575/800 688187.SH → 986 行\n"
     ]
    },
    {
     "name": "stderr",
     "output_type": "stream",
     "text": [
      "/Users/lizongze/Quantitative Trading/.venv/lib/python3.12/site-packages/tushare/pro/data_pro.py:130: FutureWarning: Series.fillna with 'method' is deprecated and will raise in a future version. Use obj.ffill() or obj.bfill() instead.\n",
      "  data['adj_factor'] = data['adj_factor'].fillna(method='bfill')\n"
     ]
    },
    {
     "name": "stdout",
     "output_type": "stream",
     "text": [
      "576/800 600380.SH → 1395 行\n"
     ]
    },
    {
     "name": "stderr",
     "output_type": "stream",
     "text": [
      "/Users/lizongze/Quantitative Trading/.venv/lib/python3.12/site-packages/tushare/pro/data_pro.py:130: FutureWarning: Series.fillna with 'method' is deprecated and will raise in a future version. Use obj.ffill() or obj.bfill() instead.\n",
      "  data['adj_factor'] = data['adj_factor'].fillna(method='bfill')\n"
     ]
    },
    {
     "name": "stdout",
     "output_type": "stream",
     "text": [
      "577/800 603568.SH → 1395 行\n"
     ]
    },
    {
     "name": "stderr",
     "output_type": "stream",
     "text": [
      "/Users/lizongze/Quantitative Trading/.venv/lib/python3.12/site-packages/tushare/pro/data_pro.py:130: FutureWarning: Series.fillna with 'method' is deprecated and will raise in a future version. Use obj.ffill() or obj.bfill() instead.\n",
      "  data['adj_factor'] = data['adj_factor'].fillna(method='bfill')\n"
     ]
    },
    {
     "name": "stdout",
     "output_type": "stream",
     "text": [
      "578/800 002568.SZ → 1395 行\n"
     ]
    },
    {
     "name": "stderr",
     "output_type": "stream",
     "text": [
      "/Users/lizongze/Quantitative Trading/.venv/lib/python3.12/site-packages/tushare/pro/data_pro.py:130: FutureWarning: Series.fillna with 'method' is deprecated and will raise in a future version. Use obj.ffill() or obj.bfill() instead.\n",
      "  data['adj_factor'] = data['adj_factor'].fillna(method='bfill')\n"
     ]
    },
    {
     "name": "stdout",
     "output_type": "stream",
     "text": [
      "579/800 688278.SH → 1384 行\n"
     ]
    },
    {
     "name": "stderr",
     "output_type": "stream",
     "text": [
      "/Users/lizongze/Quantitative Trading/.venv/lib/python3.12/site-packages/tushare/pro/data_pro.py:130: FutureWarning: Series.fillna with 'method' is deprecated and will raise in a future version. Use obj.ffill() or obj.bfill() instead.\n",
      "  data['adj_factor'] = data['adj_factor'].fillna(method='bfill')\n"
     ]
    },
    {
     "name": "stdout",
     "output_type": "stream",
     "text": [
      "580/800 600985.SH → 1395 行\n"
     ]
    },
    {
     "name": "stderr",
     "output_type": "stream",
     "text": [
      "/Users/lizongze/Quantitative Trading/.venv/lib/python3.12/site-packages/tushare/pro/data_pro.py:130: FutureWarning: Series.fillna with 'method' is deprecated and will raise in a future version. Use obj.ffill() or obj.bfill() instead.\n",
      "  data['adj_factor'] = data['adj_factor'].fillna(method='bfill')\n"
     ]
    },
    {
     "name": "stdout",
     "output_type": "stream",
     "text": [
      "581/800 600863.SH → 1387 行\n"
     ]
    },
    {
     "name": "stderr",
     "output_type": "stream",
     "text": [
      "/Users/lizongze/Quantitative Trading/.venv/lib/python3.12/site-packages/tushare/pro/data_pro.py:130: FutureWarning: Series.fillna with 'method' is deprecated and will raise in a future version. Use obj.ffill() or obj.bfill() instead.\n",
      "  data['adj_factor'] = data['adj_factor'].fillna(method='bfill')\n"
     ]
    },
    {
     "name": "stdout",
     "output_type": "stream",
     "text": [
      "582/800 601865.SH → 1395 行\n"
     ]
    },
    {
     "name": "stderr",
     "output_type": "stream",
     "text": [
      "/Users/lizongze/Quantitative Trading/.venv/lib/python3.12/site-packages/tushare/pro/data_pro.py:130: FutureWarning: Series.fillna with 'method' is deprecated and will raise in a future version. Use obj.ffill() or obj.bfill() instead.\n",
      "  data['adj_factor'] = data['adj_factor'].fillna(method='bfill')\n"
     ]
    },
    {
     "name": "stdout",
     "output_type": "stream",
     "text": [
      "583/800 600348.SH → 1395 行\n"
     ]
    },
    {
     "name": "stderr",
     "output_type": "stream",
     "text": [
      "/Users/lizongze/Quantitative Trading/.venv/lib/python3.12/site-packages/tushare/pro/data_pro.py:130: FutureWarning: Series.fillna with 'method' is deprecated and will raise in a future version. Use obj.ffill() or obj.bfill() instead.\n",
      "  data['adj_factor'] = data['adj_factor'].fillna(method='bfill')\n"
     ]
    },
    {
     "name": "stdout",
     "output_type": "stream",
     "text": [
      "584/800 600390.SH → 1395 行\n"
     ]
    },
    {
     "name": "stderr",
     "output_type": "stream",
     "text": [
      "/Users/lizongze/Quantitative Trading/.venv/lib/python3.12/site-packages/tushare/pro/data_pro.py:130: FutureWarning: Series.fillna with 'method' is deprecated and will raise in a future version. Use obj.ffill() or obj.bfill() instead.\n",
      "  data['adj_factor'] = data['adj_factor'].fillna(method='bfill')\n"
     ]
    },
    {
     "name": "stdout",
     "output_type": "stream",
     "text": [
      "585/800 600901.SH → 1395 行\n"
     ]
    },
    {
     "name": "stderr",
     "output_type": "stream",
     "text": [
      "/Users/lizongze/Quantitative Trading/.venv/lib/python3.12/site-packages/tushare/pro/data_pro.py:130: FutureWarning: Series.fillna with 'method' is deprecated and will raise in a future version. Use obj.ffill() or obj.bfill() instead.\n",
      "  data['adj_factor'] = data['adj_factor'].fillna(method='bfill')\n"
     ]
    },
    {
     "name": "stdout",
     "output_type": "stream",
     "text": [
      "586/800 603290.SH → 1378 行\n"
     ]
    },
    {
     "name": "stderr",
     "output_type": "stream",
     "text": [
      "/Users/lizongze/Quantitative Trading/.venv/lib/python3.12/site-packages/tushare/pro/data_pro.py:130: FutureWarning: Series.fillna with 'method' is deprecated and will raise in a future version. Use obj.ffill() or obj.bfill() instead.\n",
      "  data['adj_factor'] = data['adj_factor'].fillna(method='bfill')\n"
     ]
    },
    {
     "name": "stdout",
     "output_type": "stream",
     "text": [
      "587/800 002603.SZ → 1395 行\n"
     ]
    },
    {
     "name": "stderr",
     "output_type": "stream",
     "text": [
      "/Users/lizongze/Quantitative Trading/.venv/lib/python3.12/site-packages/tushare/pro/data_pro.py:130: FutureWarning: Series.fillna with 'method' is deprecated and will raise in a future version. Use obj.ffill() or obj.bfill() instead.\n",
      "  data['adj_factor'] = data['adj_factor'].fillna(method='bfill')\n"
     ]
    },
    {
     "name": "stdout",
     "output_type": "stream",
     "text": [
      "588/800 002432.SZ → 1395 行\n"
     ]
    },
    {
     "name": "stderr",
     "output_type": "stream",
     "text": [
      "/Users/lizongze/Quantitative Trading/.venv/lib/python3.12/site-packages/tushare/pro/data_pro.py:130: FutureWarning: Series.fillna with 'method' is deprecated and will raise in a future version. Use obj.ffill() or obj.bfill() instead.\n",
      "  data['adj_factor'] = data['adj_factor'].fillna(method='bfill')\n"
     ]
    },
    {
     "name": "stdout",
     "output_type": "stream",
     "text": [
      "589/800 600132.SH → 1395 行\n"
     ]
    },
    {
     "name": "stderr",
     "output_type": "stream",
     "text": [
      "/Users/lizongze/Quantitative Trading/.venv/lib/python3.12/site-packages/tushare/pro/data_pro.py:130: FutureWarning: Series.fillna with 'method' is deprecated and will raise in a future version. Use obj.ffill() or obj.bfill() instead.\n",
      "  data['adj_factor'] = data['adj_factor'].fillna(method='bfill')\n"
     ]
    },
    {
     "name": "stdout",
     "output_type": "stream",
     "text": [
      "590/800 603077.SH → 1395 行\n"
     ]
    },
    {
     "name": "stderr",
     "output_type": "stream",
     "text": [
      "/Users/lizongze/Quantitative Trading/.venv/lib/python3.12/site-packages/tushare/pro/data_pro.py:130: FutureWarning: Series.fillna with 'method' is deprecated and will raise in a future version. Use obj.ffill() or obj.bfill() instead.\n",
      "  data['adj_factor'] = data['adj_factor'].fillna(method='bfill')\n"
     ]
    },
    {
     "name": "stdout",
     "output_type": "stream",
     "text": [
      "591/800 600282.SH → 1391 行\n"
     ]
    },
    {
     "name": "stderr",
     "output_type": "stream",
     "text": [
      "/Users/lizongze/Quantitative Trading/.venv/lib/python3.12/site-packages/tushare/pro/data_pro.py:130: FutureWarning: Series.fillna with 'method' is deprecated and will raise in a future version. Use obj.ffill() or obj.bfill() instead.\n",
      "  data['adj_factor'] = data['adj_factor'].fillna(method='bfill')\n"
     ]
    },
    {
     "name": "stdout",
     "output_type": "stream",
     "text": [
      "592/800 601880.SH → 1379 行\n"
     ]
    },
    {
     "name": "stderr",
     "output_type": "stream",
     "text": [
      "/Users/lizongze/Quantitative Trading/.venv/lib/python3.12/site-packages/tushare/pro/data_pro.py:130: FutureWarning: Series.fillna with 'method' is deprecated and will raise in a future version. Use obj.ffill() or obj.bfill() instead.\n",
      "  data['adj_factor'] = data['adj_factor'].fillna(method='bfill')\n"
     ]
    },
    {
     "name": "stdout",
     "output_type": "stream",
     "text": [
      "593/800 600166.SH → 1395 行\n"
     ]
    },
    {
     "name": "stderr",
     "output_type": "stream",
     "text": [
      "/Users/lizongze/Quantitative Trading/.venv/lib/python3.12/site-packages/tushare/pro/data_pro.py:130: FutureWarning: Series.fillna with 'method' is deprecated and will raise in a future version. Use obj.ffill() or obj.bfill() instead.\n",
      "  data['adj_factor'] = data['adj_factor'].fillna(method='bfill')\n"
     ]
    },
    {
     "name": "stdout",
     "output_type": "stream",
     "text": [
      "594/800 601236.SH → 1389 行\n"
     ]
    },
    {
     "name": "stderr",
     "output_type": "stream",
     "text": [
      "/Users/lizongze/Quantitative Trading/.venv/lib/python3.12/site-packages/tushare/pro/data_pro.py:130: FutureWarning: Series.fillna with 'method' is deprecated and will raise in a future version. Use obj.ffill() or obj.bfill() instead.\n",
      "  data['adj_factor'] = data['adj_factor'].fillna(method='bfill')\n"
     ]
    },
    {
     "name": "stdout",
     "output_type": "stream",
     "text": [
      "595/800 600801.SH → 1393 行\n"
     ]
    },
    {
     "name": "stderr",
     "output_type": "stream",
     "text": [
      "/Users/lizongze/Quantitative Trading/.venv/lib/python3.12/site-packages/tushare/pro/data_pro.py:130: FutureWarning: Series.fillna with 'method' is deprecated and will raise in a future version. Use obj.ffill() or obj.bfill() instead.\n",
      "  data['adj_factor'] = data['adj_factor'].fillna(method='bfill')\n"
     ]
    },
    {
     "name": "stdout",
     "output_type": "stream",
     "text": [
      "596/800 603225.SH → 1395 行\n"
     ]
    },
    {
     "name": "stderr",
     "output_type": "stream",
     "text": [
      "/Users/lizongze/Quantitative Trading/.venv/lib/python3.12/site-packages/tushare/pro/data_pro.py:130: FutureWarning: Series.fillna with 'method' is deprecated and will raise in a future version. Use obj.ffill() or obj.bfill() instead.\n",
      "  data['adj_factor'] = data['adj_factor'].fillna(method='bfill')\n"
     ]
    },
    {
     "name": "stdout",
     "output_type": "stream",
     "text": [
      "597/800 600325.SH → 1395 行\n"
     ]
    },
    {
     "name": "stderr",
     "output_type": "stream",
     "text": [
      "/Users/lizongze/Quantitative Trading/.venv/lib/python3.12/site-packages/tushare/pro/data_pro.py:130: FutureWarning: Series.fillna with 'method' is deprecated and will raise in a future version. Use obj.ffill() or obj.bfill() instead.\n",
      "  data['adj_factor'] = data['adj_factor'].fillna(method='bfill')\n"
     ]
    },
    {
     "name": "stdout",
     "output_type": "stream",
     "text": [
      "598/800 601016.SH → 1389 行\n"
     ]
    },
    {
     "name": "stderr",
     "output_type": "stream",
     "text": [
      "/Users/lizongze/Quantitative Trading/.venv/lib/python3.12/site-packages/tushare/pro/data_pro.py:130: FutureWarning: Series.fillna with 'method' is deprecated and will raise in a future version. Use obj.ffill() or obj.bfill() instead.\n",
      "  data['adj_factor'] = data['adj_factor'].fillna(method='bfill')\n"
     ]
    },
    {
     "name": "stdout",
     "output_type": "stream",
     "text": [
      "599/800 000636.SZ → 1395 行\n"
     ]
    },
    {
     "name": "stderr",
     "output_type": "stream",
     "text": [
      "/Users/lizongze/Quantitative Trading/.venv/lib/python3.12/site-packages/tushare/pro/data_pro.py:130: FutureWarning: Series.fillna with 'method' is deprecated and will raise in a future version. Use obj.ffill() or obj.bfill() instead.\n",
      "  data['adj_factor'] = data['adj_factor'].fillna(method='bfill')\n"
     ]
    },
    {
     "name": "stdout",
     "output_type": "stream",
     "text": [
      "600/800 601991.SH → 1395 行\n"
     ]
    },
    {
     "name": "stderr",
     "output_type": "stream",
     "text": [
      "/Users/lizongze/Quantitative Trading/.venv/lib/python3.12/site-packages/tushare/pro/data_pro.py:130: FutureWarning: Series.fillna with 'method' is deprecated and will raise in a future version. Use obj.ffill() or obj.bfill() instead.\n",
      "  data['adj_factor'] = data['adj_factor'].fillna(method='bfill')\n"
     ]
    },
    {
     "name": "stdout",
     "output_type": "stream",
     "text": [
      "601/800 688318.SH → 1320 行\n"
     ]
    },
    {
     "name": "stderr",
     "output_type": "stream",
     "text": [
      "/Users/lizongze/Quantitative Trading/.venv/lib/python3.12/site-packages/tushare/pro/data_pro.py:130: FutureWarning: Series.fillna with 'method' is deprecated and will raise in a future version. Use obj.ffill() or obj.bfill() instead.\n",
      "  data['adj_factor'] = data['adj_factor'].fillna(method='bfill')\n"
     ]
    },
    {
     "name": "stdout",
     "output_type": "stream",
     "text": [
      "602/800 601212.SH → 1395 行\n"
     ]
    },
    {
     "name": "stderr",
     "output_type": "stream",
     "text": [
      "/Users/lizongze/Quantitative Trading/.venv/lib/python3.12/site-packages/tushare/pro/data_pro.py:130: FutureWarning: Series.fillna with 'method' is deprecated and will raise in a future version. Use obj.ffill() or obj.bfill() instead.\n",
      "  data['adj_factor'] = data['adj_factor'].fillna(method='bfill')\n"
     ]
    },
    {
     "name": "stdout",
     "output_type": "stream",
     "text": [
      "603/800 002756.SZ → 1395 行\n"
     ]
    },
    {
     "name": "stderr",
     "output_type": "stream",
     "text": [
      "/Users/lizongze/Quantitative Trading/.venv/lib/python3.12/site-packages/tushare/pro/data_pro.py:130: FutureWarning: Series.fillna with 'method' is deprecated and will raise in a future version. Use obj.ffill() or obj.bfill() instead.\n",
      "  data['adj_factor'] = data['adj_factor'].fillna(method='bfill')\n"
     ]
    },
    {
     "name": "stdout",
     "output_type": "stream",
     "text": [
      "604/800 000591.SZ → 1395 行\n"
     ]
    },
    {
     "name": "stderr",
     "output_type": "stream",
     "text": [
      "/Users/lizongze/Quantitative Trading/.venv/lib/python3.12/site-packages/tushare/pro/data_pro.py:130: FutureWarning: Series.fillna with 'method' is deprecated and will raise in a future version. Use obj.ffill() or obj.bfill() instead.\n",
      "  data['adj_factor'] = data['adj_factor'].fillna(method='bfill')\n"
     ]
    },
    {
     "name": "stdout",
     "output_type": "stream",
     "text": [
      "605/800 002312.SZ → 1380 行\n"
     ]
    },
    {
     "name": "stderr",
     "output_type": "stream",
     "text": [
      "/Users/lizongze/Quantitative Trading/.venv/lib/python3.12/site-packages/tushare/pro/data_pro.py:130: FutureWarning: Series.fillna with 'method' is deprecated and will raise in a future version. Use obj.ffill() or obj.bfill() instead.\n",
      "  data['adj_factor'] = data['adj_factor'].fillna(method='bfill')\n"
     ]
    },
    {
     "name": "stdout",
     "output_type": "stream",
     "text": [
      "606/800 600329.SH → 1394 行\n"
     ]
    },
    {
     "name": "stderr",
     "output_type": "stream",
     "text": [
      "/Users/lizongze/Quantitative Trading/.venv/lib/python3.12/site-packages/tushare/pro/data_pro.py:130: FutureWarning: Series.fillna with 'method' is deprecated and will raise in a future version. Use obj.ffill() or obj.bfill() instead.\n",
      "  data['adj_factor'] = data['adj_factor'].fillna(method='bfill')\n"
     ]
    },
    {
     "name": "stdout",
     "output_type": "stream",
     "text": [
      "607/800 600998.SH → 1395 行\n"
     ]
    },
    {
     "name": "stderr",
     "output_type": "stream",
     "text": [
      "/Users/lizongze/Quantitative Trading/.venv/lib/python3.12/site-packages/tushare/pro/data_pro.py:130: FutureWarning: Series.fillna with 'method' is deprecated and will raise in a future version. Use obj.ffill() or obj.bfill() instead.\n",
      "  data['adj_factor'] = data['adj_factor'].fillna(method='bfill')\n"
     ]
    },
    {
     "name": "stdout",
     "output_type": "stream",
     "text": [
      "608/800 002423.SZ → 1395 行\n"
     ]
    },
    {
     "name": "stderr",
     "output_type": "stream",
     "text": [
      "/Users/lizongze/Quantitative Trading/.venv/lib/python3.12/site-packages/tushare/pro/data_pro.py:130: FutureWarning: Series.fillna with 'method' is deprecated and will raise in a future version. Use obj.ffill() or obj.bfill() instead.\n",
      "  data['adj_factor'] = data['adj_factor'].fillna(method='bfill')\n"
     ]
    },
    {
     "name": "stdout",
     "output_type": "stream",
     "text": [
      "609/800 000921.SZ → 1395 行\n"
     ]
    },
    {
     "name": "stderr",
     "output_type": "stream",
     "text": [
      "/Users/lizongze/Quantitative Trading/.venv/lib/python3.12/site-packages/tushare/pro/data_pro.py:130: FutureWarning: Series.fillna with 'method' is deprecated and will raise in a future version. Use obj.ffill() or obj.bfill() instead.\n",
      "  data['adj_factor'] = data['adj_factor'].fillna(method='bfill')\n"
     ]
    },
    {
     "name": "stdout",
     "output_type": "stream",
     "text": [
      "610/800 000050.SZ → 1395 行\n"
     ]
    },
    {
     "name": "stderr",
     "output_type": "stream",
     "text": [
      "/Users/lizongze/Quantitative Trading/.venv/lib/python3.12/site-packages/tushare/pro/data_pro.py:130: FutureWarning: Series.fillna with 'method' is deprecated and will raise in a future version. Use obj.ffill() or obj.bfill() instead.\n",
      "  data['adj_factor'] = data['adj_factor'].fillna(method='bfill')\n"
     ]
    },
    {
     "name": "stdout",
     "output_type": "stream",
     "text": [
      "611/800 603927.SH → 1395 行\n"
     ]
    },
    {
     "name": "stderr",
     "output_type": "stream",
     "text": [
      "/Users/lizongze/Quantitative Trading/.venv/lib/python3.12/site-packages/tushare/pro/data_pro.py:130: FutureWarning: Series.fillna with 'method' is deprecated and will raise in a future version. Use obj.ffill() or obj.bfill() instead.\n",
      "  data['adj_factor'] = data['adj_factor'].fillna(method='bfill')\n"
     ]
    },
    {
     "name": "stdout",
     "output_type": "stream",
     "text": [
      "612/800 603195.SH → 1376 行\n"
     ]
    },
    {
     "name": "stderr",
     "output_type": "stream",
     "text": [
      "/Users/lizongze/Quantitative Trading/.venv/lib/python3.12/site-packages/tushare/pro/data_pro.py:130: FutureWarning: Series.fillna with 'method' is deprecated and will raise in a future version. Use obj.ffill() or obj.bfill() instead.\n",
      "  data['adj_factor'] = data['adj_factor'].fillna(method='bfill')\n"
     ]
    },
    {
     "name": "stdout",
     "output_type": "stream",
     "text": [
      "613/800 601136.SH → 674 行\n"
     ]
    },
    {
     "name": "stderr",
     "output_type": "stream",
     "text": [
      "/Users/lizongze/Quantitative Trading/.venv/lib/python3.12/site-packages/tushare/pro/data_pro.py:130: FutureWarning: Series.fillna with 'method' is deprecated and will raise in a future version. Use obj.ffill() or obj.bfill() instead.\n",
      "  data['adj_factor'] = data['adj_factor'].fillna(method='bfill')\n"
     ]
    },
    {
     "name": "stdout",
     "output_type": "stream",
     "text": [
      "614/800 300676.SZ → 1395 行\n"
     ]
    },
    {
     "name": "stderr",
     "output_type": "stream",
     "text": [
      "/Users/lizongze/Quantitative Trading/.venv/lib/python3.12/site-packages/tushare/pro/data_pro.py:130: FutureWarning: Series.fillna with 'method' is deprecated and will raise in a future version. Use obj.ffill() or obj.bfill() instead.\n",
      "  data['adj_factor'] = data['adj_factor'].fillna(method='bfill')\n"
     ]
    },
    {
     "name": "stdout",
     "output_type": "stream",
     "text": [
      "615/800 600816.SH → 1341 行\n"
     ]
    },
    {
     "name": "stderr",
     "output_type": "stream",
     "text": [
      "/Users/lizongze/Quantitative Trading/.venv/lib/python3.12/site-packages/tushare/pro/data_pro.py:130: FutureWarning: Series.fillna with 'method' is deprecated and will raise in a future version. Use obj.ffill() or obj.bfill() instead.\n",
      "  data['adj_factor'] = data['adj_factor'].fillna(method='bfill')\n"
     ]
    },
    {
     "name": "stdout",
     "output_type": "stream",
     "text": [
      "616/800 601666.SH → 1395 行\n"
     ]
    },
    {
     "name": "stderr",
     "output_type": "stream",
     "text": [
      "/Users/lizongze/Quantitative Trading/.venv/lib/python3.12/site-packages/tushare/pro/data_pro.py:130: FutureWarning: Series.fillna with 'method' is deprecated and will raise in a future version. Use obj.ffill() or obj.bfill() instead.\n",
      "  data['adj_factor'] = data['adj_factor'].fillna(method='bfill')\n"
     ]
    },
    {
     "name": "stdout",
     "output_type": "stream",
     "text": [
      "617/800 600378.SH → 1385 行\n"
     ]
    },
    {
     "name": "stderr",
     "output_type": "stream",
     "text": [
      "/Users/lizongze/Quantitative Trading/.venv/lib/python3.12/site-packages/tushare/pro/data_pro.py:130: FutureWarning: Series.fillna with 'method' is deprecated and will raise in a future version. Use obj.ffill() or obj.bfill() instead.\n",
      "  data['adj_factor'] = data['adj_factor'].fillna(method='bfill')\n"
     ]
    },
    {
     "name": "stdout",
     "output_type": "stream",
     "text": [
      "618/800 601456.SH → 1236 行\n"
     ]
    },
    {
     "name": "stderr",
     "output_type": "stream",
     "text": [
      "/Users/lizongze/Quantitative Trading/.venv/lib/python3.12/site-packages/tushare/pro/data_pro.py:130: FutureWarning: Series.fillna with 'method' is deprecated and will raise in a future version. Use obj.ffill() or obj.bfill() instead.\n",
      "  data['adj_factor'] = data['adj_factor'].fillna(method='bfill')\n"
     ]
    },
    {
     "name": "stdout",
     "output_type": "stream",
     "text": [
      "619/800 600535.SH → 1393 行\n"
     ]
    },
    {
     "name": "stderr",
     "output_type": "stream",
     "text": [
      "/Users/lizongze/Quantitative Trading/.venv/lib/python3.12/site-packages/tushare/pro/data_pro.py:130: FutureWarning: Series.fillna with 'method' is deprecated and will raise in a future version. Use obj.ffill() or obj.bfill() instead.\n",
      "  data['adj_factor'] = data['adj_factor'].fillna(method='bfill')\n"
     ]
    },
    {
     "name": "stdout",
     "output_type": "stream",
     "text": [
      "620/800 600583.SH → 1395 行\n"
     ]
    },
    {
     "name": "stderr",
     "output_type": "stream",
     "text": [
      "/Users/lizongze/Quantitative Trading/.venv/lib/python3.12/site-packages/tushare/pro/data_pro.py:130: FutureWarning: Series.fillna with 'method' is deprecated and will raise in a future version. Use obj.ffill() or obj.bfill() instead.\n",
      "  data['adj_factor'] = data['adj_factor'].fillna(method='bfill')\n"
     ]
    },
    {
     "name": "stdout",
     "output_type": "stream",
     "text": [
      "621/800 600970.SH → 1373 行\n"
     ]
    },
    {
     "name": "stderr",
     "output_type": "stream",
     "text": [
      "/Users/lizongze/Quantitative Trading/.venv/lib/python3.12/site-packages/tushare/pro/data_pro.py:130: FutureWarning: Series.fillna with 'method' is deprecated and will raise in a future version. Use obj.ffill() or obj.bfill() instead.\n",
      "  data['adj_factor'] = data['adj_factor'].fillna(method='bfill')\n"
     ]
    },
    {
     "name": "stdout",
     "output_type": "stream",
     "text": [
      "622/800 002984.SZ → 1226 行\n"
     ]
    },
    {
     "name": "stderr",
     "output_type": "stream",
     "text": [
      "/Users/lizongze/Quantitative Trading/.venv/lib/python3.12/site-packages/tushare/pro/data_pro.py:130: FutureWarning: Series.fillna with 'method' is deprecated and will raise in a future version. Use obj.ffill() or obj.bfill() instead.\n",
      "  data['adj_factor'] = data['adj_factor'].fillna(method='bfill')\n"
     ]
    },
    {
     "name": "stdout",
     "output_type": "stream",
     "text": [
      "623/800 603885.SH → 1395 行\n"
     ]
    },
    {
     "name": "stderr",
     "output_type": "stream",
     "text": [
      "/Users/lizongze/Quantitative Trading/.venv/lib/python3.12/site-packages/tushare/pro/data_pro.py:130: FutureWarning: Series.fillna with 'method' is deprecated and will raise in a future version. Use obj.ffill() or obj.bfill() instead.\n",
      "  data['adj_factor'] = data['adj_factor'].fillna(method='bfill')\n"
     ]
    },
    {
     "name": "stdout",
     "output_type": "stream",
     "text": [
      "624/800 600995.SH → 1384 行\n"
     ]
    },
    {
     "name": "stderr",
     "output_type": "stream",
     "text": [
      "/Users/lizongze/Quantitative Trading/.venv/lib/python3.12/site-packages/tushare/pro/data_pro.py:130: FutureWarning: Series.fillna with 'method' is deprecated and will raise in a future version. Use obj.ffill() or obj.bfill() instead.\n",
      "  data['adj_factor'] = data['adj_factor'].fillna(method='bfill')\n"
     ]
    },
    {
     "name": "stdout",
     "output_type": "stream",
     "text": [
      "625/800 002430.SZ → 1395 行\n"
     ]
    },
    {
     "name": "stderr",
     "output_type": "stream",
     "text": [
      "/Users/lizongze/Quantitative Trading/.venv/lib/python3.12/site-packages/tushare/pro/data_pro.py:130: FutureWarning: Series.fillna with 'method' is deprecated and will raise in a future version. Use obj.ffill() or obj.bfill() instead.\n",
      "  data['adj_factor'] = data['adj_factor'].fillna(method='bfill')\n"
     ]
    },
    {
     "name": "stdout",
     "output_type": "stream",
     "text": [
      "626/800 603589.SH → 1395 行\n"
     ]
    },
    {
     "name": "stderr",
     "output_type": "stream",
     "text": [
      "/Users/lizongze/Quantitative Trading/.venv/lib/python3.12/site-packages/tushare/pro/data_pro.py:130: FutureWarning: Series.fillna with 'method' is deprecated and will raise in a future version. Use obj.ffill() or obj.bfill() instead.\n",
      "  data['adj_factor'] = data['adj_factor'].fillna(method='bfill')\n"
     ]
    },
    {
     "name": "stdout",
     "output_type": "stream",
     "text": [
      "627/800 000062.SZ → 1395 行\n"
     ]
    },
    {
     "name": "stderr",
     "output_type": "stream",
     "text": [
      "/Users/lizongze/Quantitative Trading/.venv/lib/python3.12/site-packages/tushare/pro/data_pro.py:130: FutureWarning: Series.fillna with 'method' is deprecated and will raise in a future version. Use obj.ffill() or obj.bfill() instead.\n",
      "  data['adj_factor'] = data['adj_factor'].fillna(method='bfill')\n"
     ]
    },
    {
     "name": "stdout",
     "output_type": "stream",
     "text": [
      "628/800 000987.SZ → 1395 行\n"
     ]
    },
    {
     "name": "stderr",
     "output_type": "stream",
     "text": [
      "/Users/lizongze/Quantitative Trading/.venv/lib/python3.12/site-packages/tushare/pro/data_pro.py:130: FutureWarning: Series.fillna with 'method' is deprecated and will raise in a future version. Use obj.ffill() or obj.bfill() instead.\n",
      "  data['adj_factor'] = data['adj_factor'].fillna(method='bfill')\n"
     ]
    },
    {
     "name": "stdout",
     "output_type": "stream",
     "text": [
      "629/800 300146.SZ → 1395 行\n"
     ]
    },
    {
     "name": "stderr",
     "output_type": "stream",
     "text": [
      "/Users/lizongze/Quantitative Trading/.venv/lib/python3.12/site-packages/tushare/pro/data_pro.py:130: FutureWarning: Series.fillna with 'method' is deprecated and will raise in a future version. Use obj.ffill() or obj.bfill() instead.\n",
      "  data['adj_factor'] = data['adj_factor'].fillna(method='bfill')\n"
     ]
    },
    {
     "name": "stdout",
     "output_type": "stream",
     "text": [
      "630/800 601001.SH → 1395 行\n"
     ]
    },
    {
     "name": "stderr",
     "output_type": "stream",
     "text": [
      "/Users/lizongze/Quantitative Trading/.venv/lib/python3.12/site-packages/tushare/pro/data_pro.py:130: FutureWarning: Series.fillna with 'method' is deprecated and will raise in a future version. Use obj.ffill() or obj.bfill() instead.\n",
      "  data['adj_factor'] = data['adj_factor'].fillna(method='bfill')\n"
     ]
    },
    {
     "name": "stdout",
     "output_type": "stream",
     "text": [
      "631/800 000155.SZ → 1375 行\n"
     ]
    },
    {
     "name": "stderr",
     "output_type": "stream",
     "text": [
      "/Users/lizongze/Quantitative Trading/.venv/lib/python3.12/site-packages/tushare/pro/data_pro.py:130: FutureWarning: Series.fillna with 'method' is deprecated and will raise in a future version. Use obj.ffill() or obj.bfill() instead.\n",
      "  data['adj_factor'] = data['adj_factor'].fillna(method='bfill')\n"
     ]
    },
    {
     "name": "stdout",
     "output_type": "stream",
     "text": [
      "632/800 600872.SH → 1395 行\n"
     ]
    },
    {
     "name": "stderr",
     "output_type": "stream",
     "text": [
      "/Users/lizongze/Quantitative Trading/.venv/lib/python3.12/site-packages/tushare/pro/data_pro.py:130: FutureWarning: Series.fillna with 'method' is deprecated and will raise in a future version. Use obj.ffill() or obj.bfill() instead.\n",
      "  data['adj_factor'] = data['adj_factor'].fillna(method='bfill')\n"
     ]
    },
    {
     "name": "stdout",
     "output_type": "stream",
     "text": [
      "633/800 002439.SZ → 1390 行\n"
     ]
    },
    {
     "name": "stderr",
     "output_type": "stream",
     "text": [
      "/Users/lizongze/Quantitative Trading/.venv/lib/python3.12/site-packages/tushare/pro/data_pro.py:130: FutureWarning: Series.fillna with 'method' is deprecated and will raise in a future version. Use obj.ffill() or obj.bfill() instead.\n",
      "  data['adj_factor'] = data['adj_factor'].fillna(method='bfill')\n"
     ]
    },
    {
     "name": "stdout",
     "output_type": "stream",
     "text": [
      "634/800 600977.SH → 1395 行\n"
     ]
    },
    {
     "name": "stderr",
     "output_type": "stream",
     "text": [
      "/Users/lizongze/Quantitative Trading/.venv/lib/python3.12/site-packages/tushare/pro/data_pro.py:130: FutureWarning: Series.fillna with 'method' is deprecated and will raise in a future version. Use obj.ffill() or obj.bfill() instead.\n",
      "  data['adj_factor'] = data['adj_factor'].fillna(method='bfill')\n"
     ]
    },
    {
     "name": "stdout",
     "output_type": "stream",
     "text": [
      "635/800 601636.SH → 1395 行\n"
     ]
    },
    {
     "name": "stderr",
     "output_type": "stream",
     "text": [
      "/Users/lizongze/Quantitative Trading/.venv/lib/python3.12/site-packages/tushare/pro/data_pro.py:130: FutureWarning: Series.fillna with 'method' is deprecated and will raise in a future version. Use obj.ffill() or obj.bfill() instead.\n",
      "  data['adj_factor'] = data['adj_factor'].fillna(method='bfill')\n"
     ]
    },
    {
     "name": "stdout",
     "output_type": "stream",
     "text": [
      "636/800 600685.SH → 1395 行\n"
     ]
    },
    {
     "name": "stderr",
     "output_type": "stream",
     "text": [
      "/Users/lizongze/Quantitative Trading/.venv/lib/python3.12/site-packages/tushare/pro/data_pro.py:130: FutureWarning: Series.fillna with 'method' is deprecated and will raise in a future version. Use obj.ffill() or obj.bfill() instead.\n",
      "  data['adj_factor'] = data['adj_factor'].fillna(method='bfill')\n"
     ]
    },
    {
     "name": "stdout",
     "output_type": "stream",
     "text": [
      "637/800 600739.SH → 1395 行\n"
     ]
    },
    {
     "name": "stderr",
     "output_type": "stream",
     "text": [
      "/Users/lizongze/Quantitative Trading/.venv/lib/python3.12/site-packages/tushare/pro/data_pro.py:130: FutureWarning: Series.fillna with 'method' is deprecated and will raise in a future version. Use obj.ffill() or obj.bfill() instead.\n",
      "  data['adj_factor'] = data['adj_factor'].fillna(method='bfill')\n"
     ]
    },
    {
     "name": "stdout",
     "output_type": "stream",
     "text": [
      "638/800 300573.SZ → 1395 行\n"
     ]
    },
    {
     "name": "stderr",
     "output_type": "stream",
     "text": [
      "/Users/lizongze/Quantitative Trading/.venv/lib/python3.12/site-packages/tushare/pro/data_pro.py:130: FutureWarning: Series.fillna with 'method' is deprecated and will raise in a future version. Use obj.ffill() or obj.bfill() instead.\n",
      "  data['adj_factor'] = data['adj_factor'].fillna(method='bfill')\n"
     ]
    },
    {
     "name": "stdout",
     "output_type": "stream",
     "text": [
      "639/800 300735.SZ → 1395 行\n"
     ]
    },
    {
     "name": "stderr",
     "output_type": "stream",
     "text": [
      "/Users/lizongze/Quantitative Trading/.venv/lib/python3.12/site-packages/tushare/pro/data_pro.py:130: FutureWarning: Series.fillna with 'method' is deprecated and will raise in a future version. Use obj.ffill() or obj.bfill() instead.\n",
      "  data['adj_factor'] = data['adj_factor'].fillna(method='bfill')\n"
     ]
    },
    {
     "name": "stdout",
     "output_type": "stream",
     "text": [
      "640/800 601000.SH → 1395 行\n"
     ]
    },
    {
     "name": "stderr",
     "output_type": "stream",
     "text": [
      "/Users/lizongze/Quantitative Trading/.venv/lib/python3.12/site-packages/tushare/pro/data_pro.py:130: FutureWarning: Series.fillna with 'method' is deprecated and will raise in a future version. Use obj.ffill() or obj.bfill() instead.\n",
      "  data['adj_factor'] = data['adj_factor'].fillna(method='bfill')\n"
     ]
    },
    {
     "name": "stdout",
     "output_type": "stream",
     "text": [
      "641/800 002299.SZ → 1395 行\n"
     ]
    },
    {
     "name": "stderr",
     "output_type": "stream",
     "text": [
      "/Users/lizongze/Quantitative Trading/.venv/lib/python3.12/site-packages/tushare/pro/data_pro.py:130: FutureWarning: Series.fillna with 'method' is deprecated and will raise in a future version. Use obj.ffill() or obj.bfill() instead.\n",
      "  data['adj_factor'] = data['adj_factor'].fillna(method='bfill')\n"
     ]
    },
    {
     "name": "stdout",
     "output_type": "stream",
     "text": [
      "642/800 603341.SH → 388 行\n"
     ]
    },
    {
     "name": "stderr",
     "output_type": "stream",
     "text": [
      "/Users/lizongze/Quantitative Trading/.venv/lib/python3.12/site-packages/tushare/pro/data_pro.py:130: FutureWarning: Series.fillna with 'method' is deprecated and will raise in a future version. Use obj.ffill() or obj.bfill() instead.\n",
      "  data['adj_factor'] = data['adj_factor'].fillna(method='bfill')\n"
     ]
    },
    {
     "name": "stdout",
     "output_type": "stream",
     "text": [
      "643/800 600004.SH → 1395 行\n"
     ]
    },
    {
     "name": "stderr",
     "output_type": "stream",
     "text": [
      "/Users/lizongze/Quantitative Trading/.venv/lib/python3.12/site-packages/tushare/pro/data_pro.py:130: FutureWarning: Series.fillna with 'method' is deprecated and will raise in a future version. Use obj.ffill() or obj.bfill() instead.\n",
      "  data['adj_factor'] = data['adj_factor'].fillna(method='bfill')\n"
     ]
    },
    {
     "name": "stdout",
     "output_type": "stream",
     "text": [
      "644/800 601966.SH → 1391 行\n"
     ]
    },
    {
     "name": "stderr",
     "output_type": "stream",
     "text": [
      "/Users/lizongze/Quantitative Trading/.venv/lib/python3.12/site-packages/tushare/pro/data_pro.py:130: FutureWarning: Series.fillna with 'method' is deprecated and will raise in a future version. Use obj.ffill() or obj.bfill() instead.\n",
      "  data['adj_factor'] = data['adj_factor'].fillna(method='bfill')\n"
     ]
    },
    {
     "name": "stdout",
     "output_type": "stream",
     "text": [
      "645/800 300601.SZ → 1395 行\n"
     ]
    },
    {
     "name": "stderr",
     "output_type": "stream",
     "text": [
      "/Users/lizongze/Quantitative Trading/.venv/lib/python3.12/site-packages/tushare/pro/data_pro.py:130: FutureWarning: Series.fillna with 'method' is deprecated and will raise in a future version. Use obj.ffill() or obj.bfill() instead.\n",
      "  data['adj_factor'] = data['adj_factor'].fillna(method='bfill')\n"
     ]
    },
    {
     "name": "stdout",
     "output_type": "stream",
     "text": [
      "646/800 600859.SH → 1378 行\n"
     ]
    },
    {
     "name": "stderr",
     "output_type": "stream",
     "text": [
      "/Users/lizongze/Quantitative Trading/.venv/lib/python3.12/site-packages/tushare/pro/data_pro.py:130: FutureWarning: Series.fillna with 'method' is deprecated and will raise in a future version. Use obj.ffill() or obj.bfill() instead.\n",
      "  data['adj_factor'] = data['adj_factor'].fillna(method='bfill')\n"
     ]
    },
    {
     "name": "stdout",
     "output_type": "stream",
     "text": [
      "647/800 600655.SH → 1395 行\n"
     ]
    },
    {
     "name": "stderr",
     "output_type": "stream",
     "text": [
      "/Users/lizongze/Quantitative Trading/.venv/lib/python3.12/site-packages/tushare/pro/data_pro.py:130: FutureWarning: Series.fillna with 'method' is deprecated and will raise in a future version. Use obj.ffill() or obj.bfill() instead.\n",
      "  data['adj_factor'] = data['adj_factor'].fillna(method='bfill')\n"
     ]
    },
    {
     "name": "stdout",
     "output_type": "stream",
     "text": [
      "648/800 601333.SH → 1395 行\n"
     ]
    },
    {
     "name": "stderr",
     "output_type": "stream",
     "text": [
      "/Users/lizongze/Quantitative Trading/.venv/lib/python3.12/site-packages/tushare/pro/data_pro.py:130: FutureWarning: Series.fillna with 'method' is deprecated and will raise in a future version. Use obj.ffill() or obj.bfill() instead.\n",
      "  data['adj_factor'] = data['adj_factor'].fillna(method='bfill')\n"
     ]
    },
    {
     "name": "stdout",
     "output_type": "stream",
     "text": [
      "649/800 000563.SZ → 1395 行\n"
     ]
    },
    {
     "name": "stderr",
     "output_type": "stream",
     "text": [
      "/Users/lizongze/Quantitative Trading/.venv/lib/python3.12/site-packages/tushare/pro/data_pro.py:130: FutureWarning: Series.fillna with 'method' is deprecated and will raise in a future version. Use obj.ffill() or obj.bfill() instead.\n",
      "  data['adj_factor'] = data['adj_factor'].fillna(method='bfill')\n"
     ]
    },
    {
     "name": "stdout",
     "output_type": "stream",
     "text": [
      "650/800 003031.SZ → 1142 行\n"
     ]
    },
    {
     "name": "stderr",
     "output_type": "stream",
     "text": [
      "/Users/lizongze/Quantitative Trading/.venv/lib/python3.12/site-packages/tushare/pro/data_pro.py:130: FutureWarning: Series.fillna with 'method' is deprecated and will raise in a future version. Use obj.ffill() or obj.bfill() instead.\n",
      "  data['adj_factor'] = data['adj_factor'].fillna(method='bfill')\n"
     ]
    },
    {
     "name": "stdout",
     "output_type": "stream",
     "text": [
      "651/800 300212.SZ → 1395 行\n"
     ]
    },
    {
     "name": "stderr",
     "output_type": "stream",
     "text": [
      "/Users/lizongze/Quantitative Trading/.venv/lib/python3.12/site-packages/tushare/pro/data_pro.py:130: FutureWarning: Series.fillna with 'method' is deprecated and will raise in a future version. Use obj.ffill() or obj.bfill() instead.\n",
      "  data['adj_factor'] = data['adj_factor'].fillna(method='bfill')\n"
     ]
    },
    {
     "name": "stdout",
     "output_type": "stream",
     "text": [
      "652/800 603688.SH → 1395 行\n"
     ]
    },
    {
     "name": "stderr",
     "output_type": "stream",
     "text": [
      "/Users/lizongze/Quantitative Trading/.venv/lib/python3.12/site-packages/tushare/pro/data_pro.py:130: FutureWarning: Series.fillna with 'method' is deprecated and will raise in a future version. Use obj.ffill() or obj.bfill() instead.\n",
      "  data['adj_factor'] = data['adj_factor'].fillna(method='bfill')\n"
     ]
    },
    {
     "name": "stdout",
     "output_type": "stream",
     "text": [
      "653/800 002120.SZ → 1395 行\n"
     ]
    },
    {
     "name": "stderr",
     "output_type": "stream",
     "text": [
      "/Users/lizongze/Quantitative Trading/.venv/lib/python3.12/site-packages/tushare/pro/data_pro.py:130: FutureWarning: Series.fillna with 'method' is deprecated and will raise in a future version. Use obj.ffill() or obj.bfill() instead.\n",
      "  data['adj_factor'] = data['adj_factor'].fillna(method='bfill')\n"
     ]
    },
    {
     "name": "stdout",
     "output_type": "stream",
     "text": [
      "654/800 600483.SH → 1395 行\n"
     ]
    },
    {
     "name": "stderr",
     "output_type": "stream",
     "text": [
      "/Users/lizongze/Quantitative Trading/.venv/lib/python3.12/site-packages/tushare/pro/data_pro.py:130: FutureWarning: Series.fillna with 'method' is deprecated and will raise in a future version. Use obj.ffill() or obj.bfill() instead.\n",
      "  data['adj_factor'] = data['adj_factor'].fillna(method='bfill')\n"
     ]
    },
    {
     "name": "stdout",
     "output_type": "stream",
     "text": [
      "655/800 301536.SZ → 369 行\n"
     ]
    },
    {
     "name": "stderr",
     "output_type": "stream",
     "text": [
      "/Users/lizongze/Quantitative Trading/.venv/lib/python3.12/site-packages/tushare/pro/data_pro.py:130: FutureWarning: Series.fillna with 'method' is deprecated and will raise in a future version. Use obj.ffill() or obj.bfill() instead.\n",
      "  data['adj_factor'] = data['adj_factor'].fillna(method='bfill')\n"
     ]
    },
    {
     "name": "stdout",
     "output_type": "stream",
     "text": [
      "656/800 603000.SH → 1395 行\n"
     ]
    },
    {
     "name": "stderr",
     "output_type": "stream",
     "text": [
      "/Users/lizongze/Quantitative Trading/.venv/lib/python3.12/site-packages/tushare/pro/data_pro.py:130: FutureWarning: Series.fillna with 'method' is deprecated and will raise in a future version. Use obj.ffill() or obj.bfill() instead.\n",
      "  data['adj_factor'] = data['adj_factor'].fillna(method='bfill')\n"
     ]
    },
    {
     "name": "stdout",
     "output_type": "stream",
     "text": [
      "657/800 000403.SZ → 1382 行\n"
     ]
    },
    {
     "name": "stderr",
     "output_type": "stream",
     "text": [
      "/Users/lizongze/Quantitative Trading/.venv/lib/python3.12/site-packages/tushare/pro/data_pro.py:130: FutureWarning: Series.fillna with 'method' is deprecated and will raise in a future version. Use obj.ffill() or obj.bfill() instead.\n",
      "  data['adj_factor'] = data['adj_factor'].fillna(method='bfill')\n"
     ]
    },
    {
     "name": "stdout",
     "output_type": "stream",
     "text": [
      "658/800 600848.SH → 1395 行\n"
     ]
    },
    {
     "name": "stderr",
     "output_type": "stream",
     "text": [
      "/Users/lizongze/Quantitative Trading/.venv/lib/python3.12/site-packages/tushare/pro/data_pro.py:130: FutureWarning: Series.fillna with 'method' is deprecated and will raise in a future version. Use obj.ffill() or obj.bfill() instead.\n",
      "  data['adj_factor'] = data['adj_factor'].fillna(method='bfill')\n"
     ]
    },
    {
     "name": "stdout",
     "output_type": "stream",
     "text": [
      "659/800 600511.SH → 1395 行\n"
     ]
    },
    {
     "name": "stderr",
     "output_type": "stream",
     "text": [
      "/Users/lizongze/Quantitative Trading/.venv/lib/python3.12/site-packages/tushare/pro/data_pro.py:130: FutureWarning: Series.fillna with 'method' is deprecated and will raise in a future version. Use obj.ffill() or obj.bfill() instead.\n",
      "  data['adj_factor'] = data['adj_factor'].fillna(method='bfill')\n"
     ]
    },
    {
     "name": "stdout",
     "output_type": "stream",
     "text": [
      "660/800 600754.SH → 1395 行\n"
     ]
    },
    {
     "name": "stderr",
     "output_type": "stream",
     "text": [
      "/Users/lizongze/Quantitative Trading/.venv/lib/python3.12/site-packages/tushare/pro/data_pro.py:130: FutureWarning: Series.fillna with 'method' is deprecated and will raise in a future version. Use obj.ffill() or obj.bfill() instead.\n",
      "  data['adj_factor'] = data['adj_factor'].fillna(method='bfill')\n"
     ]
    },
    {
     "name": "stdout",
     "output_type": "stream",
     "text": [
      "661/800 000958.SZ → 1385 行\n"
     ]
    },
    {
     "name": "stderr",
     "output_type": "stream",
     "text": [
      "/Users/lizongze/Quantitative Trading/.venv/lib/python3.12/site-packages/tushare/pro/data_pro.py:130: FutureWarning: Series.fillna with 'method' is deprecated and will raise in a future version. Use obj.ffill() or obj.bfill() instead.\n",
      "  data['adj_factor'] = data['adj_factor'].fillna(method='bfill')\n"
     ]
    },
    {
     "name": "stdout",
     "output_type": "stream",
     "text": [
      "662/800 601611.SH → 1395 行\n"
     ]
    },
    {
     "name": "stderr",
     "output_type": "stream",
     "text": [
      "/Users/lizongze/Quantitative Trading/.venv/lib/python3.12/site-packages/tushare/pro/data_pro.py:130: FutureWarning: Series.fillna with 'method' is deprecated and will raise in a future version. Use obj.ffill() or obj.bfill() instead.\n",
      "  data['adj_factor'] = data['adj_factor'].fillna(method='bfill')\n"
     ]
    },
    {
     "name": "stdout",
     "output_type": "stream",
     "text": [
      "663/800 002266.SZ → 1394 行\n"
     ]
    },
    {
     "name": "stderr",
     "output_type": "stream",
     "text": [
      "/Users/lizongze/Quantitative Trading/.venv/lib/python3.12/site-packages/tushare/pro/data_pro.py:130: FutureWarning: Series.fillna with 'method' is deprecated and will raise in a future version. Use obj.ffill() or obj.bfill() instead.\n",
      "  data['adj_factor'] = data['adj_factor'].fillna(method='bfill')\n"
     ]
    },
    {
     "name": "stdout",
     "output_type": "stream",
     "text": [
      "664/800 688363.SH → 1395 行\n"
     ]
    },
    {
     "name": "stderr",
     "output_type": "stream",
     "text": [
      "/Users/lizongze/Quantitative Trading/.venv/lib/python3.12/site-packages/tushare/pro/data_pro.py:130: FutureWarning: Series.fillna with 'method' is deprecated and will raise in a future version. Use obj.ffill() or obj.bfill() instead.\n",
      "  data['adj_factor'] = data['adj_factor'].fillna(method='bfill')\n"
     ]
    },
    {
     "name": "stdout",
     "output_type": "stream",
     "text": [
      "665/800 000709.SZ → 1395 行\n"
     ]
    },
    {
     "name": "stderr",
     "output_type": "stream",
     "text": [
      "/Users/lizongze/Quantitative Trading/.venv/lib/python3.12/site-packages/tushare/pro/data_pro.py:130: FutureWarning: Series.fillna with 'method' is deprecated and will raise in a future version. Use obj.ffill() or obj.bfill() instead.\n",
      "  data['adj_factor'] = data['adj_factor'].fillna(method='bfill')\n"
     ]
    },
    {
     "name": "stdout",
     "output_type": "stream",
     "text": [
      "666/800 600131.SH → 1395 行\n"
     ]
    },
    {
     "name": "stderr",
     "output_type": "stream",
     "text": [
      "/Users/lizongze/Quantitative Trading/.venv/lib/python3.12/site-packages/tushare/pro/data_pro.py:130: FutureWarning: Series.fillna with 'method' is deprecated and will raise in a future version. Use obj.ffill() or obj.bfill() instead.\n",
      "  data['adj_factor'] = data['adj_factor'].fillna(method='bfill')\n"
     ]
    },
    {
     "name": "stdout",
     "output_type": "stream",
     "text": [
      "667/800 002507.SZ → 1395 行\n"
     ]
    },
    {
     "name": "stderr",
     "output_type": "stream",
     "text": [
      "/Users/lizongze/Quantitative Trading/.venv/lib/python3.12/site-packages/tushare/pro/data_pro.py:130: FutureWarning: Series.fillna with 'method' is deprecated and will raise in a future version. Use obj.ffill() or obj.bfill() instead.\n",
      "  data['adj_factor'] = data['adj_factor'].fillna(method='bfill')\n"
     ]
    },
    {
     "name": "stdout",
     "output_type": "stream",
     "text": [
      "668/800 603650.SH → 1395 行\n"
     ]
    },
    {
     "name": "stderr",
     "output_type": "stream",
     "text": [
      "/Users/lizongze/Quantitative Trading/.venv/lib/python3.12/site-packages/tushare/pro/data_pro.py:130: FutureWarning: Series.fillna with 'method' is deprecated and will raise in a future version. Use obj.ffill() or obj.bfill() instead.\n",
      "  data['adj_factor'] = data['adj_factor'].fillna(method='bfill')\n"
     ]
    },
    {
     "name": "stdout",
     "output_type": "stream",
     "text": [
      "669/800 300529.SZ → 1395 行\n"
     ]
    },
    {
     "name": "stderr",
     "output_type": "stream",
     "text": [
      "/Users/lizongze/Quantitative Trading/.venv/lib/python3.12/site-packages/tushare/pro/data_pro.py:130: FutureWarning: Series.fillna with 'method' is deprecated and will raise in a future version. Use obj.ffill() or obj.bfill() instead.\n",
      "  data['adj_factor'] = data['adj_factor'].fillna(method='bfill')\n"
     ]
    },
    {
     "name": "stdout",
     "output_type": "stream",
     "text": [
      "670/800 600598.SH → 1395 行\n"
     ]
    },
    {
     "name": "stderr",
     "output_type": "stream",
     "text": [
      "/Users/lizongze/Quantitative Trading/.venv/lib/python3.12/site-packages/tushare/pro/data_pro.py:130: FutureWarning: Series.fillna with 'method' is deprecated and will raise in a future version. Use obj.ffill() or obj.bfill() instead.\n",
      "  data['adj_factor'] = data['adj_factor'].fillna(method='bfill')\n"
     ]
    },
    {
     "name": "stdout",
     "output_type": "stream",
     "text": [
      "671/800 600517.SH → 1395 行\n"
     ]
    },
    {
     "name": "stderr",
     "output_type": "stream",
     "text": [
      "/Users/lizongze/Quantitative Trading/.venv/lib/python3.12/site-packages/tushare/pro/data_pro.py:130: FutureWarning: Series.fillna with 'method' is deprecated and will raise in a future version. Use obj.ffill() or obj.bfill() instead.\n",
      "  data['adj_factor'] = data['adj_factor'].fillna(method='bfill')\n"
     ]
    },
    {
     "name": "stdout",
     "output_type": "stream",
     "text": [
      "672/800 603899.SH → 1395 行\n"
     ]
    },
    {
     "name": "stderr",
     "output_type": "stream",
     "text": [
      "/Users/lizongze/Quantitative Trading/.venv/lib/python3.12/site-packages/tushare/pro/data_pro.py:130: FutureWarning: Series.fillna with 'method' is deprecated and will raise in a future version. Use obj.ffill() or obj.bfill() instead.\n",
      "  data['adj_factor'] = data['adj_factor'].fillna(method='bfill')\n"
     ]
    },
    {
     "name": "stdout",
     "output_type": "stream",
     "text": [
      "673/800 601598.SH → 1395 行\n"
     ]
    },
    {
     "name": "stderr",
     "output_type": "stream",
     "text": [
      "/Users/lizongze/Quantitative Trading/.venv/lib/python3.12/site-packages/tushare/pro/data_pro.py:130: FutureWarning: Series.fillna with 'method' is deprecated and will raise in a future version. Use obj.ffill() or obj.bfill() instead.\n",
      "  data['adj_factor'] = data['adj_factor'].fillna(method='bfill')\n"
     ]
    },
    {
     "name": "stdout",
     "output_type": "stream",
     "text": [
      "674/800 688297.SH → 794 行\n"
     ]
    },
    {
     "name": "stderr",
     "output_type": "stream",
     "text": [
      "/Users/lizongze/Quantitative Trading/.venv/lib/python3.12/site-packages/tushare/pro/data_pro.py:130: FutureWarning: Series.fillna with 'method' is deprecated and will raise in a future version. Use obj.ffill() or obj.bfill() instead.\n",
      "  data['adj_factor'] = data['adj_factor'].fillna(method='bfill')\n"
     ]
    },
    {
     "name": "stdout",
     "output_type": "stream",
     "text": [
      "675/800 688248.SH → 917 行\n"
     ]
    },
    {
     "name": "stderr",
     "output_type": "stream",
     "text": [
      "/Users/lizongze/Quantitative Trading/.venv/lib/python3.12/site-packages/tushare/pro/data_pro.py:130: FutureWarning: Series.fillna with 'method' is deprecated and will raise in a future version. Use obj.ffill() or obj.bfill() instead.\n",
      "  data['adj_factor'] = data['adj_factor'].fillna(method='bfill')\n"
     ]
    },
    {
     "name": "stdout",
     "output_type": "stream",
     "text": [
      "676/800 002831.SZ → 1395 行\n"
     ]
    },
    {
     "name": "stderr",
     "output_type": "stream",
     "text": [
      "/Users/lizongze/Quantitative Trading/.venv/lib/python3.12/site-packages/tushare/pro/data_pro.py:130: FutureWarning: Series.fillna with 'method' is deprecated and will raise in a future version. Use obj.ffill() or obj.bfill() instead.\n",
      "  data['adj_factor'] = data['adj_factor'].fillna(method='bfill')\n"
     ]
    },
    {
     "name": "stdout",
     "output_type": "stream",
     "text": [
      "677/800 600663.SH → 1385 行\n"
     ]
    },
    {
     "name": "stderr",
     "output_type": "stream",
     "text": [
      "/Users/lizongze/Quantitative Trading/.venv/lib/python3.12/site-packages/tushare/pro/data_pro.py:130: FutureWarning: Series.fillna with 'method' is deprecated and will raise in a future version. Use obj.ffill() or obj.bfill() instead.\n",
      "  data['adj_factor'] = data['adj_factor'].fillna(method='bfill')\n"
     ]
    },
    {
     "name": "stdout",
     "output_type": "stream",
     "text": [
      "678/800 000951.SZ → 1395 行\n"
     ]
    },
    {
     "name": "stderr",
     "output_type": "stream",
     "text": [
      "/Users/lizongze/Quantitative Trading/.venv/lib/python3.12/site-packages/tushare/pro/data_pro.py:130: FutureWarning: Series.fillna with 'method' is deprecated and will raise in a future version. Use obj.ffill() or obj.bfill() instead.\n",
      "  data['adj_factor'] = data['adj_factor'].fillna(method='bfill')\n"
     ]
    },
    {
     "name": "stdout",
     "output_type": "stream",
     "text": [
      "679/800 688561.SH → 1263 行\n"
     ]
    },
    {
     "name": "stderr",
     "output_type": "stream",
     "text": [
      "/Users/lizongze/Quantitative Trading/.venv/lib/python3.12/site-packages/tushare/pro/data_pro.py:130: FutureWarning: Series.fillna with 'method' is deprecated and will raise in a future version. Use obj.ffill() or obj.bfill() instead.\n",
      "  data['adj_factor'] = data['adj_factor'].fillna(method='bfill')\n"
     ]
    },
    {
     "name": "stdout",
     "output_type": "stream",
     "text": [
      "680/800 600582.SH → 1395 行\n"
     ]
    },
    {
     "name": "stderr",
     "output_type": "stream",
     "text": [
      "/Users/lizongze/Quantitative Trading/.venv/lib/python3.12/site-packages/tushare/pro/data_pro.py:130: FutureWarning: Series.fillna with 'method' is deprecated and will raise in a future version. Use obj.ffill() or obj.bfill() instead.\n",
      "  data['adj_factor'] = data['adj_factor'].fillna(method='bfill')\n"
     ]
    },
    {
     "name": "stdout",
     "output_type": "stream",
     "text": [
      "681/800 603833.SH → 1395 行\n"
     ]
    },
    {
     "name": "stderr",
     "output_type": "stream",
     "text": [
      "/Users/lizongze/Quantitative Trading/.venv/lib/python3.12/site-packages/tushare/pro/data_pro.py:130: FutureWarning: Series.fillna with 'method' is deprecated and will raise in a future version. Use obj.ffill() or obj.bfill() instead.\n",
      "  data['adj_factor'] = data['adj_factor'].fillna(method='bfill')\n"
     ]
    },
    {
     "name": "stdout",
     "output_type": "stream",
     "text": [
      "682/800 601918.SH → 1395 行\n"
     ]
    },
    {
     "name": "stderr",
     "output_type": "stream",
     "text": [
      "/Users/lizongze/Quantitative Trading/.venv/lib/python3.12/site-packages/tushare/pro/data_pro.py:130: FutureWarning: Series.fillna with 'method' is deprecated and will raise in a future version. Use obj.ffill() or obj.bfill() instead.\n",
      "  data['adj_factor'] = data['adj_factor'].fillna(method='bfill')\n"
     ]
    },
    {
     "name": "stdout",
     "output_type": "stream",
     "text": [
      "683/800 601866.SH → 1384 行\n"
     ]
    },
    {
     "name": "stderr",
     "output_type": "stream",
     "text": [
      "/Users/lizongze/Quantitative Trading/.venv/lib/python3.12/site-packages/tushare/pro/data_pro.py:130: FutureWarning: Series.fillna with 'method' is deprecated and will raise in a future version. Use obj.ffill() or obj.bfill() instead.\n",
      "  data['adj_factor'] = data['adj_factor'].fillna(method='bfill')\n"
     ]
    },
    {
     "name": "stdout",
     "output_type": "stream",
     "text": [
      "684/800 600258.SH → 1395 行\n"
     ]
    },
    {
     "name": "stderr",
     "output_type": "stream",
     "text": [
      "/Users/lizongze/Quantitative Trading/.venv/lib/python3.12/site-packages/tushare/pro/data_pro.py:130: FutureWarning: Series.fillna with 'method' is deprecated and will raise in a future version. Use obj.ffill() or obj.bfill() instead.\n",
      "  data['adj_factor'] = data['adj_factor'].fillna(method='bfill')\n"
     ]
    },
    {
     "name": "stdout",
     "output_type": "stream",
     "text": [
      "685/800 603858.SH → 1395 行\n"
     ]
    },
    {
     "name": "stderr",
     "output_type": "stream",
     "text": [
      "/Users/lizongze/Quantitative Trading/.venv/lib/python3.12/site-packages/tushare/pro/data_pro.py:130: FutureWarning: Series.fillna with 'method' is deprecated and will raise in a future version. Use obj.ffill() or obj.bfill() instead.\n",
      "  data['adj_factor'] = data['adj_factor'].fillna(method='bfill')\n"
     ]
    },
    {
     "name": "stdout",
     "output_type": "stream",
     "text": [
      "686/800 601608.SH → 1395 行\n"
     ]
    },
    {
     "name": "stderr",
     "output_type": "stream",
     "text": [
      "/Users/lizongze/Quantitative Trading/.venv/lib/python3.12/site-packages/tushare/pro/data_pro.py:130: FutureWarning: Series.fillna with 'method' is deprecated and will raise in a future version. Use obj.ffill() or obj.bfill() instead.\n",
      "  data['adj_factor'] = data['adj_factor'].fillna(method='bfill')\n"
     ]
    },
    {
     "name": "stdout",
     "output_type": "stream",
     "text": [
      "687/800 000032.SZ → 1384 行\n"
     ]
    },
    {
     "name": "stderr",
     "output_type": "stream",
     "text": [
      "/Users/lizongze/Quantitative Trading/.venv/lib/python3.12/site-packages/tushare/pro/data_pro.py:130: FutureWarning: Series.fillna with 'method' is deprecated and will raise in a future version. Use obj.ffill() or obj.bfill() instead.\n",
      "  data['adj_factor'] = data['adj_factor'].fillna(method='bfill')\n"
     ]
    },
    {
     "name": "stdout",
     "output_type": "stream",
     "text": [
      "688/800 000598.SZ → 1395 行\n"
     ]
    },
    {
     "name": "stderr",
     "output_type": "stream",
     "text": [
      "/Users/lizongze/Quantitative Trading/.venv/lib/python3.12/site-packages/tushare/pro/data_pro.py:130: FutureWarning: Series.fillna with 'method' is deprecated and will raise in a future version. Use obj.ffill() or obj.bfill() instead.\n",
      "  data['adj_factor'] = data['adj_factor'].fillna(method='bfill')\n"
     ]
    },
    {
     "name": "stdout",
     "output_type": "stream",
     "text": [
      "689/800 600867.SH → 1395 行\n"
     ]
    },
    {
     "name": "stderr",
     "output_type": "stream",
     "text": [
      "/Users/lizongze/Quantitative Trading/.venv/lib/python3.12/site-packages/tushare/pro/data_pro.py:130: FutureWarning: Series.fillna with 'method' is deprecated and will raise in a future version. Use obj.ffill() or obj.bfill() instead.\n",
      "  data['adj_factor'] = data['adj_factor'].fillna(method='bfill')\n"
     ]
    },
    {
     "name": "stdout",
     "output_type": "stream",
     "text": [
      "690/800 688520.SH → 1283 行\n"
     ]
    },
    {
     "name": "stderr",
     "output_type": "stream",
     "text": [
      "/Users/lizongze/Quantitative Trading/.venv/lib/python3.12/site-packages/tushare/pro/data_pro.py:130: FutureWarning: Series.fillna with 'method' is deprecated and will raise in a future version. Use obj.ffill() or obj.bfill() instead.\n",
      "  data['adj_factor'] = data['adj_factor'].fillna(method='bfill')\n"
     ]
    },
    {
     "name": "stdout",
     "output_type": "stream",
     "text": [
      "691/800 601156.SH → 1049 行\n"
     ]
    },
    {
     "name": "stderr",
     "output_type": "stream",
     "text": [
      "/Users/lizongze/Quantitative Trading/.venv/lib/python3.12/site-packages/tushare/pro/data_pro.py:130: FutureWarning: Series.fillna with 'method' is deprecated and will raise in a future version. Use obj.ffill() or obj.bfill() instead.\n",
      "  data['adj_factor'] = data['adj_factor'].fillna(method='bfill')\n"
     ]
    },
    {
     "name": "stdout",
     "output_type": "stream",
     "text": [
      "692/800 600546.SH → 1395 行\n"
     ]
    },
    {
     "name": "stderr",
     "output_type": "stream",
     "text": [
      "/Users/lizongze/Quantitative Trading/.venv/lib/python3.12/site-packages/tushare/pro/data_pro.py:130: FutureWarning: Series.fillna with 'method' is deprecated and will raise in a future version. Use obj.ffill() or obj.bfill() instead.\n",
      "  data['adj_factor'] = data['adj_factor'].fillna(method='bfill')\n"
     ]
    },
    {
     "name": "stdout",
     "output_type": "stream",
     "text": [
      "693/800 000739.SZ → 1395 行\n"
     ]
    },
    {
     "name": "stderr",
     "output_type": "stream",
     "text": [
      "/Users/lizongze/Quantitative Trading/.venv/lib/python3.12/site-packages/tushare/pro/data_pro.py:130: FutureWarning: Series.fillna with 'method' is deprecated and will raise in a future version. Use obj.ffill() or obj.bfill() instead.\n",
      "  data['adj_factor'] = data['adj_factor'].fillna(method='bfill')\n"
     ]
    },
    {
     "name": "stdout",
     "output_type": "stream",
     "text": [
      "694/800 600906.SH → 1072 行\n"
     ]
    },
    {
     "name": "stderr",
     "output_type": "stream",
     "text": [
      "/Users/lizongze/Quantitative Trading/.venv/lib/python3.12/site-packages/tushare/pro/data_pro.py:130: FutureWarning: Series.fillna with 'method' is deprecated and will raise in a future version. Use obj.ffill() or obj.bfill() instead.\n",
      "  data['adj_factor'] = data['adj_factor'].fillna(method='bfill')\n"
     ]
    },
    {
     "name": "stdout",
     "output_type": "stream",
     "text": [
      "695/800 000027.SZ → 1395 行\n"
     ]
    },
    {
     "name": "stderr",
     "output_type": "stream",
     "text": [
      "/Users/lizongze/Quantitative Trading/.venv/lib/python3.12/site-packages/tushare/pro/data_pro.py:130: FutureWarning: Series.fillna with 'method' is deprecated and will raise in a future version. Use obj.ffill() or obj.bfill() instead.\n",
      "  data['adj_factor'] = data['adj_factor'].fillna(method='bfill')\n"
     ]
    },
    {
     "name": "stdout",
     "output_type": "stream",
     "text": [
      "696/800 601399.SH → 1292 行\n"
     ]
    },
    {
     "name": "stderr",
     "output_type": "stream",
     "text": [
      "/Users/lizongze/Quantitative Trading/.venv/lib/python3.12/site-packages/tushare/pro/data_pro.py:130: FutureWarning: Series.fillna with 'method' is deprecated and will raise in a future version. Use obj.ffill() or obj.bfill() instead.\n",
      "  data['adj_factor'] = data['adj_factor'].fillna(method='bfill')\n"
     ]
    },
    {
     "name": "stdout",
     "output_type": "stream",
     "text": [
      "697/800 600808.SH → 1395 行\n"
     ]
    },
    {
     "name": "stderr",
     "output_type": "stream",
     "text": [
      "/Users/lizongze/Quantitative Trading/.venv/lib/python3.12/site-packages/tushare/pro/data_pro.py:130: FutureWarning: Series.fillna with 'method' is deprecated and will raise in a future version. Use obj.ffill() or obj.bfill() instead.\n",
      "  data['adj_factor'] = data['adj_factor'].fillna(method='bfill')\n"
     ]
    },
    {
     "name": "stdout",
     "output_type": "stream",
     "text": [
      "698/800 300070.SZ → 1386 行\n"
     ]
    },
    {
     "name": "stderr",
     "output_type": "stream",
     "text": [
      "/Users/lizongze/Quantitative Trading/.venv/lib/python3.12/site-packages/tushare/pro/data_pro.py:130: FutureWarning: Series.fillna with 'method' is deprecated and will raise in a future version. Use obj.ffill() or obj.bfill() instead.\n",
      "  data['adj_factor'] = data['adj_factor'].fillna(method='bfill')\n"
     ]
    },
    {
     "name": "stdout",
     "output_type": "stream",
     "text": [
      "699/800 688387.SH → 732 行\n"
     ]
    },
    {
     "name": "stderr",
     "output_type": "stream",
     "text": [
      "/Users/lizongze/Quantitative Trading/.venv/lib/python3.12/site-packages/tushare/pro/data_pro.py:130: FutureWarning: Series.fillna with 'method' is deprecated and will raise in a future version. Use obj.ffill() or obj.bfill() instead.\n",
      "  data['adj_factor'] = data['adj_factor'].fillna(method='bfill')\n"
     ]
    },
    {
     "name": "stdout",
     "output_type": "stream",
     "text": [
      "700/800 300595.SZ → 1395 行\n"
     ]
    },
    {
     "name": "stderr",
     "output_type": "stream",
     "text": [
      "/Users/lizongze/Quantitative Trading/.venv/lib/python3.12/site-packages/tushare/pro/data_pro.py:130: FutureWarning: Series.fillna with 'method' is deprecated and will raise in a future version. Use obj.ffill() or obj.bfill() instead.\n",
      "  data['adj_factor'] = data['adj_factor'].fillna(method='bfill')\n"
     ]
    },
    {
     "name": "stdout",
     "output_type": "stream",
     "text": [
      "701/800 002508.SZ → 1395 行\n"
     ]
    },
    {
     "name": "stderr",
     "output_type": "stream",
     "text": [
      "/Users/lizongze/Quantitative Trading/.venv/lib/python3.12/site-packages/tushare/pro/data_pro.py:130: FutureWarning: Series.fillna with 'method' is deprecated and will raise in a future version. Use obj.ffill() or obj.bfill() instead.\n",
      "  data['adj_factor'] = data['adj_factor'].fillna(method='bfill')\n"
     ]
    },
    {
     "name": "stdout",
     "output_type": "stream",
     "text": [
      "702/800 000967.SZ → 1395 行\n"
     ]
    },
    {
     "name": "stderr",
     "output_type": "stream",
     "text": [
      "/Users/lizongze/Quantitative Trading/.venv/lib/python3.12/site-packages/tushare/pro/data_pro.py:130: FutureWarning: Series.fillna with 'method' is deprecated and will raise in a future version. Use obj.ffill() or obj.bfill() instead.\n",
      "  data['adj_factor'] = data['adj_factor'].fillna(method='bfill')\n"
     ]
    },
    {
     "name": "stdout",
     "output_type": "stream",
     "text": [
      "703/800 600959.SH → 1395 行\n"
     ]
    },
    {
     "name": "stderr",
     "output_type": "stream",
     "text": [
      "/Users/lizongze/Quantitative Trading/.venv/lib/python3.12/site-packages/tushare/pro/data_pro.py:130: FutureWarning: Series.fillna with 'method' is deprecated and will raise in a future version. Use obj.ffill() or obj.bfill() instead.\n",
      "  data['adj_factor'] = data['adj_factor'].fillna(method='bfill')\n"
     ]
    },
    {
     "name": "stdout",
     "output_type": "stream",
     "text": [
      "704/800 600528.SH → 1395 行\n"
     ]
    },
    {
     "name": "stderr",
     "output_type": "stream",
     "text": [
      "/Users/lizongze/Quantitative Trading/.venv/lib/python3.12/site-packages/tushare/pro/data_pro.py:130: FutureWarning: Series.fillna with 'method' is deprecated and will raise in a future version. Use obj.ffill() or obj.bfill() instead.\n",
      "  data['adj_factor'] = data['adj_factor'].fillna(method='bfill')\n"
     ]
    },
    {
     "name": "stdout",
     "output_type": "stream",
     "text": [
      "705/800 603565.SH → 1216 行\n"
     ]
    },
    {
     "name": "stderr",
     "output_type": "stream",
     "text": [
      "/Users/lizongze/Quantitative Trading/.venv/lib/python3.12/site-packages/tushare/pro/data_pro.py:130: FutureWarning: Series.fillna with 'method' is deprecated and will raise in a future version. Use obj.ffill() or obj.bfill() instead.\n",
      "  data['adj_factor'] = data['adj_factor'].fillna(method='bfill')\n"
     ]
    },
    {
     "name": "stdout",
     "output_type": "stream",
     "text": [
      "706/800 600271.SH → 1395 行\n"
     ]
    },
    {
     "name": "stderr",
     "output_type": "stream",
     "text": [
      "/Users/lizongze/Quantitative Trading/.venv/lib/python3.12/site-packages/tushare/pro/data_pro.py:130: FutureWarning: Series.fillna with 'method' is deprecated and will raise in a future version. Use obj.ffill() or obj.bfill() instead.\n",
      "  data['adj_factor'] = data['adj_factor'].fillna(method='bfill')\n"
     ]
    },
    {
     "name": "stdout",
     "output_type": "stream",
     "text": [
      "707/800 000825.SZ → 1394 行\n"
     ]
    },
    {
     "name": "stderr",
     "output_type": "stream",
     "text": [
      "/Users/lizongze/Quantitative Trading/.venv/lib/python3.12/site-packages/tushare/pro/data_pro.py:130: FutureWarning: Series.fillna with 'method' is deprecated and will raise in a future version. Use obj.ffill() or obj.bfill() instead.\n",
      "  data['adj_factor'] = data['adj_factor'].fillna(method='bfill')\n"
     ]
    },
    {
     "name": "stdout",
     "output_type": "stream",
     "text": [
      "708/800 601118.SH → 1395 行\n"
     ]
    },
    {
     "name": "stderr",
     "output_type": "stream",
     "text": [
      "/Users/lizongze/Quantitative Trading/.venv/lib/python3.12/site-packages/tushare/pro/data_pro.py:130: FutureWarning: Series.fillna with 'method' is deprecated and will raise in a future version. Use obj.ffill() or obj.bfill() instead.\n",
      "  data['adj_factor'] = data['adj_factor'].fillna(method='bfill')\n"
     ]
    },
    {
     "name": "stdout",
     "output_type": "stream",
     "text": [
      "709/800 600764.SH → 1395 行\n"
     ]
    },
    {
     "name": "stderr",
     "output_type": "stream",
     "text": [
      "/Users/lizongze/Quantitative Trading/.venv/lib/python3.12/site-packages/tushare/pro/data_pro.py:130: FutureWarning: Series.fillna with 'method' is deprecated and will raise in a future version. Use obj.ffill() or obj.bfill() instead.\n",
      "  data['adj_factor'] = data['adj_factor'].fillna(method='bfill')\n"
     ]
    },
    {
     "name": "stdout",
     "output_type": "stream",
     "text": [
      "710/800 000883.SZ → 1395 行\n"
     ]
    },
    {
     "name": "stderr",
     "output_type": "stream",
     "text": [
      "/Users/lizongze/Quantitative Trading/.venv/lib/python3.12/site-packages/tushare/pro/data_pro.py:130: FutureWarning: Series.fillna with 'method' is deprecated and will raise in a future version. Use obj.ffill() or obj.bfill() instead.\n",
      "  data['adj_factor'] = data['adj_factor'].fillna(method='bfill')\n"
     ]
    },
    {
     "name": "stdout",
     "output_type": "stream",
     "text": [
      "711/800 300888.SZ → 1222 行\n"
     ]
    },
    {
     "name": "stderr",
     "output_type": "stream",
     "text": [
      "/Users/lizongze/Quantitative Trading/.venv/lib/python3.12/site-packages/tushare/pro/data_pro.py:130: FutureWarning: Series.fillna with 'method' is deprecated and will raise in a future version. Use obj.ffill() or obj.bfill() instead.\n",
      "  data['adj_factor'] = data['adj_factor'].fillna(method='bfill')\n"
     ]
    },
    {
     "name": "stdout",
     "output_type": "stream",
     "text": [
      "712/800 601098.SH → 1395 行\n"
     ]
    },
    {
     "name": "stderr",
     "output_type": "stream",
     "text": [
      "/Users/lizongze/Quantitative Trading/.venv/lib/python3.12/site-packages/tushare/pro/data_pro.py:130: FutureWarning: Series.fillna with 'method' is deprecated and will raise in a future version. Use obj.ffill() or obj.bfill() instead.\n",
      "  data['adj_factor'] = data['adj_factor'].fillna(method='bfill')\n"
     ]
    },
    {
     "name": "stdout",
     "output_type": "stream",
     "text": [
      "713/800 603529.SH → 1046 行\n"
     ]
    },
    {
     "name": "stderr",
     "output_type": "stream",
     "text": [
      "/Users/lizongze/Quantitative Trading/.venv/lib/python3.12/site-packages/tushare/pro/data_pro.py:130: FutureWarning: Series.fillna with 'method' is deprecated and will raise in a future version. Use obj.ffill() or obj.bfill() instead.\n",
      "  data['adj_factor'] = data['adj_factor'].fillna(method='bfill')\n"
     ]
    },
    {
     "name": "stdout",
     "output_type": "stream",
     "text": [
      "714/800 600566.SH → 1394 行\n"
     ]
    },
    {
     "name": "stderr",
     "output_type": "stream",
     "text": [
      "/Users/lizongze/Quantitative Trading/.venv/lib/python3.12/site-packages/tushare/pro/data_pro.py:130: FutureWarning: Series.fillna with 'method' is deprecated and will raise in a future version. Use obj.ffill() or obj.bfill() instead.\n",
      "  data['adj_factor'] = data['adj_factor'].fillna(method='bfill')\n"
     ]
    },
    {
     "name": "stdout",
     "output_type": "stream",
     "text": [
      "715/800 002153.SZ → 1392 行\n"
     ]
    },
    {
     "name": "stderr",
     "output_type": "stream",
     "text": [
      "/Users/lizongze/Quantitative Trading/.venv/lib/python3.12/site-packages/tushare/pro/data_pro.py:130: FutureWarning: Series.fillna with 'method' is deprecated and will raise in a future version. Use obj.ffill() or obj.bfill() instead.\n",
      "  data['adj_factor'] = data['adj_factor'].fillna(method='bfill')\n"
     ]
    },
    {
     "name": "stdout",
     "output_type": "stream",
     "text": [
      "716/800 603786.SH → 1395 行\n"
     ]
    },
    {
     "name": "stderr",
     "output_type": "stream",
     "text": [
      "/Users/lizongze/Quantitative Trading/.venv/lib/python3.12/site-packages/tushare/pro/data_pro.py:130: FutureWarning: Series.fillna with 'method' is deprecated and will raise in a future version. Use obj.ffill() or obj.bfill() instead.\n",
      "  data['adj_factor'] = data['adj_factor'].fillna(method='bfill')\n"
     ]
    },
    {
     "name": "stdout",
     "output_type": "stream",
     "text": [
      "717/800 600707.SH → 1394 行\n"
     ]
    },
    {
     "name": "stderr",
     "output_type": "stream",
     "text": [
      "/Users/lizongze/Quantitative Trading/.venv/lib/python3.12/site-packages/tushare/pro/data_pro.py:130: FutureWarning: Series.fillna with 'method' is deprecated and will raise in a future version. Use obj.ffill() or obj.bfill() instead.\n",
      "  data['adj_factor'] = data['adj_factor'].fillna(method='bfill')\n"
     ]
    },
    {
     "name": "stdout",
     "output_type": "stream",
     "text": [
      "718/800 688425.SH → 1041 行\n"
     ]
    },
    {
     "name": "stderr",
     "output_type": "stream",
     "text": [
      "/Users/lizongze/Quantitative Trading/.venv/lib/python3.12/site-packages/tushare/pro/data_pro.py:130: FutureWarning: Series.fillna with 'method' is deprecated and will raise in a future version. Use obj.ffill() or obj.bfill() instead.\n",
      "  data['adj_factor'] = data['adj_factor'].fillna(method='bfill')\n"
     ]
    },
    {
     "name": "stdout",
     "output_type": "stream",
     "text": [
      "719/800 003022.SZ → 1170 行\n"
     ]
    },
    {
     "name": "stderr",
     "output_type": "stream",
     "text": [
      "/Users/lizongze/Quantitative Trading/.venv/lib/python3.12/site-packages/tushare/pro/data_pro.py:130: FutureWarning: Series.fillna with 'method' is deprecated and will raise in a future version. Use obj.ffill() or obj.bfill() instead.\n",
      "  data['adj_factor'] = data['adj_factor'].fillna(method='bfill')\n"
     ]
    },
    {
     "name": "stdout",
     "output_type": "stream",
     "text": [
      "720/800 600871.SH → 1395 行\n"
     ]
    },
    {
     "name": "stderr",
     "output_type": "stream",
     "text": [
      "/Users/lizongze/Quantitative Trading/.venv/lib/python3.12/site-packages/tushare/pro/data_pro.py:130: FutureWarning: Series.fillna with 'method' is deprecated and will raise in a future version. Use obj.ffill() or obj.bfill() instead.\n",
      "  data['adj_factor'] = data['adj_factor'].fillna(method='bfill')\n"
     ]
    },
    {
     "name": "stdout",
     "output_type": "stream",
     "text": [
      "721/800 301165.SZ → 697 行\n"
     ]
    },
    {
     "name": "stderr",
     "output_type": "stream",
     "text": [
      "/Users/lizongze/Quantitative Trading/.venv/lib/python3.12/site-packages/tushare/pro/data_pro.py:130: FutureWarning: Series.fillna with 'method' is deprecated and will raise in a future version. Use obj.ffill() or obj.bfill() instead.\n",
      "  data['adj_factor'] = data['adj_factor'].fillna(method='bfill')\n"
     ]
    },
    {
     "name": "stdout",
     "output_type": "stream",
     "text": [
      "722/800 600056.SH → 1395 行\n"
     ]
    },
    {
     "name": "stderr",
     "output_type": "stream",
     "text": [
      "/Users/lizongze/Quantitative Trading/.venv/lib/python3.12/site-packages/tushare/pro/data_pro.py:130: FutureWarning: Series.fillna with 'method' is deprecated and will raise in a future version. Use obj.ffill() or obj.bfill() instead.\n",
      "  data['adj_factor'] = data['adj_factor'].fillna(method='bfill')\n"
     ]
    },
    {
     "name": "stdout",
     "output_type": "stream",
     "text": [
      "723/800 688281.SH → 870 行\n"
     ]
    },
    {
     "name": "stderr",
     "output_type": "stream",
     "text": [
      "/Users/lizongze/Quantitative Trading/.venv/lib/python3.12/site-packages/tushare/pro/data_pro.py:130: FutureWarning: Series.fillna with 'method' is deprecated and will raise in a future version. Use obj.ffill() or obj.bfill() instead.\n",
      "  data['adj_factor'] = data['adj_factor'].fillna(method='bfill')\n"
     ]
    },
    {
     "name": "stdout",
     "output_type": "stream",
     "text": [
      "724/800 000543.SZ → 1395 行\n"
     ]
    },
    {
     "name": "stderr",
     "output_type": "stream",
     "text": [
      "/Users/lizongze/Quantitative Trading/.venv/lib/python3.12/site-packages/tushare/pro/data_pro.py:130: FutureWarning: Series.fillna with 'method' is deprecated and will raise in a future version. Use obj.ffill() or obj.bfill() instead.\n",
      "  data['adj_factor'] = data['adj_factor'].fillna(method='bfill')\n"
     ]
    },
    {
     "name": "stdout",
     "output_type": "stream",
     "text": [
      "725/800 601928.SH → 1395 行\n"
     ]
    },
    {
     "name": "stderr",
     "output_type": "stream",
     "text": [
      "/Users/lizongze/Quantitative Trading/.venv/lib/python3.12/site-packages/tushare/pro/data_pro.py:130: FutureWarning: Series.fillna with 'method' is deprecated and will raise in a future version. Use obj.ffill() or obj.bfill() instead.\n",
      "  data['adj_factor'] = data['adj_factor'].fillna(method='bfill')\n"
     ]
    },
    {
     "name": "stdout",
     "output_type": "stream",
     "text": [
      "726/800 300979.SZ → 1078 行\n"
     ]
    },
    {
     "name": "stderr",
     "output_type": "stream",
     "text": [
      "/Users/lizongze/Quantitative Trading/.venv/lib/python3.12/site-packages/tushare/pro/data_pro.py:130: FutureWarning: Series.fillna with 'method' is deprecated and will raise in a future version. Use obj.ffill() or obj.bfill() instead.\n",
      "  data['adj_factor'] = data['adj_factor'].fillna(method='bfill')\n"
     ]
    },
    {
     "name": "stdout",
     "output_type": "stream",
     "text": [
      "727/800 601106.SH → 1395 行\n"
     ]
    },
    {
     "name": "stderr",
     "output_type": "stream",
     "text": [
      "/Users/lizongze/Quantitative Trading/.venv/lib/python3.12/site-packages/tushare/pro/data_pro.py:130: FutureWarning: Series.fillna with 'method' is deprecated and will raise in a future version. Use obj.ffill() or obj.bfill() instead.\n",
      "  data['adj_factor'] = data['adj_factor'].fillna(method='bfill')\n"
     ]
    },
    {
     "name": "stdout",
     "output_type": "stream",
     "text": [
      "728/800 600578.SH → 1395 行\n"
     ]
    },
    {
     "name": "stderr",
     "output_type": "stream",
     "text": [
      "/Users/lizongze/Quantitative Trading/.venv/lib/python3.12/site-packages/tushare/pro/data_pro.py:130: FutureWarning: Series.fillna with 'method' is deprecated and will raise in a future version. Use obj.ffill() or obj.bfill() instead.\n",
      "  data['adj_factor'] = data['adj_factor'].fillna(method='bfill')\n"
     ]
    },
    {
     "name": "stdout",
     "output_type": "stream",
     "text": [
      "729/800 601808.SH → 1395 行\n"
     ]
    },
    {
     "name": "stderr",
     "output_type": "stream",
     "text": [
      "/Users/lizongze/Quantitative Trading/.venv/lib/python3.12/site-packages/tushare/pro/data_pro.py:130: FutureWarning: Series.fillna with 'method' is deprecated and will raise in a future version. Use obj.ffill() or obj.bfill() instead.\n",
      "  data['adj_factor'] = data['adj_factor'].fillna(method='bfill')\n"
     ]
    },
    {
     "name": "stdout",
     "output_type": "stream",
     "text": [
      "730/800 600968.SH → 1395 行\n"
     ]
    },
    {
     "name": "stderr",
     "output_type": "stream",
     "text": [
      "/Users/lizongze/Quantitative Trading/.venv/lib/python3.12/site-packages/tushare/pro/data_pro.py:130: FutureWarning: Series.fillna with 'method' is deprecated and will raise in a future version. Use obj.ffill() or obj.bfill() instead.\n",
      "  data['adj_factor'] = data['adj_factor'].fillna(method='bfill')\n"
     ]
    },
    {
     "name": "stdout",
     "output_type": "stream",
     "text": [
      "731/800 000582.SZ → 1395 行\n"
     ]
    },
    {
     "name": "stderr",
     "output_type": "stream",
     "text": [
      "/Users/lizongze/Quantitative Trading/.venv/lib/python3.12/site-packages/tushare/pro/data_pro.py:130: FutureWarning: Series.fillna with 'method' is deprecated and will raise in a future version. Use obj.ffill() or obj.bfill() instead.\n",
      "  data['adj_factor'] = data['adj_factor'].fillna(method='bfill')\n"
     ]
    },
    {
     "name": "stdout",
     "output_type": "stream",
     "text": [
      "732/800 600062.SH → 1395 行\n"
     ]
    },
    {
     "name": "stderr",
     "output_type": "stream",
     "text": [
      "/Users/lizongze/Quantitative Trading/.venv/lib/python3.12/site-packages/tushare/pro/data_pro.py:130: FutureWarning: Series.fillna with 'method' is deprecated and will raise in a future version. Use obj.ffill() or obj.bfill() instead.\n",
      "  data['adj_factor'] = data['adj_factor'].fillna(method='bfill')\n"
     ]
    },
    {
     "name": "stdout",
     "output_type": "stream",
     "text": [
      "733/800 688172.SH → 678 行\n"
     ]
    },
    {
     "name": "stderr",
     "output_type": "stream",
     "text": [
      "/Users/lizongze/Quantitative Trading/.venv/lib/python3.12/site-packages/tushare/pro/data_pro.py:130: FutureWarning: Series.fillna with 'method' is deprecated and will raise in a future version. Use obj.ffill() or obj.bfill() instead.\n",
      "  data['adj_factor'] = data['adj_factor'].fillna(method='bfill')\n"
     ]
    },
    {
     "name": "stdout",
     "output_type": "stream",
     "text": [
      "734/800 600606.SH → 1390 行\n"
     ]
    },
    {
     "name": "stderr",
     "output_type": "stream",
     "text": [
      "/Users/lizongze/Quantitative Trading/.venv/lib/python3.12/site-packages/tushare/pro/data_pro.py:130: FutureWarning: Series.fillna with 'method' is deprecated and will raise in a future version. Use obj.ffill() or obj.bfill() instead.\n",
      "  data['adj_factor'] = data['adj_factor'].fillna(method='bfill')\n"
     ]
    },
    {
     "name": "stdout",
     "output_type": "stream",
     "text": [
      "735/800 300957.SZ → 1099 行\n"
     ]
    },
    {
     "name": "stderr",
     "output_type": "stream",
     "text": [
      "/Users/lizongze/Quantitative Trading/.venv/lib/python3.12/site-packages/tushare/pro/data_pro.py:130: FutureWarning: Series.fillna with 'method' is deprecated and will raise in a future version. Use obj.ffill() or obj.bfill() instead.\n",
      "  data['adj_factor'] = data['adj_factor'].fillna(method='bfill')\n"
     ]
    },
    {
     "name": "stdout",
     "output_type": "stream",
     "text": [
      "736/800 000537.SZ → 1395 行\n"
     ]
    },
    {
     "name": "stderr",
     "output_type": "stream",
     "text": [
      "/Users/lizongze/Quantitative Trading/.venv/lib/python3.12/site-packages/tushare/pro/data_pro.py:130: FutureWarning: Series.fillna with 'method' is deprecated and will raise in a future version. Use obj.ffill() or obj.bfill() instead.\n",
      "  data['adj_factor'] = data['adj_factor'].fillna(method='bfill')\n"
     ]
    },
    {
     "name": "stdout",
     "output_type": "stream",
     "text": [
      "737/800 688349.SH → 799 行\n"
     ]
    },
    {
     "name": "stderr",
     "output_type": "stream",
     "text": [
      "/Users/lizongze/Quantitative Trading/.venv/lib/python3.12/site-packages/tushare/pro/data_pro.py:130: FutureWarning: Series.fillna with 'method' is deprecated and will raise in a future version. Use obj.ffill() or obj.bfill() instead.\n",
      "  data['adj_factor'] = data['adj_factor'].fillna(method='bfill')\n"
     ]
    },
    {
     "name": "stdout",
     "output_type": "stream",
     "text": [
      "738/800 301498.SZ → 517 行\n"
     ]
    },
    {
     "name": "stderr",
     "output_type": "stream",
     "text": [
      "/Users/lizongze/Quantitative Trading/.venv/lib/python3.12/site-packages/tushare/pro/data_pro.py:130: FutureWarning: Series.fillna with 'method' is deprecated and will raise in a future version. Use obj.ffill() or obj.bfill() instead.\n",
      "  data['adj_factor'] = data['adj_factor'].fillna(method='bfill')\n"
     ]
    },
    {
     "name": "stdout",
     "output_type": "stream",
     "text": [
      "739/800 002572.SZ → 1395 行\n"
     ]
    },
    {
     "name": "stderr",
     "output_type": "stream",
     "text": [
      "/Users/lizongze/Quantitative Trading/.venv/lib/python3.12/site-packages/tushare/pro/data_pro.py:130: FutureWarning: Series.fillna with 'method' is deprecated and will raise in a future version. Use obj.ffill() or obj.bfill() instead.\n",
      "  data['adj_factor'] = data['adj_factor'].fillna(method='bfill')\n"
     ]
    },
    {
     "name": "stdout",
     "output_type": "stream",
     "text": [
      "740/800 688563.SH → 537 行\n"
     ]
    },
    {
     "name": "stderr",
     "output_type": "stream",
     "text": [
      "/Users/lizongze/Quantitative Trading/.venv/lib/python3.12/site-packages/tushare/pro/data_pro.py:130: FutureWarning: Series.fillna with 'method' is deprecated and will raise in a future version. Use obj.ffill() or obj.bfill() instead.\n",
      "  data['adj_factor'] = data['adj_factor'].fillna(method='bfill')\n"
     ]
    },
    {
     "name": "stdout",
     "output_type": "stream",
     "text": [
      "741/800 603233.SH → 1395 行\n"
     ]
    },
    {
     "name": "stderr",
     "output_type": "stream",
     "text": [
      "/Users/lizongze/Quantitative Trading/.venv/lib/python3.12/site-packages/tushare/pro/data_pro.py:130: FutureWarning: Series.fillna with 'method' is deprecated and will raise in a future version. Use obj.ffill() or obj.bfill() instead.\n",
      "  data['adj_factor'] = data['adj_factor'].fillna(method='bfill')\n"
     ]
    },
    {
     "name": "stdout",
     "output_type": "stream",
     "text": [
      "742/800 601965.SH → 1395 行\n"
     ]
    },
    {
     "name": "stderr",
     "output_type": "stream",
     "text": [
      "/Users/lizongze/Quantitative Trading/.venv/lib/python3.12/site-packages/tushare/pro/data_pro.py:130: FutureWarning: Series.fillna with 'method' is deprecated and will raise in a future version. Use obj.ffill() or obj.bfill() instead.\n",
      "  data['adj_factor'] = data['adj_factor'].fillna(method='bfill')\n"
     ]
    },
    {
     "name": "stdout",
     "output_type": "stream",
     "text": [
      "743/800 301301.SZ → 671 行\n"
     ]
    },
    {
     "name": "stderr",
     "output_type": "stream",
     "text": [
      "/Users/lizongze/Quantitative Trading/.venv/lib/python3.12/site-packages/tushare/pro/data_pro.py:130: FutureWarning: Series.fillna with 'method' is deprecated and will raise in a future version. Use obj.ffill() or obj.bfill() instead.\n",
      "  data['adj_factor'] = data['adj_factor'].fillna(method='bfill')\n"
     ]
    },
    {
     "name": "stdout",
     "output_type": "stream",
     "text": [
      "744/800 000785.SZ → 1395 行\n"
     ]
    },
    {
     "name": "stderr",
     "output_type": "stream",
     "text": [
      "/Users/lizongze/Quantitative Trading/.venv/lib/python3.12/site-packages/tushare/pro/data_pro.py:130: FutureWarning: Series.fillna with 'method' is deprecated and will raise in a future version. Use obj.ffill() or obj.bfill() instead.\n",
      "  data['adj_factor'] = data['adj_factor'].fillna(method='bfill')\n"
     ]
    },
    {
     "name": "stdout",
     "output_type": "stream",
     "text": [
      "745/800 600373.SH → 1392 行\n"
     ]
    },
    {
     "name": "stderr",
     "output_type": "stream",
     "text": [
      "/Users/lizongze/Quantitative Trading/.venv/lib/python3.12/site-packages/tushare/pro/data_pro.py:130: FutureWarning: Series.fillna with 'method' is deprecated and will raise in a future version. Use obj.ffill() or obj.bfill() instead.\n",
      "  data['adj_factor'] = data['adj_factor'].fillna(method='bfill')\n"
     ]
    },
    {
     "name": "stdout",
     "output_type": "stream",
     "text": [
      "746/800 001286.SZ → 604 行\n"
     ]
    },
    {
     "name": "stderr",
     "output_type": "stream",
     "text": [
      "/Users/lizongze/Quantitative Trading/.venv/lib/python3.12/site-packages/tushare/pro/data_pro.py:130: FutureWarning: Series.fillna with 'method' is deprecated and will raise in a future version. Use obj.ffill() or obj.bfill() instead.\n",
      "  data['adj_factor'] = data['adj_factor'].fillna(method='bfill')\n"
     ]
    },
    {
     "name": "stdout",
     "output_type": "stream",
     "text": [
      "747/800 603658.SH → 1395 行\n"
     ]
    },
    {
     "name": "stderr",
     "output_type": "stream",
     "text": [
      "/Users/lizongze/Quantitative Trading/.venv/lib/python3.12/site-packages/tushare/pro/data_pro.py:130: FutureWarning: Series.fillna with 'method' is deprecated and will raise in a future version. Use obj.ffill() or obj.bfill() instead.\n",
      "  data['adj_factor'] = data['adj_factor'].fillna(method='bfill')\n"
     ]
    },
    {
     "name": "stdout",
     "output_type": "stream",
     "text": [
      "748/800 000959.SZ → 1373 行\n"
     ]
    },
    {
     "name": "stderr",
     "output_type": "stream",
     "text": [
      "/Users/lizongze/Quantitative Trading/.venv/lib/python3.12/site-packages/tushare/pro/data_pro.py:130: FutureWarning: Series.fillna with 'method' is deprecated and will raise in a future version. Use obj.ffill() or obj.bfill() instead.\n",
      "  data['adj_factor'] = data['adj_factor'].fillna(method='bfill')\n"
     ]
    },
    {
     "name": "stdout",
     "output_type": "stream",
     "text": [
      "749/800 000800.SZ → 1394 行\n"
     ]
    },
    {
     "name": "stderr",
     "output_type": "stream",
     "text": [
      "/Users/lizongze/Quantitative Trading/.venv/lib/python3.12/site-packages/tushare/pro/data_pro.py:130: FutureWarning: Series.fillna with 'method' is deprecated and will raise in a future version. Use obj.ffill() or obj.bfill() instead.\n",
      "  data['adj_factor'] = data['adj_factor'].fillna(method='bfill')\n"
     ]
    },
    {
     "name": "stdout",
     "output_type": "stream",
     "text": [
      "750/800 600925.SH → 611 行\n"
     ]
    },
    {
     "name": "stderr",
     "output_type": "stream",
     "text": [
      "/Users/lizongze/Quantitative Trading/.venv/lib/python3.12/site-packages/tushare/pro/data_pro.py:130: FutureWarning: Series.fillna with 'method' is deprecated and will raise in a future version. Use obj.ffill() or obj.bfill() instead.\n",
      "  data['adj_factor'] = data['adj_factor'].fillna(method='bfill')\n"
     ]
    },
    {
     "name": "stdout",
     "output_type": "stream",
     "text": [
      "751/800 600098.SH → 1395 行\n"
     ]
    },
    {
     "name": "stderr",
     "output_type": "stream",
     "text": [
      "/Users/lizongze/Quantitative Trading/.venv/lib/python3.12/site-packages/tushare/pro/data_pro.py:130: FutureWarning: Series.fillna with 'method' is deprecated and will raise in a future version. Use obj.ffill() or obj.bfill() instead.\n",
      "  data['adj_factor'] = data['adj_factor'].fillna(method='bfill')\n"
     ]
    },
    {
     "name": "stdout",
     "output_type": "stream",
     "text": [
      "752/800 000898.SZ → 1395 行\n"
     ]
    },
    {
     "name": "stderr",
     "output_type": "stream",
     "text": [
      "/Users/lizongze/Quantitative Trading/.venv/lib/python3.12/site-packages/tushare/pro/data_pro.py:130: FutureWarning: Series.fillna with 'method' is deprecated and will raise in a future version. Use obj.ffill() or obj.bfill() instead.\n",
      "  data['adj_factor'] = data['adj_factor'].fillna(method='bfill')\n"
     ]
    },
    {
     "name": "stdout",
     "output_type": "stream",
     "text": [
      "753/800 600361.SH → 1384 行\n"
     ]
    },
    {
     "name": "stderr",
     "output_type": "stream",
     "text": [
      "/Users/lizongze/Quantitative Trading/.venv/lib/python3.12/site-packages/tushare/pro/data_pro.py:130: FutureWarning: Series.fillna with 'method' is deprecated and will raise in a future version. Use obj.ffill() or obj.bfill() instead.\n",
      "  data['adj_factor'] = data['adj_factor'].fillna(method='bfill')\n"
     ]
    },
    {
     "name": "stdout",
     "output_type": "stream",
     "text": [
      "754/800 600612.SH → 1395 行\n"
     ]
    },
    {
     "name": "stderr",
     "output_type": "stream",
     "text": [
      "/Users/lizongze/Quantitative Trading/.venv/lib/python3.12/site-packages/tushare/pro/data_pro.py:130: FutureWarning: Series.fillna with 'method' is deprecated and will raise in a future version. Use obj.ffill() or obj.bfill() instead.\n",
      "  data['adj_factor'] = data['adj_factor'].fillna(method='bfill')\n"
     ]
    },
    {
     "name": "stdout",
     "output_type": "stream",
     "text": [
      "755/800 002372.SZ → 1395 行\n"
     ]
    },
    {
     "name": "stderr",
     "output_type": "stream",
     "text": [
      "/Users/lizongze/Quantitative Trading/.venv/lib/python3.12/site-packages/tushare/pro/data_pro.py:130: FutureWarning: Series.fillna with 'method' is deprecated and will raise in a future version. Use obj.ffill() or obj.bfill() instead.\n",
      "  data['adj_factor'] = data['adj_factor'].fillna(method='bfill')\n"
     ]
    },
    {
     "name": "stdout",
     "output_type": "stream",
     "text": [
      "756/800 002608.SZ → 1395 行\n"
     ]
    },
    {
     "name": "stderr",
     "output_type": "stream",
     "text": [
      "/Users/lizongze/Quantitative Trading/.venv/lib/python3.12/site-packages/tushare/pro/data_pro.py:130: FutureWarning: Series.fillna with 'method' is deprecated and will raise in a future version. Use obj.ffill() or obj.bfill() instead.\n",
      "  data['adj_factor'] = data['adj_factor'].fillna(method='bfill')\n"
     ]
    },
    {
     "name": "stdout",
     "output_type": "stream",
     "text": [
      "757/800 600688.SH → 1395 行\n"
     ]
    },
    {
     "name": "stderr",
     "output_type": "stream",
     "text": [
      "/Users/lizongze/Quantitative Trading/.venv/lib/python3.12/site-packages/tushare/pro/data_pro.py:130: FutureWarning: Series.fillna with 'method' is deprecated and will raise in a future version. Use obj.ffill() or obj.bfill() instead.\n",
      "  data['adj_factor'] = data['adj_factor'].fillna(method='bfill')\n"
     ]
    },
    {
     "name": "stdout",
     "output_type": "stream",
     "text": [
      "758/800 000937.SZ → 1395 行\n"
     ]
    },
    {
     "name": "stderr",
     "output_type": "stream",
     "text": [
      "/Users/lizongze/Quantitative Trading/.venv/lib/python3.12/site-packages/tushare/pro/data_pro.py:130: FutureWarning: Series.fillna with 'method' is deprecated and will raise in a future version. Use obj.ffill() or obj.bfill() instead.\n",
      "  data['adj_factor'] = data['adj_factor'].fillna(method='bfill')\n"
     ]
    },
    {
     "name": "stdout",
     "output_type": "stream",
     "text": [
      "759/800 688375.SH → 777 行\n"
     ]
    },
    {
     "name": "stderr",
     "output_type": "stream",
     "text": [
      "/Users/lizongze/Quantitative Trading/.venv/lib/python3.12/site-packages/tushare/pro/data_pro.py:130: FutureWarning: Series.fillna with 'method' is deprecated and will raise in a future version. Use obj.ffill() or obj.bfill() instead.\n",
      "  data['adj_factor'] = data['adj_factor'].fillna(method='bfill')\n"
     ]
    },
    {
     "name": "stdout",
     "output_type": "stream",
     "text": [
      "760/800 600295.SH → 1395 行\n"
     ]
    },
    {
     "name": "stderr",
     "output_type": "stream",
     "text": [
      "/Users/lizongze/Quantitative Trading/.venv/lib/python3.12/site-packages/tushare/pro/data_pro.py:130: FutureWarning: Series.fillna with 'method' is deprecated and will raise in a future version. Use obj.ffill() or obj.bfill() instead.\n",
      "  data['adj_factor'] = data['adj_factor'].fillna(method='bfill')\n"
     ]
    },
    {
     "name": "stdout",
     "output_type": "stream",
     "text": [
      "761/800 601568.SH → 1205 行\n"
     ]
    },
    {
     "name": "stderr",
     "output_type": "stream",
     "text": [
      "/Users/lizongze/Quantitative Trading/.venv/lib/python3.12/site-packages/tushare/pro/data_pro.py:130: FutureWarning: Series.fillna with 'method' is deprecated and will raise in a future version. Use obj.ffill() or obj.bfill() instead.\n",
      "  data['adj_factor'] = data['adj_factor'].fillna(method='bfill')\n"
     ]
    },
    {
     "name": "stdout",
     "output_type": "stream",
     "text": [
      "762/800 600377.SH → 1395 行\n"
     ]
    },
    {
     "name": "stderr",
     "output_type": "stream",
     "text": [
      "/Users/lizongze/Quantitative Trading/.venv/lib/python3.12/site-packages/tushare/pro/data_pro.py:130: FutureWarning: Series.fillna with 'method' is deprecated and will raise in a future version. Use obj.ffill() or obj.bfill() instead.\n",
      "  data['adj_factor'] = data['adj_factor'].fillna(method='bfill')\n"
     ]
    },
    {
     "name": "stdout",
     "output_type": "stream",
     "text": [
      "763/800 600339.SH → 1395 行\n"
     ]
    },
    {
     "name": "stderr",
     "output_type": "stream",
     "text": [
      "/Users/lizongze/Quantitative Trading/.venv/lib/python3.12/site-packages/tushare/pro/data_pro.py:130: FutureWarning: Series.fillna with 'method' is deprecated and will raise in a future version. Use obj.ffill() or obj.bfill() instead.\n",
      "  data['adj_factor'] = data['adj_factor'].fillna(method='bfill')\n"
     ]
    },
    {
     "name": "stdout",
     "output_type": "stream",
     "text": [
      "764/800 601139.SH → 1395 行\n"
     ]
    },
    {
     "name": "stderr",
     "output_type": "stream",
     "text": [
      "/Users/lizongze/Quantitative Trading/.venv/lib/python3.12/site-packages/tushare/pro/data_pro.py:130: FutureWarning: Series.fillna with 'method' is deprecated and will raise in a future version. Use obj.ffill() or obj.bfill() instead.\n",
      "  data['adj_factor'] = data['adj_factor'].fillna(method='bfill')\n"
     ]
    },
    {
     "name": "stdout",
     "output_type": "stream",
     "text": [
      "765/800 000429.SZ → 1395 行\n"
     ]
    },
    {
     "name": "stderr",
     "output_type": "stream",
     "text": [
      "/Users/lizongze/Quantitative Trading/.venv/lib/python3.12/site-packages/tushare/pro/data_pro.py:130: FutureWarning: Series.fillna with 'method' is deprecated and will raise in a future version. Use obj.ffill() or obj.bfill() instead.\n",
      "  data['adj_factor'] = data['adj_factor'].fillna(method='bfill')\n"
     ]
    },
    {
     "name": "stdout",
     "output_type": "stream",
     "text": [
      "766/800 688032.SH → 919 行\n"
     ]
    },
    {
     "name": "stderr",
     "output_type": "stream",
     "text": [
      "/Users/lizongze/Quantitative Trading/.venv/lib/python3.12/site-packages/tushare/pro/data_pro.py:130: FutureWarning: Series.fillna with 'method' is deprecated and will raise in a future version. Use obj.ffill() or obj.bfill() instead.\n",
      "  data['adj_factor'] = data['adj_factor'].fillna(method='bfill')\n"
     ]
    },
    {
     "name": "stdout",
     "output_type": "stream",
     "text": [
      "767/800 001391.SZ → 185 行\n"
     ]
    },
    {
     "name": "stderr",
     "output_type": "stream",
     "text": [
      "/Users/lizongze/Quantitative Trading/.venv/lib/python3.12/site-packages/tushare/pro/data_pro.py:130: FutureWarning: Series.fillna with 'method' is deprecated and will raise in a future version. Use obj.ffill() or obj.bfill() instead.\n",
      "  data['adj_factor'] = data['adj_factor'].fillna(method='bfill')\n"
     ]
    },
    {
     "name": "stdout",
     "output_type": "stream",
     "text": [
      "768/800 601298.SH → 1389 行\n"
     ]
    },
    {
     "name": "stderr",
     "output_type": "stream",
     "text": [
      "/Users/lizongze/Quantitative Trading/.venv/lib/python3.12/site-packages/tushare/pro/data_pro.py:130: FutureWarning: Series.fillna with 'method' is deprecated and will raise in a future version. Use obj.ffill() or obj.bfill() instead.\n",
      "  data['adj_factor'] = data['adj_factor'].fillna(method='bfill')\n"
     ]
    },
    {
     "name": "stdout",
     "output_type": "stream",
     "text": [
      "769/800 003035.SZ → 1141 行\n"
     ]
    },
    {
     "name": "stderr",
     "output_type": "stream",
     "text": [
      "/Users/lizongze/Quantitative Trading/.venv/lib/python3.12/site-packages/tushare/pro/data_pro.py:130: FutureWarning: Series.fillna with 'method' is deprecated and will raise in a future version. Use obj.ffill() or obj.bfill() instead.\n",
      "  data['adj_factor'] = data['adj_factor'].fillna(method='bfill')\n"
     ]
    },
    {
     "name": "stdout",
     "output_type": "stream",
     "text": [
      "770/800 603556.SH → 1395 行\n"
     ]
    },
    {
     "name": "stderr",
     "output_type": "stream",
     "text": [
      "/Users/lizongze/Quantitative Trading/.venv/lib/python3.12/site-packages/tushare/pro/data_pro.py:130: FutureWarning: Series.fillna with 'method' is deprecated and will raise in a future version. Use obj.ffill() or obj.bfill() instead.\n",
      "  data['adj_factor'] = data['adj_factor'].fillna(method='bfill')\n"
     ]
    },
    {
     "name": "stdout",
     "output_type": "stream",
     "text": [
      "771/800 600032.SH → 1060 行\n"
     ]
    },
    {
     "name": "stderr",
     "output_type": "stream",
     "text": [
      "/Users/lizongze/Quantitative Trading/.venv/lib/python3.12/site-packages/tushare/pro/data_pro.py:130: FutureWarning: Series.fillna with 'method' is deprecated and will raise in a future version. Use obj.ffill() or obj.bfill() instead.\n",
      "  data['adj_factor'] = data['adj_factor'].fillna(method='bfill')\n"
     ]
    },
    {
     "name": "stdout",
     "output_type": "stream",
     "text": [
      "772/800 688475.SH → 670 行\n"
     ]
    },
    {
     "name": "stderr",
     "output_type": "stream",
     "text": [
      "/Users/lizongze/Quantitative Trading/.venv/lib/python3.12/site-packages/tushare/pro/data_pro.py:130: FutureWarning: Series.fillna with 'method' is deprecated and will raise in a future version. Use obj.ffill() or obj.bfill() instead.\n",
      "  data['adj_factor'] = data['adj_factor'].fillna(method='bfill')\n"
     ]
    },
    {
     "name": "stdout",
     "output_type": "stream",
     "text": [
      "773/800 688100.SH → 1382 行\n"
     ]
    },
    {
     "name": "stderr",
     "output_type": "stream",
     "text": [
      "/Users/lizongze/Quantitative Trading/.venv/lib/python3.12/site-packages/tushare/pro/data_pro.py:130: FutureWarning: Series.fillna with 'method' is deprecated and will raise in a future version. Use obj.ffill() or obj.bfill() instead.\n",
      "  data['adj_factor'] = data['adj_factor'].fillna(method='bfill')\n"
     ]
    },
    {
     "name": "stdout",
     "output_type": "stream",
     "text": [
      "774/800 603707.SH → 1395 行\n"
     ]
    },
    {
     "name": "stderr",
     "output_type": "stream",
     "text": [
      "/Users/lizongze/Quantitative Trading/.venv/lib/python3.12/site-packages/tushare/pro/data_pro.py:130: FutureWarning: Series.fillna with 'method' is deprecated and will raise in a future version. Use obj.ffill() or obj.bfill() instead.\n",
      "  data['adj_factor'] = data['adj_factor'].fillna(method='bfill')\n"
     ]
    },
    {
     "name": "stdout",
     "output_type": "stream",
     "text": [
      "775/800 600720.SH → 1385 行\n"
     ]
    },
    {
     "name": "stderr",
     "output_type": "stream",
     "text": [
      "/Users/lizongze/Quantitative Trading/.venv/lib/python3.12/site-packages/tushare/pro/data_pro.py:130: FutureWarning: Series.fillna with 'method' is deprecated and will raise in a future version. Use obj.ffill() or obj.bfill() instead.\n",
      "  data['adj_factor'] = data['adj_factor'].fillna(method='bfill')\n"
     ]
    },
    {
     "name": "stdout",
     "output_type": "stream",
     "text": [
      "776/800 601061.SH → 604 行\n"
     ]
    },
    {
     "name": "stderr",
     "output_type": "stream",
     "text": [
      "/Users/lizongze/Quantitative Trading/.venv/lib/python3.12/site-packages/tushare/pro/data_pro.py:130: FutureWarning: Series.fillna with 'method' is deprecated and will raise in a future version. Use obj.ffill() or obj.bfill() instead.\n",
      "  data['adj_factor'] = data['adj_factor'].fillna(method='bfill')\n"
     ]
    },
    {
     "name": "stdout",
     "output_type": "stream",
     "text": [
      "777/800 601228.SH → 1395 行\n"
     ]
    },
    {
     "name": "stderr",
     "output_type": "stream",
     "text": [
      "/Users/lizongze/Quantitative Trading/.venv/lib/python3.12/site-packages/tushare/pro/data_pro.py:130: FutureWarning: Series.fillna with 'method' is deprecated and will raise in a future version. Use obj.ffill() or obj.bfill() instead.\n",
      "  data['adj_factor'] = data['adj_factor'].fillna(method='bfill')\n"
     ]
    },
    {
     "name": "stdout",
     "output_type": "stream",
     "text": [
      "778/800 301267.SZ → 707 行\n"
     ]
    },
    {
     "name": "stderr",
     "output_type": "stream",
     "text": [
      "/Users/lizongze/Quantitative Trading/.venv/lib/python3.12/site-packages/tushare/pro/data_pro.py:130: FutureWarning: Series.fillna with 'method' is deprecated and will raise in a future version. Use obj.ffill() or obj.bfill() instead.\n",
      "  data['adj_factor'] = data['adj_factor'].fillna(method='bfill')\n"
     ]
    },
    {
     "name": "stdout",
     "output_type": "stream",
     "text": [
      "779/800 600928.SH → 1395 行\n"
     ]
    },
    {
     "name": "stderr",
     "output_type": "stream",
     "text": [
      "/Users/lizongze/Quantitative Trading/.venv/lib/python3.12/site-packages/tushare/pro/data_pro.py:130: FutureWarning: Series.fillna with 'method' is deprecated and will raise in a future version. Use obj.ffill() or obj.bfill() instead.\n",
      "  data['adj_factor'] = data['adj_factor'].fillna(method='bfill')\n"
     ]
    },
    {
     "name": "stdout",
     "output_type": "stream",
     "text": [
      "780/800 601019.SH → 1395 行\n"
     ]
    },
    {
     "name": "stderr",
     "output_type": "stream",
     "text": [
      "/Users/lizongze/Quantitative Trading/.venv/lib/python3.12/site-packages/tushare/pro/data_pro.py:130: FutureWarning: Series.fillna with 'method' is deprecated and will raise in a future version. Use obj.ffill() or obj.bfill() instead.\n",
      "  data['adj_factor'] = data['adj_factor'].fillna(method='bfill')\n"
     ]
    },
    {
     "name": "stdout",
     "output_type": "stream",
     "text": [
      "781/800 688819.SH → 1142 行\n"
     ]
    },
    {
     "name": "stderr",
     "output_type": "stream",
     "text": [
      "/Users/lizongze/Quantitative Trading/.venv/lib/python3.12/site-packages/tushare/pro/data_pro.py:130: FutureWarning: Series.fillna with 'method' is deprecated and will raise in a future version. Use obj.ffill() or obj.bfill() instead.\n",
      "  data['adj_factor'] = data['adj_factor'].fillna(method='bfill')\n"
     ]
    },
    {
     "name": "stdout",
     "output_type": "stream",
     "text": [
      "782/800 002945.SZ → 1395 行\n"
     ]
    },
    {
     "name": "stderr",
     "output_type": "stream",
     "text": [
      "/Users/lizongze/Quantitative Trading/.venv/lib/python3.12/site-packages/tushare/pro/data_pro.py:130: FutureWarning: Series.fillna with 'method' is deprecated and will raise in a future version. Use obj.ffill() or obj.bfill() instead.\n",
      "  data['adj_factor'] = data['adj_factor'].fillna(method='bfill')\n"
     ]
    },
    {
     "name": "stdout",
     "output_type": "stream",
     "text": [
      "783/800 600927.SH → 916 行\n"
     ]
    },
    {
     "name": "stderr",
     "output_type": "stream",
     "text": [
      "/Users/lizongze/Quantitative Trading/.venv/lib/python3.12/site-packages/tushare/pro/data_pro.py:130: FutureWarning: Series.fillna with 'method' is deprecated and will raise in a future version. Use obj.ffill() or obj.bfill() instead.\n",
      "  data['adj_factor'] = data['adj_factor'].fillna(method='bfill')\n"
     ]
    },
    {
     "name": "stdout",
     "output_type": "stream",
     "text": [
      "784/800 002563.SZ → 1395 行\n"
     ]
    },
    {
     "name": "stderr",
     "output_type": "stream",
     "text": [
      "/Users/lizongze/Quantitative Trading/.venv/lib/python3.12/site-packages/tushare/pro/data_pro.py:130: FutureWarning: Series.fillna with 'method' is deprecated and will raise in a future version. Use obj.ffill() or obj.bfill() instead.\n",
      "  data['adj_factor'] = data['adj_factor'].fillna(method='bfill')\n"
     ]
    },
    {
     "name": "stdout",
     "output_type": "stream",
     "text": [
      "785/800 002461.SZ → 1395 行\n"
     ]
    },
    {
     "name": "stderr",
     "output_type": "stream",
     "text": [
      "/Users/lizongze/Quantitative Trading/.venv/lib/python3.12/site-packages/tushare/pro/data_pro.py:130: FutureWarning: Series.fillna with 'method' is deprecated and will raise in a future version. Use obj.ffill() or obj.bfill() instead.\n",
      "  data['adj_factor'] = data['adj_factor'].fillna(method='bfill')\n"
     ]
    },
    {
     "name": "stdout",
     "output_type": "stream",
     "text": [
      "786/800 000539.SZ → 1395 行\n"
     ]
    },
    {
     "name": "stderr",
     "output_type": "stream",
     "text": [
      "/Users/lizongze/Quantitative Trading/.venv/lib/python3.12/site-packages/tushare/pro/data_pro.py:130: FutureWarning: Series.fillna with 'method' is deprecated and will raise in a future version. Use obj.ffill() or obj.bfill() instead.\n",
      "  data['adj_factor'] = data['adj_factor'].fillna(method='bfill')\n"
     ]
    },
    {
     "name": "stdout",
     "output_type": "stream",
     "text": [
      "787/800 600007.SH → 1395 行\n"
     ]
    },
    {
     "name": "stderr",
     "output_type": "stream",
     "text": [
      "/Users/lizongze/Quantitative Trading/.venv/lib/python3.12/site-packages/tushare/pro/data_pro.py:130: FutureWarning: Series.fillna with 'method' is deprecated and will raise in a future version. Use obj.ffill() or obj.bfill() instead.\n",
      "  data['adj_factor'] = data['adj_factor'].fillna(method='bfill')\n"
     ]
    },
    {
     "name": "stdout",
     "output_type": "stream",
     "text": [
      "788/800 601921.SH → 1018 行\n"
     ]
    },
    {
     "name": "stderr",
     "output_type": "stream",
     "text": [
      "/Users/lizongze/Quantitative Trading/.venv/lib/python3.12/site-packages/tushare/pro/data_pro.py:130: FutureWarning: Series.fillna with 'method' is deprecated and will raise in a future version. Use obj.ffill() or obj.bfill() instead.\n",
      "  data['adj_factor'] = data['adj_factor'].fillna(method='bfill')\n"
     ]
    },
    {
     "name": "stdout",
     "output_type": "stream",
     "text": [
      "789/800 600299.SH → 1395 行\n"
     ]
    },
    {
     "name": "stderr",
     "output_type": "stream",
     "text": [
      "/Users/lizongze/Quantitative Trading/.venv/lib/python3.12/site-packages/tushare/pro/data_pro.py:130: FutureWarning: Series.fillna with 'method' is deprecated and will raise in a future version. Use obj.ffill() or obj.bfill() instead.\n",
      "  data['adj_factor'] = data['adj_factor'].fillna(method='bfill')\n"
     ]
    },
    {
     "name": "stdout",
     "output_type": "stream",
     "text": [
      "790/800 001213.SZ → 985 行\n"
     ]
    },
    {
     "name": "stderr",
     "output_type": "stream",
     "text": [
      "/Users/lizongze/Quantitative Trading/.venv/lib/python3.12/site-packages/tushare/pro/data_pro.py:130: FutureWarning: Series.fillna with 'method' is deprecated and will raise in a future version. Use obj.ffill() or obj.bfill() instead.\n",
      "  data['adj_factor'] = data['adj_factor'].fillna(method='bfill')\n"
     ]
    },
    {
     "name": "stdout",
     "output_type": "stream",
     "text": [
      "791/800 603826.SH → 1395 行\n"
     ]
    },
    {
     "name": "stderr",
     "output_type": "stream",
     "text": [
      "/Users/lizongze/Quantitative Trading/.venv/lib/python3.12/site-packages/tushare/pro/data_pro.py:130: FutureWarning: Series.fillna with 'method' is deprecated and will raise in a future version. Use obj.ffill() or obj.bfill() instead.\n",
      "  data['adj_factor'] = data['adj_factor'].fillna(method='bfill')\n"
     ]
    },
    {
     "name": "stdout",
     "output_type": "stream",
     "text": [
      "792/800 300140.SZ → 1385 行\n"
     ]
    },
    {
     "name": "stderr",
     "output_type": "stream",
     "text": [
      "/Users/lizongze/Quantitative Trading/.venv/lib/python3.12/site-packages/tushare/pro/data_pro.py:130: FutureWarning: Series.fillna with 'method' is deprecated and will raise in a future version. Use obj.ffill() or obj.bfill() instead.\n",
      "  data['adj_factor'] = data['adj_factor'].fillna(method='bfill')\n"
     ]
    },
    {
     "name": "stdout",
     "output_type": "stream",
     "text": [
      "793/800 601858.SH → 1395 行\n"
     ]
    },
    {
     "name": "stderr",
     "output_type": "stream",
     "text": [
      "/Users/lizongze/Quantitative Trading/.venv/lib/python3.12/site-packages/tushare/pro/data_pro.py:130: FutureWarning: Series.fillna with 'method' is deprecated and will raise in a future version. Use obj.ffill() or obj.bfill() instead.\n",
      "  data['adj_factor'] = data['adj_factor'].fillna(method='bfill')\n"
     ]
    },
    {
     "name": "stdout",
     "output_type": "stream",
     "text": [
      "794/800 001389.SZ → 366 行\n"
     ]
    },
    {
     "name": "stderr",
     "output_type": "stream",
     "text": [
      "/Users/lizongze/Quantitative Trading/.venv/lib/python3.12/site-packages/tushare/pro/data_pro.py:130: FutureWarning: Series.fillna with 'method' is deprecated and will raise in a future version. Use obj.ffill() or obj.bfill() instead.\n",
      "  data['adj_factor'] = data['adj_factor'].fillna(method='bfill')\n"
     ]
    },
    {
     "name": "stdout",
     "output_type": "stream",
     "text": [
      "795/800 688153.SH → 846 行\n"
     ]
    },
    {
     "name": "stderr",
     "output_type": "stream",
     "text": [
      "/Users/lizongze/Quantitative Trading/.venv/lib/python3.12/site-packages/tushare/pro/data_pro.py:130: FutureWarning: Series.fillna with 'method' is deprecated and will raise in a future version. Use obj.ffill() or obj.bfill() instead.\n",
      "  data['adj_factor'] = data['adj_factor'].fillna(method='bfill')\n"
     ]
    },
    {
     "name": "stdout",
     "output_type": "stream",
     "text": [
      "796/800 688295.SH → 850 行\n"
     ]
    },
    {
     "name": "stderr",
     "output_type": "stream",
     "text": [
      "/Users/lizongze/Quantitative Trading/.venv/lib/python3.12/site-packages/tushare/pro/data_pro.py:130: FutureWarning: Series.fillna with 'method' is deprecated and will raise in a future version. Use obj.ffill() or obj.bfill() instead.\n",
      "  data['adj_factor'] = data['adj_factor'].fillna(method='bfill')\n"
     ]
    },
    {
     "name": "stdout",
     "output_type": "stream",
     "text": [
      "797/800 001289.SZ → 895 行\n"
     ]
    },
    {
     "name": "stderr",
     "output_type": "stream",
     "text": [
      "/Users/lizongze/Quantitative Trading/.venv/lib/python3.12/site-packages/tushare/pro/data_pro.py:130: FutureWarning: Series.fillna with 'method' is deprecated and will raise in a future version. Use obj.ffill() or obj.bfill() instead.\n",
      "  data['adj_factor'] = data['adj_factor'].fillna(method='bfill')\n"
     ]
    },
    {
     "name": "stdout",
     "output_type": "stream",
     "text": [
      "798/800 601158.SH → 1395 行\n"
     ]
    },
    {
     "name": "stderr",
     "output_type": "stream",
     "text": [
      "/Users/lizongze/Quantitative Trading/.venv/lib/python3.12/site-packages/tushare/pro/data_pro.py:130: FutureWarning: Series.fillna with 'method' is deprecated and will raise in a future version. Use obj.ffill() or obj.bfill() instead.\n",
      "  data['adj_factor'] = data['adj_factor'].fillna(method='bfill')\n"
     ]
    },
    {
     "name": "stdout",
     "output_type": "stream",
     "text": [
      "799/800 600956.SH → 1280 行\n"
     ]
    },
    {
     "name": "stderr",
     "output_type": "stream",
     "text": [
      "/Users/lizongze/Quantitative Trading/.venv/lib/python3.12/site-packages/tushare/pro/data_pro.py:130: FutureWarning: Series.fillna with 'method' is deprecated and will raise in a future version. Use obj.ffill() or obj.bfill() instead.\n",
      "  data['adj_factor'] = data['adj_factor'].fillna(method='bfill')\n"
     ]
    },
    {
     "name": "stdout",
     "output_type": "stream",
     "text": [
      "800/800 603868.SH → 1395 行\n"
     ]
    }
   ],
   "source": [
    "# 循环获取 CSI800 收盘价\n",
    "all_data = []\n",
    "\n",
    "for i, code in enumerate(stock_codes, 1):\n",
    "    # 用 pro_bar 才能拿到前复权\n",
    "    df = ts.pro_bar(ts_code=code, adj='qfq',\n",
    "                    start_date=START_DATE, end_date=END_DATE,\n",
    "                    fields='ts_code,trade_date,close')\n",
    "    if df is not None and not df.empty:\n",
    "        all_data.append(df)\n",
    "    print(f\"{i}/{len(stock_codes)} {code} → {0 if df is None else len(df)} 行\")\n",
    "    time.sleep(0.4)\n",
    "\n",
    "# 合并长表\n",
    "daily_prices = pd.concat(all_data, ignore_index=True)\n",
    "daily_prices['trade_date'] = pd.to_datetime(daily_prices['trade_date'])\n",
    "\n",
    "# 宽表：索引=trade_date（变成“日期”列），列=ts_code，值=close\n",
    "wide = (daily_prices\n",
    "        .pivot(index='trade_date', columns='ts_code', values='close')\n",
    "        .sort_index())\n",
    "wide.index.name = '日期'\n",
    "\n",
    "# 保存（缺失留空）\n",
    "wide.to_csv('csi800_qfq_close.csv', encoding='utf-8-sig', na_rep='')\n",
    "\n",
    "# 可选：把行业映射单独保存一份（1 行 / 股票）\n",
    "(result_df[['ts_code','industry']]\n",
    " .drop_duplicates('ts_code')\n",
    " .sort_values('ts_code')\n",
    " .to_csv('csi800_industry_map.csv', index=False, encoding='utf-8-sig'))"
   ]
  },
  {
   "cell_type": "code",
   "execution_count": 8,
   "id": "33f9d242e0379305",
   "metadata": {
    "ExecuteTime": {
     "end_time": "2025-10-16T06:02:40.887486Z",
     "start_time": "2025-10-16T06:00:16.997120Z"
    }
   },
   "outputs": [
    {
     "name": "stdout",
     "output_type": "stream",
     "text": [
      "开始按行业进行两两协整检验...\n"
     ]
    },
    {
     "name": "stderr",
     "output_type": "stream",
     "text": [
      "                                                                                                                                                                "
     ]
    },
    {
     "name": "stdout",
     "output_type": "stream",
     "text": [
      "✅ 完成！共 7577 对，已保存：coint_results.csv\n"
     ]
    },
    {
     "name": "stderr",
     "output_type": "stream",
     "text": []
    }
   ],
   "source": [
    "# ========== 1) 读入数据 ==========\n",
    "PRICES_CSV = \"csi800_qfq_close.csv\"      # 你的文件名\n",
    "MAP_CSV    = \"csi800_industry_map.csv\"   # 你的文件名\n",
    "\n",
    "# 读价格宽表：第一列是日期\n",
    "prices = pd.read_csv(PRICES_CSV, parse_dates=['日期'])\n",
    "prices = prices.sort_values('日期').set_index('日期')\n",
    "# 形成期 / 测试期\n",
    "TRAIN_START, TRAIN_END = \"2020-01-01\", \"2023-12-30\"\n",
    "TEST_START,  TEST_END  = \"2024-01-01\", \"2025-09-30\"\n",
    "# 仅用形成期做协整与半衰期\n",
    "prices_train = prices.loc[TRAIN_START:TRAIN_END].copy()\n",
    "\n",
    "# 读行业映射（去重，只保留需要的两列）\n",
    "imap = (pd.read_csv(MAP_CSV, dtype={'ts_code': str})\n",
    "          .drop_duplicates(subset=['ts_code'])\n",
    "          .loc[:, ['ts_code', 'industry']])\n",
    "\n",
    "# 只保留“行业表”中出现的代码列，且这些代码确实在价格表里有列\n",
    "valid_cols = [c for c in imap['ts_code'].unique().tolist() if c in prices.columns]\n",
    "prices = prices[valid_cols].copy()\n",
    "imap   = imap[imap['ts_code'].isin(valid_cols)].copy()\n",
    "\n",
    "# ========== 2) 参数 ==========\n",
    "USE_LOG  = True     # 建议对价格取对数做协整（更常见）\n",
    "MIN_OBS  = 150      # 两只股票重叠样本数的下限\n",
    "OUTPUT_CSV = \"coint_results.csv\"\n",
    "\n",
    "# ========== 3) 工具函数 ==========\n",
    "def eg_ols_adf(y: pd.Series, x: pd.Series):\n",
    "    \"\"\"\n",
    "    Engle-Granger 二步法：\n",
    "    第一步：OLS 回归 y = a + b*x + u\n",
    "    第二步：对残差 u 做 ADF 单位根检验。\n",
    "    返回：alpha, beta, adf_stat, adf_pvalue, adf_crit (dict)\n",
    "    注意：ADF 的 p 值和临界值是“常规 ADF”的，而 EG 真正的\n",
    "         p 值应使用 MacKinnon 表（statsmodels.coint 已内置）。\n",
    "    \"\"\"\n",
    "    # OLS\n",
    "    X = sm.add_constant(x.values, has_constant='add')  # [1, x]\n",
    "    model = sm.OLS(y.values, X, missing='drop')\n",
    "    res = model.fit()\n",
    "    alpha = res.params[0]\n",
    "    beta  = res.params[1]\n",
    "    resid = y - (alpha + beta * x)\n",
    "\n",
    "    # 对残差做 ADF\n",
    "    adf_stat, adf_pvalue, usedlag, nobs, crit_vals, icbest = adfuller(\n",
    "        resid.values, maxlag=None, regression='c', autolag='AIC'\n",
    "    )\n",
    "    return alpha, beta, adf_stat, adf_pvalue, crit_vals, resid\n",
    "\n",
    "def sm_coint(y: pd.Series, x: pd.Series):\n",
    "    \"\"\"\n",
    "    statsmodels 原生协整检验（MacKinnon p 值更标准）\n",
    "    返回：t_stat, p_value, crit_vals (dict)\n",
    "    \"\"\"\n",
    "    t_stat, p_value, crit_vals = coint(y.values, x.values, trend='c')  # y~x\n",
    "    return t_stat, p_value, {'1%': crit_vals[0], '5%': crit_vals[1], '10%': crit_vals[2]}\n",
    "\n",
    "# ========== 4) 按行业两两配对 & 协整 ==========\n",
    "rows = []\n",
    "grouped = imap.groupby('industry', dropna=False)\n",
    "\n",
    "print(\"开始按行业进行两两协整检验...\")\n",
    "for industry, sub in grouped:\n",
    "    codes = sub['ts_code'].unique().tolist()\n",
    "\n",
    "    # 行业内股票不足两只就跳过\n",
    "    if len(codes) < 2:\n",
    "        continue\n",
    "\n",
    "    # 枚举行业内所有两两配对\n",
    "    for a, b in tqdm(list(combinations(codes, 2)), desc=f\"[{industry}] pairs\", leave=False):\n",
    "        s = prices_train[[a, b]].dropna()\n",
    "        if len(s) < MIN_OBS:\n",
    "            continue\n",
    "\n",
    "        # 可选：对数价格\n",
    "        if USE_LOG:\n",
    "            s = np.log(s)\n",
    "\n",
    "        # 分别取两个序列（注意对齐后已无缺失）\n",
    "        y = s[a]\n",
    "        x = s[b]\n",
    "\n",
    "        try:\n",
    "            # EG 二步法（回归 + 残差ADF）\n",
    "            alpha, beta, adf_stat, adf_p, adf_crit, resid = eg_ols_adf(y, x)\n",
    "\n",
    "            # 原生协整检验（推荐看这个的 p 值）\n",
    "            t_stat, p_val, crit = sm_coint(y, x)\n",
    "\n",
    "            rows.append({\n",
    "                'industry': industry,\n",
    "                'y': a, 'x': b,\n",
    "                'n_obs': int(len(s)),\n",
    "                'alpha': alpha,\n",
    "                'beta': beta,                      # 对冲比率（b）\n",
    "                'eg_adf_stat': adf_stat,          # 残差ADF统计量（常规ADF）\n",
    "                'eg_adf_pvalue': adf_p,           # 残差ADF p 值（仅作参考）\n",
    "                'eg_adf_cv_1%': adf_crit.get('1%'),\n",
    "                'eg_adf_cv_5%': adf_crit.get('5%'),\n",
    "                'eg_adf_cv_10%': adf_crit.get('10%'),\n",
    "                'coint_tstat': t_stat,            # 协整 t 值（越小越显著）\n",
    "                'coint_pvalue': p_val,            # MacKinnon p 值（推荐依据）\n",
    "                'coint_cv_1%': crit['1%'],\n",
    "                'coint_cv_5%': crit['5%'],\n",
    "                'coint_cv_10%': crit['10%'],\n",
    "                'resid_std': float(np.std(resid, ddof=1)),\n",
    "            })\n",
    "        except Exception as e:\n",
    "            # 某些极端样本可能失败，直接跳过\n",
    "            # 你也可以 print(e) 来查看\n",
    "            continue\n",
    "\n",
    "# ========== 5) 保存结果 ==========\n",
    "if rows:\n",
    "    out = pd.DataFrame(rows)\n",
    "    # 常见过滤：p 值显著的对（例如 5%）\n",
    "    out = out.sort_values(['industry', 'coint_pvalue', 'y', 'x']).reset_index(drop=True)\n",
    "    out.to_csv(OUTPUT_CSV, index=False, encoding='utf-8-sig')\n",
    "    print(f\"✅ 完成！共 {len(out)} 对，已保存：{OUTPUT_CSV}\")\n",
    "else:\n",
    "    print(\"⚠️ 没有得到任何有效的配对结果。请检查 MIN_OBS、文件列名或数据缺失情况。\")"
   ]
  },
  {
   "cell_type": "code",
   "execution_count": 9,
   "id": "c1533d4f55c22b8",
   "metadata": {
    "ExecuteTime": {
     "end_time": "2025-10-16T06:22:56.370470Z",
     "start_time": "2025-10-16T06:22:49.044699Z"
    }
   },
   "outputs": [
    {
     "name": "stderr",
     "output_type": "stream",
     "text": [
      "Half-life: 100%|██████████████████████████████████████████████████████████████████████████████████████████████████████████| 7577/7577 [00:06<00:00, 1129.09it/s]\n"
     ]
    },
    {
     "name": "stdout",
     "output_type": "stream",
     "text": [
      "✅ 已保存：coint_results_with_halflife.csv  （共 7577 行）\n"
     ]
    }
   ],
   "source": [
    "# ========== 0) 参数 ==========\n",
    "PRICES_CSV     = \"csi800_qfq_close.csv\"\n",
    "COINT_CSV      = \"coint_results.csv\"\n",
    "OUTPUT_CSV     = \"coint_results_with_halflife.csv\"\n",
    "\n",
    "USE_LOG        = True     # 上一步若用对数，这里也保持一致\n",
    "MIN_OBS_HL     = 100      # 计算半衰期所需的最少重叠样本\n",
    "ONLY_COINTEGRATED = False # 若只给“显著协整”的配对算HL，设 True\n",
    "PVAL_THRESH    = 0.05     # 协整显著性阈值\n",
    "\n",
    "# ========== 1) 读数据 ==========\n",
    "prices = pd.read_csv(PRICES_CSV, parse_dates=['日期']).sort_values('日期').set_index('日期')\n",
    "coint_df = pd.read_csv(COINT_CSV)\n",
    "\n",
    "# 与协整保持一致的形成期/测试期\n",
    "TRAIN_START, TRAIN_END = \"2020-01-01\", \"2023-12-30\"\n",
    "TEST_START,  TEST_END  = \"2024-01-01\", \"2025-09-30\"\n",
    "\n",
    "prices_train = prices.loc[TRAIN_START:TRAIN_END].copy()\n",
    "\n",
    "# 可选：只保留显著协整的对，减少计算量\n",
    "if ONLY_COINTEGRATED and 'coint_pvalue' in coint_df.columns:\n",
    "    coint_df = coint_df[coint_df['coint_pvalue'] < PVAL_THRESH].copy()\n",
    "\n",
    "# ========== 2) 工具函数：计算半衰期 ==========\n",
    "def compute_halflife_from_resid(z: pd.Series):\n",
    "    \"\"\"\n",
    "    输入：残差序列 z_t（建议已对齐、无缺失）\n",
    "    步骤：去均值 -> 回归 Δz_t = c + κ z_{t-1}\n",
    "    令 ρ = 1 + κ；若 0<ρ<1，则 HL = -ln(2)/ln(ρ)，否则 NaN\n",
    "    返回：hl_days, rho, kappa, n_used\n",
    "    \"\"\"\n",
    "    z = z.dropna()\n",
    "    if len(z) < MIN_OBS_HL:\n",
    "        return np.nan, np.nan, np.nan, int(len(z))\n",
    "\n",
    "    # 去均值（可减少截距的影响）\n",
    "    z = z - z.mean()\n",
    "\n",
    "    # 组 Δz 与 z_{t-1}\n",
    "    dz = z.diff()\n",
    "    z_lag = z.shift(1)\n",
    "    df_hl = pd.concat([dz, z_lag], axis=1).dropna()\n",
    "    df_hl.columns = ['dz', 'z_lag1']\n",
    "\n",
    "    if len(df_hl) < MIN_OBS_HL:\n",
    "        return np.nan, np.nan, np.nan, int(len(df_hl))\n",
    "\n",
    "    X = sm.add_constant(df_hl['z_lag1'].values, has_constant='add')\n",
    "    y = df_hl['dz'].values\n",
    "\n",
    "    try:\n",
    "        res = sm.OLS(y, X).fit()\n",
    "        kappa = float(res.params[1])   # Δz_t = c + κ z_{t-1}\n",
    "        rho = 1.0 + kappa\n",
    "        if 0.0 < rho < 1.0 and np.isfinite(rho):\n",
    "            hl = -np.log(2.0) / np.log(rho)\n",
    "        else:\n",
    "            hl = np.nan\n",
    "        return float(hl), float(rho), float(kappa), int(len(df_hl))\n",
    "    except Exception:\n",
    "        return np.nan, np.nan, np.nan, int(len(df_hl))\n",
    "\n",
    "# ========== 3) 逐对计算半衰期并并回 ==========\n",
    "hl_rows = []\n",
    "\n",
    "# 仅保留价格表里确实存在的代码\n",
    "valid_cols = set(prices.columns)\n",
    "total_pairs = len(coint_df)\n",
    "\n",
    "for _, row in tqdm(coint_df.iterrows(), total=total_pairs, desc=\"Half-life\"):\n",
    "    y_code = row['y']\n",
    "    x_code = row['x']\n",
    "    alpha  = row.get('alpha', np.nan)\n",
    "    beta   = row.get('beta', np.nan)\n",
    "\n",
    "    # 若价格表缺列，跳过\n",
    "    if y_code not in valid_cols or x_code not in valid_cols:\n",
    "        hl_rows.append({'y': y_code, 'x': x_code,\n",
    "                        'hl_days': np.nan, 'rho': np.nan, 'kappa': np.nan, 'n_hl': 0})\n",
    "        continue\n",
    "\n",
    "    s = prices_train[[y_code, x_code]].dropna()\n",
    "    if USE_LOG:\n",
    "        s = np.log(s)\n",
    "\n",
    "    # 若 alpha/beta 缺失，稳妥起见再回归一次（但通常你的表里已有）\n",
    "    if pd.isna(alpha) or pd.isna(beta):\n",
    "        # 回归 y ~ a + b x\n",
    "        X = sm.add_constant(s[x_code].values, has_constant='add')\n",
    "        res = sm.OLS(s[y_code].values, X).fit()\n",
    "        alpha = float(res.params[0]); beta = float(res.params[1])\n",
    "\n",
    "    # 用（alpha, beta）重建残差\n",
    "    z = s[y_code] - (alpha + beta * s[x_code])\n",
    "\n",
    "    hl, rho, kappa, n_used = compute_halflife_from_resid(z)\n",
    "\n",
    "    hl_rows.append({\n",
    "        'y': y_code, 'x': x_code,\n",
    "        'hl_days': hl,      # 半衰期（交易日数）\n",
    "        'rho': rho,         # AR(1) 系数\n",
    "        'kappa': kappa,     # Δz_t = c + κ z_{t-1} 的斜率\n",
    "        'n_hl': n_used      # 用于计算HL的样本点数\n",
    "    })\n",
    "\n",
    "hl_df = pd.DataFrame(hl_rows)\n",
    "\n",
    "# 并回原表\n",
    "merged = coint_df.merge(hl_df, on=['y','x'], how='left')\n",
    "\n",
    "# 常见排序：按行业、p值和半衰期\n",
    "sort_cols = [c for c in ['industry','coint_pvalue','hl_days','y','x'] if c in merged.columns]\n",
    "merged = merged.sort_values(sort_cols).reset_index(drop=True)\n",
    "\n",
    "# 保存\n",
    "merged.to_csv(OUTPUT_CSV, index=False, encoding='utf-8-sig')\n",
    "print(f\"✅ 已保存：{OUTPUT_CSV}  （共 {len(merged)} 行）\")"
   ]
  },
  {
   "cell_type": "code",
   "execution_count": 10,
   "id": "9c0b6fda21051d25",
   "metadata": {
    "ExecuteTime": {
     "end_time": "2025-10-16T09:47:42.412658Z",
     "start_time": "2025-10-16T09:47:42.404346Z"
    }
   },
   "outputs": [
    {
     "name": "stdout",
     "output_type": "stream",
     "text": [
      "12.6\n"
     ]
    }
   ],
   "source": [
    "# 回测参数: 成本&滑点（单位：bps）\n",
    "# 交易所手续费\n",
    "EXCHANGE_BPS_PER_SIDE = 0.3\n",
    "# 监管费 0.002%/边 ≈ 0.2 bps\n",
    "REGULATORY_BPS_PER_SIDE = 0.2\n",
    "# 过户费 0.001%/边 ≈ 0.1 bps\n",
    "TRANSFER_BPS_PER_SIDE = 0.1\n",
    "# 券商佣金：机构常用 0.02%/边=2 bps；零售可改 3 bps\n",
    "BROKER_BPS_PER_SIDE = 2.0\n",
    "\n",
    "# ——显性费用（除印花税）合计（单边）——\n",
    "FEES_BPS_PER_SIDE = (EXCHANGE_BPS_PER_SIDE\n",
    "                     + REGULATORY_BPS_PER_SIDE\n",
    "                     + TRANSFER_BPS_PER_SIDE\n",
    "                     + BROKER_BPS_PER_SIDE)\n",
    "\n",
    "# 印花税（仅卖出侧）：0.05% = 5 bps\n",
    "STAMP_SELL_BPS = 5.0\n",
    "\n",
    "# ——滑点（按“回合/roundtrip”口径设置，再折半到单边）——\n",
    "# CSI500 建议 20–40 bps/回合；这里取 20 bps/回合\n",
    "SLIPPAGE_ROUNDTRIP_BPS = 20.0\n",
    "SLIPPAGE_BPS_PER_SIDE = SLIPPAGE_ROUNDTRIP_BPS / 2.0  # 15 bps/边\n",
    "\n",
    "# 便于阅读：总的“单边成本”（= 显性费用单边 + 滑点单边），不含印花税\n",
    "TOTAL_BPS_PER_SIDE_EX_STAMP = FEES_BPS_PER_SIDE + SLIPPAGE_BPS_PER_SIDE\n",
    "print(TOTAL_BPS_PER_SIDE_EX_STAMP)\n"
   ]
  },
  {
   "cell_type": "code",
   "execution_count": 11,
   "id": "4fd0ddd6929d7b9d",
   "metadata": {
    "ExecuteTime": {
     "end_time": "2025-10-16T09:47:45.005126Z",
     "start_time": "2025-10-16T09:47:44.742519Z"
    }
   },
   "outputs": [
    {
     "name": "stdout",
     "output_type": "stream",
     "text": [
      "✅ 已保存：selected_pairs.csv（30 对）\n",
      "✅ 已保存：portfolio_daily.csv\n",
      "\n",
      "======= 全周期摘要 =======\n",
      "年化收益: 15.65%\n",
      "年化波动: 19.36%\n",
      "夏普比  : 0.81\n",
      "最大回撤: -19.53%\n",
      "平均持仓对数/日: 2.8\n",
      "\n",
      "======= 年度分段（2023 / 2024 / 2025YTD） =======\n",
      "\n",
      "2024: 交易日=241\n",
      "累计收益: 16.86%\n",
      "年化收益: 17.69%\n",
      "年化波动: 18.17%\n",
      "夏普比  : 0.97\n",
      "最大回撤: -10.41%\n",
      "胜率    : 36.93%\n",
      "平均持仓对数: 2.6\n",
      "平均换手  : 1680.2 bps\n",
      "\n",
      "2025: 交易日=183\n",
      "累计收益: 7.89%\n",
      "年化收益: 11.02%\n",
      "年化波动: 20.88%\n",
      "夏普比  : 0.53\n",
      "最大回撤: -19.53%\n",
      "胜率    : 45.90%\n",
      "平均持仓对数: 3.2\n",
      "平均换手  : 2046.5 bps\n",
      "✅ 已保存：yearly_metrics.csv\n"
     ]
    }
   ],
   "source": [
    "# 回测\n",
    "# ========== 参数 ==========\n",
    "PRICES_CSV  = \"csi800_qfq_close.csv\"\n",
    "COINT_CSV   = \"coint_results_with_halflife.csv\"\n",
    "\n",
    "# 数据处理\n",
    "USE_LOG       = True        # True: 用对数价/对数收益(推荐)；False: 用普通收益\n",
    "MIN_OBS_ROLL  = 20          # z分数滚动窗口下限\n",
    "MAX_OBS_ROLL  = 120         # z分数滚动窗口上限\n",
    "\n",
    "# 配对筛选\n",
    "PVAL_THRESH   = 0.01        # 协整显著性阈值\n",
    "HL_MIN, HL_MAX = 5, 40      # 半衰期范围（交易日）\n",
    "N_OBS_MIN     = 150         # EG估计有效样本（若 coint 表有 n_obs 列才会用到）\n",
    "MAX_PAIRS     = 30          # 同时持有的配对上限\n",
    "PER_INDUSTRY_CAP = 5        # 每行业最多几对（若有 industry 列）\n",
    "ENFORCE_UNIQUE_STOCK = True # 是否“一票一对”（避免重复持股）\n",
    "\n",
    "# 信号规则（更宽入场、更紧离场，降低噪声触发）\n",
    "Z_ENTRY       = 2.8         # 2.0 -> 2.8\n",
    "Z_EXIT        = 0.6         # 0.8 -> 0.6\n",
    "TIME_STOP_MULT = 1.5\n",
    "SEED          = 42\n",
    "\n",
    "# 持有与冷却\n",
    "MIN_HOLD_DAYS    = 5        # 最少持有天数，避免日内翻来覆去\n",
    "REENTRY_COOLDOWN = 3        # 平仓后冷却 3 天再允许入场\n",
    "NO_REBAL_BUFFER  = 0.01     # 再平衡缓冲阈值：单腿 |Δ权重| < 1% 不调仓\n",
    "\n",
    "# 成本（基点，单边；按券级精确换手 |Δ权重| 计费）\n",
    "COMM_BPS      = 10          # 手续费/税\n",
    "SLIP_BPS      = 10          # 滑点\n",
    "TOTAL_BPS     = COMM_BPS + SLIP_BPS\n",
    "\n",
    "np.random.seed(SEED)\n",
    "\n",
    "# ========== 工具函数 ==========\n",
    "def safe_clip_window(hl, mn=MIN_OBS_ROLL, mx=MAX_OBS_ROLL):\n",
    "    if not np.isfinite(hl):\n",
    "        return mx\n",
    "    return int(np.clip(round(5.0 * hl), mn, mx))  # 3.0 -> 5.0\n",
    "\n",
    "def zscore_series(y: pd.Series, x: pd.Series, a: float, b: float, hl_days: float):\n",
    "    \"\"\"残差 & z 分数；滚动窗 L≈3*hl，夹在 [MIN_OBS_ROLL, MAX_OBS_ROLL]\"\"\"\n",
    "    L = safe_clip_window(hl_days)\n",
    "    spread = y - (a + b * x)\n",
    "    m = spread.rolling(L, min_periods=L).mean()\n",
    "    s = spread.rolling(L, min_periods=L).std(ddof=1)\n",
    "    z = (spread - m) / s\n",
    "    return spread, z, L\n",
    "\n",
    "def pair_leg_weights(beta: float, side: int, per_pair_gross: float):\n",
    "    \"\"\"β 中性：y : -βx；side=+1 做多价差（多y空βx），side=-1 做空价差（空y多βx）\"\"\"\n",
    "    k = per_pair_gross / (1.0 + abs(beta))\n",
    "    wy = side * k\n",
    "    wx = -side * k * beta\n",
    "    return wy, wx\n",
    "\n",
    "def greedy_select_pairs(df, max_pairs, per_industry_cap, enforce_unique_stock):\n",
    "    \"\"\"按 score 贪心选对，带行业上限 & 一票一对约束\"\"\"\n",
    "    from collections import defaultdict\n",
    "    chosen, used = [], set()\n",
    "    cap_cnt = defaultdict(int)\n",
    "    for _, r in df.sort_values('score', ascending=False).iterrows():\n",
    "        y, x = r['y'], r['x']\n",
    "        ind = r['industry'] if 'industry' in r else 'ALL'\n",
    "        if enforce_unique_stock and (y in used or x in used):\n",
    "            continue\n",
    "        if cap_cnt[ind] >= per_industry_cap:\n",
    "            continue\n",
    "        chosen.append(r)\n",
    "        used.add(y); used.add(x); cap_cnt[ind] += 1\n",
    "        if len(chosen) >= max_pairs:\n",
    "            break\n",
    "    return pd.DataFrame(chosen).reset_index(drop=True)\n",
    "\n",
    "def compute_yearly_metrics(perf: pd.DataFrame, years=(2023, 2024, 2025)):\n",
    "    \"\"\"\n",
    "    基于每日“算术净收益” perf['ret'] 统计年度指标。\n",
    "    - period_return：当年几何累计收益\n",
    "    - annualized_return：几何年化（默认）；如需算术年化见注释\n",
    "    - annualized_vol：按 252 年化\n",
    "    - sharpe：年化收益 / 年化波动\n",
    "    - 其余同前\n",
    "    \"\"\"\n",
    "    out = []\n",
    "    ann_factor = 252\n",
    "    for y in years:\n",
    "        sub = perf.loc[perf.index.year == y].copy()\n",
    "        if sub.empty:\n",
    "            continue\n",
    "\n",
    "        ndays = sub.shape[0]\n",
    "        # 当年几何累计\n",
    "        period_return = (1.0 + sub['ret']).prod() - 1.0\n",
    "\n",
    "        # ---- 选一：几何年化（推荐）----\n",
    "        annualized_return = (1.0 + period_return)**(ann_factor / ndays) - 1.0\n",
    "\n",
    "        # # ---- 选二：算术年化（与全周期做法一致）----\n",
    "        # annualized_return = sub['ret'].mean() * ann_factor\n",
    "\n",
    "        # 年化波动 & 夏普\n",
    "        annualized_vol = sub['ret'].std(ddof=1) * np.sqrt(ann_factor)\n",
    "        sharpe = annualized_return / annualized_vol if annualized_vol > 0 else np.nan\n",
    "\n",
    "        # 当年内最大回撤（当年起点净值重置为1）\n",
    "        nav_year = (1.0 + sub['ret']).cumprod()\n",
    "        max_drawdown = (nav_year / nav_year.cummax() - 1.0).min()\n",
    "\n",
    "        out.append({\n",
    "            'year': y,\n",
    "            'trading_days': int(ndays),\n",
    "            'period_return': period_return,\n",
    "            'annualized_return': annualized_return,\n",
    "            'annualized_vol': annualized_vol,\n",
    "            'sharpe': sharpe,\n",
    "            'max_drawdown': max_drawdown,\n",
    "            'win_rate': float((sub['ret'] > 0).mean()),\n",
    "            'avg_active_pairs': float(sub['n_active'].mean()),\n",
    "            'avg_turn_bps': float(sub['turn_bps'].mean()),\n",
    "        })\n",
    "    return pd.DataFrame(out)\n",
    "\n",
    "\n",
    "# ========== 读数据 & 预处理 ==========\n",
    "prices_all = (pd.read_csv(PRICES_CSV, parse_dates=['日期'])\n",
    "                .sort_values('日期').set_index('日期'))\n",
    "if USE_LOG:\n",
    "    prices_all = np.log(prices_all)\n",
    "\n",
    "# 测试期（仅用于回测）\n",
    "TEST_START, TEST_END = \"2024-01-01\", \"2025-09-30\"\n",
    "prices = prices_all.loc[TEST_START:TEST_END].copy()\n",
    "\n",
    "pairs = pd.read_csv(COINT_CSV)\n",
    "need = {'y','x','alpha','beta','coint_pvalue','hl_days'}\n",
    "if not need.issubset(pairs.columns):\n",
    "    raise SystemExit(f\"协整表缺列：{need - set(pairs.columns)}\")\n",
    "\n",
    "pairs = pairs.dropna(subset=['y','x','alpha','beta','coint_pvalue','hl_days']).copy()\n",
    "pairs = pairs[(pairs['coint_pvalue'] < PVAL_THRESH) &\n",
    "              (pairs['hl_days'] >= HL_MIN) &\n",
    "              (pairs['hl_days'] <= HL_MAX)].copy()\n",
    "if 'n_obs' in pairs.columns:\n",
    "    pairs = pairs[pairs['n_obs'] >= N_OBS_MIN].copy()\n",
    "\n",
    "# 保证代码在价格表里\n",
    "valid_cols = set(prices.columns)\n",
    "pairs = pairs[pairs['y'].isin(valid_cols) & pairs['x'].isin(valid_cols)].copy()\n",
    "if pairs.empty:\n",
    "    raise SystemExit(\"筛选后配对为空，请放宽阈值或检查列名。\")\n",
    "\n",
    "# 打分：p 越小、hl 越短越好\n",
    "pairs['score'] = -np.log10(pairs['coint_pvalue']) / (pairs['hl_days'] + 1.0)\n",
    "# 行业限额（若有）\n",
    "if 'industry' in pairs.columns:\n",
    "    pairs = (pairs.sort_values(['industry','score'], ascending=[True, False])\n",
    "                  .groupby('industry').head(PER_INDUSTRY_CAP).reset_index(drop=True))\n",
    "# 贪心选对 & 输出\n",
    "pairs = greedy_select_pairs(pairs, MAX_PAIRS, PER_INDUSTRY_CAP, ENFORCE_UNIQUE_STOCK)\n",
    "pairs.to_csv(\"selected_pairs.csv\", index=False, encoding=\"utf-8-sig\")\n",
    "print(f\"✅ 已保存：selected_pairs.csv（{len(pairs)} 对）\")\n",
    "\n",
    "# ========== 预计算 z 分数 ==========\n",
    "dates = prices.index\n",
    "zz = {}  # (y,x) -> dict(z=Series, time_stop=int, beta=float)\n",
    "for _, r in pairs.iterrows():\n",
    "    y, x, a, b, hl = r['y'], r['x'], float(r['alpha']), float(r['beta']), float(r['hl_days'])\n",
    "    spread, z, L = zscore_series(prices[y], prices[x], a, b, hl)\n",
    "    zz[(y, x)] = dict(z=z.reindex(dates), time_stop=int(ceil(max(hl, 1.0) * TIME_STOP_MULT)), beta=b)\n",
    "\n",
    "# ========== 定义收益序列 ==========\n",
    "if USE_LOG:\n",
    "    # 对数收益：log(P_t) - log(P_{t-1})\n",
    "    base_ret = prices.diff().fillna(0.0)\n",
    "else:\n",
    "    # 普通收益：P_t / P_{t-1} - 1\n",
    "    base_ret = prices.pct_change().fillna(0.0)\n",
    "\n",
    "# ========== 回测主循环（T-1 信号，T 执行；精确换手+成本；β中性） ==========\n",
    "active = {}      # {(y,x): {'side': +1/-1, 'days': int}}\n",
    "pos_prev = {}    # 上日配对级持仓 {(y,x): (wy, wx)}\n",
    "records = []\n",
    "cooldown_until = {}  # {(y,x): 允许再次入场的最早t索引}\n",
    "\n",
    "for t in range(1, len(dates)):  # 从第二天起（有 T-1）\n",
    "    dt_prev, dt = dates[t-1], dates[t]\n",
    "\n",
    "    # 1) 已有持仓：离场检查（z < z_exit 或 时间止损）\n",
    "    to_close = []\n",
    "    for k, st in active.items():\n",
    "        z_yday = zz[k]['z'].get(dt_prev, np.nan)\n",
    "        st['days'] += 1\n",
    "        can_close = (st['days'] >= MIN_HOLD_DAYS) and np.isfinite(z_yday) and (abs(z_yday) < Z_EXIT)\n",
    "        time_stop = (st['days'] >= zz[k]['time_stop'])\n",
    "        if can_close or time_stop:\n",
    "            to_close.append(k)\n",
    "    for k in to_close:\n",
    "        del active[k]\n",
    "        # 退出后设置冷却，不允许立刻反向再入\n",
    "        cooldown_until[k] = t + REENTRY_COOLDOWN\n",
    "    \n",
    "\n",
    "    # 2) 新入场（仅未持仓）\n",
    "    for k, info in zz.items():\n",
    "        if k in active:\n",
    "            continue\n",
    "        if (k in cooldown_until) and (t < cooldown_until[k]):\n",
    "            continue  # 冷却中，跳过\n",
    "        z_yday = info['z'].get(dt_prev, np.nan)\n",
    "        if not np.isfinite(z_yday):\n",
    "            continue\n",
    "        if z_yday > Z_ENTRY:\n",
    "            active[k] = dict(side=-1, days=0)\n",
    "        elif z_yday < -Z_ENTRY:\n",
    "            active[k] = dict(side=+1, days=0)\n",
    "\n",
    "    # 3) 资金分配：等权到每个激活配对（总名义=1）\n",
    "    n_active = len(active)\n",
    "    if n_active == 0:\n",
    "        records.append(dict(date=dt, n_active=0, turn_bps=0.0, ret=0.0, nav=np.nan))\n",
    "        pos_prev = {}\n",
    "        continue\n",
    "    per_pair_gross = 1.0 / n_active\n",
    "\n",
    "    # 4) 生成今日目标仓位（配对级→券级）\n",
    "    new_pos_pairs = {}\n",
    "    w_new = defaultdict(float)\n",
    "    for k, st in active.items():\n",
    "        y, x = k\n",
    "        beta = zz[k]['beta']\n",
    "        wy, wx = pair_leg_weights(beta, st['side'], per_pair_gross)\n",
    "    \n",
    "        # ——No-trade buffer：单腿 |Δ权重| < NO_REBAL_BUFFER 则不调——\n",
    "        wy_prev, wx_prev = pos_prev.get(k, (0.0, 0.0))\n",
    "        if abs(wy - wy_prev) < NO_REBAL_BUFFER:\n",
    "            wy = wy_prev\n",
    "        if abs(wx - wx_prev) < NO_REBAL_BUFFER:\n",
    "            wx = wx_prev\n",
    "    \n",
    "        new_pos_pairs[k] = (wy, wx)\n",
    "        w_new[y] += wy\n",
    "        w_new[x] += wx\n",
    "    \n",
    "        w_old = defaultdict(float)\n",
    "        for (y, x), (wy, wx) in (pos_prev or {}).items():\n",
    "            w_old[y] += wy\n",
    "            w_old[x] += wx\n",
    "\n",
    "    # 5) 当日毛收益\n",
    "    day_ret_raw = 0.0\n",
    "    for code, w in w_new.items():\n",
    "        r = base_ret.at[dt, code] if code in base_ret.columns else 0.0\n",
    "        day_ret_raw += w * r\n",
    "\n",
    "    # 6) 成本（精确换手）\n",
    "    # ——计算当日精确换手：按券级权重变化Δw（买为正、卖为负）——\n",
    "    buy_turn = 0.0\n",
    "    sell_turn = 0.0\n",
    "\n",
    "    all_codes = set(w_new) | set(w_old)\n",
    "    for code in all_codes:\n",
    "        delta = w_new.get(code, 0.0) - w_old.get(code, 0.0)\n",
    "        if delta > 0:\n",
    "            buy_turn += delta      # 买入名义\n",
    "        elif delta < 0:\n",
    "            sell_turn += (-delta)  # 卖出名义\n",
    "\n",
    "    # ——成本构成——\n",
    "    # 1) 显性费用（不含印花税）按单边计：买 + 卖 都要交\n",
    "    fees_cost = (TOTAL_BPS_PER_SIDE_EX_STAMP / 1e4) * (buy_turn + sell_turn)\n",
    "\n",
    "    # 2) 卖出印花税：仅对“卖出名义”收取\n",
    "    stamp_cost = (STAMP_SELL_BPS / 1e4) * sell_turn\n",
    "\n",
    "    # 3) 合计成本（单位与收益同维度，为“算术收益”）\n",
    "    cost = fees_cost + stamp_cost\n",
    "\n",
    "    # 7) 将对数毛收益转为算术净收益（若 USE_LOG=True）\n",
    "    if USE_LOG:\n",
    "        gross_arith = np.exp(day_ret_raw) - 1.0\n",
    "        net_ret = gross_arith - cost\n",
    "    else:\n",
    "        net_ret = day_ret_raw - cost\n",
    "\n",
    "    turn = buy_turn + sell_turn\n",
    "    records.append(dict(\n",
    "        date=dt,\n",
    "        n_active=n_active,\n",
    "        buy_turn_bps=buy_turn * 1e4,\n",
    "        sell_turn_bps=sell_turn * 1e4,\n",
    "        turn_bps=turn * 1e4,                # 兼容旧列\n",
    "        fees_cost_bps=fees_cost * 1e4,      # 手续费/佣金/监管/过户（双边）\n",
    "        stamp_cost_bps=stamp_cost * 1e4,    # 卖出印花税\n",
    "        total_cost_bps=(fees_cost + stamp_cost) * 1e4,\n",
    "        ret=net_ret\n",
    "    ))\n",
    "    pos_prev = new_pos_pairs\n",
    "\n",
    "# ========== 汇总与导出 ==========\n",
    "perf = pd.DataFrame(records).set_index('date')\n",
    "perf['ret'] = perf['ret'].fillna(0.0)\n",
    "perf['nav'] = (1.0 + perf['ret']).cumprod()\n",
    "perf[['n_active','turn_bps','ret','nav']].to_csv(\"portfolio_daily.csv\", encoding=\"utf-8-sig\")\n",
    "print(\"✅ 已保存：portfolio_daily.csv\")\n",
    "\n",
    "# 全周期摘要（仅供参考）\n",
    "ann_factor = 252\n",
    "ann_ret = perf['ret'].mean() * ann_factor\n",
    "ann_vol = perf['ret'].std(ddof=1) * np.sqrt(ann_factor)\n",
    "sharpe = ann_ret / ann_vol if ann_vol > 0 else np.nan\n",
    "max_dd = (perf['nav'] / perf['nav'].cummax() - 1.0).min()\n",
    "print(\"\\n======= 全周期摘要 =======\")\n",
    "print(f\"年化收益: {ann_ret:.2%}\")\n",
    "print(f\"年化波动: {ann_vol:.2%}\")\n",
    "print(f\"夏普比  : {sharpe:.2f}\")\n",
    "print(f\"最大回撤: {max_dd:.2%}\")\n",
    "print(f\"平均持仓对数/日: {perf['n_active'].mean():.1f}\")\n",
    "\n",
    "# ========== 年度分段指标（2023/2024/2025 YTD） ==========\n",
    "years = (2023, 2024, 2025)\n",
    "yearly = compute_yearly_metrics(perf, years)\n",
    "yearly.to_csv(\"yearly_metrics.csv\", index=False, encoding=\"utf-8-sig\")\n",
    "print(\"\\n======= 年度分段（2023 / 2024 / 2025YTD） =======\")\n",
    "if not yearly.empty:\n",
    "    for _, r in yearly.iterrows():\n",
    "        print(f\"\\n{int(r['year'])}: 交易日={int(r['trading_days'])}\")\n",
    "        print(f\"累计收益: {r['period_return']:.2%}\")\n",
    "        print(f\"年化收益: {r['annualized_return']:.2%}\")\n",
    "        print(f\"年化波动: {r['annualized_vol']:.2%}\")\n",
    "        print(f\"夏普比  : {r['sharpe']:.2f}\")\n",
    "        print(f\"最大回撤: {r['max_drawdown']:.2%}\")\n",
    "        print(f\"胜率    : {r['win_rate']:.2%}\")\n",
    "        print(f\"平均持仓对数: {r['avg_active_pairs']:.1f}\")\n",
    "        print(f\"平均换手  : {r['avg_turn_bps']:.1f} bps\")\n",
    "else:\n",
    "    print(\"（没有匹配到相应年份的数据）\")\n",
    "print(\"✅ 已保存：yearly_metrics.csv\")"
   ]
  },
  {
   "cell_type": "code",
   "execution_count": null,
   "id": "8e4278c3-c1b0-444c-8867-5ed57de7c811",
   "metadata": {},
   "outputs": [],
   "source": []
  }
 ],
 "metadata": {
  "kernelspec": {
   "display_name": "Python 3 (ipykernel)",
   "language": "python",
   "name": "python3"
  },
  "language_info": {
   "codemirror_mode": {
    "name": "ipython",
    "version": 3
   },
   "file_extension": ".py",
   "mimetype": "text/x-python",
   "name": "python",
   "nbconvert_exporter": "python",
   "pygments_lexer": "ipython3",
   "version": "3.12.4"
  }
 },
 "nbformat": 4,
 "nbformat_minor": 5
}
